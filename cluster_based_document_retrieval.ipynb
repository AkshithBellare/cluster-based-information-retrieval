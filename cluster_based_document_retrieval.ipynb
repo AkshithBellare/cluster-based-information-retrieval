{
  "nbformat": 4,
  "nbformat_minor": 0,
  "metadata": {
    "colab": {
      "name": "cluster-based-document-retrieval.ipynb",
      "provenance": [],
      "collapsed_sections": []
    },
    "kernelspec": {
      "name": "python3",
      "display_name": "Python 3"
    },
    "language_info": {
      "name": "python"
    }
  },
  "cells": [
    {
      "cell_type": "code",
      "metadata": {
        "id": "emG-dnXDkD_U"
      },
      "source": [
        "import re\n",
        "import csv\n",
        "from os import listdir\n",
        "import pandas as pd\n",
        "import nltk\n",
        "from nltk.corpus import stopwords\n",
        "from nltk.stem import PorterStemmer\n",
        "import string\n",
        "import re\n",
        "from nltk.stem.wordnet import WordNetLemmatizer\n",
        "import numpy as np\n",
        "import spacy\n",
        "spacy_nlp = spacy.load('en')"
      ],
      "execution_count": null,
      "outputs": []
    },
    {
      "cell_type": "markdown",
      "metadata": {
        "id": "Zz3QxxblkZGO"
      },
      "source": [
        "# Cacm Data"
      ]
    },
    {
      "cell_type": "code",
      "metadata": {
        "colab": {
          "base_uri": "https://localhost:8080/",
          "height": 414
        },
        "id": "Bw5f6go2kauW",
        "outputId": "4d7e71a8-b07f-4a92-97da-a234674b276f"
      },
      "source": [
        "url = 'https://raw.githubusercontent.com/AkshithBellare/cluster-based-information-retrieval/master/data.csv'\n",
        "df = pd.read_csv(url)\n",
        "df.dropna()"
      ],
      "execution_count": null,
      "outputs": [
        {
          "output_type": "execute_result",
          "data": {
            "text/html": [
              "<div>\n",
              "<style scoped>\n",
              "    .dataframe tbody tr th:only-of-type {\n",
              "        vertical-align: middle;\n",
              "    }\n",
              "\n",
              "    .dataframe tbody tr th {\n",
              "        vertical-align: top;\n",
              "    }\n",
              "\n",
              "    .dataframe thead th {\n",
              "        text-align: right;\n",
              "    }\n",
              "</style>\n",
              "<table border=\"1\" class=\"dataframe\">\n",
              "  <thead>\n",
              "    <tr style=\"text-align: right;\">\n",
              "      <th></th>\n",
              "      <th>Doc Name</th>\n",
              "      <th>Doc Contents</th>\n",
              "    </tr>\n",
              "  </thead>\n",
              "  <tbody>\n",
              "    <tr>\n",
              "      <th>0</th>\n",
              "      <td>CACM-0001.txt</td>\n",
              "      <td>preliminary report-international algebraic lan...</td>\n",
              "    </tr>\n",
              "    <tr>\n",
              "      <th>1</th>\n",
              "      <td>CACM-0002.txt</td>\n",
              "      <td>extraction of roots by repeated subtractions f...</td>\n",
              "    </tr>\n",
              "    <tr>\n",
              "      <th>2</th>\n",
              "      <td>CACM-0003.txt</td>\n",
              "      <td>techniques department on matrix program scheme...</td>\n",
              "    </tr>\n",
              "    <tr>\n",
              "      <th>3</th>\n",
              "      <td>CACM-0004.txt</td>\n",
              "      <td>glossary of computer engineering and programmi...</td>\n",
              "    </tr>\n",
              "    <tr>\n",
              "      <th>4</th>\n",
              "      <td>CACM-0005.txt</td>\n",
              "      <td>two square-root approximations cacm november 1...</td>\n",
              "    </tr>\n",
              "    <tr>\n",
              "      <th>...</th>\n",
              "      <td>...</td>\n",
              "      <td>...</td>\n",
              "    </tr>\n",
              "    <tr>\n",
              "      <th>3199</th>\n",
              "      <td>CACM-3200.txt</td>\n",
              "      <td>a formac program for the solution of linear bo...</td>\n",
              "    </tr>\n",
              "    <tr>\n",
              "      <th>3200</th>\n",
              "      <td>CACM-3201.txt</td>\n",
              "      <td>symbolic manipulation of poisson series poisso...</td>\n",
              "    </tr>\n",
              "    <tr>\n",
              "      <th>3201</th>\n",
              "      <td>CACM-3202.txt</td>\n",
              "      <td>manip a computer system for algebra and analyt...</td>\n",
              "    </tr>\n",
              "    <tr>\n",
              "      <th>3202</th>\n",
              "      <td>CACM-3203.txt</td>\n",
              "      <td>grad assistant  a program for symbolic algebra...</td>\n",
              "    </tr>\n",
              "    <tr>\n",
              "      <th>3203</th>\n",
              "      <td>CACM-3204.txt</td>\n",
              "      <td>an on-line program for non-numerical algebra t...</td>\n",
              "    </tr>\n",
              "  </tbody>\n",
              "</table>\n",
              "<p>3204 rows × 2 columns</p>\n",
              "</div>"
            ],
            "text/plain": [
              "           Doc Name                                       Doc Contents\n",
              "0     CACM-0001.txt  preliminary report-international algebraic lan...\n",
              "1     CACM-0002.txt  extraction of roots by repeated subtractions f...\n",
              "2     CACM-0003.txt  techniques department on matrix program scheme...\n",
              "3     CACM-0004.txt  glossary of computer engineering and programmi...\n",
              "4     CACM-0005.txt  two square-root approximations cacm november 1...\n",
              "...             ...                                                ...\n",
              "3199  CACM-3200.txt  a formac program for the solution of linear bo...\n",
              "3200  CACM-3201.txt  symbolic manipulation of poisson series poisso...\n",
              "3201  CACM-3202.txt  manip a computer system for algebra and analyt...\n",
              "3202  CACM-3203.txt  grad assistant  a program for symbolic algebra...\n",
              "3203  CACM-3204.txt  an on-line program for non-numerical algebra t...\n",
              "\n",
              "[3204 rows x 2 columns]"
            ]
          },
          "metadata": {},
          "execution_count": 2
        }
      ]
    },
    {
      "cell_type": "code",
      "metadata": {
        "id": "HQ-SMJqykgUV",
        "colab": {
          "base_uri": "https://localhost:8080/"
        },
        "outputId": "8ca3c7be-c11d-4248-d9a7-95f03235698d"
      },
      "source": [
        "ps = PorterStemmer()\n",
        "lemma = WordNetLemmatizer()\n",
        "punct = set(string.punctuation)\n",
        "nltk.download('stopwords')\n",
        "nltk.download('wordnet')\n",
        "sws = set(stopwords.words('english'))"
      ],
      "execution_count": null,
      "outputs": [
        {
          "output_type": "stream",
          "name": "stdout",
          "text": [
            "[nltk_data] Downloading package stopwords to /root/nltk_data...\n",
            "[nltk_data]   Unzipping corpora/stopwords.zip.\n",
            "[nltk_data] Downloading package wordnet to /root/nltk_data...\n",
            "[nltk_data]   Unzipping corpora/wordnet.zip.\n"
          ]
        }
      ]
    },
    {
      "cell_type": "code",
      "metadata": {
        "id": "aYZs_HnikhGF"
      },
      "source": [
        "def normalize(doc):\n",
        "    # processed_list = []\n",
        "    stop_free = \" \".join([i for i in doc.lower().split() if i not in sws])\n",
        "    punc_free = ''.join(ch for ch in stop_free if ch not in punct)\n",
        "    # print(punc_free)\n",
        "    return punc_free\n",
        "    \n",
        "def lemmatizer(doc):\n",
        "    normalized_lemmatized = \" \".join(lemma.lemmatize(word) for word in doc.split())\n",
        "    processed_lemmatized = re.sub(r\"\\d+\", \"\", normalized_lemmatized)\n",
        "    y = processed_lemmatized\n",
        "    return y\n",
        "\n",
        "def stemmer(doc):\n",
        "    normalized_stemmed = \" \".join(ps.stem(word) for word in doc.split())\n",
        "    processed_stemmed = re.sub(r\"\\d+\", \"\", normalized_stemmed)\n",
        "    y = processed_stemmed\n",
        "    return y\n",
        "\n",
        "def ner(doc):\n",
        "    document = spacy_nlp(doc)\n",
        "    return [e.value for e in document.ents]\n",
        "\n",
        "def clean(df):\n",
        "    df['stop_free'] = df['Doc Contents'].apply(normalize)\n",
        "    df['stemm'] = df['stop_free'].apply(stemmer)\n",
        "    df['lemm'] = df['stop_free'].apply(lemmatizer)"
      ],
      "execution_count": null,
      "outputs": []
    },
    {
      "cell_type": "code",
      "metadata": {
        "id": "UPgQ7StfkjS9",
        "colab": {
          "base_uri": "https://localhost:8080/",
          "height": 285
        },
        "outputId": "f9f9c5e2-2b5c-4aa0-a1c8-20151e144d90"
      },
      "source": [
        "clean(df)\n",
        "df.head()"
      ],
      "execution_count": null,
      "outputs": [
        {
          "output_type": "execute_result",
          "data": {
            "text/html": [
              "<div>\n",
              "<style scoped>\n",
              "    .dataframe tbody tr th:only-of-type {\n",
              "        vertical-align: middle;\n",
              "    }\n",
              "\n",
              "    .dataframe tbody tr th {\n",
              "        vertical-align: top;\n",
              "    }\n",
              "\n",
              "    .dataframe thead th {\n",
              "        text-align: right;\n",
              "    }\n",
              "</style>\n",
              "<table border=\"1\" class=\"dataframe\">\n",
              "  <thead>\n",
              "    <tr style=\"text-align: right;\">\n",
              "      <th></th>\n",
              "      <th>Doc Name</th>\n",
              "      <th>Doc Contents</th>\n",
              "      <th>stop_free</th>\n",
              "      <th>stemm</th>\n",
              "      <th>lemm</th>\n",
              "    </tr>\n",
              "  </thead>\n",
              "  <tbody>\n",
              "    <tr>\n",
              "      <th>0</th>\n",
              "      <td>CACM-0001.txt</td>\n",
              "      <td>preliminary report-international algebraic lan...</td>\n",
              "      <td>preliminary reportinternational algebraic lang...</td>\n",
              "      <td>preliminari reportintern algebra languag cacm ...</td>\n",
              "      <td>preliminary reportinternational algebraic lang...</td>\n",
              "    </tr>\n",
              "    <tr>\n",
              "      <th>1</th>\n",
              "      <td>CACM-0002.txt</td>\n",
              "      <td>extraction of roots by repeated subtractions f...</td>\n",
              "      <td>extraction roots repeated subtractions digital...</td>\n",
              "      <td>extract root repeat subtract digit comput cacm...</td>\n",
              "      <td>extraction root repeated subtraction digital c...</td>\n",
              "    </tr>\n",
              "    <tr>\n",
              "      <th>2</th>\n",
              "      <td>CACM-0003.txt</td>\n",
              "      <td>techniques department on matrix program scheme...</td>\n",
              "      <td>techniques department matrix program schemes c...</td>\n",
              "      <td>techniqu depart matrix program scheme cacm dec...</td>\n",
              "      <td>technique department matrix program scheme cac...</td>\n",
              "    </tr>\n",
              "    <tr>\n",
              "      <th>3</th>\n",
              "      <td>CACM-0004.txt</td>\n",
              "      <td>glossary of computer engineering and programmi...</td>\n",
              "      <td>glossary computer engineering programming term...</td>\n",
              "      <td>glossari comput engin program terminolog cacm ...</td>\n",
              "      <td>glossary computer engineering programming term...</td>\n",
              "    </tr>\n",
              "    <tr>\n",
              "      <th>4</th>\n",
              "      <td>CACM-0005.txt</td>\n",
              "      <td>two square-root approximations cacm november 1...</td>\n",
              "      <td>two squareroot approximations cacm november 19...</td>\n",
              "      <td>two squareroot approxim cacm novemb  wadey w g...</td>\n",
              "      <td>two squareroot approximation cacm november  wa...</td>\n",
              "    </tr>\n",
              "  </tbody>\n",
              "</table>\n",
              "</div>"
            ],
            "text/plain": [
              "        Doc Name  ...                                               lemm\n",
              "0  CACM-0001.txt  ...  preliminary reportinternational algebraic lang...\n",
              "1  CACM-0002.txt  ...  extraction root repeated subtraction digital c...\n",
              "2  CACM-0003.txt  ...  technique department matrix program scheme cac...\n",
              "3  CACM-0004.txt  ...  glossary computer engineering programming term...\n",
              "4  CACM-0005.txt  ...  two squareroot approximation cacm november  wa...\n",
              "\n",
              "[5 rows x 5 columns]"
            ]
          },
          "metadata": {},
          "execution_count": 5
        }
      ]
    },
    {
      "cell_type": "markdown",
      "metadata": {
        "id": "MI554ETuz4gs"
      },
      "source": [
        "# Trec data"
      ]
    },
    {
      "cell_type": "code",
      "metadata": {
        "colab": {
          "base_uri": "https://localhost:8080/"
        },
        "id": "PbIAc-7z8JoP",
        "outputId": "83e513d7-5364-44dd-f902-678f542365e6"
      },
      "source": [
        "!wget https://trec.nist.gov/data/filtering/t9.ohsu-trec.tar.gz"
      ],
      "execution_count": null,
      "outputs": [
        {
          "output_type": "stream",
          "name": "stdout",
          "text": [
            "--2021-11-24 04:31:07--  https://trec.nist.gov/data/filtering/t9.ohsu-trec.tar.gz\n",
            "Resolving trec.nist.gov (trec.nist.gov)... 129.6.13.19, 2610:20:6005:13::19\n",
            "Connecting to trec.nist.gov (trec.nist.gov)|129.6.13.19|:443... connected.\n",
            "HTTP request sent, awaiting response... 200 OK\n",
            "Length: 26175053 (25M) [application/x-gzip]\n",
            "Saving to: ‘t9.ohsu-trec.tar.gz’\n",
            "\n",
            "t9.ohsu-trec.tar.gz 100%[===================>]  24.96M  9.24MB/s    in 2.7s    \n",
            "\n",
            "2021-11-24 04:31:11 (9.24 MB/s) - ‘t9.ohsu-trec.tar.gz’ saved [26175053/26175053]\n",
            "\n"
          ]
        }
      ]
    },
    {
      "cell_type": "code",
      "metadata": {
        "id": "M4nanQNQ8SQ7",
        "colab": {
          "base_uri": "https://localhost:8080/"
        },
        "outputId": "d70ee358-f8cf-4b9e-82f5-256c5652c92a"
      },
      "source": [
        "!tar -xvf /content/t9.ohsu-trec.tar.gz"
      ],
      "execution_count": null,
      "outputs": [
        {
          "output_type": "stream",
          "name": "stdout",
          "text": [
            "ohsu-trec/\n",
            "ohsu-trec/README\n",
            "ohsu-trec/sample.map\n",
            "ohsu-trec/trec9-test/\n",
            "ohsu-trec/trec9-test/qrels.mesh.88-91\n",
            "ohsu-trec/trec9-test/qrels.ohsu.88-91\n",
            "ohsu-trec/trec9-train/\n",
            "ohsu-trec/trec9-train/ohsumed.87\n",
            "ohsu-trec/trec9-train/qrels.mesh.adapt.87\n",
            "ohsu-trec/trec9-train/qrels.mesh.batch.87\n",
            "ohsu-trec/trec9-train/qrels.ohsu.adapt.87\n",
            "ohsu-trec/trec9-train/qrels.ohsu.batch.87\n",
            "ohsu-trec/trec9-train/query.mesh.1-4904\n",
            "ohsu-trec/trec9-train/query.ohsu.1-63\n",
            "ohsu-trec/pre-test/\n",
            "ohsu-trec/pre-test/qrels.mesh.test.87\n",
            "ohsu-trec/pre-test/qrels.ohsu.test.87\n",
            "ohsu-trec/pre-test/query.mesh.test.1-119\n",
            "ohsu-trec/pre-test/query.ohsu.test.1-43\n",
            "ohsu-trec/pre-test/ohsumed.87\n",
            "ohsu-trec/mesh-sample.prl\n"
          ]
        }
      ]
    },
    {
      "cell_type": "code",
      "metadata": {
        "colab": {
          "base_uri": "https://localhost:8080/",
          "height": 302
        },
        "id": "p5G2tuPe9fO8",
        "outputId": "c60fe77c-2cd9-465f-ef10-d11808943611"
      },
      "source": [
        "file = open('/content/ohsu-trec/trec9-train/ohsumed.87','r')\n",
        "lines = file.readlines()\n",
        "n = len(lines)\n",
        "i = 0\n",
        "data = []\n",
        "curr = {}\n",
        "cols = ['U', 'S', 'M', 'T', 'P', 'W', 'A']\n",
        "while i < n:\n",
        "    if lines[i].startswith('.I'):\n",
        "        if i > 0:\n",
        "            data.append(curr)\n",
        "        curr = {}\n",
        "    for c in cols:\n",
        "        if lines[i].startswith(f'.{c}'):\n",
        "            curr[c] = lines[i+1][:-1]\n",
        "            i += 1\n",
        "            break\n",
        "    i += 1\n",
        "trec_df = pd.DataFrame(data)\n",
        "trec_df.rename(columns={'W': 'Doc Contents'}, inplace = True)\n",
        "trec_df['Doc Contents'] = trec_df['Doc Contents'].astype(str)\n",
        "print(trec_df.shape)\n",
        "trec_df.head()"
      ],
      "execution_count": null,
      "outputs": [
        {
          "output_type": "stream",
          "name": "stdout",
          "text": [
            "(54709, 7)\n"
          ]
        },
        {
          "output_type": "execute_result",
          "data": {
            "text/html": [
              "<div>\n",
              "<style scoped>\n",
              "    .dataframe tbody tr th:only-of-type {\n",
              "        vertical-align: middle;\n",
              "    }\n",
              "\n",
              "    .dataframe tbody tr th {\n",
              "        vertical-align: top;\n",
              "    }\n",
              "\n",
              "    .dataframe thead th {\n",
              "        text-align: right;\n",
              "    }\n",
              "</style>\n",
              "<table border=\"1\" class=\"dataframe\">\n",
              "  <thead>\n",
              "    <tr style=\"text-align: right;\">\n",
              "      <th></th>\n",
              "      <th>U</th>\n",
              "      <th>S</th>\n",
              "      <th>M</th>\n",
              "      <th>T</th>\n",
              "      <th>P</th>\n",
              "      <th>Doc Contents</th>\n",
              "      <th>A</th>\n",
              "    </tr>\n",
              "  </thead>\n",
              "  <tbody>\n",
              "    <tr>\n",
              "      <th>0</th>\n",
              "      <td>87049087</td>\n",
              "      <td>Am J Emerg Med 8703; 4(6):491-5</td>\n",
              "      <td>Allied Health Personnel/*; Electric Countersho...</td>\n",
              "      <td>Refibrillation managed by EMT-Ds: incidence an...</td>\n",
              "      <td>JOURNAL ARTICLE.</td>\n",
              "      <td>Some patients converted from ventricular fibri...</td>\n",
              "      <td>Stults KR; Brown DD.</td>\n",
              "    </tr>\n",
              "    <tr>\n",
              "      <th>1</th>\n",
              "      <td>87049088</td>\n",
              "      <td>Am J Emerg Med 8703; 4(6):496-500</td>\n",
              "      <td>Antidepressive Agents, Tricyclic/*PO; Arrhythm...</td>\n",
              "      <td>Tricyclic antidepressant overdose: emergency d...</td>\n",
              "      <td>JOURNAL ARTICLE.</td>\n",
              "      <td>There is controversy regarding the appropriate...</td>\n",
              "      <td>Foulke GE; Albertson TE; Walby WF.</td>\n",
              "    </tr>\n",
              "    <tr>\n",
              "      <th>2</th>\n",
              "      <td>87049089</td>\n",
              "      <td>Am J Emerg Med 8703; 4(6):501-3</td>\n",
              "      <td>Adult; Aircraft/*; Altitude/*; Blood Gas Monit...</td>\n",
              "      <td>Transconjunctival oxygen monitoring as a predi...</td>\n",
              "      <td>JOURNAL ARTICLE.</td>\n",
              "      <td>As the use of helicopters for air transport of...</td>\n",
              "      <td>Shufflebarger C; Jehle D; Cottington E; Martin M.</td>\n",
              "    </tr>\n",
              "    <tr>\n",
              "      <th>3</th>\n",
              "      <td>87049090</td>\n",
              "      <td>Am J Emerg Med 8703; 4(6):504-6</td>\n",
              "      <td>Adolescence; Adult; Aged; Blood Glucose/*ME; D...</td>\n",
              "      <td>Serum glucose changes after administration of ...</td>\n",
              "      <td>JOURNAL ARTICLE.</td>\n",
              "      <td>A prospective clinical trial was conducted to ...</td>\n",
              "      <td>Adler PM.</td>\n",
              "    </tr>\n",
              "    <tr>\n",
              "      <th>4</th>\n",
              "      <td>87049092</td>\n",
              "      <td>Am J Emerg Med 8703; 4(6):511-3</td>\n",
              "      <td>Aged; Aged, 80 and over; Case Report; Female; ...</td>\n",
              "      <td>Nasogastric intubation: morbidity in an asympt...</td>\n",
              "      <td>JOURNAL ARTICLE.</td>\n",
              "      <td>An unusual case of a misdirected nasogastric t...</td>\n",
              "      <td>Gough D; Rust D.</td>\n",
              "    </tr>\n",
              "  </tbody>\n",
              "</table>\n",
              "</div>"
            ],
            "text/plain": [
              "          U  ...                                                  A\n",
              "0  87049087  ...                               Stults KR; Brown DD.\n",
              "1  87049088  ...                 Foulke GE; Albertson TE; Walby WF.\n",
              "2  87049089  ...  Shufflebarger C; Jehle D; Cottington E; Martin M.\n",
              "3  87049090  ...                                          Adler PM.\n",
              "4  87049092  ...                                   Gough D; Rust D.\n",
              "\n",
              "[5 rows x 7 columns]"
            ]
          },
          "metadata": {},
          "execution_count": 29
        }
      ]
    },
    {
      "cell_type": "code",
      "metadata": {
        "id": "PdOB3tRBJv7R",
        "colab": {
          "base_uri": "https://localhost:8080/",
          "height": 385
        },
        "outputId": "c9fc8193-fcfb-42b0-ced9-fda8c1907357"
      },
      "source": [
        "clean(trec_df)\n",
        "trec_df.head()"
      ],
      "execution_count": null,
      "outputs": [
        {
          "output_type": "execute_result",
          "data": {
            "text/html": [
              "<div>\n",
              "<style scoped>\n",
              "    .dataframe tbody tr th:only-of-type {\n",
              "        vertical-align: middle;\n",
              "    }\n",
              "\n",
              "    .dataframe tbody tr th {\n",
              "        vertical-align: top;\n",
              "    }\n",
              "\n",
              "    .dataframe thead th {\n",
              "        text-align: right;\n",
              "    }\n",
              "</style>\n",
              "<table border=\"1\" class=\"dataframe\">\n",
              "  <thead>\n",
              "    <tr style=\"text-align: right;\">\n",
              "      <th></th>\n",
              "      <th>U</th>\n",
              "      <th>S</th>\n",
              "      <th>M</th>\n",
              "      <th>T</th>\n",
              "      <th>P</th>\n",
              "      <th>Doc Contents</th>\n",
              "      <th>A</th>\n",
              "      <th>stop_free</th>\n",
              "      <th>stemm</th>\n",
              "      <th>lemm</th>\n",
              "    </tr>\n",
              "  </thead>\n",
              "  <tbody>\n",
              "    <tr>\n",
              "      <th>0</th>\n",
              "      <td>87049087</td>\n",
              "      <td>Am J Emerg Med 8703; 4(6):491-5</td>\n",
              "      <td>Allied Health Personnel/*; Electric Countersho...</td>\n",
              "      <td>Refibrillation managed by EMT-Ds: incidence an...</td>\n",
              "      <td>JOURNAL ARTICLE.</td>\n",
              "      <td>Some patients converted from ventricular fibri...</td>\n",
              "      <td>Stults KR; Brown DD.</td>\n",
              "      <td>patients converted ventricular fibrillation or...</td>\n",
              "      <td>patient convert ventricular fibril organ rhyth...</td>\n",
              "      <td>patient converted ventricular fibrillation org...</td>\n",
              "    </tr>\n",
              "    <tr>\n",
              "      <th>1</th>\n",
              "      <td>87049088</td>\n",
              "      <td>Am J Emerg Med 8703; 4(6):496-500</td>\n",
              "      <td>Antidepressive Agents, Tricyclic/*PO; Arrhythm...</td>\n",
              "      <td>Tricyclic antidepressant overdose: emergency d...</td>\n",
              "      <td>JOURNAL ARTICLE.</td>\n",
              "      <td>There is controversy regarding the appropriate...</td>\n",
              "      <td>Foulke GE; Albertson TE; Walby WF.</td>\n",
              "      <td>controversy regarding appropriate utilization ...</td>\n",
              "      <td>controversi regard appropri util health care r...</td>\n",
              "      <td>controversy regarding appropriate utilization ...</td>\n",
              "    </tr>\n",
              "    <tr>\n",
              "      <th>2</th>\n",
              "      <td>87049089</td>\n",
              "      <td>Am J Emerg Med 8703; 4(6):501-3</td>\n",
              "      <td>Adult; Aircraft/*; Altitude/*; Blood Gas Monit...</td>\n",
              "      <td>Transconjunctival oxygen monitoring as a predi...</td>\n",
              "      <td>JOURNAL ARTICLE.</td>\n",
              "      <td>As the use of helicopters for air transport of...</td>\n",
              "      <td>Shufflebarger C; Jehle D; Cottington E; Martin M.</td>\n",
              "      <td>use helicopters air transport critically ill p...</td>\n",
              "      <td>use helicopt air transport critic ill patient ...</td>\n",
              "      <td>use helicopter air transport critically ill pa...</td>\n",
              "    </tr>\n",
              "    <tr>\n",
              "      <th>3</th>\n",
              "      <td>87049090</td>\n",
              "      <td>Am J Emerg Med 8703; 4(6):504-6</td>\n",
              "      <td>Adolescence; Adult; Aged; Blood Glucose/*ME; D...</td>\n",
              "      <td>Serum glucose changes after administration of ...</td>\n",
              "      <td>JOURNAL ARTICLE.</td>\n",
              "      <td>A prospective clinical trial was conducted to ...</td>\n",
              "      <td>Adler PM.</td>\n",
              "      <td>prospective clinical trial conducted estimate ...</td>\n",
              "      <td>prospect clinic trial conduct estim rise serum...</td>\n",
              "      <td>prospective clinical trial conducted estimate ...</td>\n",
              "    </tr>\n",
              "    <tr>\n",
              "      <th>4</th>\n",
              "      <td>87049092</td>\n",
              "      <td>Am J Emerg Med 8703; 4(6):511-3</td>\n",
              "      <td>Aged; Aged, 80 and over; Case Report; Female; ...</td>\n",
              "      <td>Nasogastric intubation: morbidity in an asympt...</td>\n",
              "      <td>JOURNAL ARTICLE.</td>\n",
              "      <td>An unusual case of a misdirected nasogastric t...</td>\n",
              "      <td>Gough D; Rust D.</td>\n",
              "      <td>unusual case misdirected nasogastric tube desc...</td>\n",
              "      <td>unusu case misdirect nasogastr tube describ el...</td>\n",
              "      <td>unusual case misdirected nasogastric tube desc...</td>\n",
              "    </tr>\n",
              "  </tbody>\n",
              "</table>\n",
              "</div>"
            ],
            "text/plain": [
              "          U  ...                                               lemm\n",
              "0  87049087  ...  patient converted ventricular fibrillation org...\n",
              "1  87049088  ...  controversy regarding appropriate utilization ...\n",
              "2  87049089  ...  use helicopter air transport critically ill pa...\n",
              "3  87049090  ...  prospective clinical trial conducted estimate ...\n",
              "4  87049092  ...  unusual case misdirected nasogastric tube desc...\n",
              "\n",
              "[5 rows x 10 columns]"
            ]
          },
          "metadata": {},
          "execution_count": 32
        }
      ]
    },
    {
      "cell_type": "markdown",
      "metadata": {
        "id": "FZIPQWyJz9D2"
      },
      "source": [
        "# TF-IDF"
      ]
    },
    {
      "cell_type": "code",
      "metadata": {
        "id": "SNeUe5yImaPX"
      },
      "source": [
        "from sklearn.feature_extraction.text import CountVectorizer\n",
        "\n",
        "vectorizer = CountVectorizer()\n",
        "X = vectorizer.fit_transform(df['lemm'])"
      ],
      "execution_count": null,
      "outputs": []
    },
    {
      "cell_type": "code",
      "metadata": {
        "colab": {
          "base_uri": "https://localhost:8080/"
        },
        "id": "O2aV8v14ng_8",
        "outputId": "3d6465c0-1f69-4965-e82e-1b6e2c1e076d"
      },
      "source": [
        "len(vectorizer.get_feature_names())"
      ],
      "execution_count": null,
      "outputs": [
        {
          "output_type": "stream",
          "name": "stderr",
          "text": [
            "/usr/local/lib/python3.7/dist-packages/sklearn/utils/deprecation.py:87: FutureWarning: Function get_feature_names is deprecated; get_feature_names is deprecated in 1.0 and will be removed in 1.2. Please use get_feature_names_out instead.\n",
            "  warnings.warn(msg, category=FutureWarning)\n"
          ]
        },
        {
          "output_type": "execute_result",
          "data": {
            "text/plain": [
              "11306"
            ]
          },
          "metadata": {},
          "execution_count": 34
        }
      ]
    },
    {
      "cell_type": "code",
      "metadata": {
        "colab": {
          "base_uri": "https://localhost:8080/"
        },
        "id": "jtUvYgmFoAAj",
        "outputId": "1f8bbb19-9e6a-4313-d849-402419e3e6f7"
      },
      "source": [
        "from sklearn.feature_extraction.text import TfidfTransformer\n",
        "\n",
        "transformer = TfidfTransformer(smooth_idf=False)\n",
        "tfidf = transformer.fit_transform(X)\n",
        "print(tfidf.shape) \n",
        "type(tfidf)"
      ],
      "execution_count": null,
      "outputs": [
        {
          "output_type": "stream",
          "name": "stdout",
          "text": [
            "(3204, 11306)\n"
          ]
        },
        {
          "output_type": "execute_result",
          "data": {
            "text/plain": [
              "scipy.sparse.csr.csr_matrix"
            ]
          },
          "metadata": {},
          "execution_count": 35
        }
      ]
    },
    {
      "cell_type": "markdown",
      "metadata": {
        "id": "zC845QWY0CnO"
      },
      "source": [
        "# Hard clustering"
      ]
    },
    {
      "cell_type": "code",
      "metadata": {
        "colab": {
          "base_uri": "https://localhost:8080/"
        },
        "id": "12wpwp8abid7",
        "outputId": "2db0acbd-427c-4042-9602-fb2919c74102"
      },
      "source": [
        "from sklearn.cluster import KMeans,AgglomerativeClustering\n",
        "\n",
        "num_clusters = 10\n",
        "km = KMeans(n_clusters=num_clusters)\n",
        "km.fit(tfidf)\n",
        "print(km.labels_)\n",
        "clusters = km.labels_.tolist()"
      ],
      "execution_count": null,
      "outputs": [
        {
          "output_type": "stream",
          "name": "stdout",
          "text": [
            "[7 2 0 ... 1 3 3]\n"
          ]
        }
      ]
    },
    {
      "cell_type": "code",
      "metadata": {
        "colab": {
          "base_uri": "https://localhost:8080/"
        },
        "id": "A_OM93WodGb2",
        "outputId": "d313b039-c929-4e51-dfad-62e7772930b2"
      },
      "source": [
        "df['cluster'] = clusters\n",
        "df['cluster'].value_counts()"
      ],
      "execution_count": null,
      "outputs": [
        {
          "output_type": "execute_result",
          "data": {
            "text/plain": [
              "8    864\n",
              "5    718\n",
              "2    625\n",
              "9    273\n",
              "1    226\n",
              "4    123\n",
              "6    118\n",
              "3    114\n",
              "0     78\n",
              "7     65\n",
              "Name: cluster, dtype: int64"
            ]
          },
          "metadata": {},
          "execution_count": 17
        }
      ]
    },
    {
      "cell_type": "code",
      "metadata": {
        "id": "htnXYEkPuGWS",
        "colab": {
          "base_uri": "https://localhost:8080/"
        },
        "outputId": "e70f0668-3ec3-4545-ac9b-bdb630a42853"
      },
      "source": [
        "result = {}\n",
        "\n",
        "for i in range(len(clusters)):\n",
        "    if clusters[i] in result:\n",
        "        result[clusters[i]].append(i)\n",
        "    else:\n",
        "        temp = [i]\n",
        "        result[clusters[i]] = temp\n",
        "print(result)"
      ],
      "execution_count": null,
      "outputs": [
        {
          "output_type": "stream",
          "name": "stdout",
          "text": [
            "{5: [0, 1, 3, 4, 5, 9, 11, 12, 14, 15, 16, 17, 18, 20, 21, 22, 23, 24, 25, 27, 28, 30, 34, 35, 36, 37, 40, 42, 43, 44, 46, 59, 61, 63, 64, 66, 71, 72, 73, 74, 75, 76, 78, 79, 80, 82, 84, 86, 90, 99, 100, 101, 104, 106, 107, 108, 109, 112, 114, 116, 117, 118, 120, 121, 124, 125, 126, 127, 128, 131, 147, 148, 149, 150, 151, 153, 154, 155, 156, 157, 158, 159, 160, 161, 162, 163, 164, 165, 166, 167, 168, 169, 170, 171, 172, 175, 177, 178, 179, 180, 181, 182, 183, 185, 186, 187, 188, 189, 190, 191, 192, 193, 194, 196, 197, 198, 200, 202, 203, 205, 206, 208, 211, 212, 213, 214, 215, 216, 217, 218, 220, 222, 224, 226, 227, 228, 231, 232, 234, 236, 237, 239, 243, 244, 245, 246, 252, 254, 256, 257, 258, 259, 260, 261, 262, 263, 265, 266, 285, 286, 287, 288, 289, 290, 292, 293, 295, 296, 298, 301, 303, 304, 305, 306, 307, 308, 309, 310, 311, 312, 313, 315, 316, 317, 322, 325, 326, 332, 333, 337, 338, 339, 340, 342, 344, 345, 347, 352, 354, 355, 357, 358, 359, 360, 362, 363, 368, 369, 370, 371, 373, 374, 375, 376, 377, 378, 380, 384, 385, 388, 389, 390, 391, 394, 399, 400, 401, 403, 407, 409, 411, 414, 417, 418, 419, 420, 421, 424, 425, 426, 429, 430, 431, 432, 435, 437, 441, 442, 443, 444, 446, 450, 451, 452, 453, 454, 455, 456, 457, 458, 459, 480, 481, 486, 487, 488, 489, 492, 493, 497, 498, 499, 500, 502, 503, 504, 505, 506, 511, 512, 513, 514, 516, 517, 518, 519, 520, 521, 522, 523, 524, 528, 529, 537, 538, 539, 541, 542, 545, 547, 548, 549, 550, 551, 552, 553, 554, 555, 556, 558, 559, 560, 561, 562, 563, 564, 566, 567, 568, 569, 570, 571, 572, 573, 574, 575, 576, 577, 578, 579, 580, 581, 582, 587, 588, 589, 590, 591, 592, 593, 598, 599, 600, 601, 602, 603, 605, 606, 607, 608, 609, 610, 611, 612, 619, 621, 622, 623, 626, 627, 628, 630, 631, 633, 635, 637, 638, 639, 641, 644, 647, 648, 649, 656, 658, 661, 662, 663, 664, 665, 666, 667, 668, 671, 672, 673, 679, 682, 684, 685, 686, 728, 731, 732, 733, 734, 736, 737, 738, 739, 740, 741, 742, 743, 744, 745, 746, 747, 751, 753, 755, 756, 764, 765, 766, 767, 768, 769, 770, 771, 773, 775, 778, 779, 780, 781, 782, 783, 784, 788, 789, 791, 792, 797, 800, 801, 802, 803, 804, 806, 807, 808, 809, 810, 811, 812, 813, 814, 815, 816, 817, 818, 819, 820, 822, 831, 834, 835, 836, 837, 838, 839, 840, 841, 842, 852, 858, 861, 862, 865, 867, 868, 869, 870, 872, 873, 874, 875, 876, 878, 879, 880, 881, 882, 883, 885, 886, 887, 896, 897, 898, 899, 900, 901, 902, 903, 904, 905, 906, 908, 909, 910, 912, 913, 914, 916, 917, 918, 920, 921, 922, 923, 924, 925, 928, 929, 932, 933, 934, 937, 942, 944, 946, 947, 952, 953, 956, 957, 958, 964, 965, 967, 968, 969, 975, 976, 977, 978, 1003, 1004, 1010, 1016, 1017, 1018, 1019, 1020, 1021, 1023, 1026, 1035, 1037, 1038, 1039, 1040, 1041, 1053, 1055, 1056, 1058, 1068, 1069, 1073, 1074, 1076, 1079, 1088, 1090, 1092, 1093, 1096, 1102, 1103, 1104, 1105, 1106, 1119, 1122, 1124, 1125, 1127, 1130, 1131, 1135, 1140, 1173, 1174, 1175, 1176, 1177, 1200, 1201, 1202, 1216, 1217, 1218, 1219, 1220, 1226, 1227, 1228, 1238, 1239, 1240, 1241, 1242, 1245, 1255, 1267, 1268, 1274, 1286, 1290, 1295, 1296, 1300, 1302, 1310, 1311, 1312, 1316, 1317, 1318, 1319, 1320, 1321, 1327, 1329, 1336, 1337, 1338, 1341, 1342, 1355, 1356, 1371, 1373, 1375, 1376, 1377, 1406, 1417, 1435, 1436, 1448, 1449, 1450, 1451, 1460, 1465, 1476, 1477, 1478, 1479, 1480, 1491, 1493, 1498, 1499, 1512, 1536, 1537, 1538, 1554, 1555, 1556, 1557, 1558, 1559, 1560, 1573, 1574, 1577, 1579, 1580, 1581, 1584, 1596, 1597, 1605, 1638, 1639, 1647, 1659, 1795, 1917, 1951, 1966, 2006, 2025, 2037, 2044, 2084, 2088, 2119, 2236, 2403, 2416, 2457, 2460, 2508, 2509, 2510, 2529, 2561, 2562, 2563, 2636, 2637, 2638, 2674, 2675, 2676, 2761, 2773, 2782, 3006, 3018, 3028], 4: [2, 60, 69, 255, 282, 284, 300, 314, 327, 348, 349, 350, 365, 372, 422, 436, 447, 448, 474, 485, 494, 495, 507, 508, 510, 515, 544, 557, 565, 585, 634, 645, 659, 691, 748, 749, 750, 763, 772, 776, 786, 805, 844, 877, 895, 907, 931, 935, 936, 954, 955, 1036, 1046, 1059, 1060, 1123, 1126, 1150, 1282, 1284, 1285, 1404, 1422, 1443, 1492, 1500, 1575, 1576, 1616, 1617, 1661, 1695, 1706, 1774, 1790, 1801, 1820, 1835, 1838, 1863, 1875, 1881, 1886, 1913, 1923, 1953, 1962, 1967, 1997, 2038, 2042, 2046, 2054, 2057, 2080, 2098, 2132, 2133, 2198, 2212, 2233, 2334, 2364, 2391, 2404, 2415, 2418, 2441, 2505, 2553, 2556, 2694, 2696, 2757, 2768, 2777, 2779, 2786, 2804, 2805, 3084, 3114, 3151], 1: [6, 7, 8, 26, 29, 48, 49, 50, 52, 53, 54, 56, 129, 132, 133, 134, 135, 136, 137, 138, 139, 140, 141, 144, 146, 199, 209, 238, 267, 268, 269, 270, 272, 273, 274, 276, 278, 279, 294, 329, 343, 346, 351, 353, 356, 364, 367, 383, 386, 423, 460, 464, 465, 466, 467, 468, 469, 470, 471, 472, 475, 476, 477, 479, 483, 484, 509, 531, 533, 543, 546, 624, 675, 687, 699, 700, 701, 702, 703, 704, 705, 706, 707, 708, 709, 710, 711, 712, 713, 714, 715, 721, 722, 724, 735, 777, 787, 830, 884, 938, 950, 966, 983, 984, 988, 990, 991, 992, 993, 994, 995, 996, 997, 998, 999, 1008, 1022, 1054, 1077, 1078, 1080, 1081, 1089, 1128, 1129, 1155, 1156, 1181, 1188, 1189, 1190, 1191, 1192, 1206, 1221, 1283, 1299, 1315, 1328, 1354, 1359, 1370, 1372, 1374, 1430, 1437, 1520, 1531, 1546, 1561, 1578, 1582, 1583, 1595, 1606, 1713, 1714, 1757, 1759, 1760, 1761, 1778, 1788, 1789, 1797, 1798, 1799, 1813, 1814, 1817, 1818, 1832, 1837, 1841, 1848, 1895, 1896, 1897, 1912, 1919, 1942, 1943, 1961, 1980, 1983, 1985, 1986, 1992, 1994, 2010, 2011, 2012, 2013, 2026, 2028, 2066, 2097, 2121, 2142, 2163, 2189, 2223, 2258, 2268, 2270, 2331, 2333, 2335, 2339, 2363, 2365, 2393, 2417, 2426, 2462, 2467, 2511, 2587, 2588, 2589, 2600, 2608, 2611, 2774, 2823, 2951], 8: [10, 13, 32, 39, 41, 47, 51, 62, 87, 89, 93, 96, 105, 115, 123, 173, 184, 219, 221, 233, 240, 241, 242, 247, 280, 281, 297, 318, 328, 331, 335, 366, 379, 381, 382, 392, 398, 402, 404, 405, 410, 412, 415, 440, 461, 478, 491, 530, 532, 595, 597, 614, 625, 629, 632, 660, 676, 692, 693, 696, 716, 717, 718, 725, 726, 758, 793, 798, 823, 826, 827, 832, 846, 847, 848, 849, 851, 855, 856, 857, 859, 860, 863, 864, 866, 892, 893, 894, 926, 939, 940, 941, 961, 963, 972, 973, 979, 980, 1001, 1006, 1007, 1012, 1013, 1014, 1025, 1027, 1028, 1043, 1044, 1049, 1050, 1051, 1061, 1066, 1071, 1072, 1083, 1108, 1110, 1111, 1113, 1114, 1115, 1116, 1120, 1121, 1132, 1142, 1144, 1147, 1151, 1152, 1154, 1168, 1170, 1183, 1184, 1185, 1196, 1197, 1199, 1205, 1210, 1211, 1213, 1214, 1229, 1230, 1233, 1234, 1257, 1258, 1278, 1291, 1292, 1293, 1294, 1309, 1325, 1330, 1332, 1333, 1339, 1343, 1345, 1350, 1352, 1362, 1367, 1368, 1385, 1391, 1395, 1396, 1397, 1398, 1399, 1402, 1403, 1407, 1410, 1412, 1419, 1423, 1424, 1425, 1428, 1432, 1433, 1439, 1442, 1459, 1473, 1474, 1496, 1497, 1503, 1516, 1519, 1523, 1524, 1527, 1528, 1534, 1535, 1539, 1544, 1548, 1549, 1550, 1553, 1562, 1565, 1566, 1567, 1585, 1589, 1591, 1592, 1593, 1594, 1608, 1609, 1612, 1614, 1618, 1619, 1620, 1621, 1622, 1623, 1627, 1629, 1630, 1631, 1632, 1633, 1634, 1636, 1637, 1642, 1643, 1644, 1645, 1649, 1657, 1662, 1666, 1673, 1674, 1686, 1687, 1688, 1689, 1690, 1693, 1699, 1701, 1703, 1704, 1708, 1715, 1716, 1717, 1721, 1722, 1723, 1724, 1725, 1726, 1728, 1729, 1731, 1732, 1735, 1742, 1758, 1769, 1775, 1776, 1777, 1779, 1782, 1793, 1794, 1800, 1803, 1806, 1811, 1812, 1815, 1819, 1821, 1822, 1830, 1831, 1839, 1840, 1842, 1846, 1849, 1850, 1858, 1862, 1866, 1867, 1868, 1869, 1870, 1872, 1873, 1874, 1877, 1880, 1885, 1889, 1892, 1893, 1898, 1904, 1905, 1906, 1914, 1918, 1921, 1924, 1929, 1930, 1931, 1932, 1933, 1934, 1935, 1939, 1940, 1945, 1946, 1948, 1949, 1955, 1956, 1957, 1960, 1964, 1968, 1971, 1973, 1974, 1975, 1976, 1979, 1982, 1984, 1989, 1990, 1995, 1996, 1998, 2009, 2014, 2018, 2020, 2021, 2023, 2027, 2030, 2031, 2032, 2036, 2040, 2041, 2043, 2048, 2051, 2055, 2056, 2065, 2075, 2076, 2085, 2086, 2087, 2089, 2092, 2093, 2095, 2099, 2100, 2101, 2102, 2103, 2107, 2114, 2117, 2118, 2120, 2122, 2124, 2128, 2131, 2134, 2138, 2140, 2141, 2143, 2144, 2145, 2149, 2156, 2158, 2160, 2165, 2169, 2171, 2172, 2173, 2174, 2175, 2176, 2182, 2184, 2188, 2190, 2192, 2193, 2194, 2195, 2199, 2202, 2211, 2213, 2214, 2215, 2221, 2222, 2224, 2225, 2228, 2230, 2231, 2232, 2237, 2239, 2248, 2249, 2252, 2255, 2256, 2257, 2260, 2265, 2266, 2269, 2271, 2275, 2277, 2281, 2282, 2284, 2285, 2286, 2288, 2289, 2290, 2291, 2292, 2293, 2295, 2299, 2305, 2311, 2314, 2323, 2326, 2327, 2330, 2332, 2336, 2338, 2345, 2347, 2348, 2350, 2351, 2358, 2359, 2360, 2362, 2367, 2368, 2380, 2381, 2383, 2384, 2385, 2387, 2390, 2394, 2396, 2399, 2400, 2402, 2409, 2412, 2413, 2419, 2420, 2421, 2424, 2425, 2428, 2429, 2430, 2431, 2433, 2436, 2439, 2440, 2442, 2443, 2444, 2445, 2446, 2447, 2448, 2450, 2453, 2454, 2455, 2456, 2458, 2461, 2463, 2465, 2466, 2468, 2471, 2472, 2476, 2482, 2483, 2485, 2487, 2488, 2489, 2490, 2493, 2494, 2495, 2502, 2504, 2507, 2512, 2514, 2519, 2522, 2523, 2524, 2527, 2528, 2531, 2532, 2536, 2539, 2543, 2544, 2546, 2547, 2548, 2550, 2554, 2557, 2564, 2565, 2567, 2568, 2569, 2572, 2573, 2574, 2578, 2580, 2583, 2584, 2585, 2586, 2590, 2594, 2595, 2598, 2599, 2601, 2603, 2604, 2607, 2609, 2610, 2612, 2613, 2614, 2616, 2617, 2618, 2619, 2626, 2627, 2629, 2632, 2635, 2640, 2642, 2647, 2648, 2649, 2653, 2654, 2655, 2656, 2657, 2658, 2659, 2663, 2664, 2665, 2669, 2670, 2673, 2677, 2678, 2681, 2682, 2685, 2686, 2691, 2692, 2693, 2695, 2700, 2701, 2705, 2706, 2707, 2711, 2713, 2720, 2721, 2723, 2724, 2728, 2733, 2735, 2736, 2741, 2742, 2743, 2744, 2745, 2747, 2748, 2750, 2751, 2753, 2754, 2755, 2756, 2759, 2760, 2762, 2765, 2766, 2770, 2771, 2772, 2776, 2778, 2780, 2783, 2787, 2788, 2789, 2791, 2792, 2793, 2796, 2798, 2800, 2802, 2803, 2807, 2808, 2809, 2814, 2824, 2825, 2826, 2827, 2828, 2829, 2830, 2831, 2833, 2834, 2835, 2836, 2838, 2843, 2845, 2846, 2853, 2854, 2856, 2857, 2861, 2865, 2871, 2876, 2879, 2882, 2883, 2884, 2886, 2888, 2889, 2890, 2896, 2900, 2902, 2903, 2906, 2907, 2909, 2912, 2915, 2921, 2922, 2923, 2924, 2925, 2926, 2931, 2932, 2933, 2935, 2941, 2952, 2953, 2959, 2962, 2965, 2967, 2969, 2972, 2974, 2979, 2980, 2982, 2985, 2986, 2990, 2991, 2992, 2993, 2995, 2996, 2997, 3000, 3007, 3008, 3012, 3014, 3015, 3016, 3017, 3019, 3020, 3031, 3035, 3036, 3037, 3039, 3040, 3041, 3043, 3044, 3045, 3046, 3050, 3051, 3053, 3054, 3055, 3056, 3057, 3060, 3061, 3063, 3064, 3065, 3068, 3070, 3073, 3074, 3078, 3080, 3083, 3085, 3092, 3093, 3094, 3095, 3096, 3097, 3098, 3099, 3105, 3106, 3107, 3108, 3109, 3110, 3113, 3115, 3117, 3119, 3123, 3124, 3125, 3130, 3131, 3132, 3134, 3137, 3138, 3140, 3142, 3148, 3150, 3154, 3155, 3161, 3162, 3163, 3164, 3165, 3166, 3170, 3171, 3172, 3174, 3176, 3177, 3178, 3185, 3186, 3188, 3189, 3190, 3191, 3192, 3193, 3194, 3195, 3198, 3202], 3: [19, 38, 77, 88, 94, 95, 110, 111, 119, 130, 174, 176, 225, 324, 330, 334, 341, 387, 449, 496, 534, 535, 642, 646, 754, 949, 1030, 1047, 1048, 1109, 1146, 1195, 1273, 1277, 1279, 1298, 1363, 1364, 1369, 1386, 1387, 1400, 1405, 1440, 1472, 1494, 1509, 1510, 1511, 1598, 1600, 1635, 1663, 1665, 1672, 1691, 1720, 1733, 1743, 1762, 1765, 1796, 1802, 1805, 1847, 1865, 1879, 1887, 1909, 1941, 1954, 1978, 1999, 2000, 2062, 2072, 2074, 2090, 2123, 2135, 2157, 2164, 2170, 2185, 2204, 2205, 2206, 2235, 2247, 2267, 2274, 2280, 2283, 2322, 2337, 2352, 2361, 2407, 2408, 2427, 2473, 2474, 2486, 2506, 2538, 2566, 2591, 2605, 2641, 2652, 2758, 2799, 2806, 3199], 7: [31, 33, 249, 319, 361, 752, 845, 1094, 1171, 1236, 1251, 1262, 1313, 1326, 1353, 1429, 1487, 1547, 1563, 1683, 1784, 1785, 1965, 1972, 1991, 1993, 2017, 2052, 2106, 2108, 2161, 2219, 2220, 2234, 2250, 2259, 2262, 2272, 2411, 2452, 2491, 2516, 2517, 2542, 2551, 2558, 2597, 2615, 2634, 2672, 2690, 2725, 2769, 2790, 2847, 2855, 2904, 2973, 2981, 3032, 3033, 3052, 3082, 3112, 3175], 2: [45, 57, 58, 67, 68, 70, 83, 85, 91, 92, 102, 103, 142, 143, 145, 201, 235, 250, 251, 271, 275, 277, 283, 302, 321, 395, 396, 397, 413, 416, 434, 438, 439, 490, 536, 584, 594, 596, 604, 616, 617, 618, 636, 651, 655, 669, 670, 674, 677, 694, 695, 697, 698, 723, 727, 729, 757, 795, 821, 824, 850, 853, 854, 890, 930, 943, 962, 970, 971, 1000, 1002, 1009, 1029, 1031, 1032, 1033, 1045, 1065, 1070, 1082, 1086, 1087, 1098, 1099, 1100, 1107, 1112, 1143, 1153, 1157, 1158, 1160, 1162, 1163, 1164, 1167, 1169, 1172, 1180, 1193, 1194, 1198, 1204, 1223, 1224, 1225, 1235, 1237, 1246, 1247, 1256, 1259, 1260, 1263, 1266, 1269, 1270, 1271, 1280, 1303, 1307, 1314, 1324, 1331, 1340, 1344, 1346, 1348, 1380, 1381, 1382, 1383, 1384, 1390, 1392, 1393, 1408, 1409, 1411, 1414, 1416, 1426, 1427, 1434, 1438, 1444, 1461, 1462, 1463, 1464, 1467, 1471, 1475, 1481, 1486, 1488, 1501, 1502, 1504, 1505, 1506, 1513, 1514, 1515, 1517, 1518, 1522, 1525, 1532, 1533, 1542, 1543, 1551, 1552, 1569, 1570, 1571, 1586, 1588, 1590, 1602, 1603, 1604, 1610, 1615, 1624, 1625, 1626, 1640, 1641, 1646, 1650, 1651, 1652, 1653, 1656, 1658, 1664, 1670, 1676, 1677, 1679, 1681, 1684, 1685, 1694, 1696, 1697, 1698, 1707, 1710, 1711, 1712, 1718, 1719, 1727, 1734, 1737, 1739, 1740, 1741, 1744, 1745, 1746, 1747, 1748, 1749, 1750, 1751, 1752, 1753, 1754, 1763, 1764, 1768, 1770, 1773, 1791, 1804, 1807, 1808, 1809, 1810, 1825, 1826, 1827, 1828, 1829, 1843, 1844, 1845, 1852, 1853, 1861, 1876, 1878, 1883, 1888, 1890, 1891, 1900, 1907, 1911, 1915, 1925, 1926, 1927, 1928, 1937, 1944, 1947, 1950, 1958, 1959, 1963, 1977, 2001, 2003, 2015, 2016, 2019, 2022, 2033, 2034, 2035, 2045, 2053, 2061, 2063, 2064, 2067, 2068, 2069, 2077, 2078, 2079, 2082, 2094, 2096, 2104, 2105, 2110, 2113, 2127, 2129, 2136, 2139, 2146, 2150, 2152, 2155, 2159, 2162, 2166, 2167, 2168, 2179, 2180, 2181, 2186, 2187, 2196, 2200, 2201, 2203, 2207, 2208, 2209, 2210, 2216, 2217, 2218, 2226, 2227, 2244, 2246, 2254, 2261, 2273, 2276, 2278, 2279, 2287, 2296, 2297, 2301, 2302, 2303, 2306, 2307, 2308, 2310, 2312, 2317, 2318, 2319, 2320, 2321, 2324, 2325, 2328, 2341, 2342, 2343, 2344, 2355, 2356, 2357, 2366, 2369, 2370, 2371, 2372, 2373, 2374, 2375, 2376, 2377, 2378, 2379, 2382, 2386, 2389, 2397, 2398, 2401, 2406, 2423, 2434, 2435, 2437, 2438, 2449, 2451, 2470, 2477, 2478, 2480, 2481, 2484, 2492, 2496, 2497, 2498, 2499, 2500, 2501, 2503, 2515, 2518, 2521, 2525, 2530, 2534, 2535, 2537, 2540, 2541, 2552, 2559, 2560, 2570, 2571, 2576, 2577, 2579, 2581, 2582, 2592, 2596, 2606, 2620, 2621, 2622, 2623, 2624, 2625, 2628, 2630, 2631, 2633, 2645, 2661, 2662, 2666, 2667, 2668, 2671, 2679, 2680, 2684, 2687, 2688, 2689, 2699, 2710, 2718, 2719, 2722, 2726, 2727, 2734, 2737, 2739, 2740, 2746, 2749, 2752, 2764, 2767, 2775, 2795, 2797, 2801, 2810, 2811, 2812, 2815, 2816, 2817, 2818, 2819, 2822, 2832, 2837, 2839, 2840, 2842, 2844, 2848, 2849, 2850, 2851, 2852, 2858, 2859, 2860, 2862, 2863, 2864, 2866, 2867, 2868, 2869, 2870, 2874, 2875, 2877, 2878, 2880, 2881, 2887, 2891, 2892, 2893, 2895, 2898, 2899, 2901, 2910, 2911, 2913, 2916, 2917, 2918, 2919, 2927, 2929, 2934, 2943, 2944, 2945, 2946, 2947, 2948, 2949, 2950, 2954, 2960, 2961, 2963, 2964, 2966, 2968, 2971, 2975, 2976, 2977, 2978, 2983, 2984, 2987, 2988, 2989, 2994, 2998, 2999, 3001, 3002, 3004, 3005, 3009, 3010, 3011, 3013, 3021, 3022, 3024, 3025, 3026, 3027, 3034, 3038, 3047, 3048, 3049, 3058, 3062, 3066, 3067, 3069, 3071, 3075, 3077, 3081, 3087, 3088, 3089, 3090, 3091, 3103, 3111, 3116, 3118, 3120, 3121, 3122, 3126, 3127, 3128, 3129, 3133, 3135, 3136, 3139, 3141, 3143, 3145, 3146, 3152, 3156, 3157, 3159, 3160, 3167, 3168, 3169, 3173, 3179, 3180, 3181, 3182, 3196, 3201, 3203], 6: [55, 65, 97, 113, 152, 210, 229, 230, 264, 336, 433, 473, 525, 527, 583, 681, 689, 719, 720, 759, 790, 796, 825, 843, 889, 911, 915, 927, 945, 951, 959, 960, 974, 982, 985, 986, 987, 1005, 1015, 1034, 1052, 1062, 1063, 1064, 1067, 1084, 1095, 1117, 1118, 1138, 1149, 1178, 1186, 1203, 1207, 1208, 1209, 1212, 1231, 1232, 1243, 1244, 1248, 1249, 1250, 1265, 1275, 1276, 1281, 1288, 1289, 1301, 1304, 1334, 1360, 1361, 1366, 1413, 1415, 1421, 1431, 1441, 1482, 1489, 1507, 1508, 1545, 1628, 1648, 1654, 1655, 1669, 1700, 1755, 1756, 1771, 1772, 1792, 1899, 1952, 1969, 1970, 2004, 2005, 2024, 2115, 2116, 2153, 2575, 2712, 2730, 2820, 2821, 2914, 3023, 3059, 3158, 3200], 9: [81, 98, 122, 195, 204, 207, 223, 248, 253, 291, 299, 320, 393, 406, 408, 462, 463, 482, 526, 615, 643, 650, 652, 653, 654, 657, 678, 680, 688, 690, 730, 760, 761, 762, 794, 799, 828, 829, 888, 891, 919, 948, 981, 989, 1011, 1024, 1042, 1085, 1097, 1101, 1133, 1134, 1136, 1137, 1139, 1141, 1148, 1159, 1161, 1165, 1166, 1179, 1182, 1187, 1215, 1222, 1252, 1253, 1254, 1261, 1264, 1287, 1305, 1306, 1308, 1322, 1323, 1335, 1347, 1349, 1357, 1358, 1365, 1378, 1379, 1388, 1389, 1394, 1420, 1452, 1453, 1454, 1455, 1456, 1457, 1458, 1466, 1468, 1469, 1470, 1483, 1484, 1485, 1490, 1495, 1526, 1529, 1530, 1540, 1541, 1564, 1568, 1587, 1601, 1611, 1613, 1675, 1680, 1682, 1692, 1702, 1705, 1709, 1736, 1738, 1766, 1767, 1780, 1786, 1787, 1823, 1824, 1833, 1834, 1851, 1854, 1855, 1859, 1860, 1864, 1884, 1901, 1910, 1922, 1936, 1938, 1987, 1988, 2002, 2029, 2049, 2050, 2058, 2059, 2060, 2081, 2083, 2091, 2109, 2111, 2112, 2125, 2126, 2137, 2147, 2151, 2154, 2177, 2178, 2183, 2191, 2197, 2229, 2245, 2251, 2253, 2263, 2264, 2294, 2298, 2300, 2304, 2309, 2313, 2315, 2316, 2340, 2388, 2395, 2405, 2410, 2422, 2432, 2469, 2475, 2479, 2513, 2526, 2533, 2545, 2555, 2593, 2602, 2643, 2644, 2646, 2650, 2651, 2660, 2683, 2697, 2698, 2702, 2703, 2704, 2708, 2709, 2714, 2715, 2716, 2717, 2729, 2731, 2732, 2738, 2763, 2781, 2784, 2785, 2794, 2813, 2841, 2872, 2873, 2885, 2894, 2897, 2905, 2908, 2920, 2928, 2930, 2936, 2937, 2938, 2939, 2940, 2942, 2955, 2956, 2957, 2958, 2970, 3003, 3029, 3030, 3042, 3072, 3076, 3079, 3086, 3100, 3101, 3102, 3104, 3144, 3147, 3149, 3153, 3183, 3184, 3187, 3197], 0: [323, 427, 428, 445, 501, 540, 586, 613, 620, 640, 683, 774, 785, 833, 871, 1057, 1075, 1091, 1145, 1272, 1297, 1351, 1401, 1418, 1445, 1446, 1447, 1521, 1572, 1599, 1607, 1660, 1667, 1668, 1671, 1678, 1730, 1781, 1783, 1816, 1836, 1856, 1857, 1871, 1882, 1894, 1902, 1903, 1908, 1916, 1920, 1981, 2007, 2008, 2039, 2047, 2070, 2071, 2073, 2130, 2148, 2238, 2240, 2241, 2242, 2243, 2329, 2346, 2349, 2353, 2354, 2392, 2414, 2459, 2464, 2520, 2549, 2639]}\n"
          ]
        }
      ]
    },
    {
      "cell_type": "code",
      "metadata": {
        "colab": {
          "base_uri": "https://localhost:8080/"
        },
        "id": "Jh8ZYB8nR7Ao",
        "outputId": "d4895823-6028-4711-a22b-3a5b10884f48"
      },
      "source": [
        "num_clusters = 10\n",
        "ag = AgglomerativeClustering(n_clusters=num_clusters)\n",
        "ag.fit(tfidf.toarray())\n",
        "print(ag.labels_)\n",
        "clusters_agg = ag.labels_.tolist()"
      ],
      "execution_count": null,
      "outputs": [
        {
          "output_type": "stream",
          "name": "stdout",
          "text": [
            "[1 4 4 ... 4 4 4]\n"
          ]
        }
      ]
    },
    {
      "cell_type": "code",
      "metadata": {
        "colab": {
          "base_uri": "https://localhost:8080/"
        },
        "id": "eIeBq2cZSAND",
        "outputId": "94788273-b895-4c86-ab47-7dcf5b995e7b"
      },
      "source": [
        "df['cluster_agg'] = clusters\n",
        "df['cluster_agg'].value_counts()"
      ],
      "execution_count": null,
      "outputs": [
        {
          "output_type": "execute_result",
          "data": {
            "text/plain": [
              "1    869\n",
              "2    794\n",
              "4    378\n",
              "7    261\n",
              "3    240\n",
              "6    210\n",
              "5    145\n",
              "0    127\n",
              "9    116\n",
              "8     64\n",
              "Name: cluster_agg, dtype: int64"
            ]
          },
          "metadata": {},
          "execution_count": 39
        }
      ]
    },
    {
      "cell_type": "code",
      "metadata": {
        "colab": {
          "base_uri": "https://localhost:8080/"
        },
        "id": "agklZXoRSDa_",
        "outputId": "bc70bf83-f41b-44fb-eec9-4e7bfc1c1420"
      },
      "source": [
        "result_agg = {}\n",
        "\n",
        "for i in range(len(clusters_agg)):\n",
        "    if clusters_agg[i] in result_agg:\n",
        "        result_agg[clusters_agg[i]].append(i)\n",
        "    else:\n",
        "        temp = [i]\n",
        "        result_agg[clusters_agg[i]] = temp\n",
        "print(result_agg)"
      ],
      "execution_count": null,
      "outputs": [
        {
          "output_type": "stream",
          "name": "stdout",
          "text": [
            "{1: [0, 4, 8, 14, 16, 20, 23, 25, 28, 29, 34, 35, 37, 40, 43, 46, 50, 51, 52, 54, 62, 63, 64, 65, 71, 73, 76, 80, 81, 86, 87, 93, 100, 108, 112, 118, 121, 122, 123, 124, 126, 127, 128, 131, 134, 135, 136, 137, 138, 139, 140, 142, 144, 145, 147, 148, 151, 152, 153, 155, 156, 157, 158, 159, 160, 163, 164, 166, 168, 169, 170, 172, 175, 177, 185, 186, 189, 190, 192, 195, 196, 198, 202, 205, 206, 207, 208, 211, 213, 215, 218, 221, 226, 227, 228, 229, 230, 231, 232, 239, 241, 249, 252, 253, 254, 256, 257, 258, 259, 260, 261, 262, 263, 265, 266, 270, 273, 279, 280, 289, 290, 293, 296, 298, 299, 301, 304, 305, 306, 307, 308, 311, 315, 320, 325, 329, 332, 333, 337, 355, 357, 358, 359, 368, 369, 370, 373, 374, 375, 376, 378, 380, 382, 385, 390, 399, 401, 402, 403, 405, 407, 409, 410, 419, 420, 421, 426, 429, 430, 433, 435, 436, 441, 443, 444, 446, 447, 448, 450, 451, 452, 453, 457, 458, 459, 462, 464, 466, 471, 472, 473, 475, 476, 477, 478, 480, 481, 482, 484, 486, 488, 489, 498, 499, 500, 503, 504, 505, 506, 510, 511, 512, 513, 520, 521, 522, 523, 524, 525, 529, 540, 541, 542, 545, 546, 551, 552, 553, 554, 562, 563, 564, 566, 567, 568, 569, 570, 573, 576, 577, 578, 580, 582, 583, 591, 592, 593, 594, 596, 597, 598, 600, 601, 602, 603, 606, 607, 608, 609, 610, 611, 612, 619, 620, 621, 622, 623, 625, 634, 635, 636, 637, 638, 640, 641, 644, 647, 648, 649, 650, 654, 657, 661, 662, 663, 664, 666, 667, 668, 673, 675, 676, 679, 681, 682, 683, 686, 688, 699, 700, 701, 702, 703, 704, 706, 708, 711, 712, 713, 714, 715, 721, 724, 725, 728, 731, 732, 733, 734, 738, 739, 740, 741, 742, 743, 744, 745, 746, 747, 751, 753, 755, 757, 758, 759, 760, 761, 765, 766, 767, 768, 769, 770, 771, 773, 774, 775, 778, 779, 780, 781, 782, 788, 789, 790, 792, 798, 800, 801, 802, 804, 807, 808, 809, 812, 813, 814, 815, 816, 817, 820, 822, 826, 829, 830, 831, 834, 835, 836, 837, 838, 840, 842, 843, 852, 853, 857, 858, 859, 860, 861, 862, 863, 865, 867, 870, 872, 878, 879, 880, 881, 885, 886, 887, 888, 896, 897, 899, 900, 901, 904, 905, 906, 908, 911, 912, 913, 914, 915, 916, 917, 918, 919, 921, 922, 923, 925, 927, 928, 929, 933, 934, 937, 942, 944, 946, 947, 951, 952, 953, 956, 957, 959, 961, 965, 967, 968, 969, 978, 983, 984, 987, 989, 992, 993, 994, 995, 996, 997, 998, 999, 1003, 1004, 1010, 1017, 1020, 1024, 1026, 1034, 1035, 1037, 1039, 1040, 1053, 1055, 1058, 1059, 1060, 1067, 1069, 1073, 1074, 1075, 1079, 1080, 1081, 1085, 1089, 1090, 1092, 1093, 1095, 1105, 1116, 1119, 1120, 1122, 1124, 1125, 1127, 1128, 1131, 1135, 1136, 1139, 1140, 1148, 1149, 1150, 1167, 1173, 1174, 1175, 1176, 1177, 1182, 1186, 1187, 1188, 1189, 1190, 1192, 1200, 1201, 1202, 1208, 1214, 1216, 1217, 1218, 1219, 1220, 1226, 1227, 1228, 1238, 1239, 1240, 1244, 1245, 1253, 1265, 1267, 1268, 1275, 1276, 1281, 1286, 1287, 1295, 1296, 1300, 1302, 1304, 1310, 1311, 1313, 1317, 1318, 1319, 1320, 1321, 1322, 1327, 1336, 1338, 1341, 1342, 1355, 1356, 1369, 1371, 1373, 1374, 1375, 1377, 1378, 1406, 1415, 1417, 1420, 1424, 1431, 1436, 1438, 1448, 1450, 1451, 1452, 1460, 1465, 1476, 1477, 1478, 1482, 1491, 1497, 1498, 1499, 1512, 1520, 1530, 1531, 1545, 1555, 1557, 1558, 1559, 1560, 1562, 1573, 1574, 1578, 1579, 1580, 1581, 1582, 1583, 1584, 1593, 1609, 1614, 1616, 1638, 1648, 1659, 1692, 1701, 1723, 1724, 1729, 1758, 1775, 1776, 1780, 1795, 1812, 1816, 1819, 1849, 1864, 1918, 1930, 1947, 1951, 1968, 1979, 1996, 2006, 2036, 2037, 2040, 2041, 2043, 2044, 2050, 2055, 2081, 2083, 2086, 2102, 2103, 2107, 2117, 2120, 2130, 2131, 2132, 2133, 2134, 2145, 2147, 2172, 2173, 2188, 2190, 2221, 2236, 2269, 2271, 2291, 2293, 2294, 2336, 2347, 2396, 2416, 2421, 2442, 2445, 2455, 2465, 2487, 2488, 2504, 2507, 2510, 2555, 2562, 2572, 2589, 2608, 2654, 2655, 2676, 2678, 2689, 2692, 2695, 2742, 2754, 2773, 2791, 2802, 2813, 2820, 2852, 2883, 2907, 2908, 2942, 3003, 3027, 3053, 3059, 3144, 3154, 3183, 3186, 3190, 3197], 4: [1, 2, 3, 6, 7, 9, 10, 11, 12, 13, 17, 18, 19, 21, 22, 24, 27, 30, 31, 32, 33, 36, 39, 42, 44, 45, 48, 49, 53, 56, 57, 58, 59, 66, 67, 68, 70, 72, 74, 75, 78, 79, 82, 83, 84, 85, 89, 90, 91, 92, 96, 97, 98, 99, 101, 102, 103, 104, 105, 106, 109, 110, 114, 115, 116, 117, 119, 120, 141, 143, 146, 150, 154, 161, 162, 165, 167, 173, 182, 184, 187, 188, 191, 197, 201, 203, 204, 209, 214, 216, 217, 220, 222, 223, 224, 233, 234, 235, 236, 237, 238, 240, 247, 248, 250, 251, 264, 267, 268, 269, 271, 272, 274, 275, 276, 277, 278, 281, 283, 286, 287, 288, 291, 292, 295, 297, 302, 313, 316, 317, 318, 319, 321, 322, 328, 331, 335, 361, 363, 366, 371, 377, 379, 381, 391, 392, 393, 394, 395, 396, 397, 398, 400, 404, 406, 408, 411, 412, 413, 414, 415, 416, 431, 432, 434, 437, 438, 439, 440, 442, 460, 461, 463, 465, 468, 487, 490, 491, 492, 493, 496, 516, 519, 526, 527, 528, 530, 532, 536, 556, 559, 560, 571, 572, 575, 579, 581, 584, 595, 599, 604, 605, 614, 615, 616, 617, 618, 626, 627, 628, 629, 630, 631, 632, 633, 643, 651, 652, 653, 655, 656, 660, 665, 669, 670, 671, 672, 674, 677, 678, 680, 690, 692, 693, 694, 695, 696, 697, 698, 710, 716, 717, 718, 719, 722, 723, 726, 727, 729, 730, 752, 754, 756, 762, 784, 786, 791, 793, 794, 795, 797, 799, 819, 821, 823, 824, 825, 827, 828, 845, 846, 848, 849, 850, 851, 854, 855, 856, 864, 866, 889, 890, 891, 892, 894, 909, 910, 924, 926, 930, 939, 940, 941, 943, 948, 958, 960, 962, 963, 964, 970, 971, 972, 973, 976, 979, 980, 981, 986, 988, 1000, 1001, 1002, 1005, 1006, 1007, 1008, 1009, 1011, 1012, 1013, 1015, 1016, 1018, 1021, 1023, 1025, 1029, 1031, 1032, 1033, 1042, 1043, 1044, 1045, 1047, 1048, 1049, 1050, 1051, 1052, 1056, 1061, 1065, 1066, 1068, 1070, 1071, 1072, 1082, 1083, 1086, 1087, 1088, 1094, 1096, 1097, 1098, 1099, 1101, 1102, 1103, 1104, 1106, 1107, 1112, 1113, 1115, 1117, 1121, 1123, 1130, 1132, 1133, 1134, 1137, 1141, 1142, 1143, 1144, 1145, 1147, 1151, 1152, 1153, 1154, 1157, 1158, 1159, 1160, 1161, 1162, 1163, 1164, 1165, 1166, 1168, 1169, 1170, 1172, 1178, 1179, 1180, 1181, 1183, 1184, 1185, 1193, 1194, 1197, 1198, 1199, 1204, 1205, 1206, 1207, 1209, 1210, 1211, 1212, 1213, 1222, 1223, 1224, 1225, 1229, 1230, 1231, 1233, 1234, 1235, 1237, 1242, 1243, 1246, 1247, 1251, 1252, 1254, 1255, 1256, 1257, 1258, 1259, 1260, 1261, 1262, 1263, 1264, 1266, 1269, 1270, 1271, 1274, 1278, 1279, 1280, 1289, 1291, 1293, 1294, 1301, 1303, 1305, 1306, 1307, 1308, 1309, 1314, 1323, 1324, 1325, 1328, 1329, 1330, 1331, 1332, 1333, 1334, 1335, 1337, 1339, 1340, 1343, 1344, 1346, 1347, 1348, 1349, 1350, 1352, 1353, 1357, 1358, 1359, 1362, 1363, 1364, 1365, 1367, 1368, 1379, 1380, 1381, 1382, 1383, 1384, 1388, 1389, 1390, 1391, 1393, 1394, 1395, 1396, 1397, 1398, 1399, 1401, 1403, 1404, 1407, 1408, 1409, 1410, 1411, 1412, 1414, 1416, 1423, 1425, 1426, 1427, 1428, 1429, 1430, 1432, 1433, 1434, 1435, 1442, 1443, 1444, 1453, 1454, 1455, 1456, 1457, 1458, 1459, 1461, 1462, 1463, 1464, 1466, 1467, 1468, 1469, 1470, 1471, 1472, 1473, 1474, 1475, 1480, 1481, 1483, 1484, 1485, 1486, 1488, 1490, 1495, 1496, 1501, 1502, 1503, 1504, 1505, 1506, 1513, 1514, 1515, 1516, 1517, 1518, 1519, 1522, 1525, 1526, 1527, 1528, 1529, 1532, 1533, 1534, 1539, 1540, 1541, 1542, 1543, 1544, 1548, 1549, 1550, 1551, 1552, 1553, 1564, 1567, 1568, 1569, 1570, 1571, 1586, 1587, 1588, 1589, 1590, 1591, 1592, 1594, 1596, 1600, 1601, 1602, 1603, 1604, 1607, 1608, 1610, 1611, 1612, 1613, 1615, 1618, 1620, 1621, 1622, 1623, 1624, 1625, 1626, 1627, 1628, 1629, 1631, 1633, 1635, 1636, 1637, 1640, 1641, 1645, 1646, 1649, 1650, 1652, 1653, 1656, 1657, 1658, 1660, 1663, 1664, 1665, 1670, 1672, 1674, 1675, 1676, 1677, 1679, 1680, 1681, 1682, 1684, 1685, 1686, 1687, 1689, 1691, 1693, 1694, 1696, 1697, 1698, 1699, 1702, 1703, 1704, 1705, 1707, 1708, 1709, 1710, 1711, 1712, 1716, 1717, 1718, 1719, 1720, 1722, 1725, 1726, 1727, 1728, 1731, 1732, 1734, 1735, 1736, 1737, 1738, 1739, 1740, 1741, 1742, 1744, 1745, 1746, 1747, 1748, 1749, 1750, 1751, 1752, 1753, 1754, 1756, 1763, 1764, 1766, 1767, 1768, 1769, 1770, 1773, 1779, 1781, 1782, 1784, 1785, 1786, 1787, 1791, 1792, 1794, 1796, 1800, 1801, 1803, 1804, 1806, 1807, 1808, 1809, 1810, 1821, 1822, 1823, 1824, 1825, 1826, 1827, 1828, 1829, 1832, 1833, 1834, 1835, 1838, 1841, 1842, 1843, 1844, 1845, 1846, 1851, 1852, 1853, 1854, 1855, 1859, 1860, 1861, 1862, 1866, 1867, 1868, 1869, 1870, 1872, 1876, 1877, 1878, 1880, 1883, 1884, 1885, 1888, 1889, 1890, 1891, 1898, 1900, 1901, 1904, 1905, 1906, 1907, 1908, 1910, 1911, 1913, 1914, 1915, 1917, 1919, 1921, 1922, 1924, 1925, 1926, 1927, 1928, 1933, 1936, 1937, 1938, 1944, 1946, 1948, 1949, 1950, 1955, 1956, 1958, 1959, 1960, 1961, 1963, 1964, 1965, 1971, 1972, 1973, 1974, 1975, 1977, 1983, 1984, 1987, 1988, 1989, 1990, 1991, 1999, 2000, 2001, 2002, 2003, 2005, 2014, 2015, 2016, 2017, 2018, 2019, 2020, 2021, 2022, 2023, 2024, 2027, 2029, 2030, 2032, 2033, 2034, 2035, 2045, 2046, 2049, 2051, 2053, 2058, 2059, 2060, 2061, 2062, 2063, 2064, 2065, 2066, 2067, 2068, 2069, 2072, 2076, 2077, 2078, 2079, 2082, 2084, 2085, 2087, 2089, 2091, 2092, 2094, 2095, 2096, 2104, 2105, 2106, 2108, 2109, 2111, 2112, 2113, 2116, 2124, 2125, 2126, 2127, 2129, 2136, 2137, 2138, 2139, 2140, 2141, 2143, 2144, 2146, 2148, 2149, 2150, 2151, 2152, 2154, 2155, 2156, 2159, 2160, 2161, 2162, 2163, 2164, 2165, 2166, 2167, 2168, 2169, 2171, 2174, 2175, 2176, 2177, 2178, 2179, 2180, 2181, 2183, 2184, 2185, 2186, 2187, 2191, 2192, 2193, 2194, 2195, 2196, 2197, 2199, 2200, 2201, 2202, 2203, 2207, 2208, 2209, 2210, 2213, 2214, 2215, 2216, 2217, 2218, 2222, 2224, 2225, 2226, 2227, 2229, 2230, 2231, 2232, 2244, 2245, 2246, 2250, 2251, 2252, 2253, 2254, 2255, 2257, 2259, 2261, 2263, 2264, 2266, 2268, 2270, 2272, 2273, 2276, 2278, 2279, 2282, 2284, 2285, 2286, 2287, 2288, 2289, 2292, 2295, 2296, 2297, 2298, 2299, 2300, 2301, 2302, 2303, 2304, 2305, 2306, 2307, 2308, 2309, 2310, 2311, 2312, 2313, 2314, 2315, 2316, 2317, 2318, 2319, 2320, 2321, 2322, 2324, 2325, 2326, 2327, 2328, 2330, 2338, 2339, 2340, 2341, 2342, 2343, 2344, 2345, 2350, 2355, 2356, 2357, 2358, 2360, 2366, 2367, 2368, 2369, 2370, 2371, 2372, 2373, 2374, 2375, 2376, 2377, 2378, 2379, 2380, 2381, 2382, 2383, 2385, 2386, 2388, 2389, 2395, 2397, 2398, 2399, 2400, 2401, 2405, 2406, 2408, 2410, 2411, 2412, 2413, 2419, 2420, 2422, 2423, 2424, 2425, 2428, 2429, 2431, 2432, 2433, 2434, 2435, 2436, 2437, 2438, 2440, 2443, 2444, 2446, 2447, 2448, 2449, 2451, 2453, 2456, 2458, 2460, 2463, 2466, 2468, 2469, 2470, 2472, 2474, 2475, 2476, 2477, 2478, 2479, 2480, 2481, 2482, 2484, 2485, 2489, 2492, 2493, 2494, 2495, 2496, 2497, 2498, 2499, 2500, 2501, 2502, 2503, 2508, 2509, 2512, 2513, 2514, 2515, 2518, 2519, 2521, 2522, 2523, 2524, 2525, 2526, 2527, 2528, 2529, 2530, 2531, 2532, 2533, 2534, 2535, 2536, 2537, 2539, 2540, 2541, 2542, 2543, 2544, 2545, 2546, 2551, 2552, 2554, 2557, 2558, 2559, 2560, 2561, 2563, 2565, 2567, 2569, 2570, 2571, 2573, 2574, 2575, 2576, 2577, 2578, 2579, 2580, 2581, 2582, 2583, 2585, 2586, 2588, 2591, 2592, 2593, 2594, 2595, 2596, 2598, 2601, 2602, 2603, 2604, 2606, 2609, 2610, 2612, 2613, 2616, 2617, 2618, 2619, 2620, 2621, 2622, 2623, 2624, 2625, 2626, 2627, 2628, 2629, 2630, 2631, 2632, 2633, 2634, 2636, 2637, 2642, 2643, 2644, 2645, 2646, 2647, 2648, 2650, 2651, 2653, 2656, 2658, 2660, 2661, 2662, 2663, 2664, 2665, 2666, 2667, 2668, 2670, 2671, 2672, 2673, 2674, 2677, 2679, 2680, 2681, 2682, 2683, 2684, 2686, 2687, 2688, 2691, 2696, 2697, 2698, 2699, 2700, 2701, 2702, 2703, 2704, 2705, 2706, 2708, 2709, 2710, 2711, 2713, 2714, 2715, 2716, 2717, 2718, 2719, 2720, 2722, 2723, 2724, 2726, 2727, 2728, 2729, 2731, 2732, 2733, 2734, 2735, 2736, 2737, 2738, 2739, 2740, 2741, 2743, 2744, 2745, 2746, 2748, 2749, 2750, 2751, 2752, 2753, 2755, 2756, 2759, 2760, 2762, 2763, 2764, 2765, 2766, 2767, 2769, 2770, 2771, 2772, 2775, 2776, 2780, 2781, 2782, 2783, 2784, 2785, 2787, 2789, 2790, 2792, 2793, 2794, 2795, 2796, 2797, 2799, 2800, 2801, 2803, 2806, 2807, 2809, 2810, 2811, 2812, 2814, 2815, 2816, 2817, 2818, 2819, 2822, 2823, 2824, 2825, 2826, 2827, 2828, 2829, 2830, 2831, 2832, 2833, 2834, 2835, 2836, 2837, 2839, 2840, 2841, 2842, 2843, 2844, 2845, 2848, 2849, 2850, 2851, 2853, 2854, 2856, 2857, 2858, 2859, 2860, 2861, 2862, 2863, 2864, 2865, 2866, 2867, 2868, 2869, 2870, 2871, 2872, 2873, 2874, 2875, 2876, 2877, 2878, 2879, 2880, 2881, 2882, 2884, 2885, 2887, 2889, 2890, 2891, 2892, 2893, 2894, 2895, 2896, 2897, 2898, 2899, 2900, 2901, 2903, 2904, 2905, 2906, 2909, 2910, 2911, 2912, 2913, 2915, 2916, 2917, 2918, 2919, 2920, 2921, 2922, 2923, 2924, 2925, 2926, 2927, 2928, 2929, 2930, 2931, 2932, 2933, 2934, 2935, 2936, 2937, 2938, 2939, 2940, 2941, 2943, 2944, 2945, 2946, 2947, 2948, 2949, 2950, 2953, 2954, 2955, 2956, 2957, 2958, 2959, 2960, 2961, 2962, 2963, 2964, 2965, 2966, 2968, 2969, 2970, 2971, 2972, 2973, 2974, 2975, 2976, 2977, 2978, 2979, 2980, 2981, 2982, 2983, 2984, 2985, 2986, 2987, 2988, 2989, 2990, 2992, 2993, 2994, 2995, 2996, 2997, 2998, 2999, 3000, 3001, 3002, 3004, 3005, 3006, 3007, 3009, 3010, 3011, 3012, 3013, 3014, 3015, 3016, 3017, 3018, 3020, 3021, 3022, 3023, 3024, 3025, 3026, 3028, 3029, 3030, 3031, 3034, 3035, 3037, 3038, 3039, 3042, 3043, 3046, 3047, 3048, 3049, 3050, 3051, 3052, 3054, 3055, 3056, 3057, 3058, 3060, 3061, 3062, 3063, 3065, 3066, 3067, 3068, 3069, 3070, 3071, 3072, 3073, 3074, 3075, 3076, 3077, 3078, 3079, 3080, 3081, 3082, 3083, 3085, 3086, 3087, 3088, 3089, 3090, 3091, 3093, 3096, 3098, 3099, 3100, 3101, 3102, 3103, 3104, 3105, 3107, 3108, 3109, 3110, 3111, 3113, 3115, 3116, 3117, 3118, 3119, 3120, 3121, 3122, 3123, 3124, 3125, 3126, 3127, 3128, 3129, 3130, 3131, 3132, 3133, 3134, 3135, 3136, 3137, 3138, 3139, 3140, 3142, 3143, 3145, 3146, 3147, 3148, 3149, 3150, 3152, 3153, 3155, 3156, 3157, 3159, 3160, 3161, 3163, 3164, 3165, 3167, 3168, 3169, 3170, 3171, 3172, 3173, 3174, 3175, 3176, 3177, 3178, 3179, 3180, 3181, 3182, 3184, 3185, 3187, 3188, 3189, 3191, 3192, 3193, 3194, 3195, 3196, 3198, 3200, 3201, 3202, 3203], 0: [5, 15, 26, 38, 41, 61, 77, 88, 94, 95, 107, 111, 125, 129, 130, 132, 133, 149, 174, 176, 178, 179, 180, 181, 183, 193, 199, 200, 219, 225, 244, 245, 285, 294, 303, 309, 310, 312, 324, 326, 330, 334, 339, 340, 341, 342, 343, 346, 347, 348, 351, 352, 353, 354, 356, 360, 362, 364, 367, 383, 384, 386, 387, 417, 418, 422, 423, 425, 449, 454, 455, 469, 470, 479, 483, 497, 502, 509, 514, 517, 518, 531, 533, 534, 535, 543, 555, 585, 624, 639, 642, 646, 658, 684, 687, 705, 735, 736, 737, 764, 777, 787, 803, 806, 810, 811, 818, 839, 841, 847, 868, 869, 883, 884, 893, 898, 902, 903, 932, 938, 949, 950, 966, 990, 991, 1014, 1022, 1027, 1028, 1030, 1038, 1041, 1054, 1077, 1078, 1100, 1108, 1109, 1110, 1111, 1129, 1138, 1146, 1155, 1191, 1195, 1196, 1215, 1221, 1241, 1273, 1277, 1283, 1298, 1299, 1312, 1315, 1316, 1345, 1354, 1370, 1372, 1385, 1386, 1387, 1392, 1400, 1402, 1405, 1437, 1439, 1440, 1449, 1479, 1494, 1509, 1510, 1511, 1523, 1524, 1535, 1546, 1554, 1556, 1561, 1566, 1577, 1585, 1595, 1597, 1598, 1606, 1619, 1632, 1634, 1639, 1642, 1643, 1644, 1666, 1667, 1668, 1671, 1678, 1688, 1714, 1733, 1743, 1757, 1761, 1762, 1765, 1777, 1778, 1783, 1788, 1789, 1797, 1798, 1799, 1802, 1805, 1813, 1814, 1815, 1817, 1818, 1831, 1836, 1847, 1848, 1858, 1865, 1874, 1879, 1887, 1892, 1895, 1896, 1897, 1903, 1912, 1916, 1920, 1931, 1939, 1940, 1941, 1943, 1945, 1954, 1957, 1976, 1985, 1986, 1992, 1994, 1998, 2009, 2010, 2011, 2012, 2013, 2026, 2048, 2074, 2075, 2090, 2093, 2097, 2099, 2100, 2101, 2110, 2118, 2128, 2135, 2157, 2158, 2170, 2182, 2189, 2204, 2205, 2206, 2211, 2223, 2228, 2237, 2247, 2258, 2265, 2267, 2280, 2281, 2283, 2290, 2323, 2331, 2335, 2351, 2352, 2361, 2363, 2364, 2365, 2384, 2390, 2393, 2394, 2402, 2407, 2417, 2427, 2430, 2439, 2457, 2462, 2467, 2473, 2486, 2506, 2511, 2520, 2538, 2550, 2566, 2568, 2584, 2587, 2599, 2600, 2605, 2611, 2614, 2641, 2649, 2652, 2657, 2659, 2669, 2675, 2693, 2707, 2758, 2761, 2774, 2778, 2808, 2846, 2886, 2902, 2951, 2952, 3019, 3044, 3045, 3092, 3097, 3106, 3141, 3199], 6: [47, 55, 113, 194, 210, 242, 336, 689, 720, 796, 945, 974, 982, 985, 1062, 1063, 1064, 1084, 1118, 1203, 1232, 1248, 1249, 1250, 1288, 1360, 1361, 1366, 1413, 1421, 1441, 1489, 1507, 1508, 1651, 1654, 1655, 1669, 1700, 1755, 1771, 1772, 1899, 1969, 1970, 2004, 2115, 2153, 2490, 2712, 2730, 2747, 2798, 2821, 2914, 3158, 3166], 2: [60, 69, 212, 255, 282, 284, 300, 314, 327, 349, 350, 365, 372, 474, 485, 494, 495, 507, 508, 515, 544, 557, 558, 565, 645, 659, 685, 691, 748, 749, 750, 763, 772, 776, 783, 805, 832, 844, 877, 895, 907, 931, 935, 936, 954, 955, 1036, 1046, 1126, 1282, 1284, 1285, 1290, 1422, 1492, 1500, 1575, 1576, 1617, 1661, 1695, 1706, 1774, 1790, 1820, 1863, 1875, 1881, 1886, 1909, 1923, 1953, 1962, 1967, 1978, 1997, 2038, 2042, 2054, 2057, 2080, 2098, 2123, 2198, 2212, 2233, 2334, 2391, 2404, 2415, 2418, 2441, 2505, 2553, 2556, 2590, 2694, 2757, 2768, 2777, 2779, 2786, 2804, 2805, 3084, 3114, 3151], 9: [171, 243, 246, 338, 344, 345, 388, 389, 424, 456, 467, 537, 538, 539, 547, 548, 549, 550, 561, 574, 588, 589, 590, 707, 709, 874, 875, 876, 882, 920, 975, 977, 1493, 1565, 1605, 1721, 1760, 1942, 1952, 1995, 2025, 2028, 2235, 2274, 2337, 2403, 2409, 2607, 2638], 5: [323, 427, 428, 445, 501, 586, 587, 613, 785, 833, 871, 873, 1019, 1057, 1076, 1091, 1272, 1297, 1351, 1418, 1445, 1446, 1447, 1521, 1572, 1599, 1730, 1856, 1857, 1871, 1882, 1894, 1902, 1981, 2007, 2008, 2039, 2047, 2070, 2071, 2073, 2142, 2238, 2240, 2241, 2242, 2243, 2329, 2346, 2349, 2353, 2354, 2392, 2414, 2459, 2464, 2549, 2639], 8: [1114, 1830, 1850, 1934, 1935, 1982, 2031, 2256, 2277, 2359, 2362, 2387, 2450, 2454, 2471, 2483, 2640, 2721, 2788, 2838, 2888, 2967, 2991, 3008, 3040, 3041, 3064, 3094, 3095, 3162], 3: [1156, 1292, 1376, 1419, 1536, 1537, 1538, 1630, 1647, 1662, 1673, 1690, 1713, 1715, 1759, 1793, 1811, 1837, 1839, 1840, 1873, 1893, 1929, 1932, 1966, 1980, 2056, 2088, 2114, 2119, 2121, 2122, 2239, 2248, 2249, 2260, 2275, 2332, 2333, 2348, 2426, 2461, 2547, 2548, 2564, 2635, 2685, 3036], 7: [1171, 1236, 1326, 1487, 1547, 1563, 1683, 1993, 2052, 2219, 2220, 2234, 2262, 2452, 2491, 2516, 2517, 2597, 2615, 2690, 2725, 2847, 2855, 3032, 3033, 3112]}\n"
          ]
        }
      ]
    },
    {
      "cell_type": "markdown",
      "metadata": {
        "id": "XYBzrzqK0myj"
      },
      "source": [
        "# Closed frequent itemset mining"
      ]
    },
    {
      "cell_type": "code",
      "metadata": {
        "colab": {
          "base_uri": "https://localhost:8080/"
        },
        "id": "05YKoDGv6_ox",
        "outputId": "d58092eb-bc08-4d20-f368-fc225afa7322"
      },
      "source": [
        "from sklearn.feature_extraction.text import TfidfTransformer\n",
        "from sklearn.feature_extraction.text import TfidfVectorizer\n",
        "\n",
        "docs = df['lemm'].to_list()\n",
        "tf = TfidfVectorizer(input=docs, analyzer='word', min_df = 0, stop_words = 'english', sublinear_tf=True)\n",
        "tfidf_matrix =  tf.fit_transform(docs)\n",
        "feature_names = tf.get_feature_names()\n",
        "\n",
        "tfidf_values = []\n",
        "for doc in range(0, len(docs)):\n",
        "    feature_index = tfidf_matrix[doc,:].nonzero()[1]\n",
        "    tfidf_scores = zip(feature_index, [tfidf_matrix[doc, x] for x in feature_index])\n",
        "    currSentence = []\n",
        "    for w, s in [(feature_names[i], s) for (i, s) in tfidf_scores]:\n",
        "        currSentence.append((w, s))\n",
        "    tfidf_values.append(currSentence)\n",
        "\n",
        "# tfidf_values = list of list of tuples of the form (word, TF-IDF score)\n",
        "tfidf_values[0]"
      ],
      "execution_count": null,
      "outputs": [
        {
          "output_type": "execute_result",
          "data": {
            "text/plain": [
              "[('pm', 0.0827946650123262),\n",
              " ('march', 0.09921226364900833),\n",
              " ('jb', 0.0644775952378536),\n",
              " ('ca', 0.06245552465435818),\n",
              " ('samelsonk', 0.5070973344977229),\n",
              " ('perlis', 0.3938201385883074),\n",
              " ('december', 0.19052257946899082),\n",
              " ('cacm', 0.06053660302440632),\n",
              " ('language', 0.18600307003633448),\n",
              " ('algebraic', 0.30992476766153665),\n",
              " ('reportinternational', 0.5070973344977229),\n",
              " ('preliminary', 0.36775013964140485)]"
            ]
          },
          "metadata": {},
          "execution_count": 19
        }
      ]
    },
    {
      "cell_type": "code",
      "metadata": {
        "id": "SQsDemKVB1P9",
        "colab": {
          "base_uri": "https://localhost:8080/"
        },
        "outputId": "01e219bd-ce3b-4b1d-d92b-f69a60257ce3"
      },
      "source": [
        "horizontalDatabase = []\n",
        "\n",
        "\n",
        "for i in range(0, len(result)):\n",
        "    currentCluster = {}\n",
        "    for j in range(0, len(result[i])):   \n",
        "        document = result[i][j]          # document id  \n",
        "        for k in range(0, len(tfidf_values[document])):\n",
        "            if tfidf_values[document][k][0] in currentCluster:\n",
        "                currentCluster[tfidf_values[document][k][0]].append(document)\n",
        "            else:\n",
        "                temp = [document]\n",
        "                currentCluster[tfidf_values[document][k][0]] = temp    \n",
        "    horizontalDatabase.append(currentCluster)\n",
        "print(len(horizontalDatabase))\n",
        "type(horizontalDatabase[0])\n",
        "# horizontalDatabase[0]"
      ],
      "execution_count": null,
      "outputs": [
        {
          "output_type": "stream",
          "name": "stdout",
          "text": [
            "10\n"
          ]
        },
        {
          "output_type": "execute_result",
          "data": {
            "text/plain": [
              "dict"
            ]
          },
          "metadata": {},
          "execution_count": 20
        }
      ]
    },
    {
      "cell_type": "code",
      "metadata": {
        "colab": {
          "base_uri": "https://localhost:8080/"
        },
        "id": "q9ZPZVcaCEtq",
        "outputId": "efcf4922-36cd-4fb4-c0fb-854a7369cf17"
      },
      "source": [
        "frequentPatterns = {}\n",
        "closedSet = []\n",
        "preSet = []\n",
        "postSet = []\n",
        "closedSetTids = set()\n",
        "closedCount = 0\n",
        "minSupport = 1\n",
        "clusterId = 1\n",
        "\n",
        "def isDup(newGenTids, preSet):\n",
        "    for j in preSet: \n",
        "        if(horizontalDatabase[clusterId].get(j) == None):\n",
        "            return False\n",
        "        if set(newGenTids).issubset(horizontalDatabase[clusterId].get(j)):          # Checkpoint\n",
        "            return True\n",
        "    return False\n",
        "\n",
        "def smallerAccToTotalOrder(i, j):\n",
        "    if(horizontalDatabase[clusterId].get(i) == None):\n",
        "        return True\n",
        "    if(horizontalDatabase[clusterId].get(j) == None):\n",
        "        return False\n",
        "    size1 = len(horizontalDatabase[clusterId].get(i))\n",
        "    size2 = len(horizontalDatabase[clusterId].get(j))\n",
        "    if size1 == size2:\n",
        "        if i < j:\n",
        "            return True\n",
        "        else:\n",
        "            return False\n",
        "    return size2 - size1 > 0\n",
        "\n",
        "def intersectTidSet(tidSet1, tidSet2):\n",
        "    tidSet = set()\n",
        "    if(len(tidSet1) > len(tidSet2)):\n",
        "        for tid in tidSet2:\n",
        "            if tid in tidSet1:\n",
        "                tidSet.add(tid)\n",
        "    else:\n",
        "        for tid in tidSet1:\n",
        "            if tid in tidSet2:\n",
        "                tidSet.add(tid)\n",
        "    return tidSet\n",
        "\n",
        "for c in range(0, len(horizontalDatabase)):\n",
        "    print(f'Cluster - {c}')\n",
        "    clusterId = c\n",
        "\n",
        "    maxItemId = len(horizontalDatabase[clusterId])\n",
        "    postSet = []\n",
        "    for i in horizontalDatabase[clusterId]:\n",
        "    #     print(i)\n",
        "        tidSet = horizontalDatabase[clusterId].get(i, None)\n",
        "        if (tidSet != None and len(tidSet) >= minSupport):\n",
        "            postSet.append(i)\n",
        "\n",
        "    def bySuppLex(item1, item2):\n",
        "        if(horizontalDatabase[clusterId].get(item1) == None):\n",
        "            return -1\n",
        "        if(horizontalDatabase[clusterId].get(item2) == None):\n",
        "            return 1\n",
        "        size1 = len(horizontalDatabase[clusterId].get(item1))\n",
        "        size2 = len(horizontalDatabase[clusterId].get(item2))\n",
        "        if(size1 == size2):\n",
        "            if item1 < item2:\n",
        "                return -1\n",
        "            else:\n",
        "                return 1\n",
        "        return size1 - size2\n",
        "\n",
        "    def cmp_to_key(myCompare):\n",
        "        class K:\n",
        "            def __init__(self, obj, *args):\n",
        "                self.obj = obj\n",
        "            def __lt__(self, other):\n",
        "                return myCompare(self.obj, other.obj) < 0\n",
        "            def __gt__(self, other):\n",
        "                return myCompare(self.obj, other.obj) > 0\n",
        "            def __eq__(self, other):\n",
        "                return myCompare(self.obj, other.obj) == 0\n",
        "            def __le__(self, other):\n",
        "                return myCompare(self.obj, other.obj) <= 0\n",
        "            def __ge__(self, other):\n",
        "                return myCompare(self.obj, other.obj) >= 0\n",
        "            def __ne__(self, other):\n",
        "                return myCompare(self.obj, other.obj) != 0\n",
        "        return K\n",
        "\n",
        "\n",
        "    postSet.sort(key = cmp_to_key(bySuppLex))\n",
        "    # print(postSet)\n",
        "    # print(\"preset: \", preSet)\n",
        "    print(f'Postset - {len(postSet)}')\n",
        "\n",
        "    def dci_closed(firstTime, closedSet, closedSetTids, postSet, preSet):\n",
        "        global closedCount\n",
        "        for i in postSet:\n",
        "                newGenTids = set()\n",
        "                if(firstTime):\n",
        "                    if(horizontalDatabase[clusterId].get(i) != None):  \n",
        "                        newGenTids = set(horizontalDatabase[clusterId].get(i))\n",
        "                else:\n",
        "                    newGenTids = intersectTidSet(closedSetTids, set(horizontalDatabase[clusterId].get(i)))    \n",
        "                if len(newGenTids) >= minSupport:\n",
        "                    newGen = []\n",
        "                    newGen = closedSet.copy()\n",
        "                    newGen.append(i)\n",
        "                    if(isDup(newGenTids, preSet) == False):\n",
        "                        closedSetNew = []\n",
        "                        closedSetNew = newGen.copy()\n",
        "                        closedSetNewTIDs = set()\n",
        "                        if firstTime:\n",
        "                            closedSetNewTIDs = set(horizontalDatabase[clusterId].get(i))\n",
        "                        else:\n",
        "                            for i in newGenTids:\n",
        "                                closedSetNewTIDs.add(i)      # Checkpoint\n",
        "                        postSetNew = []\n",
        "                        for j in postSet:\n",
        "                            if smallerAccToTotalOrder(i, j):\n",
        "                                if set(newGenTids).issubset(horizontalDatabase[clusterId].get(j)):\n",
        "                                    closedSetNew.append(j)\n",
        "                                    jTIDs = set(horizontalDatabase[clusterId].get(j))\n",
        "                                    it = iter(closedSetNewTIDs)\n",
        "                                    while it:\n",
        "                                        try:\n",
        "                                            tid = next(it)\n",
        "                                            if tid in jTIDs == False:\n",
        "                                                closedSetNewTIDs.remove(tid)\n",
        "                                        except StopIteration as e:\n",
        "                                            # print(e)\n",
        "                                            break\n",
        "                                else:\n",
        "                                    postSetNew.append(j)\n",
        "                        # print(closedSetNew, len(closedSetNewTIDs))\n",
        "                        if clusterId in frequentPatterns:\n",
        "                            frequentPatterns[clusterId].append(closedSetNew)\n",
        "                        else:\n",
        "                            temp = [closedSetNew]\n",
        "                            frequentPatterns[clusterId] = temp  \n",
        "                        \n",
        "                        #frequentPatterns.append(closedSetNew)\n",
        "                        closedCount = closedCount + 1\n",
        "                        preSetNew = preSet\n",
        "                        dci_closed(False, closedSetNew, closedSetNewTIDs, postSetNew, preSetNew)\n",
        "                        preSet.append(i)  \n",
        "\n",
        "    dci_closed(True, closedSet, closedSetTids, postSet, preSet)\n",
        "print(closedCount)\n",
        "print(frequentPatterns)\n"
      ],
      "execution_count": null,
      "outputs": [
        {
          "output_type": "stream",
          "name": "stdout",
          "text": [
            "Cluster - 0\n",
            "Postset - 5\n",
            "Cluster - 1\n",
            "Postset - 9\n",
            "Cluster - 2\n",
            "Postset - 81\n",
            "Cluster - 3\n",
            "Postset - 9\n",
            "Cluster - 4\n",
            "Postset - 7\n",
            "Cluster - 5\n",
            "Postset - 16\n",
            "Cluster - 6\n",
            "Postset - 7\n",
            "Cluster - 7\n",
            "Postset - 4\n",
            "Cluster - 8\n",
            "Postset - 75\n",
            "Cluster - 9\n",
            "Postset - 20\n",
            "3278\n",
            "{0: [['integration', 'ca', 'cacm', 'jb'], ['algorithm', 'cacm', 'jb'], ['algorithm', 'cacm', 'jb', 'ca', 'ca'], ['ca', 'cacm', 'jb'], ['cacm', 'jb'], ['jb']], 1: [['february', 'jb', 'cacm'], ['february', 'jb', 'cacm', 'ca', 'ca'], ['october', 'cacm'], ['october', 'cacm', 'march', 'march', 'pm'], ['october', 'cacm', 'march', 'march', 'pm', 'ca', 'ca', 'jb'], ['october', 'cacm', 'march', 'march', 'pm', 'jb', 'jb'], ['october', 'cacm', 'march', 'march', 'pm', 'jb', 'jb', 'ca', 'ca'], ['october', 'cacm', 'algorithm', 'algorithm'], ['october', 'cacm', 'algorithm', 'algorithm', 'ca', 'ca', 'jb'], ['october', 'cacm', 'algorithm', 'algorithm', 'jb', 'jb'], ['october', 'cacm', 'algorithm', 'algorithm', 'jb', 'jb', 'ca', 'ca'], ['october', 'cacm', 'pm', 'pm'], ['october', 'cacm', 'pm', 'pm', 'march', 'march'], ['october', 'cacm', 'pm', 'pm', 'march', 'march', 'ca', 'ca', 'jb'], ['october', 'cacm', 'pm', 'pm', 'march', 'march', 'jb', 'jb'], ['october', 'cacm', 'pm', 'pm', 'march', 'march', 'jb', 'jb', 'ca', 'ca'], ['october', 'cacm', 'pm', 'pm', 'ca', 'ca', 'jb'], ['october', 'cacm', 'pm', 'pm', 'ca', 'ca', 'jb', 'march', 'march'], ['october', 'cacm', 'pm', 'pm', 'jb', 'jb'], ['october', 'cacm', 'pm', 'pm', 'jb', 'jb', 'march', 'march'], ['october', 'cacm', 'pm', 'pm', 'jb', 'jb', 'march', 'march', 'ca', 'ca'], ['october', 'cacm', 'pm', 'pm', 'jb', 'jb', 'ca', 'ca'], ['october', 'cacm', 'pm', 'pm', 'jb', 'jb', 'ca', 'ca', 'march', 'march'], ['october', 'cacm', 'ca', 'ca', 'jb'], ['october', 'cacm', 'ca', 'ca', 'jb', 'march', 'march', 'pm'], ['october', 'cacm', 'ca', 'ca', 'jb', 'algorithm', 'algorithm'], ['october', 'cacm', 'ca', 'ca', 'jb', 'pm', 'pm'], ['october', 'cacm', 'ca', 'ca', 'jb', 'pm', 'pm', 'march', 'march'], ['october', 'cacm', 'jb', 'jb'], ['october', 'cacm', 'jb', 'jb', 'march', 'march', 'pm'], ['october', 'cacm', 'jb', 'jb', 'march', 'march', 'pm', 'ca', 'ca'], ['october', 'cacm', 'jb', 'jb', 'algorithm', 'algorithm'], ['october', 'cacm', 'jb', 'jb', 'algorithm', 'algorithm', 'ca', 'ca'], ['october', 'cacm', 'jb', 'jb', 'pm', 'pm'], ['october', 'cacm', 'jb', 'jb', 'pm', 'pm', 'march', 'march'], ['october', 'cacm', 'jb', 'jb', 'pm', 'pm', 'march', 'march', 'ca', 'ca'], ['october', 'cacm', 'jb', 'jb', 'pm', 'pm', 'ca', 'ca'], ['october', 'cacm', 'jb', 'jb', 'pm', 'pm', 'ca', 'ca', 'march', 'march'], ['october', 'cacm', 'jb', 'jb', 'ca', 'ca'], ['october', 'cacm', 'jb', 'jb', 'ca', 'ca', 'march', 'march', 'pm'], ['october', 'cacm', 'jb', 'jb', 'ca', 'ca', 'algorithm', 'algorithm'], ['october', 'cacm', 'jb', 'jb', 'ca', 'ca', 'pm', 'pm'], ['october', 'cacm', 'jb', 'jb', 'ca', 'ca', 'pm', 'pm', 'march', 'march'], ['function', 'cacm'], ['function', 'cacm', 'march', 'march'], ['function', 'cacm', 'march', 'march', 'algorithm', 'algorithm'], ['function', 'cacm', 'march', 'march', 'algorithm', 'algorithm', 'jb', 'jb'], ['function', 'cacm', 'march', 'march', 'pm', 'pm'], ['function', 'cacm', 'march', 'march', 'pm', 'pm', 'ca', 'ca', 'jb'], ['function', 'cacm', 'march', 'march', 'pm', 'pm', 'jb', 'jb'], ['function', 'cacm', 'march', 'march', 'pm', 'pm', 'jb', 'jb', 'ca', 'ca'], ['function', 'cacm', 'march', 'march', 'ca', 'ca', 'jb'], ['function', 'cacm', 'march', 'march', 'ca', 'ca', 'jb', 'pm', 'pm'], ['function', 'cacm', 'march', 'march', 'jb', 'jb'], ['function', 'cacm', 'march', 'march', 'jb', 'jb', 'algorithm', 'algorithm'], ['function', 'cacm', 'march', 'march', 'jb', 'jb', 'pm', 'pm'], ['function', 'cacm', 'march', 'march', 'jb', 'jb', 'pm', 'pm', 'ca', 'ca'], ['function', 'cacm', 'march', 'march', 'jb', 'jb', 'ca', 'ca'], ['function', 'cacm', 'march', 'march', 'jb', 'jb', 'ca', 'ca', 'pm', 'pm'], ['function', 'cacm', 'algorithm', 'algorithm'], ['function', 'cacm', 'algorithm', 'algorithm', 'march', 'march'], ['function', 'cacm', 'algorithm', 'algorithm', 'march', 'march', 'jb', 'jb'], ['function', 'cacm', 'algorithm', 'algorithm', 'pm', 'pm'], ['function', 'cacm', 'algorithm', 'algorithm', 'pm', 'pm', 'ca', 'ca', 'jb'], ['function', 'cacm', 'algorithm', 'algorithm', 'pm', 'pm', 'jb', 'jb'], ['function', 'cacm', 'algorithm', 'algorithm', 'pm', 'pm', 'jb', 'jb', 'ca', 'ca'], ['function', 'cacm', 'algorithm', 'algorithm', 'ca', 'ca', 'jb'], ['function', 'cacm', 'algorithm', 'algorithm', 'ca', 'ca', 'jb', 'pm', 'pm'], ['function', 'cacm', 'algorithm', 'algorithm', 'jb', 'jb'], ['function', 'cacm', 'algorithm', 'algorithm', 'jb', 'jb', 'march', 'march'], ['function', 'cacm', 'algorithm', 'algorithm', 'jb', 'jb', 'pm', 'pm'], ['function', 'cacm', 'algorithm', 'algorithm', 'jb', 'jb', 'pm', 'pm', 'ca', 'ca'], ['function', 'cacm', 'algorithm', 'algorithm', 'jb', 'jb', 'ca', 'ca'], ['function', 'cacm', 'algorithm', 'algorithm', 'jb', 'jb', 'ca', 'ca', 'pm', 'pm'], ['function', 'cacm', 'pm', 'pm'], ['function', 'cacm', 'pm', 'pm', 'march', 'march'], ['function', 'cacm', 'pm', 'pm', 'march', 'march', 'ca', 'ca', 'jb'], ['function', 'cacm', 'pm', 'pm', 'march', 'march', 'jb', 'jb'], ['function', 'cacm', 'pm', 'pm', 'march', 'march', 'jb', 'jb', 'ca', 'ca'], ['function', 'cacm', 'pm', 'pm', 'algorithm', 'algorithm'], ['function', 'cacm', 'pm', 'pm', 'algorithm', 'algorithm', 'ca', 'ca', 'jb'], ['function', 'cacm', 'pm', 'pm', 'algorithm', 'algorithm', 'jb', 'jb'], ['function', 'cacm', 'pm', 'pm', 'algorithm', 'algorithm', 'jb', 'jb', 'ca', 'ca'], ['function', 'cacm', 'pm', 'pm', 'ca', 'ca', 'jb'], ['function', 'cacm', 'pm', 'pm', 'ca', 'ca', 'jb', 'march', 'march'], ['function', 'cacm', 'pm', 'pm', 'ca', 'ca', 'jb', 'algorithm', 'algorithm'], ['function', 'cacm', 'pm', 'pm', 'jb', 'jb'], ['function', 'cacm', 'pm', 'pm', 'jb', 'jb', 'march', 'march'], ['function', 'cacm', 'pm', 'pm', 'jb', 'jb', 'march', 'march', 'ca', 'ca'], ['function', 'cacm', 'pm', 'pm', 'jb', 'jb', 'algorithm', 'algorithm'], ['function', 'cacm', 'pm', 'pm', 'jb', 'jb', 'algorithm', 'algorithm', 'ca', 'ca'], ['function', 'cacm', 'pm', 'pm', 'jb', 'jb', 'ca', 'ca'], ['function', 'cacm', 'pm', 'pm', 'jb', 'jb', 'ca', 'ca', 'march', 'march'], ['function', 'cacm', 'pm', 'pm', 'jb', 'jb', 'ca', 'ca', 'algorithm', 'algorithm'], ['function', 'cacm', 'ca', 'ca', 'jb'], ['function', 'cacm', 'ca', 'ca', 'jb', 'march', 'march'], ['function', 'cacm', 'ca', 'ca', 'jb', 'march', 'march', 'pm', 'pm'], ['function', 'cacm', 'ca', 'ca', 'jb', 'algorithm', 'algorithm'], ['function', 'cacm', 'ca', 'ca', 'jb', 'algorithm', 'algorithm', 'pm', 'pm'], ['function', 'cacm', 'ca', 'ca', 'jb', 'pm', 'pm'], ['function', 'cacm', 'ca', 'ca', 'jb', 'pm', 'pm', 'march', 'march'], ['function', 'cacm', 'ca', 'ca', 'jb', 'pm', 'pm', 'algorithm', 'algorithm'], ['function', 'cacm', 'jb', 'jb'], ['function', 'cacm', 'jb', 'jb', 'march', 'march'], ['function', 'cacm', 'jb', 'jb', 'march', 'march', 'algorithm', 'algorithm'], ['function', 'cacm', 'jb', 'jb', 'march', 'march', 'pm', 'pm'], ['function', 'cacm', 'jb', 'jb', 'march', 'march', 'pm', 'pm', 'ca', 'ca'], ['function', 'cacm', 'jb', 'jb', 'march', 'march', 'ca', 'ca'], ['function', 'cacm', 'jb', 'jb', 'march', 'march', 'ca', 'ca', 'pm', 'pm'], ['function', 'cacm', 'jb', 'jb', 'algorithm', 'algorithm'], ['function', 'cacm', 'jb', 'jb', 'algorithm', 'algorithm', 'march', 'march'], ['function', 'cacm', 'jb', 'jb', 'algorithm', 'algorithm', 'pm', 'pm'], ['function', 'cacm', 'jb', 'jb', 'algorithm', 'algorithm', 'pm', 'pm', 'ca', 'ca'], ['function', 'cacm', 'jb', 'jb', 'algorithm', 'algorithm', 'ca', 'ca'], ['function', 'cacm', 'jb', 'jb', 'algorithm', 'algorithm', 'ca', 'ca', 'pm', 'pm'], ['function', 'cacm', 'jb', 'jb', 'pm', 'pm'], ['function', 'cacm', 'jb', 'jb', 'pm', 'pm', 'march', 'march'], ['function', 'cacm', 'jb', 'jb', 'pm', 'pm', 'march', 'march', 'ca', 'ca'], ['function', 'cacm', 'jb', 'jb', 'pm', 'pm', 'algorithm', 'algorithm'], ['function', 'cacm', 'jb', 'jb', 'pm', 'pm', 'algorithm', 'algorithm', 'ca', 'ca'], ['function', 'cacm', 'jb', 'jb', 'pm', 'pm', 'ca', 'ca'], ['function', 'cacm', 'jb', 'jb', 'pm', 'pm', 'ca', 'ca', 'march', 'march'], ['function', 'cacm', 'jb', 'jb', 'pm', 'pm', 'ca', 'ca', 'algorithm', 'algorithm'], ['function', 'cacm', 'jb', 'jb', 'ca', 'ca'], ['function', 'cacm', 'jb', 'jb', 'ca', 'ca', 'march', 'march'], ['function', 'cacm', 'jb', 'jb', 'ca', 'ca', 'march', 'march', 'pm', 'pm'], ['function', 'cacm', 'jb', 'jb', 'ca', 'ca', 'algorithm', 'algorithm'], ['function', 'cacm', 'jb', 'jb', 'ca', 'ca', 'algorithm', 'algorithm', 'pm', 'pm'], ['function', 'cacm', 'jb', 'jb', 'ca', 'ca', 'pm', 'pm'], ['function', 'cacm', 'jb', 'jb', 'ca', 'ca', 'pm', 'pm', 'march', 'march'], ['function', 'cacm', 'jb', 'jb', 'ca', 'ca', 'pm', 'pm', 'algorithm', 'algorithm'], ['march', 'cacm'], ['march', 'cacm', 'algorithm', 'algorithm'], ['march', 'cacm', 'algorithm', 'algorithm', 'pm', 'pm'], ['march', 'cacm', 'algorithm', 'algorithm', 'pm', 'pm', 'ca', 'ca', 'jb'], ['march', 'cacm', 'algorithm', 'algorithm', 'pm', 'pm', 'jb', 'jb'], ['march', 'cacm', 'algorithm', 'algorithm', 'pm', 'pm', 'jb', 'jb', 'ca', 'ca'], ['march', 'cacm', 'algorithm', 'algorithm', 'ca', 'ca', 'jb'], ['march', 'cacm', 'algorithm', 'algorithm', 'ca', 'ca', 'jb', 'pm', 'pm'], ['march', 'cacm', 'algorithm', 'algorithm', 'jb', 'jb'], ['march', 'cacm', 'algorithm', 'algorithm', 'jb', 'jb', 'pm', 'pm'], ['march', 'cacm', 'algorithm', 'algorithm', 'jb', 'jb', 'pm', 'pm', 'ca', 'ca'], ['march', 'cacm', 'algorithm', 'algorithm', 'jb', 'jb', 'ca', 'ca'], ['march', 'cacm', 'algorithm', 'algorithm', 'jb', 'jb', 'ca', 'ca', 'pm', 'pm'], ['march', 'cacm', 'pm', 'pm'], ['march', 'cacm', 'pm', 'pm', 'algorithm', 'algorithm'], ['march', 'cacm', 'pm', 'pm', 'algorithm', 'algorithm', 'ca', 'ca', 'jb'], ['march', 'cacm', 'pm', 'pm', 'algorithm', 'algorithm', 'jb', 'jb'], ['march', 'cacm', 'pm', 'pm', 'algorithm', 'algorithm', 'jb', 'jb', 'ca', 'ca'], ['march', 'cacm', 'pm', 'pm', 'ca', 'ca', 'jb'], ['march', 'cacm', 'pm', 'pm', 'ca', 'ca', 'jb', 'algorithm', 'algorithm'], ['march', 'cacm', 'pm', 'pm', 'jb', 'jb'], ['march', 'cacm', 'pm', 'pm', 'jb', 'jb', 'algorithm', 'algorithm'], ['march', 'cacm', 'pm', 'pm', 'jb', 'jb', 'algorithm', 'algorithm', 'ca', 'ca'], ['march', 'cacm', 'pm', 'pm', 'jb', 'jb', 'ca', 'ca'], ['march', 'cacm', 'pm', 'pm', 'jb', 'jb', 'ca', 'ca', 'algorithm', 'algorithm'], ['march', 'cacm', 'ca', 'ca', 'jb'], ['march', 'cacm', 'ca', 'ca', 'jb', 'algorithm', 'algorithm'], ['march', 'cacm', 'ca', 'ca', 'jb', 'algorithm', 'algorithm', 'pm', 'pm'], ['march', 'cacm', 'ca', 'ca', 'jb', 'pm', 'pm'], ['march', 'cacm', 'ca', 'ca', 'jb', 'pm', 'pm', 'algorithm', 'algorithm'], ['march', 'cacm', 'jb', 'jb'], ['march', 'cacm', 'jb', 'jb', 'algorithm', 'algorithm'], ['march', 'cacm', 'jb', 'jb', 'algorithm', 'algorithm', 'pm', 'pm'], ['march', 'cacm', 'jb', 'jb', 'algorithm', 'algorithm', 'pm', 'pm', 'ca', 'ca'], ['march', 'cacm', 'jb', 'jb', 'algorithm', 'algorithm', 'ca', 'ca'], ['march', 'cacm', 'jb', 'jb', 'algorithm', 'algorithm', 'ca', 'ca', 'pm', 'pm'], ['march', 'cacm', 'jb', 'jb', 'pm', 'pm'], ['march', 'cacm', 'jb', 'jb', 'pm', 'pm', 'algorithm', 'algorithm'], ['march', 'cacm', 'jb', 'jb', 'pm', 'pm', 'algorithm', 'algorithm', 'ca', 'ca'], ['march', 'cacm', 'jb', 'jb', 'pm', 'pm', 'ca', 'ca'], ['march', 'cacm', 'jb', 'jb', 'pm', 'pm', 'ca', 'ca', 'algorithm', 'algorithm'], ['march', 'cacm', 'jb', 'jb', 'ca', 'ca'], ['march', 'cacm', 'jb', 'jb', 'ca', 'ca', 'algorithm', 'algorithm'], ['march', 'cacm', 'jb', 'jb', 'ca', 'ca', 'algorithm', 'algorithm', 'pm', 'pm'], ['march', 'cacm', 'jb', 'jb', 'ca', 'ca', 'pm', 'pm'], ['march', 'cacm', 'jb', 'jb', 'ca', 'ca', 'pm', 'pm', 'algorithm', 'algorithm'], ['algorithm', 'cacm'], ['algorithm', 'cacm', 'pm', 'pm'], ['algorithm', 'cacm', 'pm', 'pm', 'ca', 'ca', 'jb'], ['algorithm', 'cacm', 'pm', 'pm', 'jb', 'jb'], ['algorithm', 'cacm', 'pm', 'pm', 'jb', 'jb', 'ca', 'ca'], ['algorithm', 'cacm', 'ca', 'ca', 'jb'], ['algorithm', 'cacm', 'ca', 'ca', 'jb', 'pm', 'pm'], ['algorithm', 'cacm', 'jb', 'jb'], ['algorithm', 'cacm', 'jb', 'jb', 'pm', 'pm'], ['algorithm', 'cacm', 'jb', 'jb', 'pm', 'pm', 'ca', 'ca'], ['algorithm', 'cacm', 'jb', 'jb', 'ca', 'ca'], ['algorithm', 'cacm', 'jb', 'jb', 'ca', 'ca', 'pm', 'pm'], ['pm', 'cacm'], ['pm', 'cacm', 'ca', 'ca', 'jb'], ['pm', 'cacm', 'jb', 'jb'], ['pm', 'cacm', 'jb', 'jb', 'ca', 'ca'], ['ca', 'jb', 'cacm'], ['jb', 'cacm'], ['cacm']], 2: [['input', 'cacm'], ['simulation', 'cacm'], ['september', 'cacm'], ['september', 'cacm', 'ca', 'ca'], ['software', 'cacm'], ['software', 'cacm', 'ca', 'ca'], ['various', 'ca', 'cacm'], ['cost', 'ca', 'cacm'], ['november', 'ca', 'cacm'], ['feature', 'ca', 'cacm'], ['feature', 'ca', 'cacm', 'jb', 'jb'], ['possible', 'cacm'], ['possible', 'cacm', 'ca', 'ca'], ['science', 'ca', 'cacm'], ['science', 'ca', 'cacm', 'computer', 'computer'], ['simple', 'ca', 'cacm'], ['characteristic', 'cacm'], ['characteristic', 'cacm', 'ca', 'ca'], ['computing', 'ca', 'cacm'], ['june', 'ca', 'cacm'], ['retrieval', 'ca', 'cacm'], ['retrieval', 'ca', 'cacm', 'jb', 'jb'], ['approach', 'ca', 'cacm'], ['approach', 'ca', 'cacm', 'jb', 'jb'], ['concept', 'cacm'], ['concept', 'cacm', 'jb', 'jb', 'ca'], ['concept', 'cacm', 'ca', 'ca'], ['concept', 'cacm', 'ca', 'ca', 'jb', 'jb'], ['example', 'ca', 'cacm'], ['present', 'ca', 'cacm'], ['present', 'ca', 'cacm', 'jb', 'jb'], ['new', 'cacm'], ['new', 'cacm', 'jb', 'jb', 'ca'], ['new', 'cacm', 'ca', 'ca'], ['new', 'cacm', 'ca', 'ca', 'jb', 'jb'], ['study', 'ca', 'cacm'], ['study', 'ca', 'cacm', 'jb', 'jb'], ['based', 'cacm'], ['based', 'cacm', 'jb', 'jb', 'ca'], ['based', 'cacm', 'ca', 'ca'], ['based', 'cacm', 'ca', 'ca', 'jb', 'jb'], ['timesharing', 'cacm'], ['timesharing', 'cacm', 'jb', 'jb', 'ca'], ['timesharing', 'cacm', 'ca', 'ca'], ['timesharing', 'cacm', 'ca', 'ca', 'jb', 'jb'], ['multiprogramming', 'ca', 'cacm'], ['multiprogramming', 'ca', 'cacm', 'jb', 'jb'], ['april', 'ca', 'cacm'], ['april', 'ca', 'cacm', 'jb', 'jb'], ['function', 'cacm'], ['function', 'cacm', 'jb', 'jb', 'ca'], ['function', 'cacm', 'ca', 'ca'], ['function', 'cacm', 'ca', 'ca', 'jb', 'jb'], ['allocation', 'ca', 'cacm'], ['allocation', 'ca', 'cacm', 'jb', 'jb'], ['development', 'ca', 'cacm'], ['development', 'ca', 'cacm', 'jb', 'jb'], ['developed', 'ca', 'cacm'], ['developed', 'ca', 'cacm', 'jb', 'jb'], ['organization', 'cacm'], ['organization', 'cacm', 'jb', 'jb', 'ca'], ['organization', 'cacm', 'ca', 'ca'], ['organization', 'cacm', 'ca', 'ca', 'jb', 'jb'], ['operation', 'cacm'], ['operation', 'cacm', 'jb', 'jb', 'ca'], ['operation', 'cacm', 'ca', 'ca'], ['operation', 'cacm', 'ca', 'ca', 'jb', 'jb'], ['implementation', 'cacm'], ['implementation', 'cacm', 'jb', 'jb', 'ca'], ['implementation', 'cacm', 'ca', 'ca'], ['implementation', 'cacm', 'ca', 'ca', 'jb', 'jb'], ['july', 'ca', 'cacm'], ['july', 'ca', 'cacm', 'jb', 'jb'], ['machine', 'ca', 'cacm'], ['machine', 'ca', 'cacm', 'jb', 'jb'], ['algorithm', 'cacm'], ['algorithm', 'cacm', 'jb', 'jb', 'ca'], ['algorithm', 'cacm', 'ca', 'ca'], ['algorithm', 'cacm', 'ca', 'ca', 'jb', 'jb'], ['large', 'ca', 'cacm'], ['large', 'ca', 'cacm', 'jb', 'jb'], ['performance', 'cacm'], ['performance', 'cacm', 'jb', 'jb', 'ca'], ['performance', 'cacm', 'ca', 'ca'], ['performance', 'cacm', 'ca', 'ca', 'jb', 'jb'], ['language', 'ca', 'cacm'], ['language', 'ca', 'cacm', 'pm', 'pm'], ['language', 'ca', 'cacm', 'pm', 'pm', 'jb', 'jb'], ['language', 'ca', 'cacm', 'jb', 'jb'], ['language', 'ca', 'cacm', 'jb', 'jb', 'pm', 'pm'], ['number', 'ca', 'cacm'], ['number', 'ca', 'cacm', 'jb', 'jb'], ['set', 'ca', 'cacm'], ['set', 'ca', 'cacm', 'jb', 'jb'], ['management', 'ca', 'cacm'], ['management', 'ca', 'cacm', 'jb', 'jb'], ['file', 'ca', 'cacm'], ['file', 'ca', 'cacm', 'jb', 'jb'], ['method', 'ca', 'cacm'], ['method', 'ca', 'cacm', 'pm', 'pm'], ['method', 'ca', 'cacm', 'pm', 'pm', 'jb', 'jb'], ['method', 'ca', 'cacm', 'jb', 'jb'], ['method', 'ca', 'cacm', 'jb', 'jb', 'pm', 'pm'], ['application', 'cacm'], ['application', 'cacm', 'computer', 'computer'], ['application', 'cacm', 'pm', 'pm'], ['application', 'cacm', 'pm', 'pm', 'jb', 'jb', 'ca'], ['application', 'cacm', 'pm', 'pm', 'ca', 'ca'], ['application', 'cacm', 'pm', 'pm', 'ca', 'ca', 'jb', 'jb'], ['application', 'cacm', 'jb', 'jb', 'ca'], ['application', 'cacm', 'jb', 'jb', 'ca', 'pm', 'pm'], ['application', 'cacm', 'ca', 'ca'], ['application', 'cacm', 'ca', 'ca', 'pm', 'pm'], ['application', 'cacm', 'ca', 'ca', 'pm', 'pm', 'jb', 'jb'], ['application', 'cacm', 'ca', 'ca', 'jb', 'jb'], ['application', 'cacm', 'ca', 'ca', 'jb', 'jb', 'pm', 'pm'], ['general', 'ca', 'cacm'], ['general', 'ca', 'cacm', 'jb', 'jb'], ['structure', 'ca', 'cacm'], ['structure', 'ca', 'cacm', 'pm', 'pm'], ['structure', 'ca', 'cacm', 'jb', 'jb'], ['control', 'cacm'], ['control', 'cacm', 'pm', 'pm'], ['control', 'cacm', 'pm', 'pm', 'jb', 'jb', 'ca'], ['control', 'cacm', 'pm', 'pm', 'ca', 'ca'], ['control', 'cacm', 'pm', 'pm', 'ca', 'ca', 'jb', 'jb'], ['control', 'cacm', 'jb', 'jb', 'ca'], ['control', 'cacm', 'jb', 'jb', 'ca', 'pm', 'pm'], ['control', 'cacm', 'ca', 'ca'], ['control', 'cacm', 'ca', 'ca', 'pm', 'pm'], ['control', 'cacm', 'ca', 'ca', 'pm', 'pm', 'jb', 'jb'], ['control', 'cacm', 'ca', 'ca', 'jb', 'jb'], ['control', 'cacm', 'ca', 'ca', 'jb', 'jb', 'pm', 'pm'], ['process', 'cacm'], ['process', 'cacm', 'pm', 'pm'], ['process', 'cacm', 'pm', 'pm', 'jb', 'jb', 'ca'], ['process', 'cacm', 'pm', 'pm', 'ca', 'ca'], ['process', 'cacm', 'pm', 'pm', 'ca', 'ca', 'jb', 'jb'], ['process', 'cacm', 'jb', 'jb', 'ca'], ['process', 'cacm', 'jb', 'jb', 'ca', 'pm', 'pm'], ['process', 'cacm', 'ca', 'ca'], ['process', 'cacm', 'ca', 'ca', 'pm', 'pm'], ['process', 'cacm', 'ca', 'ca', 'pm', 'pm', 'jb', 'jb'], ['process', 'cacm', 'ca', 'ca', 'jb', 'jb'], ['process', 'cacm', 'ca', 'ca', 'jb', 'jb', 'pm', 'pm'], ['using', 'cacm'], ['using', 'cacm', 'computer', 'computer', 'ca'], ['using', 'cacm', 'computer', 'computer', 'ca', 'jb', 'jb'], ['using', 'cacm', 'pm', 'pm'], ['using', 'cacm', 'pm', 'pm', 'jb', 'jb', 'ca'], ['using', 'cacm', 'pm', 'pm', 'ca', 'ca'], ['using', 'cacm', 'pm', 'pm', 'ca', 'ca', 'jb', 'jb'], ['using', 'cacm', 'jb', 'jb', 'ca'], ['using', 'cacm', 'jb', 'jb', 'ca', 'computer', 'computer'], ['using', 'cacm', 'jb', 'jb', 'ca', 'pm', 'pm'], ['using', 'cacm', 'ca', 'ca'], ['using', 'cacm', 'ca', 'ca', 'computer', 'computer'], ['using', 'cacm', 'ca', 'ca', 'computer', 'computer', 'jb', 'jb'], ['using', 'cacm', 'ca', 'ca', 'pm', 'pm'], ['using', 'cacm', 'ca', 'ca', 'pm', 'pm', 'jb', 'jb'], ['using', 'cacm', 'ca', 'ca', 'jb', 'jb'], ['using', 'cacm', 'ca', 'ca', 'jb', 'jb', 'computer', 'computer'], ['using', 'cacm', 'ca', 'ca', 'jb', 'jb', 'pm', 'pm'], ['user', 'ca', 'cacm'], ['user', 'ca', 'cacm', 'computer', 'computer'], ['user', 'ca', 'cacm', 'computer', 'computer', 'jb', 'jb'], ['user', 'ca', 'cacm', 'pm', 'pm'], ['user', 'ca', 'cacm', 'pm', 'pm', 'jb', 'jb'], ['user', 'ca', 'cacm', 'jb', 'jb'], ['user', 'ca', 'cacm', 'jb', 'jb', 'computer', 'computer'], ['user', 'ca', 'cacm', 'jb', 'jb', 'pm', 'pm'], ['analysis', 'cacm'], ['analysis', 'cacm', 'pm', 'pm'], ['analysis', 'cacm', 'pm', 'pm', 'ca', 'ca'], ['analysis', 'cacm', 'jb', 'jb', 'ca'], ['analysis', 'cacm', 'ca', 'ca'], ['analysis', 'cacm', 'ca', 'ca', 'pm', 'pm'], ['analysis', 'cacm', 'ca', 'ca', 'jb', 'jb'], ['memory', 'cacm'], ['memory', 'cacm', 'computer', 'computer', 'ca'], ['memory', 'cacm', 'pm', 'pm'], ['memory', 'cacm', 'pm', 'pm', 'jb', 'jb', 'ca'], ['memory', 'cacm', 'pm', 'pm', 'ca', 'ca'], ['memory', 'cacm', 'pm', 'pm', 'ca', 'ca', 'jb', 'jb'], ['memory', 'cacm', 'jb', 'jb', 'ca'], ['memory', 'cacm', 'jb', 'jb', 'ca', 'pm', 'pm'], ['memory', 'cacm', 'ca', 'ca'], ['memory', 'cacm', 'ca', 'ca', 'computer', 'computer'], ['memory', 'cacm', 'ca', 'ca', 'pm', 'pm'], ['memory', 'cacm', 'ca', 'ca', 'pm', 'pm', 'jb', 'jb'], ['memory', 'cacm', 'ca', 'ca', 'jb', 'jb'], ['memory', 'cacm', 'ca', 'ca', 'jb', 'jb', 'pm', 'pm'], ['december', 'cacm'], ['december', 'cacm', 'computer', 'computer', 'ca'], ['december', 'cacm', 'pm', 'pm'], ['december', 'cacm', 'pm', 'pm', 'jb', 'jb', 'ca'], ['december', 'cacm', 'pm', 'pm', 'ca', 'ca'], ['december', 'cacm', 'pm', 'pm', 'ca', 'ca', 'jb', 'jb'], ['december', 'cacm', 'jb', 'jb', 'ca'], ['december', 'cacm', 'jb', 'jb', 'ca', 'pm', 'pm'], ['december', 'cacm', 'ca', 'ca'], ['december', 'cacm', 'ca', 'ca', 'computer', 'computer'], ['december', 'cacm', 'ca', 'ca', 'pm', 'pm'], ['december', 'cacm', 'ca', 'ca', 'pm', 'pm', 'jb', 'jb'], ['december', 'cacm', 'ca', 'ca', 'jb', 'jb'], ['december', 'cacm', 'ca', 'ca', 'jb', 'jb', 'pm', 'pm'], ['operating', 'ca', 'cacm'], ['operating', 'ca', 'cacm', 'program', 'program'], ['operating', 'ca', 'cacm', 'pm', 'pm'], ['operating', 'ca', 'cacm', 'pm', 'pm', 'jb', 'jb'], ['operating', 'ca', 'cacm', 'jb', 'jb'], ['operating', 'ca', 'cacm', 'jb', 'jb', 'pm', 'pm'], ['result', 'cacm'], ['result', 'cacm', 'computer', 'computer'], ['result', 'cacm', 'computer', 'computer', 'ca', 'ca'], ['result', 'cacm', 'pm', 'pm'], ['result', 'cacm', 'pm', 'pm', 'jb', 'jb', 'ca'], ['result', 'cacm', 'pm', 'pm', 'ca', 'ca'], ['result', 'cacm', 'pm', 'pm', 'ca', 'ca', 'jb', 'jb'], ['result', 'cacm', 'jb', 'jb', 'ca'], ['result', 'cacm', 'jb', 'jb', 'ca', 'pm', 'pm'], ['result', 'cacm', 'ca', 'ca'], ['result', 'cacm', 'ca', 'ca', 'computer', 'computer'], ['result', 'cacm', 'ca', 'ca', 'pm', 'pm'], ['result', 'cacm', 'ca', 'ca', 'pm', 'pm', 'jb', 'jb'], ['result', 'cacm', 'ca', 'ca', 'jb', 'jb'], ['result', 'cacm', 'ca', 'ca', 'jb', 'jb', 'pm', 'pm'], ['programming', 'ca', 'cacm'], ['programming', 'ca', 'cacm', 'program', 'program'], ['programming', 'ca', 'cacm', 'program', 'program', 'jb', 'jb'], ['programming', 'ca', 'cacm', 'computer', 'computer'], ['programming', 'ca', 'cacm', 'computer', 'computer', 'jb', 'jb'], ['programming', 'ca', 'cacm', 'pm', 'pm'], ['programming', 'ca', 'cacm', 'pm', 'pm', 'jb', 'jb'], ['programming', 'ca', 'cacm', 'jb', 'jb'], ['programming', 'ca', 'cacm', 'jb', 'jb', 'program', 'program'], ['programming', 'ca', 'cacm', 'jb', 'jb', 'computer', 'computer'], ['programming', 'ca', 'cacm', 'jb', 'jb', 'pm', 'pm'], ['given', 'cacm'], ['given', 'cacm', 'program', 'program', 'ca'], ['given', 'cacm', 'program', 'program', 'ca', 'jb', 'jb'], ['given', 'cacm', 'computer', 'computer'], ['given', 'cacm', 'computer', 'computer', 'jb', 'jb', 'ca'], ['given', 'cacm', 'computer', 'computer', 'ca', 'ca'], ['given', 'cacm', 'computer', 'computer', 'ca', 'ca', 'jb', 'jb'], ['given', 'cacm', 'pm', 'pm'], ['given', 'cacm', 'pm', 'pm', 'jb', 'jb', 'ca'], ['given', 'cacm', 'pm', 'pm', 'ca', 'ca'], ['given', 'cacm', 'pm', 'pm', 'ca', 'ca', 'jb', 'jb'], ['given', 'cacm', 'jb', 'jb', 'ca'], ['given', 'cacm', 'jb', 'jb', 'ca', 'program', 'program'], ['given', 'cacm', 'jb', 'jb', 'ca', 'computer', 'computer'], ['given', 'cacm', 'jb', 'jb', 'ca', 'pm', 'pm'], ['given', 'cacm', 'ca', 'ca'], ['given', 'cacm', 'ca', 'ca', 'program', 'program'], ['given', 'cacm', 'ca', 'ca', 'program', 'program', 'jb', 'jb'], ['given', 'cacm', 'ca', 'ca', 'computer', 'computer'], ['given', 'cacm', 'ca', 'ca', 'computer', 'computer', 'jb', 'jb'], ['given', 'cacm', 'ca', 'ca', 'pm', 'pm'], ['given', 'cacm', 'ca', 'ca', 'pm', 'pm', 'jb', 'jb'], ['given', 'cacm', 'ca', 'ca', 'jb', 'jb'], ['given', 'cacm', 'ca', 'ca', 'jb', 'jb', 'program', 'program'], ['given', 'cacm', 'ca', 'ca', 'jb', 'jb', 'computer', 'computer'], ['given', 'cacm', 'ca', 'ca', 'jb', 'jb', 'pm', 'pm'], ['model', 'cacm'], ['model', 'cacm', 'january', 'january'], ['model', 'cacm', 'january', 'january', 'jb', 'jb', 'ca'], ['model', 'cacm', 'january', 'january', 'ca', 'ca'], ['model', 'cacm', 'january', 'january', 'ca', 'ca', 'jb', 'jb'], ['model', 'cacm', 'computer', 'computer'], ['model', 'cacm', 'computer', 'computer', 'jb', 'jb', 'ca'], ['model', 'cacm', 'computer', 'computer', 'ca', 'ca'], ['model', 'cacm', 'computer', 'computer', 'ca', 'ca', 'jb', 'jb'], ['model', 'cacm', 'pm', 'pm'], ['model', 'cacm', 'pm', 'pm', 'ca', 'ca'], ['model', 'cacm', 'jb', 'jb', 'ca'], ['model', 'cacm', 'jb', 'jb', 'ca', 'january', 'january'], ['model', 'cacm', 'jb', 'jb', 'ca', 'computer', 'computer'], ['model', 'cacm', 'ca', 'ca'], ['model', 'cacm', 'ca', 'ca', 'january', 'january'], ['model', 'cacm', 'ca', 'ca', 'january', 'january', 'jb', 'jb'], ['model', 'cacm', 'ca', 'ca', 'computer', 'computer'], ['model', 'cacm', 'ca', 'ca', 'computer', 'computer', 'jb', 'jb'], ['model', 'cacm', 'ca', 'ca', 'pm', 'pm'], ['model', 'cacm', 'ca', 'ca', 'jb', 'jb'], ['model', 'cacm', 'ca', 'ca', 'jb', 'jb', 'january', 'january'], ['model', 'cacm', 'ca', 'ca', 'jb', 'jb', 'computer', 'computer'], ['storage', 'cacm'], ['storage', 'cacm', 'pm', 'pm'], ['storage', 'cacm', 'pm', 'pm', 'jb', 'jb', 'ca'], ['storage', 'cacm', 'pm', 'pm', 'ca', 'ca'], ['storage', 'cacm', 'pm', 'pm', 'ca', 'ca', 'jb', 'jb'], ['storage', 'cacm', 'jb', 'jb', 'ca'], ['storage', 'cacm', 'jb', 'jb', 'ca', 'pm', 'pm'], ['storage', 'cacm', 'ca', 'ca'], ['storage', 'cacm', 'ca', 'ca', 'pm', 'pm'], ['storage', 'cacm', 'ca', 'ca', 'pm', 'pm', 'jb', 'jb'], ['storage', 'cacm', 'ca', 'ca', 'jb', 'jb'], ['storage', 'cacm', 'ca', 'ca', 'jb', 'jb', 'pm', 'pm'], ['processing', 'ca', 'cacm'], ['processing', 'ca', 'cacm', 'data', 'data', 'jb'], ['processing', 'ca', 'cacm', 'february', 'february'], ['processing', 'ca', 'cacm', 'computer', 'computer'], ['processing', 'ca', 'cacm', 'computer', 'computer', 'jb', 'jb'], ['processing', 'ca', 'cacm', 'pm', 'pm'], ['processing', 'ca', 'cacm', 'pm', 'pm', 'jb', 'jb'], ['processing', 'ca', 'cacm', 'jb', 'jb'], ['processing', 'ca', 'cacm', 'jb', 'jb', 'data', 'data'], ['processing', 'ca', 'cacm', 'jb', 'jb', 'computer', 'computer'], ['processing', 'ca', 'cacm', 'jb', 'jb', 'pm', 'pm'], ['technique', 'ca', 'cacm'], ['technique', 'ca', 'cacm', 'program', 'program'], ['technique', 'ca', 'cacm', 'program', 'program', 'jb', 'jb'], ['technique', 'ca', 'cacm', 'computer', 'computer'], ['technique', 'ca', 'cacm', 'computer', 'computer', 'jb', 'jb'], ['technique', 'ca', 'cacm', 'pm', 'pm'], ['technique', 'ca', 'cacm', 'pm', 'pm', 'jb', 'jb'], ['technique', 'ca', 'cacm', 'jb', 'jb'], ['technique', 'ca', 'cacm', 'jb', 'jb', 'program', 'program'], ['technique', 'ca', 'cacm', 'jb', 'jb', 'computer', 'computer'], ['technique', 'ca', 'cacm', 'jb', 'jb', 'pm', 'pm'], ['design', 'ca', 'cacm'], ['design', 'ca', 'cacm', 'january', 'january'], ['design', 'ca', 'cacm', 'computer', 'computer'], ['design', 'ca', 'cacm', 'computer', 'computer', 'jb', 'jb'], ['design', 'ca', 'cacm', 'pm', 'pm'], ['design', 'ca', 'cacm', 'pm', 'pm', 'jb', 'jb'], ['design', 'ca', 'cacm', 'jb', 'jb'], ['design', 'ca', 'cacm', 'jb', 'jb', 'computer', 'computer'], ['design', 'ca', 'cacm', 'jb', 'jb', 'pm', 'pm'], ['use', 'ca', 'cacm'], ['use', 'ca', 'cacm', 'february', 'february'], ['use', 'ca', 'cacm', 'computer', 'computer'], ['use', 'ca', 'cacm', 'computer', 'computer', 'jb', 'jb'], ['use', 'ca', 'cacm', 'pm', 'pm'], ['use', 'ca', 'cacm', 'pm', 'pm', 'jb', 'jb'], ['use', 'ca', 'cacm', 'jb', 'jb'], ['use', 'ca', 'cacm', 'jb', 'jb', 'computer', 'computer'], ['use', 'ca', 'cacm', 'jb', 'jb', 'pm', 'pm'], ['discussed', 'cacm'], ['discussed', 'cacm', 'february', 'february', 'ca'], ['discussed', 'cacm', 'february', 'february', 'ca', 'jb', 'jb'], ['discussed', 'cacm', 'program', 'program', 'ca'], ['discussed', 'cacm', 'program', 'program', 'ca', 'jb', 'jb'], ['discussed', 'cacm', 'computer', 'computer'], ['discussed', 'cacm', 'computer', 'computer', 'pm', 'pm'], ['discussed', 'cacm', 'computer', 'computer', 'pm', 'pm', 'ca', 'ca'], ['discussed', 'cacm', 'computer', 'computer', 'jb', 'jb', 'ca'], ['discussed', 'cacm', 'computer', 'computer', 'ca', 'ca'], ['discussed', 'cacm', 'computer', 'computer', 'ca', 'ca', 'pm', 'pm'], ['discussed', 'cacm', 'computer', 'computer', 'ca', 'ca', 'jb', 'jb'], ['discussed', 'cacm', 'pm', 'pm'], ['discussed', 'cacm', 'pm', 'pm', 'computer', 'computer'], ['discussed', 'cacm', 'pm', 'pm', 'computer', 'computer', 'ca', 'ca'], ['discussed', 'cacm', 'pm', 'pm', 'jb', 'jb', 'ca'], ['discussed', 'cacm', 'pm', 'pm', 'ca', 'ca'], ['discussed', 'cacm', 'pm', 'pm', 'ca', 'ca', 'computer', 'computer'], ['discussed', 'cacm', 'pm', 'pm', 'ca', 'ca', 'jb', 'jb'], ['discussed', 'cacm', 'jb', 'jb', 'ca'], ['discussed', 'cacm', 'jb', 'jb', 'ca', 'february', 'february'], ['discussed', 'cacm', 'jb', 'jb', 'ca', 'program', 'program'], ['discussed', 'cacm', 'jb', 'jb', 'ca', 'computer', 'computer'], ['discussed', 'cacm', 'jb', 'jb', 'ca', 'pm', 'pm'], ['discussed', 'cacm', 'ca', 'ca'], ['discussed', 'cacm', 'ca', 'ca', 'february', 'february'], ['discussed', 'cacm', 'ca', 'ca', 'february', 'february', 'jb', 'jb'], ['discussed', 'cacm', 'ca', 'ca', 'program', 'program'], ['discussed', 'cacm', 'ca', 'ca', 'program', 'program', 'jb', 'jb'], ['discussed', 'cacm', 'ca', 'ca', 'computer', 'computer'], ['discussed', 'cacm', 'ca', 'ca', 'computer', 'computer', 'pm', 'pm'], ['discussed', 'cacm', 'ca', 'ca', 'computer', 'computer', 'jb', 'jb'], ['discussed', 'cacm', 'ca', 'ca', 'pm', 'pm'], ['discussed', 'cacm', 'ca', 'ca', 'pm', 'pm', 'computer', 'computer'], ['discussed', 'cacm', 'ca', 'ca', 'pm', 'pm', 'jb', 'jb'], ['discussed', 'cacm', 'ca', 'ca', 'jb', 'jb'], ['discussed', 'cacm', 'ca', 'ca', 'jb', 'jb', 'february', 'february'], ['discussed', 'cacm', 'ca', 'ca', 'jb', 'jb', 'program', 'program'], ['discussed', 'cacm', 'ca', 'ca', 'jb', 'jb', 'computer', 'computer'], ['discussed', 'cacm', 'ca', 'ca', 'jb', 'jb', 'pm', 'pm'], ['time', 'cacm'], ['time', 'cacm', 'february', 'february', 'ca'], ['time', 'cacm', 'program', 'program', 'ca'], ['time', 'cacm', 'program', 'program', 'ca', 'jb', 'jb'], ['time', 'cacm', 'computer', 'computer', 'ca'], ['time', 'cacm', 'computer', 'computer', 'ca', 'jb', 'jb'], ['time', 'cacm', 'pm', 'pm'], ['time', 'cacm', 'pm', 'pm', 'jb', 'jb', 'ca'], ['time', 'cacm', 'pm', 'pm', 'ca', 'ca'], ['time', 'cacm', 'pm', 'pm', 'ca', 'ca', 'jb', 'jb'], ['time', 'cacm', 'jb', 'jb', 'ca'], ['time', 'cacm', 'jb', 'jb', 'ca', 'program', 'program'], ['time', 'cacm', 'jb', 'jb', 'ca', 'computer', 'computer'], ['time', 'cacm', 'jb', 'jb', 'ca', 'pm', 'pm'], ['time', 'cacm', 'ca', 'ca'], ['time', 'cacm', 'ca', 'ca', 'february', 'february'], ['time', 'cacm', 'ca', 'ca', 'program', 'program'], ['time', 'cacm', 'ca', 'ca', 'program', 'program', 'jb', 'jb'], ['time', 'cacm', 'ca', 'ca', 'computer', 'computer'], ['time', 'cacm', 'ca', 'ca', 'computer', 'computer', 'jb', 'jb'], ['time', 'cacm', 'ca', 'ca', 'pm', 'pm'], ['time', 'cacm', 'ca', 'ca', 'pm', 'pm', 'jb', 'jb'], ['time', 'cacm', 'ca', 'ca', 'jb', 'jb'], ['time', 'cacm', 'ca', 'ca', 'jb', 'jb', 'program', 'program'], ['time', 'cacm', 'ca', 'ca', 'jb', 'jb', 'computer', 'computer'], ['time', 'cacm', 'ca', 'ca', 'jb', 'jb', 'pm', 'pm'], ['presented', 'cacm'], ['presented', 'cacm', 'february', 'february'], ['presented', 'cacm', 'february', 'february', 'jb', 'jb', 'ca'], ['presented', 'cacm', 'february', 'february', 'ca', 'ca'], ['presented', 'cacm', 'february', 'february', 'ca', 'ca', 'jb', 'jb'], ['presented', 'cacm', 'program', 'program', 'ca'], ['presented', 'cacm', 'program', 'program', 'ca', 'jb', 'jb'], ['presented', 'cacm', 'computer', 'computer', 'ca'], ['presented', 'cacm', 'computer', 'computer', 'ca', 'jb', 'jb'], ['presented', 'cacm', 'pm', 'pm'], ['presented', 'cacm', 'pm', 'pm', 'jb', 'jb', 'ca'], ['presented', 'cacm', 'pm', 'pm', 'ca', 'ca'], ['presented', 'cacm', 'pm', 'pm', 'ca', 'ca', 'jb', 'jb'], ['presented', 'cacm', 'jb', 'jb', 'ca'], ['presented', 'cacm', 'jb', 'jb', 'ca', 'february', 'february'], ['presented', 'cacm', 'jb', 'jb', 'ca', 'program', 'program'], ['presented', 'cacm', 'jb', 'jb', 'ca', 'computer', 'computer'], ['presented', 'cacm', 'jb', 'jb', 'ca', 'pm', 'pm'], ['presented', 'cacm', 'ca', 'ca'], ['presented', 'cacm', 'ca', 'ca', 'february', 'february'], ['presented', 'cacm', 'ca', 'ca', 'february', 'february', 'jb', 'jb'], ['presented', 'cacm', 'ca', 'ca', 'program', 'program'], ['presented', 'cacm', 'ca', 'ca', 'program', 'program', 'jb', 'jb'], ['presented', 'cacm', 'ca', 'ca', 'computer', 'computer'], ['presented', 'cacm', 'ca', 'ca', 'computer', 'computer', 'jb', 'jb'], ['presented', 'cacm', 'ca', 'ca', 'pm', 'pm'], ['presented', 'cacm', 'ca', 'ca', 'pm', 'pm', 'jb', 'jb'], ['presented', 'cacm', 'ca', 'ca', 'jb', 'jb'], ['presented', 'cacm', 'ca', 'ca', 'jb', 'jb', 'february', 'february'], ['presented', 'cacm', 'ca', 'ca', 'jb', 'jb', 'program', 'program'], ['presented', 'cacm', 'ca', 'ca', 'jb', 'jb', 'computer', 'computer'], ['presented', 'cacm', 'ca', 'ca', 'jb', 'jb', 'pm', 'pm'], ['used', 'ca', 'cacm'], ['used', 'ca', 'cacm', 'february', 'february'], ['used', 'ca', 'cacm', 'february', 'february', 'jb', 'jb'], ['used', 'ca', 'cacm', 'program', 'program'], ['used', 'ca', 'cacm', 'computer', 'computer'], ['used', 'ca', 'cacm', 'computer', 'computer', 'jb', 'jb'], ['used', 'ca', 'cacm', 'pm', 'pm'], ['used', 'ca', 'cacm', 'pm', 'pm', 'jb', 'jb'], ['used', 'ca', 'cacm', 'jb', 'jb'], ['used', 'ca', 'cacm', 'jb', 'jb', 'february', 'february'], ['used', 'ca', 'cacm', 'jb', 'jb', 'computer', 'computer'], ['used', 'ca', 'cacm', 'jb', 'jb', 'pm', 'pm'], ['information', 'cacm'], ['information', 'cacm', 'data', 'data'], ['information', 'cacm', 'data', 'data', 'jb', 'jb', 'ca'], ['information', 'cacm', 'data', 'data', 'ca', 'ca'], ['information', 'cacm', 'data', 'data', 'ca', 'ca', 'jb', 'jb'], ['information', 'cacm', 'january', 'january', 'ca'], ['information', 'cacm', 'january', 'january', 'ca', 'jb', 'jb'], ['information', 'cacm', 'computer', 'computer'], ['information', 'cacm', 'computer', 'computer', 'jb', 'jb', 'ca'], ['information', 'cacm', 'computer', 'computer', 'ca', 'ca'], ['information', 'cacm', 'computer', 'computer', 'ca', 'ca', 'jb', 'jb'], ['information', 'cacm', 'pm', 'pm'], ['information', 'cacm', 'pm', 'pm', 'jb', 'jb', 'ca'], ['information', 'cacm', 'pm', 'pm', 'ca', 'ca'], ['information', 'cacm', 'pm', 'pm', 'ca', 'ca', 'jb', 'jb'], ['information', 'cacm', 'jb', 'jb', 'ca'], ['information', 'cacm', 'jb', 'jb', 'ca', 'data', 'data'], ['information', 'cacm', 'jb', 'jb', 'ca', 'january', 'january'], ['information', 'cacm', 'jb', 'jb', 'ca', 'computer', 'computer'], ['information', 'cacm', 'jb', 'jb', 'ca', 'pm', 'pm'], ['information', 'cacm', 'ca', 'ca'], ['information', 'cacm', 'ca', 'ca', 'data', 'data'], ['information', 'cacm', 'ca', 'ca', 'data', 'data', 'jb', 'jb'], ['information', 'cacm', 'ca', 'ca', 'january', 'january'], ['information', 'cacm', 'ca', 'ca', 'january', 'january', 'jb', 'jb'], ['information', 'cacm', 'ca', 'ca', 'computer', 'computer'], ['information', 'cacm', 'ca', 'ca', 'computer', 'computer', 'jb', 'jb'], ['information', 'cacm', 'ca', 'ca', 'pm', 'pm'], ['information', 'cacm', 'ca', 'ca', 'pm', 'pm', 'jb', 'jb'], ['information', 'cacm', 'ca', 'ca', 'jb', 'jb'], ['information', 'cacm', 'ca', 'ca', 'jb', 'jb', 'data', 'data'], ['information', 'cacm', 'ca', 'ca', 'jb', 'jb', 'january', 'january'], ['information', 'cacm', 'ca', 'ca', 'jb', 'jb', 'computer', 'computer'], ['information', 'cacm', 'ca', 'ca', 'jb', 'jb', 'pm', 'pm'], ['problem', 'cacm'], ['problem', 'cacm', 'paper', 'paper'], ['problem', 'cacm', 'paper', 'paper', 'ca', 'ca'], ['problem', 'cacm', 'program', 'program', 'ca'], ['problem', 'cacm', 'program', 'program', 'ca', 'jb', 'jb'], ['problem', 'cacm', 'computer', 'computer'], ['problem', 'cacm', 'computer', 'computer', 'jb', 'jb', 'ca'], ['problem', 'cacm', 'computer', 'computer', 'ca', 'ca'], ['problem', 'cacm', 'computer', 'computer', 'ca', 'ca', 'jb', 'jb'], ['problem', 'cacm', 'pm', 'pm'], ['problem', 'cacm', 'pm', 'pm', 'jb', 'jb', 'ca'], ['problem', 'cacm', 'pm', 'pm', 'ca', 'ca'], ['problem', 'cacm', 'pm', 'pm', 'ca', 'ca', 'jb', 'jb'], ['problem', 'cacm', 'jb', 'jb', 'ca'], ['problem', 'cacm', 'jb', 'jb', 'ca', 'program', 'program'], ['problem', 'cacm', 'jb', 'jb', 'ca', 'computer', 'computer'], ['problem', 'cacm', 'jb', 'jb', 'ca', 'pm', 'pm'], ['problem', 'cacm', 'ca', 'ca'], ['problem', 'cacm', 'ca', 'ca', 'paper', 'paper'], ['problem', 'cacm', 'ca', 'ca', 'program', 'program'], ['problem', 'cacm', 'ca', 'ca', 'program', 'program', 'jb', 'jb'], ['problem', 'cacm', 'ca', 'ca', 'computer', 'computer'], ['problem', 'cacm', 'ca', 'ca', 'computer', 'computer', 'jb', 'jb'], ['problem', 'cacm', 'ca', 'ca', 'pm', 'pm'], ['problem', 'cacm', 'ca', 'ca', 'pm', 'pm', 'jb', 'jb'], ['problem', 'cacm', 'ca', 'ca', 'jb', 'jb'], ['problem', 'cacm', 'ca', 'ca', 'jb', 'jb', 'program', 'program'], ['problem', 'cacm', 'ca', 'ca', 'jb', 'jb', 'computer', 'computer'], ['problem', 'cacm', 'ca', 'ca', 'jb', 'jb', 'pm', 'pm'], ['described', 'cacm'], ['described', 'cacm', 'data', 'data'], ['described', 'cacm', 'data', 'data', 'jb', 'jb', 'ca'], ['described', 'cacm', 'data', 'data', 'ca', 'ca'], ['described', 'cacm', 'data', 'data', 'ca', 'ca', 'jb', 'jb'], ['described', 'cacm', 'february', 'february'], ['described', 'cacm', 'february', 'february', 'jb', 'jb', 'ca'], ['described', 'cacm', 'february', 'february', 'ca', 'ca'], ['described', 'cacm', 'february', 'february', 'ca', 'ca', 'jb', 'jb'], ['described', 'cacm', 'program', 'program', 'ca'], ['described', 'cacm', 'program', 'program', 'ca', 'jb', 'jb'], ['described', 'cacm', 'computer', 'computer', 'ca'], ['described', 'cacm', 'computer', 'computer', 'ca', 'jb', 'jb'], ['described', 'cacm', 'pm', 'pm'], ['described', 'cacm', 'pm', 'pm', 'jb', 'jb', 'ca'], ['described', 'cacm', 'pm', 'pm', 'ca', 'ca'], ['described', 'cacm', 'pm', 'pm', 'ca', 'ca', 'jb', 'jb'], ['described', 'cacm', 'jb', 'jb', 'ca'], ['described', 'cacm', 'jb', 'jb', 'ca', 'data', 'data'], ['described', 'cacm', 'jb', 'jb', 'ca', 'february', 'february'], ['described', 'cacm', 'jb', 'jb', 'ca', 'program', 'program'], ['described', 'cacm', 'jb', 'jb', 'ca', 'computer', 'computer'], ['described', 'cacm', 'jb', 'jb', 'ca', 'pm', 'pm'], ['described', 'cacm', 'ca', 'ca'], ['described', 'cacm', 'ca', 'ca', 'data', 'data'], ['described', 'cacm', 'ca', 'ca', 'data', 'data', 'jb', 'jb'], ['described', 'cacm', 'ca', 'ca', 'february', 'february'], ['described', 'cacm', 'ca', 'ca', 'february', 'february', 'jb', 'jb'], ['described', 'cacm', 'ca', 'ca', 'program', 'program'], ['described', 'cacm', 'ca', 'ca', 'program', 'program', 'jb', 'jb'], ['described', 'cacm', 'ca', 'ca', 'computer', 'computer'], ['described', 'cacm', 'ca', 'ca', 'computer', 'computer', 'jb', 'jb'], ['described', 'cacm', 'ca', 'ca', 'pm', 'pm'], ['described', 'cacm', 'ca', 'ca', 'pm', 'pm', 'jb', 'jb'], ['described', 'cacm', 'ca', 'ca', 'jb', 'jb'], ['described', 'cacm', 'ca', 'ca', 'jb', 'jb', 'data', 'data'], ['described', 'cacm', 'ca', 'ca', 'jb', 'jb', 'february', 'february'], ['described', 'cacm', 'ca', 'ca', 'jb', 'jb', 'program', 'program'], ['described', 'cacm', 'ca', 'ca', 'jb', 'jb', 'computer', 'computer'], ['described', 'cacm', 'ca', 'ca', 'jb', 'jb', 'pm', 'pm'], ['paper', 'cacm'], ['paper', 'cacm', 'data', 'data'], ['paper', 'cacm', 'march', 'march'], ['paper', 'cacm', 'march', 'march', 'jb', 'jb', 'ca'], ['paper', 'cacm', 'march', 'march', 'ca', 'ca'], ['paper', 'cacm', 'march', 'march', 'ca', 'ca', 'jb', 'jb'], ['paper', 'cacm', 'january', 'january', 'ca'], ['paper', 'cacm', 'january', 'january', 'ca', 'jb', 'jb'], ['paper', 'cacm', 'program', 'program', 'ca'], ['paper', 'cacm', 'program', 'program', 'ca', 'pm', 'pm'], ['paper', 'cacm', 'program', 'program', 'ca', 'jb', 'jb'], ['paper', 'cacm', 'computer', 'computer'], ['paper', 'cacm', 'computer', 'computer', 'pm', 'pm'], ['paper', 'cacm', 'computer', 'computer', 'pm', 'pm', 'jb', 'jb', 'ca'], ['paper', 'cacm', 'computer', 'computer', 'pm', 'pm', 'ca', 'ca'], ['paper', 'cacm', 'computer', 'computer', 'pm', 'pm', 'ca', 'ca', 'jb', 'jb'], ['paper', 'cacm', 'computer', 'computer', 'jb', 'jb', 'ca'], ['paper', 'cacm', 'computer', 'computer', 'jb', 'jb', 'ca', 'pm', 'pm'], ['paper', 'cacm', 'computer', 'computer', 'ca', 'ca'], ['paper', 'cacm', 'computer', 'computer', 'ca', 'ca', 'pm', 'pm'], ['paper', 'cacm', 'computer', 'computer', 'ca', 'ca', 'pm', 'pm', 'jb', 'jb'], ['paper', 'cacm', 'computer', 'computer', 'ca', 'ca', 'jb', 'jb'], ['paper', 'cacm', 'computer', 'computer', 'ca', 'ca', 'jb', 'jb', 'pm', 'pm'], ['paper', 'cacm', 'pm', 'pm'], ['paper', 'cacm', 'pm', 'pm', 'program', 'program', 'ca'], ['paper', 'cacm', 'pm', 'pm', 'computer', 'computer'], ['paper', 'cacm', 'pm', 'pm', 'computer', 'computer', 'jb', 'jb', 'ca'], ['paper', 'cacm', 'pm', 'pm', 'computer', 'computer', 'ca', 'ca'], ['paper', 'cacm', 'pm', 'pm', 'computer', 'computer', 'ca', 'ca', 'jb', 'jb'], ['paper', 'cacm', 'pm', 'pm', 'jb', 'jb', 'ca'], ['paper', 'cacm', 'pm', 'pm', 'jb', 'jb', 'ca', 'computer', 'computer'], ['paper', 'cacm', 'pm', 'pm', 'ca', 'ca'], ['paper', 'cacm', 'pm', 'pm', 'ca', 'ca', 'program', 'program'], ['paper', 'cacm', 'pm', 'pm', 'ca', 'ca', 'computer', 'computer'], ['paper', 'cacm', 'pm', 'pm', 'ca', 'ca', 'computer', 'computer', 'jb', 'jb'], ['paper', 'cacm', 'pm', 'pm', 'ca', 'ca', 'jb', 'jb'], ['paper', 'cacm', 'pm', 'pm', 'ca', 'ca', 'jb', 'jb', 'computer', 'computer'], ['paper', 'cacm', 'jb', 'jb', 'ca'], ['paper', 'cacm', 'jb', 'jb', 'ca', 'march', 'march'], ['paper', 'cacm', 'jb', 'jb', 'ca', 'january', 'january'], ['paper', 'cacm', 'jb', 'jb', 'ca', 'program', 'program'], ['paper', 'cacm', 'jb', 'jb', 'ca', 'computer', 'computer'], ['paper', 'cacm', 'jb', 'jb', 'ca', 'computer', 'computer', 'pm', 'pm'], ['paper', 'cacm', 'jb', 'jb', 'ca', 'pm', 'pm'], ['paper', 'cacm', 'jb', 'jb', 'ca', 'pm', 'pm', 'computer', 'computer'], ['paper', 'cacm', 'ca', 'ca'], ['paper', 'cacm', 'ca', 'ca', 'march', 'march'], ['paper', 'cacm', 'ca', 'ca', 'march', 'march', 'jb', 'jb'], ['paper', 'cacm', 'ca', 'ca', 'january', 'january'], ['paper', 'cacm', 'ca', 'ca', 'january', 'january', 'jb', 'jb'], ['paper', 'cacm', 'ca', 'ca', 'program', 'program'], ['paper', 'cacm', 'ca', 'ca', 'program', 'program', 'pm', 'pm'], ['paper', 'cacm', 'ca', 'ca', 'program', 'program', 'jb', 'jb'], ['paper', 'cacm', 'ca', 'ca', 'computer', 'computer'], ['paper', 'cacm', 'ca', 'ca', 'computer', 'computer', 'pm', 'pm'], ['paper', 'cacm', 'ca', 'ca', 'computer', 'computer', 'pm', 'pm', 'jb', 'jb'], ['paper', 'cacm', 'ca', 'ca', 'computer', 'computer', 'jb', 'jb'], ['paper', 'cacm', 'ca', 'ca', 'computer', 'computer', 'jb', 'jb', 'pm', 'pm'], ['paper', 'cacm', 'ca', 'ca', 'pm', 'pm'], ['paper', 'cacm', 'ca', 'ca', 'pm', 'pm', 'program', 'program'], ['paper', 'cacm', 'ca', 'ca', 'pm', 'pm', 'computer', 'computer'], ['paper', 'cacm', 'ca', 'ca', 'pm', 'pm', 'computer', 'computer', 'jb', 'jb'], ['paper', 'cacm', 'ca', 'ca', 'pm', 'pm', 'jb', 'jb'], ['paper', 'cacm', 'ca', 'ca', 'pm', 'pm', 'jb', 'jb', 'computer', 'computer'], ['paper', 'cacm', 'ca', 'ca', 'jb', 'jb'], ['paper', 'cacm', 'ca', 'ca', 'jb', 'jb', 'march', 'march'], ['paper', 'cacm', 'ca', 'ca', 'jb', 'jb', 'january', 'january'], ['paper', 'cacm', 'ca', 'ca', 'jb', 'jb', 'program', 'program'], ['paper', 'cacm', 'ca', 'ca', 'jb', 'jb', 'computer', 'computer'], ['paper', 'cacm', 'ca', 'ca', 'jb', 'jb', 'computer', 'computer', 'pm', 'pm'], ['paper', 'cacm', 'ca', 'ca', 'jb', 'jb', 'pm', 'pm'], ['paper', 'cacm', 'ca', 'ca', 'jb', 'jb', 'pm', 'pm', 'computer', 'computer'], ['data', 'cacm'], ['data', 'cacm', 'march', 'march'], ['data', 'cacm', 'march', 'march', 'pm', 'pm'], ['data', 'cacm', 'march', 'march', 'jb', 'jb', 'ca'], ['data', 'cacm', 'march', 'march', 'ca', 'ca'], ['data', 'cacm', 'march', 'march', 'ca', 'ca', 'jb', 'jb'], ['data', 'cacm', 'february', 'february'], ['data', 'cacm', 'february', 'february', 'jb', 'jb', 'ca'], ['data', 'cacm', 'february', 'february', 'ca', 'ca'], ['data', 'cacm', 'february', 'february', 'ca', 'ca', 'jb', 'jb'], ['data', 'cacm', 'january', 'january', 'ca'], ['data', 'cacm', 'january', 'january', 'ca', 'jb', 'jb'], ['data', 'cacm', 'program', 'program', 'ca'], ['data', 'cacm', 'program', 'program', 'ca', 'jb', 'jb'], ['data', 'cacm', 'computer', 'computer', 'ca'], ['data', 'cacm', 'computer', 'computer', 'ca', 'pm', 'pm'], ['data', 'cacm', 'computer', 'computer', 'ca', 'pm', 'pm', 'jb', 'jb'], ['data', 'cacm', 'computer', 'computer', 'ca', 'jb', 'jb'], ['data', 'cacm', 'computer', 'computer', 'ca', 'jb', 'jb', 'pm', 'pm'], ['data', 'cacm', 'pm', 'pm'], ['data', 'cacm', 'pm', 'pm', 'march', 'march'], ['data', 'cacm', 'pm', 'pm', 'computer', 'computer', 'ca'], ['data', 'cacm', 'pm', 'pm', 'computer', 'computer', 'ca', 'jb', 'jb'], ['data', 'cacm', 'pm', 'pm', 'jb', 'jb', 'ca'], ['data', 'cacm', 'pm', 'pm', 'jb', 'jb', 'ca', 'computer', 'computer'], ['data', 'cacm', 'pm', 'pm', 'ca', 'ca'], ['data', 'cacm', 'pm', 'pm', 'ca', 'ca', 'computer', 'computer'], ['data', 'cacm', 'pm', 'pm', 'ca', 'ca', 'computer', 'computer', 'jb', 'jb'], ['data', 'cacm', 'pm', 'pm', 'ca', 'ca', 'jb', 'jb'], ['data', 'cacm', 'pm', 'pm', 'ca', 'ca', 'jb', 'jb', 'computer', 'computer'], ['data', 'cacm', 'jb', 'jb', 'ca'], ['data', 'cacm', 'jb', 'jb', 'ca', 'march', 'march'], ['data', 'cacm', 'jb', 'jb', 'ca', 'february', 'february'], ['data', 'cacm', 'jb', 'jb', 'ca', 'january', 'january'], ['data', 'cacm', 'jb', 'jb', 'ca', 'program', 'program'], ['data', 'cacm', 'jb', 'jb', 'ca', 'computer', 'computer'], ['data', 'cacm', 'jb', 'jb', 'ca', 'computer', 'computer', 'pm', 'pm'], ['data', 'cacm', 'jb', 'jb', 'ca', 'pm', 'pm'], ['data', 'cacm', 'jb', 'jb', 'ca', 'pm', 'pm', 'computer', 'computer'], ['data', 'cacm', 'ca', 'ca'], ['data', 'cacm', 'ca', 'ca', 'march', 'march'], ['data', 'cacm', 'ca', 'ca', 'march', 'march', 'jb', 'jb'], ['data', 'cacm', 'ca', 'ca', 'february', 'february'], ['data', 'cacm', 'ca', 'ca', 'february', 'february', 'jb', 'jb'], ['data', 'cacm', 'ca', 'ca', 'january', 'january'], ['data', 'cacm', 'ca', 'ca', 'january', 'january', 'jb', 'jb'], ['data', 'cacm', 'ca', 'ca', 'program', 'program'], ['data', 'cacm', 'ca', 'ca', 'program', 'program', 'jb', 'jb'], ['data', 'cacm', 'ca', 'ca', 'computer', 'computer'], ['data', 'cacm', 'ca', 'ca', 'computer', 'computer', 'pm', 'pm'], ['data', 'cacm', 'ca', 'ca', 'computer', 'computer', 'pm', 'pm', 'jb', 'jb'], ['data', 'cacm', 'ca', 'ca', 'computer', 'computer', 'jb', 'jb'], ['data', 'cacm', 'ca', 'ca', 'computer', 'computer', 'jb', 'jb', 'pm', 'pm'], ['data', 'cacm', 'ca', 'ca', 'pm', 'pm'], ['data', 'cacm', 'ca', 'ca', 'pm', 'pm', 'computer', 'computer'], ['data', 'cacm', 'ca', 'ca', 'pm', 'pm', 'computer', 'computer', 'jb', 'jb'], ['data', 'cacm', 'ca', 'ca', 'pm', 'pm', 'jb', 'jb'], ['data', 'cacm', 'ca', 'ca', 'pm', 'pm', 'jb', 'jb', 'computer', 'computer'], ['data', 'cacm', 'ca', 'ca', 'jb', 'jb'], ['data', 'cacm', 'ca', 'ca', 'jb', 'jb', 'march', 'march'], ['data', 'cacm', 'ca', 'ca', 'jb', 'jb', 'february', 'february'], ['data', 'cacm', 'ca', 'ca', 'jb', 'jb', 'january', 'january'], ['data', 'cacm', 'ca', 'ca', 'jb', 'jb', 'program', 'program'], ['data', 'cacm', 'ca', 'ca', 'jb', 'jb', 'computer', 'computer'], ['data', 'cacm', 'ca', 'ca', 'jb', 'jb', 'computer', 'computer', 'pm', 'pm'], ['data', 'cacm', 'ca', 'ca', 'jb', 'jb', 'pm', 'pm'], ['data', 'cacm', 'ca', 'ca', 'jb', 'jb', 'pm', 'pm', 'computer', 'computer'], ['march', 'cacm'], ['march', 'cacm', 'program', 'program', 'ca'], ['march', 'cacm', 'program', 'program', 'ca', 'computer', 'computer'], ['march', 'cacm', 'program', 'program', 'ca', 'computer', 'computer', 'jb', 'jb'], ['march', 'cacm', 'program', 'program', 'ca', 'pm', 'pm', 'jb'], ['march', 'cacm', 'program', 'program', 'ca', 'jb', 'jb'], ['march', 'cacm', 'program', 'program', 'ca', 'jb', 'jb', 'computer', 'computer'], ['march', 'cacm', 'program', 'program', 'ca', 'jb', 'jb', 'pm', 'pm'], ['march', 'cacm', 'computer', 'computer'], ['march', 'cacm', 'computer', 'computer', 'program', 'program', 'ca'], ['march', 'cacm', 'computer', 'computer', 'program', 'program', 'ca', 'jb', 'jb'], ['march', 'cacm', 'computer', 'computer', 'pm', 'pm'], ['march', 'cacm', 'computer', 'computer', 'pm', 'pm', 'jb', 'jb', 'ca'], ['march', 'cacm', 'computer', 'computer', 'pm', 'pm', 'ca', 'ca'], ['march', 'cacm', 'computer', 'computer', 'pm', 'pm', 'ca', 'ca', 'jb', 'jb'], ['march', 'cacm', 'computer', 'computer', 'jb', 'jb', 'ca'], ['march', 'cacm', 'computer', 'computer', 'jb', 'jb', 'ca', 'program', 'program'], ['march', 'cacm', 'computer', 'computer', 'jb', 'jb', 'ca', 'pm', 'pm'], ['march', 'cacm', 'computer', 'computer', 'ca', 'ca'], ['march', 'cacm', 'computer', 'computer', 'ca', 'ca', 'program', 'program'], ['march', 'cacm', 'computer', 'computer', 'ca', 'ca', 'program', 'program', 'jb', 'jb'], ['march', 'cacm', 'computer', 'computer', 'ca', 'ca', 'pm', 'pm'], ['march', 'cacm', 'computer', 'computer', 'ca', 'ca', 'pm', 'pm', 'jb', 'jb'], ['march', 'cacm', 'computer', 'computer', 'ca', 'ca', 'jb', 'jb'], ['march', 'cacm', 'computer', 'computer', 'ca', 'ca', 'jb', 'jb', 'program', 'program'], ['march', 'cacm', 'computer', 'computer', 'ca', 'ca', 'jb', 'jb', 'pm', 'pm'], ['march', 'cacm', 'pm', 'pm'], ['march', 'cacm', 'pm', 'pm', 'program', 'program', 'jb', 'ca'], ['march', 'cacm', 'pm', 'pm', 'computer', 'computer'], ['march', 'cacm', 'pm', 'pm', 'computer', 'computer', 'jb', 'jb', 'ca'], ['march', 'cacm', 'pm', 'pm', 'computer', 'computer', 'ca', 'ca'], ['march', 'cacm', 'pm', 'pm', 'computer', 'computer', 'ca', 'ca', 'jb', 'jb'], ['march', 'cacm', 'pm', 'pm', 'jb', 'jb', 'ca'], ['march', 'cacm', 'pm', 'pm', 'jb', 'jb', 'ca', 'program', 'program'], ['march', 'cacm', 'pm', 'pm', 'jb', 'jb', 'ca', 'computer', 'computer'], ['march', 'cacm', 'pm', 'pm', 'ca', 'ca'], ['march', 'cacm', 'pm', 'pm', 'ca', 'ca', 'program', 'program', 'jb'], ['march', 'cacm', 'pm', 'pm', 'ca', 'ca', 'computer', 'computer'], ['march', 'cacm', 'pm', 'pm', 'ca', 'ca', 'computer', 'computer', 'jb', 'jb'], ['march', 'cacm', 'pm', 'pm', 'ca', 'ca', 'jb', 'jb'], ['march', 'cacm', 'pm', 'pm', 'ca', 'ca', 'jb', 'jb', 'program', 'program'], ['march', 'cacm', 'pm', 'pm', 'ca', 'ca', 'jb', 'jb', 'computer', 'computer'], ['march', 'cacm', 'jb', 'jb', 'ca'], ['march', 'cacm', 'jb', 'jb', 'ca', 'program', 'program'], ['march', 'cacm', 'jb', 'jb', 'ca', 'program', 'program', 'computer', 'computer'], ['march', 'cacm', 'jb', 'jb', 'ca', 'program', 'program', 'pm', 'pm'], ['march', 'cacm', 'jb', 'jb', 'ca', 'computer', 'computer'], ['march', 'cacm', 'jb', 'jb', 'ca', 'computer', 'computer', 'program', 'program'], ['march', 'cacm', 'jb', 'jb', 'ca', 'computer', 'computer', 'pm', 'pm'], ['march', 'cacm', 'jb', 'jb', 'ca', 'pm', 'pm'], ['march', 'cacm', 'jb', 'jb', 'ca', 'pm', 'pm', 'program', 'program'], ['march', 'cacm', 'jb', 'jb', 'ca', 'pm', 'pm', 'computer', 'computer'], ['march', 'cacm', 'ca', 'ca'], ['march', 'cacm', 'ca', 'ca', 'program', 'program'], ['march', 'cacm', 'ca', 'ca', 'program', 'program', 'computer', 'computer'], ['march', 'cacm', 'ca', 'ca', 'program', 'program', 'computer', 'computer', 'jb', 'jb'], ['march', 'cacm', 'ca', 'ca', 'program', 'program', 'pm', 'pm', 'jb'], ['march', 'cacm', 'ca', 'ca', 'program', 'program', 'jb', 'jb'], ['march', 'cacm', 'ca', 'ca', 'program', 'program', 'jb', 'jb', 'computer', 'computer'], ['march', 'cacm', 'ca', 'ca', 'program', 'program', 'jb', 'jb', 'pm', 'pm'], ['march', 'cacm', 'ca', 'ca', 'computer', 'computer'], ['march', 'cacm', 'ca', 'ca', 'computer', 'computer', 'program', 'program'], ['march', 'cacm', 'ca', 'ca', 'computer', 'computer', 'program', 'program', 'jb', 'jb'], ['march', 'cacm', 'ca', 'ca', 'computer', 'computer', 'pm', 'pm'], ['march', 'cacm', 'ca', 'ca', 'computer', 'computer', 'pm', 'pm', 'jb', 'jb'], ['march', 'cacm', 'ca', 'ca', 'computer', 'computer', 'jb', 'jb'], ['march', 'cacm', 'ca', 'ca', 'computer', 'computer', 'jb', 'jb', 'program', 'program'], ['march', 'cacm', 'ca', 'ca', 'computer', 'computer', 'jb', 'jb', 'pm', 'pm'], ['march', 'cacm', 'ca', 'ca', 'pm', 'pm'], ['march', 'cacm', 'ca', 'ca', 'pm', 'pm', 'program', 'program', 'jb'], ['march', 'cacm', 'ca', 'ca', 'pm', 'pm', 'computer', 'computer'], ['march', 'cacm', 'ca', 'ca', 'pm', 'pm', 'computer', 'computer', 'jb', 'jb'], ['march', 'cacm', 'ca', 'ca', 'pm', 'pm', 'jb', 'jb'], ['march', 'cacm', 'ca', 'ca', 'pm', 'pm', 'jb', 'jb', 'program', 'program'], ['march', 'cacm', 'ca', 'ca', 'pm', 'pm', 'jb', 'jb', 'computer', 'computer'], ['march', 'cacm', 'ca', 'ca', 'jb', 'jb'], ['march', 'cacm', 'ca', 'ca', 'jb', 'jb', 'program', 'program'], ['march', 'cacm', 'ca', 'ca', 'jb', 'jb', 'program', 'program', 'computer', 'computer'], ['march', 'cacm', 'ca', 'ca', 'jb', 'jb', 'program', 'program', 'pm', 'pm'], ['march', 'cacm', 'ca', 'ca', 'jb', 'jb', 'computer', 'computer'], ['march', 'cacm', 'ca', 'ca', 'jb', 'jb', 'computer', 'computer', 'program', 'program'], ['march', 'cacm', 'ca', 'ca', 'jb', 'jb', 'computer', 'computer', 'pm', 'pm'], ['march', 'cacm', 'ca', 'ca', 'jb', 'jb', 'pm', 'pm'], ['march', 'cacm', 'ca', 'ca', 'jb', 'jb', 'pm', 'pm', 'program', 'program'], ['march', 'cacm', 'ca', 'ca', 'jb', 'jb', 'pm', 'pm', 'computer', 'computer'], ['february', 'cacm'], ['february', 'cacm', 'program', 'program', 'ca'], ['february', 'cacm', 'program', 'program', 'ca', 'computer', 'computer'], ['february', 'cacm', 'program', 'program', 'ca', 'computer', 'computer', 'jb', 'jb'], ['february', 'cacm', 'program', 'program', 'ca', 'pm', 'pm'], ['february', 'cacm', 'program', 'program', 'ca', 'pm', 'pm', 'jb', 'jb'], ['february', 'cacm', 'program', 'program', 'ca', 'jb', 'jb'], ['february', 'cacm', 'program', 'program', 'ca', 'jb', 'jb', 'computer', 'computer'], ['february', 'cacm', 'program', 'program', 'ca', 'jb', 'jb', 'pm', 'pm'], ['february', 'cacm', 'computer', 'computer', 'ca'], ['february', 'cacm', 'computer', 'computer', 'ca', 'program', 'program'], ['february', 'cacm', 'computer', 'computer', 'ca', 'program', 'program', 'jb', 'jb'], ['february', 'cacm', 'computer', 'computer', 'ca', 'pm', 'pm'], ['february', 'cacm', 'computer', 'computer', 'ca', 'pm', 'pm', 'jb', 'jb'], ['february', 'cacm', 'computer', 'computer', 'ca', 'jb', 'jb'], ['february', 'cacm', 'computer', 'computer', 'ca', 'jb', 'jb', 'program', 'program'], ['february', 'cacm', 'computer', 'computer', 'ca', 'jb', 'jb', 'pm', 'pm'], ['february', 'cacm', 'pm', 'pm'], ['february', 'cacm', 'pm', 'pm', 'program', 'program', 'ca'], ['february', 'cacm', 'pm', 'pm', 'program', 'program', 'ca', 'jb', 'jb'], ['february', 'cacm', 'pm', 'pm', 'computer', 'computer', 'ca'], ['february', 'cacm', 'pm', 'pm', 'computer', 'computer', 'ca', 'jb', 'jb'], ['february', 'cacm', 'pm', 'pm', 'jb', 'jb', 'ca'], ['february', 'cacm', 'pm', 'pm', 'jb', 'jb', 'ca', 'program', 'program'], ['february', 'cacm', 'pm', 'pm', 'jb', 'jb', 'ca', 'computer', 'computer'], ['february', 'cacm', 'pm', 'pm', 'ca', 'ca'], ['february', 'cacm', 'pm', 'pm', 'ca', 'ca', 'program', 'program'], ['february', 'cacm', 'pm', 'pm', 'ca', 'ca', 'program', 'program', 'jb', 'jb'], ['february', 'cacm', 'pm', 'pm', 'ca', 'ca', 'computer', 'computer'], ['february', 'cacm', 'pm', 'pm', 'ca', 'ca', 'computer', 'computer', 'jb', 'jb'], ['february', 'cacm', 'pm', 'pm', 'ca', 'ca', 'jb', 'jb'], ['february', 'cacm', 'pm', 'pm', 'ca', 'ca', 'jb', 'jb', 'program', 'program'], ['february', 'cacm', 'pm', 'pm', 'ca', 'ca', 'jb', 'jb', 'computer', 'computer'], ['february', 'cacm', 'jb', 'jb', 'ca'], ['february', 'cacm', 'jb', 'jb', 'ca', 'program', 'program'], ['february', 'cacm', 'jb', 'jb', 'ca', 'program', 'program', 'computer', 'computer'], ['february', 'cacm', 'jb', 'jb', 'ca', 'program', 'program', 'pm', 'pm'], ['february', 'cacm', 'jb', 'jb', 'ca', 'computer', 'computer'], ['february', 'cacm', 'jb', 'jb', 'ca', 'computer', 'computer', 'program', 'program'], ['february', 'cacm', 'jb', 'jb', 'ca', 'computer', 'computer', 'pm', 'pm'], ['february', 'cacm', 'jb', 'jb', 'ca', 'pm', 'pm'], ['february', 'cacm', 'jb', 'jb', 'ca', 'pm', 'pm', 'program', 'program'], ['february', 'cacm', 'jb', 'jb', 'ca', 'pm', 'pm', 'computer', 'computer'], ['february', 'cacm', 'ca', 'ca'], ['february', 'cacm', 'ca', 'ca', 'program', 'program'], ['february', 'cacm', 'ca', 'ca', 'program', 'program', 'computer', 'computer'], ['february', 'cacm', 'ca', 'ca', 'program', 'program', 'computer', 'computer', 'jb', 'jb'], ['february', 'cacm', 'ca', 'ca', 'program', 'program', 'pm', 'pm'], ['february', 'cacm', 'ca', 'ca', 'program', 'program', 'pm', 'pm', 'jb', 'jb'], ['february', 'cacm', 'ca', 'ca', 'program', 'program', 'jb', 'jb'], ['february', 'cacm', 'ca', 'ca', 'program', 'program', 'jb', 'jb', 'computer', 'computer'], ['february', 'cacm', 'ca', 'ca', 'program', 'program', 'jb', 'jb', 'pm', 'pm'], ['february', 'cacm', 'ca', 'ca', 'computer', 'computer'], ['february', 'cacm', 'ca', 'ca', 'computer', 'computer', 'program', 'program'], ['february', 'cacm', 'ca', 'ca', 'computer', 'computer', 'program', 'program', 'jb', 'jb'], ['february', 'cacm', 'ca', 'ca', 'computer', 'computer', 'pm', 'pm'], ['february', 'cacm', 'ca', 'ca', 'computer', 'computer', 'pm', 'pm', 'jb', 'jb'], ['february', 'cacm', 'ca', 'ca', 'computer', 'computer', 'jb', 'jb'], ['february', 'cacm', 'ca', 'ca', 'computer', 'computer', 'jb', 'jb', 'program', 'program'], ['february', 'cacm', 'ca', 'ca', 'computer', 'computer', 'jb', 'jb', 'pm', 'pm'], ['february', 'cacm', 'ca', 'ca', 'pm', 'pm'], ['february', 'cacm', 'ca', 'ca', 'pm', 'pm', 'program', 'program'], ['february', 'cacm', 'ca', 'ca', 'pm', 'pm', 'program', 'program', 'jb', 'jb'], ['february', 'cacm', 'ca', 'ca', 'pm', 'pm', 'computer', 'computer'], ['february', 'cacm', 'ca', 'ca', 'pm', 'pm', 'computer', 'computer', 'jb', 'jb'], ['february', 'cacm', 'ca', 'ca', 'pm', 'pm', 'jb', 'jb'], ['february', 'cacm', 'ca', 'ca', 'pm', 'pm', 'jb', 'jb', 'program', 'program'], ['february', 'cacm', 'ca', 'ca', 'pm', 'pm', 'jb', 'jb', 'computer', 'computer'], ['february', 'cacm', 'ca', 'ca', 'jb', 'jb'], ['february', 'cacm', 'ca', 'ca', 'jb', 'jb', 'program', 'program'], ['february', 'cacm', 'ca', 'ca', 'jb', 'jb', 'program', 'program', 'computer', 'computer'], ['february', 'cacm', 'ca', 'ca', 'jb', 'jb', 'program', 'program', 'pm', 'pm'], ['february', 'cacm', 'ca', 'ca', 'jb', 'jb', 'computer', 'computer'], ['february', 'cacm', 'ca', 'ca', 'jb', 'jb', 'computer', 'computer', 'program', 'program'], ['february', 'cacm', 'ca', 'ca', 'jb', 'jb', 'computer', 'computer', 'pm', 'pm'], ['february', 'cacm', 'ca', 'ca', 'jb', 'jb', 'pm', 'pm'], ['february', 'cacm', 'ca', 'ca', 'jb', 'jb', 'pm', 'pm', 'program', 'program'], ['february', 'cacm', 'ca', 'ca', 'jb', 'jb', 'pm', 'pm', 'computer', 'computer'], ['january', 'cacm'], ['january', 'cacm', 'program', 'program', 'ca'], ['january', 'cacm', 'program', 'program', 'ca', 'pm', 'pm'], ['january', 'cacm', 'program', 'program', 'ca', 'jb', 'jb'], ['january', 'cacm', 'computer', 'computer', 'ca'], ['january', 'cacm', 'computer', 'computer', 'ca', 'pm', 'pm'], ['january', 'cacm', 'computer', 'computer', 'ca', 'pm', 'pm', 'jb', 'jb'], ['january', 'cacm', 'computer', 'computer', 'ca', 'jb', 'jb'], ['january', 'cacm', 'computer', 'computer', 'ca', 'jb', 'jb', 'pm', 'pm'], ['january', 'cacm', 'pm', 'pm'], ['january', 'cacm', 'pm', 'pm', 'program', 'program', 'ca'], ['january', 'cacm', 'pm', 'pm', 'computer', 'computer', 'ca'], ['january', 'cacm', 'pm', 'pm', 'computer', 'computer', 'ca', 'jb', 'jb'], ['january', 'cacm', 'pm', 'pm', 'jb', 'jb', 'ca'], ['january', 'cacm', 'pm', 'pm', 'jb', 'jb', 'ca', 'computer', 'computer'], ['january', 'cacm', 'pm', 'pm', 'ca', 'ca'], ['january', 'cacm', 'pm', 'pm', 'ca', 'ca', 'program', 'program'], ['january', 'cacm', 'pm', 'pm', 'ca', 'ca', 'computer', 'computer'], ['january', 'cacm', 'pm', 'pm', 'ca', 'ca', 'computer', 'computer', 'jb', 'jb'], ['january', 'cacm', 'pm', 'pm', 'ca', 'ca', 'jb', 'jb'], ['january', 'cacm', 'pm', 'pm', 'ca', 'ca', 'jb', 'jb', 'computer', 'computer'], ['january', 'cacm', 'jb', 'jb', 'ca'], ['january', 'cacm', 'jb', 'jb', 'ca', 'program', 'program'], ['january', 'cacm', 'jb', 'jb', 'ca', 'computer', 'computer'], ['january', 'cacm', 'jb', 'jb', 'ca', 'computer', 'computer', 'pm', 'pm'], ['january', 'cacm', 'jb', 'jb', 'ca', 'pm', 'pm'], ['january', 'cacm', 'jb', 'jb', 'ca', 'pm', 'pm', 'computer', 'computer'], ['january', 'cacm', 'ca', 'ca'], ['january', 'cacm', 'ca', 'ca', 'program', 'program'], ['january', 'cacm', 'ca', 'ca', 'program', 'program', 'pm', 'pm'], ['january', 'cacm', 'ca', 'ca', 'program', 'program', 'jb', 'jb'], ['january', 'cacm', 'ca', 'ca', 'computer', 'computer'], ['january', 'cacm', 'ca', 'ca', 'computer', 'computer', 'pm', 'pm'], ['january', 'cacm', 'ca', 'ca', 'computer', 'computer', 'pm', 'pm', 'jb', 'jb'], ['january', 'cacm', 'ca', 'ca', 'computer', 'computer', 'jb', 'jb'], ['january', 'cacm', 'ca', 'ca', 'computer', 'computer', 'jb', 'jb', 'pm', 'pm'], ['january', 'cacm', 'ca', 'ca', 'pm', 'pm'], ['january', 'cacm', 'ca', 'ca', 'pm', 'pm', 'program', 'program'], ['january', 'cacm', 'ca', 'ca', 'pm', 'pm', 'computer', 'computer'], ['january', 'cacm', 'ca', 'ca', 'pm', 'pm', 'computer', 'computer', 'jb', 'jb'], ['january', 'cacm', 'ca', 'ca', 'pm', 'pm', 'jb', 'jb'], ['january', 'cacm', 'ca', 'ca', 'pm', 'pm', 'jb', 'jb', 'computer', 'computer'], ['january', 'cacm', 'ca', 'ca', 'jb', 'jb'], ['january', 'cacm', 'ca', 'ca', 'jb', 'jb', 'program', 'program'], ['january', 'cacm', 'ca', 'ca', 'jb', 'jb', 'computer', 'computer'], ['january', 'cacm', 'ca', 'ca', 'jb', 'jb', 'computer', 'computer', 'pm', 'pm'], ['january', 'cacm', 'ca', 'ca', 'jb', 'jb', 'pm', 'pm'], ['january', 'cacm', 'ca', 'ca', 'jb', 'jb', 'pm', 'pm', 'computer', 'computer'], ['program', 'ca', 'cacm'], ['program', 'ca', 'cacm', 'computer', 'computer'], ['program', 'ca', 'cacm', 'computer', 'computer', 'pm', 'pm'], ['program', 'ca', 'cacm', 'computer', 'computer', 'pm', 'pm', 'jb', 'jb'], ['program', 'ca', 'cacm', 'computer', 'computer', 'jb', 'jb'], ['program', 'ca', 'cacm', 'computer', 'computer', 'jb', 'jb', 'pm', 'pm'], ['program', 'ca', 'cacm', 'pm', 'pm'], ['program', 'ca', 'cacm', 'pm', 'pm', 'computer', 'computer'], ['program', 'ca', 'cacm', 'pm', 'pm', 'computer', 'computer', 'jb', 'jb'], ['program', 'ca', 'cacm', 'pm', 'pm', 'jb', 'jb'], ['program', 'ca', 'cacm', 'pm', 'pm', 'jb', 'jb', 'computer', 'computer'], ['program', 'ca', 'cacm', 'jb', 'jb'], ['program', 'ca', 'cacm', 'jb', 'jb', 'computer', 'computer'], ['program', 'ca', 'cacm', 'jb', 'jb', 'computer', 'computer', 'pm', 'pm'], ['program', 'ca', 'cacm', 'jb', 'jb', 'pm', 'pm'], ['program', 'ca', 'cacm', 'jb', 'jb', 'pm', 'pm', 'computer', 'computer'], ['computer', 'cacm'], ['computer', 'cacm', 'pm', 'pm'], ['computer', 'cacm', 'pm', 'pm', 'jb', 'jb', 'ca'], ['computer', 'cacm', 'pm', 'pm', 'ca', 'ca'], ['computer', 'cacm', 'pm', 'pm', 'ca', 'ca', 'jb', 'jb'], ['computer', 'cacm', 'jb', 'jb', 'ca'], ['computer', 'cacm', 'jb', 'jb', 'ca', 'pm', 'pm'], ['computer', 'cacm', 'ca', 'ca'], ['computer', 'cacm', 'ca', 'ca', 'pm', 'pm'], ['computer', 'cacm', 'ca', 'ca', 'pm', 'pm', 'jb', 'jb'], ['computer', 'cacm', 'ca', 'ca', 'jb', 'jb'], ['computer', 'cacm', 'ca', 'ca', 'jb', 'jb', 'pm', 'pm'], ['pm', 'cacm'], ['pm', 'cacm', 'jb', 'jb', 'ca'], ['pm', 'cacm', 'ca', 'ca'], ['pm', 'cacm', 'ca', 'ca', 'jb', 'jb'], ['jb', 'ca', 'cacm'], ['ca', 'cacm'], ['cacm']], 3: [['method', 'jb', 'cacm'], ['method', 'jb', 'cacm', 'ca', 'ca'], ['method', 'jb', 'cacm', 'equation', 'equation'], ['march', 'cacm'], ['march', 'cacm', 'equation', 'equation'], ['march', 'cacm', 'equation', 'equation', 'jb', 'jb'], ['march', 'cacm', 'jb', 'jb'], ['march', 'cacm', 'jb', 'jb', 'equation', 'equation'], ['algorithm', 'jb', 'cacm'], ['algorithm', 'jb', 'cacm', 'ca', 'ca'], ['algorithm', 'jb', 'cacm', 'equation', 'equation'], ['solution', 'cacm'], ['solution', 'cacm', 'pm', 'pm', 'jb'], ['solution', 'cacm', 'pm', 'pm', 'jb', 'ca', 'ca'], ['solution', 'cacm', 'pm', 'pm', 'jb', 'ca', 'ca', 'equation', 'equation'], ['solution', 'cacm', 'pm', 'pm', 'jb', 'equation', 'equation'], ['solution', 'cacm', 'pm', 'pm', 'jb', 'equation', 'equation', 'ca', 'ca'], ['solution', 'cacm', 'ca', 'ca'], ['solution', 'cacm', 'ca', 'ca', 'pm', 'pm', 'jb'], ['solution', 'cacm', 'ca', 'ca', 'pm', 'pm', 'jb', 'equation', 'equation'], ['solution', 'cacm', 'ca', 'ca', 'equation', 'equation'], ['solution', 'cacm', 'ca', 'ca', 'equation', 'equation', 'pm', 'pm', 'jb'], ['solution', 'cacm', 'ca', 'ca', 'equation', 'equation', 'jb', 'jb'], ['solution', 'cacm', 'ca', 'ca', 'equation', 'equation', 'jb', 'jb', 'pm', 'pm'], ['solution', 'cacm', 'ca', 'ca', 'jb', 'jb'], ['solution', 'cacm', 'ca', 'ca', 'jb', 'jb', 'pm', 'pm'], ['solution', 'cacm', 'ca', 'ca', 'jb', 'jb', 'pm', 'pm', 'equation', 'equation'], ['solution', 'cacm', 'ca', 'ca', 'jb', 'jb', 'equation', 'equation'], ['solution', 'cacm', 'ca', 'ca', 'jb', 'jb', 'equation', 'equation', 'pm', 'pm'], ['solution', 'cacm', 'equation', 'equation'], ['solution', 'cacm', 'equation', 'equation', 'pm', 'pm', 'jb'], ['solution', 'cacm', 'equation', 'equation', 'pm', 'pm', 'jb', 'ca', 'ca'], ['solution', 'cacm', 'equation', 'equation', 'ca', 'ca'], ['solution', 'cacm', 'equation', 'equation', 'ca', 'ca', 'pm', 'pm', 'jb'], ['solution', 'cacm', 'equation', 'equation', 'ca', 'ca', 'jb', 'jb'], ['solution', 'cacm', 'equation', 'equation', 'ca', 'ca', 'jb', 'jb', 'pm', 'pm'], ['solution', 'cacm', 'equation', 'equation', 'jb', 'jb'], ['solution', 'cacm', 'equation', 'equation', 'jb', 'jb', 'pm', 'pm'], ['solution', 'cacm', 'equation', 'equation', 'jb', 'jb', 'pm', 'pm', 'ca', 'ca'], ['solution', 'cacm', 'equation', 'equation', 'jb', 'jb', 'ca', 'ca'], ['solution', 'cacm', 'equation', 'equation', 'jb', 'jb', 'ca', 'ca', 'pm', 'pm'], ['solution', 'cacm', 'jb', 'jb'], ['solution', 'cacm', 'jb', 'jb', 'pm', 'pm'], ['solution', 'cacm', 'jb', 'jb', 'pm', 'pm', 'ca', 'ca'], ['solution', 'cacm', 'jb', 'jb', 'pm', 'pm', 'ca', 'ca', 'equation', 'equation'], ['solution', 'cacm', 'jb', 'jb', 'pm', 'pm', 'equation', 'equation'], ['solution', 'cacm', 'jb', 'jb', 'pm', 'pm', 'equation', 'equation', 'ca', 'ca'], ['solution', 'cacm', 'jb', 'jb', 'ca', 'ca'], ['solution', 'cacm', 'jb', 'jb', 'ca', 'ca', 'pm', 'pm'], ['solution', 'cacm', 'jb', 'jb', 'ca', 'ca', 'pm', 'pm', 'equation', 'equation'], ['solution', 'cacm', 'jb', 'jb', 'ca', 'ca', 'equation', 'equation'], ['solution', 'cacm', 'jb', 'jb', 'ca', 'ca', 'equation', 'equation', 'pm', 'pm'], ['solution', 'cacm', 'jb', 'jb', 'equation', 'equation'], ['solution', 'cacm', 'jb', 'jb', 'equation', 'equation', 'pm', 'pm'], ['solution', 'cacm', 'jb', 'jb', 'equation', 'equation', 'pm', 'pm', 'ca', 'ca'], ['solution', 'cacm', 'jb', 'jb', 'equation', 'equation', 'ca', 'ca'], ['solution', 'cacm', 'jb', 'jb', 'equation', 'equation', 'ca', 'ca', 'pm', 'pm'], ['pm', 'jb', 'cacm'], ['pm', 'jb', 'cacm', 'ca', 'ca'], ['pm', 'jb', 'cacm', 'ca', 'ca', 'equation', 'equation'], ['pm', 'jb', 'cacm', 'equation', 'equation'], ['pm', 'jb', 'cacm', 'equation', 'equation', 'ca', 'ca'], ['ca', 'cacm'], ['ca', 'cacm', 'equation', 'equation'], ['ca', 'cacm', 'equation', 'equation', 'jb', 'jb'], ['ca', 'cacm', 'jb', 'jb'], ['ca', 'cacm', 'jb', 'jb', 'equation', 'equation'], ['equation', 'cacm'], ['equation', 'cacm', 'jb', 'jb'], ['jb', 'cacm'], ['cacm']], 4: [['march', 'cacm'], ['march', 'cacm', 'pm', 'pm'], ['march', 'cacm', 'pm', 'pm', 'ca', 'ca', 'jb', 'matrix'], ['march', 'cacm', 'pm', 'pm', 'jb', 'jb'], ['march', 'cacm', 'pm', 'pm', 'jb', 'jb', 'ca', 'ca', 'matrix'], ['march', 'cacm', 'pm', 'pm', 'jb', 'jb', 'matrix', 'matrix'], ['march', 'cacm', 'pm', 'pm', 'jb', 'jb', 'matrix', 'matrix', 'ca', 'ca'], ['march', 'cacm', 'pm', 'pm', 'matrix', 'matrix'], ['march', 'cacm', 'pm', 'pm', 'matrix', 'matrix', 'ca', 'ca', 'jb'], ['march', 'cacm', 'pm', 'pm', 'matrix', 'matrix', 'jb', 'jb'], ['march', 'cacm', 'pm', 'pm', 'matrix', 'matrix', 'jb', 'jb', 'ca', 'ca'], ['march', 'cacm', 'ca', 'ca', 'jb', 'matrix'], ['march', 'cacm', 'ca', 'ca', 'jb', 'matrix', 'pm', 'pm'], ['march', 'cacm', 'jb', 'jb'], ['march', 'cacm', 'jb', 'jb', 'pm', 'pm'], ['march', 'cacm', 'jb', 'jb', 'pm', 'pm', 'ca', 'ca', 'matrix'], ['march', 'cacm', 'jb', 'jb', 'pm', 'pm', 'matrix', 'matrix'], ['march', 'cacm', 'jb', 'jb', 'pm', 'pm', 'matrix', 'matrix', 'ca', 'ca'], ['march', 'cacm', 'jb', 'jb', 'ca', 'ca', 'matrix'], ['march', 'cacm', 'jb', 'jb', 'ca', 'ca', 'matrix', 'pm', 'pm'], ['march', 'cacm', 'jb', 'jb', 'matrix', 'matrix'], ['march', 'cacm', 'jb', 'jb', 'matrix', 'matrix', 'pm', 'pm'], ['march', 'cacm', 'jb', 'jb', 'matrix', 'matrix', 'pm', 'pm', 'ca', 'ca'], ['march', 'cacm', 'jb', 'jb', 'matrix', 'matrix', 'ca', 'ca'], ['march', 'cacm', 'jb', 'jb', 'matrix', 'matrix', 'ca', 'ca', 'pm', 'pm'], ['march', 'cacm', 'matrix', 'matrix'], ['march', 'cacm', 'matrix', 'matrix', 'pm', 'pm'], ['march', 'cacm', 'matrix', 'matrix', 'pm', 'pm', 'ca', 'ca', 'jb'], ['march', 'cacm', 'matrix', 'matrix', 'pm', 'pm', 'jb', 'jb'], ['march', 'cacm', 'matrix', 'matrix', 'pm', 'pm', 'jb', 'jb', 'ca', 'ca'], ['march', 'cacm', 'matrix', 'matrix', 'ca', 'ca', 'jb'], ['march', 'cacm', 'matrix', 'matrix', 'ca', 'ca', 'jb', 'pm', 'pm'], ['march', 'cacm', 'matrix', 'matrix', 'jb', 'jb'], ['march', 'cacm', 'matrix', 'matrix', 'jb', 'jb', 'pm', 'pm'], ['march', 'cacm', 'matrix', 'matrix', 'jb', 'jb', 'pm', 'pm', 'ca', 'ca'], ['march', 'cacm', 'matrix', 'matrix', 'jb', 'jb', 'ca', 'ca'], ['march', 'cacm', 'matrix', 'matrix', 'jb', 'jb', 'ca', 'ca', 'pm', 'pm'], ['algorithm', 'cacm'], ['algorithm', 'cacm', 'pm', 'pm'], ['algorithm', 'cacm', 'pm', 'pm', 'ca', 'ca', 'matrix'], ['algorithm', 'cacm', 'pm', 'pm', 'ca', 'ca', 'matrix', 'jb', 'jb'], ['algorithm', 'cacm', 'pm', 'pm', 'jb', 'jb'], ['algorithm', 'cacm', 'pm', 'pm', 'jb', 'jb', 'ca', 'ca', 'matrix'], ['algorithm', 'cacm', 'pm', 'pm', 'jb', 'jb', 'matrix', 'matrix'], ['algorithm', 'cacm', 'pm', 'pm', 'jb', 'jb', 'matrix', 'matrix', 'ca', 'ca'], ['algorithm', 'cacm', 'pm', 'pm', 'matrix', 'matrix'], ['algorithm', 'cacm', 'pm', 'pm', 'matrix', 'matrix', 'ca', 'ca'], ['algorithm', 'cacm', 'pm', 'pm', 'matrix', 'matrix', 'ca', 'ca', 'jb', 'jb'], ['algorithm', 'cacm', 'pm', 'pm', 'matrix', 'matrix', 'jb', 'jb'], ['algorithm', 'cacm', 'pm', 'pm', 'matrix', 'matrix', 'jb', 'jb', 'ca', 'ca'], ['algorithm', 'cacm', 'ca', 'ca', 'matrix'], ['algorithm', 'cacm', 'ca', 'ca', 'matrix', 'pm', 'pm'], ['algorithm', 'cacm', 'ca', 'ca', 'matrix', 'pm', 'pm', 'jb', 'jb'], ['algorithm', 'cacm', 'ca', 'ca', 'matrix', 'jb', 'jb'], ['algorithm', 'cacm', 'ca', 'ca', 'matrix', 'jb', 'jb', 'pm', 'pm'], ['algorithm', 'cacm', 'jb', 'jb'], ['algorithm', 'cacm', 'jb', 'jb', 'pm', 'pm'], ['algorithm', 'cacm', 'jb', 'jb', 'pm', 'pm', 'ca', 'ca', 'matrix'], ['algorithm', 'cacm', 'jb', 'jb', 'pm', 'pm', 'matrix', 'matrix'], ['algorithm', 'cacm', 'jb', 'jb', 'pm', 'pm', 'matrix', 'matrix', 'ca', 'ca'], ['algorithm', 'cacm', 'jb', 'jb', 'ca', 'ca', 'matrix'], ['algorithm', 'cacm', 'jb', 'jb', 'ca', 'ca', 'matrix', 'pm', 'pm'], ['algorithm', 'cacm', 'jb', 'jb', 'matrix', 'matrix'], ['algorithm', 'cacm', 'jb', 'jb', 'matrix', 'matrix', 'pm', 'pm'], ['algorithm', 'cacm', 'jb', 'jb', 'matrix', 'matrix', 'pm', 'pm', 'ca', 'ca'], ['algorithm', 'cacm', 'jb', 'jb', 'matrix', 'matrix', 'ca', 'ca'], ['algorithm', 'cacm', 'jb', 'jb', 'matrix', 'matrix', 'ca', 'ca', 'pm', 'pm'], ['algorithm', 'cacm', 'matrix', 'matrix'], ['algorithm', 'cacm', 'matrix', 'matrix', 'pm', 'pm'], ['algorithm', 'cacm', 'matrix', 'matrix', 'pm', 'pm', 'ca', 'ca'], ['algorithm', 'cacm', 'matrix', 'matrix', 'pm', 'pm', 'ca', 'ca', 'jb', 'jb'], ['algorithm', 'cacm', 'matrix', 'matrix', 'pm', 'pm', 'jb', 'jb'], ['algorithm', 'cacm', 'matrix', 'matrix', 'pm', 'pm', 'jb', 'jb', 'ca', 'ca'], ['algorithm', 'cacm', 'matrix', 'matrix', 'ca', 'ca'], ['algorithm', 'cacm', 'matrix', 'matrix', 'ca', 'ca', 'pm', 'pm'], ['algorithm', 'cacm', 'matrix', 'matrix', 'ca', 'ca', 'pm', 'pm', 'jb', 'jb'], ['algorithm', 'cacm', 'matrix', 'matrix', 'ca', 'ca', 'jb', 'jb'], ['algorithm', 'cacm', 'matrix', 'matrix', 'ca', 'ca', 'jb', 'jb', 'pm', 'pm'], ['algorithm', 'cacm', 'matrix', 'matrix', 'jb', 'jb'], ['algorithm', 'cacm', 'matrix', 'matrix', 'jb', 'jb', 'pm', 'pm'], ['algorithm', 'cacm', 'matrix', 'matrix', 'jb', 'jb', 'pm', 'pm', 'ca', 'ca'], ['algorithm', 'cacm', 'matrix', 'matrix', 'jb', 'jb', 'ca', 'ca'], ['algorithm', 'cacm', 'matrix', 'matrix', 'jb', 'jb', 'ca', 'ca', 'pm', 'pm'], ['pm', 'cacm'], ['pm', 'cacm', 'ca', 'ca', 'matrix'], ['pm', 'cacm', 'ca', 'ca', 'matrix', 'jb', 'jb'], ['pm', 'cacm', 'jb', 'jb'], ['pm', 'cacm', 'jb', 'jb', 'ca', 'ca', 'matrix'], ['pm', 'cacm', 'jb', 'jb', 'matrix', 'matrix'], ['pm', 'cacm', 'jb', 'jb', 'matrix', 'matrix', 'ca', 'ca'], ['pm', 'cacm', 'matrix', 'matrix'], ['pm', 'cacm', 'matrix', 'matrix', 'ca', 'ca'], ['pm', 'cacm', 'matrix', 'matrix', 'ca', 'ca', 'jb', 'jb'], ['pm', 'cacm', 'matrix', 'matrix', 'jb', 'jb'], ['pm', 'cacm', 'matrix', 'matrix', 'jb', 'jb', 'ca', 'ca'], ['ca', 'matrix', 'cacm'], ['ca', 'matrix', 'cacm', 'jb', 'jb'], ['jb', 'cacm'], ['jb', 'cacm', 'matrix', 'matrix'], ['matrix', 'cacm'], ['cacm']], 5: [['computer', 'ca', 'march', 'jb', 'cacm'], ['january', 'jb', 'cacm'], ['september', 'pm', 'cacm'], ['september', 'pm', 'cacm', 'ca', 'ca', 'march', 'jb'], ['september', 'pm', 'cacm', 'march', 'march'], ['september', 'pm', 'cacm', 'march', 'march', 'ca', 'ca', 'jb'], ['september', 'pm', 'cacm', 'march', 'march', 'jb', 'jb'], ['september', 'pm', 'cacm', 'march', 'march', 'jb', 'jb', 'ca', 'ca'], ['september', 'pm', 'cacm', 'jb', 'jb'], ['september', 'pm', 'cacm', 'jb', 'jb', 'ca', 'ca', 'march'], ['september', 'pm', 'cacm', 'jb', 'jb', 'march', 'march'], ['september', 'pm', 'cacm', 'jb', 'jb', 'march', 'march', 'ca', 'ca'], ['november', 'jb', 'cacm'], ['november', 'jb', 'cacm', 'pm', 'pm'], ['november', 'jb', 'cacm', 'pm', 'pm', 'ca', 'ca'], ['november', 'jb', 'cacm', 'pm', 'pm', 'ca', 'ca', 'march', 'march'], ['november', 'jb', 'cacm', 'pm', 'pm', 'march', 'march'], ['november', 'jb', 'cacm', 'pm', 'pm', 'march', 'march', 'ca', 'ca'], ['november', 'jb', 'cacm', 'ca', 'ca'], ['november', 'jb', 'cacm', 'ca', 'ca', 'pm', 'pm'], ['november', 'jb', 'cacm', 'ca', 'ca', 'pm', 'pm', 'march', 'march'], ['november', 'jb', 'cacm', 'ca', 'ca', 'march', 'pm', 'march'], ['november', 'jb', 'cacm', 'march', 'pm', 'march'], ['november', 'jb', 'cacm', 'march', 'pm', 'march', 'ca', 'ca'], ['february', 'cacm'], ['february', 'cacm', 'pm', 'pm'], ['february', 'cacm', 'pm', 'pm', 'jb', 'jb'], ['february', 'cacm', 'ca', 'ca'], ['february', 'cacm', 'ca', 'ca', 'jb', 'jb'], ['february', 'cacm', 'march', 'march'], ['february', 'cacm', 'march', 'march', 'jb', 'jb'], ['february', 'cacm', 'jb', 'jb'], ['february', 'cacm', 'jb', 'jb', 'pm', 'pm'], ['february', 'cacm', 'jb', 'jb', 'ca', 'ca'], ['february', 'cacm', 'jb', 'jb', 'march', 'march'], ['december', 'cacm'], ['december', 'cacm', 'pm', 'pm'], ['december', 'cacm', 'pm', 'pm', 'ca', 'ca'], ['december', 'cacm', 'pm', 'pm', 'ca', 'ca', 'march', 'march', 'jb'], ['december', 'cacm', 'pm', 'pm', 'ca', 'ca', 'jb', 'jb'], ['december', 'cacm', 'pm', 'pm', 'ca', 'ca', 'jb', 'jb', 'march', 'march'], ['december', 'cacm', 'pm', 'pm', 'march', 'march', 'jb'], ['december', 'cacm', 'pm', 'pm', 'march', 'march', 'jb', 'ca', 'ca'], ['december', 'cacm', 'pm', 'pm', 'jb', 'jb'], ['december', 'cacm', 'pm', 'pm', 'jb', 'jb', 'ca', 'ca'], ['december', 'cacm', 'pm', 'pm', 'jb', 'jb', 'ca', 'ca', 'march', 'march'], ['december', 'cacm', 'pm', 'pm', 'jb', 'jb', 'march', 'march'], ['december', 'cacm', 'pm', 'pm', 'jb', 'jb', 'march', 'march', 'ca', 'ca'], ['december', 'cacm', 'ca', 'ca'], ['december', 'cacm', 'ca', 'ca', 'pm', 'pm'], ['december', 'cacm', 'ca', 'ca', 'pm', 'pm', 'march', 'march', 'jb'], ['december', 'cacm', 'ca', 'ca', 'pm', 'pm', 'jb', 'jb'], ['december', 'cacm', 'ca', 'ca', 'pm', 'pm', 'jb', 'jb', 'march', 'march'], ['december', 'cacm', 'ca', 'ca', 'march', 'march', 'jb'], ['december', 'cacm', 'ca', 'ca', 'march', 'march', 'jb', 'pm', 'pm'], ['december', 'cacm', 'ca', 'ca', 'jb', 'jb'], ['december', 'cacm', 'ca', 'ca', 'jb', 'jb', 'pm', 'pm'], ['december', 'cacm', 'ca', 'ca', 'jb', 'jb', 'pm', 'pm', 'march', 'march'], ['december', 'cacm', 'ca', 'ca', 'jb', 'jb', 'march', 'march'], ['december', 'cacm', 'ca', 'ca', 'jb', 'jb', 'march', 'march', 'pm', 'pm'], ['december', 'cacm', 'march', 'march', 'jb'], ['december', 'cacm', 'march', 'march', 'jb', 'pm', 'pm'], ['december', 'cacm', 'march', 'march', 'jb', 'pm', 'pm', 'ca', 'ca'], ['december', 'cacm', 'march', 'march', 'jb', 'ca', 'ca'], ['december', 'cacm', 'march', 'march', 'jb', 'ca', 'ca', 'pm', 'pm'], ['december', 'cacm', 'jb', 'jb'], ['december', 'cacm', 'jb', 'jb', 'pm', 'pm'], ['december', 'cacm', 'jb', 'jb', 'pm', 'pm', 'ca', 'ca'], ['december', 'cacm', 'jb', 'jb', 'pm', 'pm', 'ca', 'ca', 'march', 'march'], ['december', 'cacm', 'jb', 'jb', 'pm', 'pm', 'march', 'march'], ['december', 'cacm', 'jb', 'jb', 'pm', 'pm', 'march', 'march', 'ca', 'ca'], ['december', 'cacm', 'jb', 'jb', 'ca', 'ca'], ['december', 'cacm', 'jb', 'jb', 'ca', 'ca', 'pm', 'pm'], ['december', 'cacm', 'jb', 'jb', 'ca', 'ca', 'pm', 'pm', 'march', 'march'], ['december', 'cacm', 'jb', 'jb', 'ca', 'ca', 'march', 'march'], ['december', 'cacm', 'jb', 'jb', 'ca', 'ca', 'march', 'march', 'pm', 'pm'], ['december', 'cacm', 'jb', 'jb', 'march', 'march'], ['december', 'cacm', 'jb', 'jb', 'march', 'march', 'pm', 'pm'], ['december', 'cacm', 'jb', 'jb', 'march', 'march', 'pm', 'pm', 'ca', 'ca'], ['december', 'cacm', 'jb', 'jb', 'march', 'march', 'ca', 'ca'], ['december', 'cacm', 'jb', 'jb', 'march', 'march', 'ca', 'ca', 'pm', 'pm'], ['april', 'jb', 'cacm'], ['april', 'jb', 'cacm', 'algorithm', 'algorithm'], ['april', 'jb', 'cacm', 'pm', 'pm'], ['april', 'jb', 'cacm', 'ca', 'ca'], ['april', 'jb', 'cacm', 'ca', 'ca', 'march', 'march'], ['april', 'jb', 'cacm', 'march', 'march'], ['april', 'jb', 'cacm', 'march', 'march', 'ca', 'ca'], ['june', 'jb', 'cacm'], ['june', 'jb', 'cacm', 'algorithm', 'algorithm'], ['june', 'jb', 'cacm', 'algorithm', 'algorithm', 'march', 'march'], ['june', 'jb', 'cacm', 'pm', 'pm'], ['june', 'jb', 'cacm', 'pm', 'pm', 'ca', 'ca'], ['june', 'jb', 'cacm', 'pm', 'pm', 'ca', 'ca', 'march', 'march'], ['june', 'jb', 'cacm', 'pm', 'pm', 'march', 'march'], ['june', 'jb', 'cacm', 'pm', 'pm', 'march', 'march', 'ca', 'ca'], ['june', 'jb', 'cacm', 'ca', 'ca'], ['june', 'jb', 'cacm', 'ca', 'ca', 'pm', 'pm'], ['june', 'jb', 'cacm', 'ca', 'ca', 'pm', 'pm', 'march', 'march'], ['june', 'jb', 'cacm', 'ca', 'ca', 'march', 'march'], ['june', 'jb', 'cacm', 'ca', 'ca', 'march', 'march', 'pm', 'pm'], ['june', 'jb', 'cacm', 'march', 'march'], ['june', 'jb', 'cacm', 'march', 'march', 'algorithm', 'algorithm'], ['june', 'jb', 'cacm', 'march', 'march', 'pm', 'pm'], ['june', 'jb', 'cacm', 'march', 'march', 'pm', 'pm', 'ca', 'ca'], ['june', 'jb', 'cacm', 'march', 'march', 'ca', 'ca'], ['june', 'jb', 'cacm', 'march', 'march', 'ca', 'ca', 'pm', 'pm'], ['august', 'ca', 'jb', 'cacm'], ['august', 'ca', 'jb', 'cacm', 'algorithm', 'algorithm'], ['august', 'ca', 'jb', 'cacm', 'algorithm', 'algorithm', 'pm', 'pm'], ['august', 'ca', 'jb', 'cacm', 'algorithm', 'algorithm', 'pm', 'pm', 'march', 'march'], ['august', 'ca', 'jb', 'cacm', 'algorithm', 'algorithm', 'march', 'pm', 'march'], ['august', 'ca', 'jb', 'cacm', 'pm', 'pm'], ['august', 'ca', 'jb', 'cacm', 'pm', 'pm', 'algorithm', 'algorithm'], ['august', 'ca', 'jb', 'cacm', 'pm', 'pm', 'algorithm', 'algorithm', 'march', 'march'], ['august', 'ca', 'jb', 'cacm', 'pm', 'pm', 'march', 'march'], ['august', 'ca', 'jb', 'cacm', 'pm', 'pm', 'march', 'march', 'algorithm', 'algorithm'], ['august', 'ca', 'jb', 'cacm', 'march', 'pm', 'march'], ['august', 'ca', 'jb', 'cacm', 'march', 'pm', 'march', 'algorithm', 'algorithm'], ['july', 'cacm'], ['july', 'cacm', 'algorithm', 'algorithm'], ['july', 'cacm', 'algorithm', 'algorithm', 'march', 'march'], ['july', 'cacm', 'algorithm', 'algorithm', 'march', 'march', 'jb', 'jb'], ['july', 'cacm', 'algorithm', 'algorithm', 'jb', 'jb'], ['july', 'cacm', 'algorithm', 'algorithm', 'jb', 'jb', 'march', 'march'], ['july', 'cacm', 'pm', 'pm', 'jb'], ['july', 'cacm', 'pm', 'pm', 'jb', 'ca', 'ca'], ['july', 'cacm', 'pm', 'pm', 'jb', 'ca', 'ca', 'march', 'march'], ['july', 'cacm', 'pm', 'pm', 'jb', 'march', 'march'], ['july', 'cacm', 'pm', 'pm', 'jb', 'march', 'march', 'ca', 'ca'], ['july', 'cacm', 'ca', 'ca', 'jb'], ['july', 'cacm', 'ca', 'ca', 'jb', 'pm', 'pm'], ['july', 'cacm', 'ca', 'ca', 'jb', 'pm', 'pm', 'march', 'march'], ['july', 'cacm', 'ca', 'ca', 'jb', 'march', 'march'], ['july', 'cacm', 'ca', 'ca', 'jb', 'march', 'march', 'pm', 'pm'], ['july', 'cacm', 'march', 'march'], ['july', 'cacm', 'march', 'march', 'algorithm', 'algorithm'], ['july', 'cacm', 'march', 'march', 'algorithm', 'algorithm', 'jb', 'jb'], ['july', 'cacm', 'march', 'march', 'pm', 'pm', 'jb'], ['july', 'cacm', 'march', 'march', 'pm', 'pm', 'jb', 'ca', 'ca'], ['july', 'cacm', 'march', 'march', 'ca', 'ca', 'jb'], ['july', 'cacm', 'march', 'march', 'ca', 'ca', 'jb', 'pm', 'pm'], ['july', 'cacm', 'march', 'march', 'jb', 'jb'], ['july', 'cacm', 'march', 'march', 'jb', 'jb', 'algorithm', 'algorithm'], ['july', 'cacm', 'march', 'march', 'jb', 'jb', 'pm', 'pm'], ['july', 'cacm', 'march', 'march', 'jb', 'jb', 'pm', 'pm', 'ca', 'ca'], ['july', 'cacm', 'march', 'march', 'jb', 'jb', 'ca', 'ca'], ['july', 'cacm', 'march', 'march', 'jb', 'jb', 'ca', 'ca', 'pm', 'pm'], ['july', 'cacm', 'jb', 'jb'], ['july', 'cacm', 'jb', 'jb', 'algorithm', 'algorithm'], ['july', 'cacm', 'jb', 'jb', 'algorithm', 'algorithm', 'march', 'march'], ['july', 'cacm', 'jb', 'jb', 'pm', 'pm'], ['july', 'cacm', 'jb', 'jb', 'pm', 'pm', 'ca', 'ca'], ['july', 'cacm', 'jb', 'jb', 'pm', 'pm', 'ca', 'ca', 'march', 'march'], ['july', 'cacm', 'jb', 'jb', 'pm', 'pm', 'march', 'march'], ['july', 'cacm', 'jb', 'jb', 'pm', 'pm', 'march', 'march', 'ca', 'ca'], ['july', 'cacm', 'jb', 'jb', 'ca', 'ca'], ['july', 'cacm', 'jb', 'jb', 'ca', 'ca', 'pm', 'pm'], ['july', 'cacm', 'jb', 'jb', 'ca', 'ca', 'pm', 'pm', 'march', 'march'], ['july', 'cacm', 'jb', 'jb', 'ca', 'ca', 'march', 'march'], ['july', 'cacm', 'jb', 'jb', 'ca', 'ca', 'march', 'march', 'pm', 'pm'], ['july', 'cacm', 'jb', 'jb', 'march', 'march'], ['july', 'cacm', 'jb', 'jb', 'march', 'march', 'algorithm', 'algorithm'], ['july', 'cacm', 'jb', 'jb', 'march', 'march', 'pm', 'pm'], ['july', 'cacm', 'jb', 'jb', 'march', 'march', 'pm', 'pm', 'ca', 'ca'], ['july', 'cacm', 'jb', 'jb', 'march', 'march', 'ca', 'ca'], ['july', 'cacm', 'jb', 'jb', 'march', 'march', 'ca', 'ca', 'pm', 'pm'], ['algorithm', 'cacm'], ['algorithm', 'cacm', 'pm', 'pm'], ['algorithm', 'cacm', 'pm', 'pm', 'ca', 'ca'], ['algorithm', 'cacm', 'pm', 'pm', 'ca', 'ca', 'march', 'march', 'jb'], ['algorithm', 'cacm', 'pm', 'pm', 'ca', 'ca', 'jb', 'jb'], ['algorithm', 'cacm', 'pm', 'pm', 'ca', 'ca', 'jb', 'jb', 'march', 'march'], ['algorithm', 'cacm', 'pm', 'pm', 'march', 'march'], ['algorithm', 'cacm', 'pm', 'pm', 'march', 'march', 'ca', 'ca', 'jb'], ['algorithm', 'cacm', 'pm', 'pm', 'march', 'march', 'jb', 'jb'], ['algorithm', 'cacm', 'pm', 'pm', 'march', 'march', 'jb', 'jb', 'ca', 'ca'], ['algorithm', 'cacm', 'pm', 'pm', 'jb', 'jb'], ['algorithm', 'cacm', 'pm', 'pm', 'jb', 'jb', 'ca', 'ca'], ['algorithm', 'cacm', 'pm', 'pm', 'jb', 'jb', 'ca', 'ca', 'march', 'march'], ['algorithm', 'cacm', 'pm', 'pm', 'jb', 'jb', 'march', 'march'], ['algorithm', 'cacm', 'pm', 'pm', 'jb', 'jb', 'march', 'march', 'ca', 'ca'], ['algorithm', 'cacm', 'ca', 'ca'], ['algorithm', 'cacm', 'ca', 'ca', 'pm', 'pm'], ['algorithm', 'cacm', 'ca', 'ca', 'pm', 'pm', 'march', 'march', 'jb'], ['algorithm', 'cacm', 'ca', 'ca', 'pm', 'pm', 'jb', 'jb'], ['algorithm', 'cacm', 'ca', 'ca', 'pm', 'pm', 'jb', 'jb', 'march', 'march'], ['algorithm', 'cacm', 'ca', 'ca', 'march', 'march', 'jb'], ['algorithm', 'cacm', 'ca', 'ca', 'march', 'march', 'jb', 'pm', 'pm'], ['algorithm', 'cacm', 'ca', 'ca', 'jb', 'jb'], ['algorithm', 'cacm', 'ca', 'ca', 'jb', 'jb', 'pm', 'pm'], ['algorithm', 'cacm', 'ca', 'ca', 'jb', 'jb', 'pm', 'pm', 'march', 'march'], ['algorithm', 'cacm', 'ca', 'ca', 'jb', 'jb', 'march', 'march'], ['algorithm', 'cacm', 'ca', 'ca', 'jb', 'jb', 'march', 'march', 'pm', 'pm'], ['algorithm', 'cacm', 'march', 'march'], ['algorithm', 'cacm', 'march', 'march', 'pm', 'pm'], ['algorithm', 'cacm', 'march', 'march', 'pm', 'pm', 'ca', 'ca', 'jb'], ['algorithm', 'cacm', 'march', 'march', 'pm', 'pm', 'jb', 'jb'], ['algorithm', 'cacm', 'march', 'march', 'pm', 'pm', 'jb', 'jb', 'ca', 'ca'], ['algorithm', 'cacm', 'march', 'march', 'ca', 'ca', 'jb'], ['algorithm', 'cacm', 'march', 'march', 'ca', 'ca', 'jb', 'pm', 'pm'], ['algorithm', 'cacm', 'march', 'march', 'jb', 'jb'], ['algorithm', 'cacm', 'march', 'march', 'jb', 'jb', 'pm', 'pm'], ['algorithm', 'cacm', 'march', 'march', 'jb', 'jb', 'pm', 'pm', 'ca', 'ca'], ['algorithm', 'cacm', 'march', 'march', 'jb', 'jb', 'ca', 'ca'], ['algorithm', 'cacm', 'march', 'march', 'jb', 'jb', 'ca', 'ca', 'pm', 'pm'], ['algorithm', 'cacm', 'jb', 'jb'], ['algorithm', 'cacm', 'jb', 'jb', 'pm', 'pm'], ['algorithm', 'cacm', 'jb', 'jb', 'pm', 'pm', 'ca', 'ca'], ['algorithm', 'cacm', 'jb', 'jb', 'pm', 'pm', 'ca', 'ca', 'march', 'march'], ['algorithm', 'cacm', 'jb', 'jb', 'pm', 'pm', 'march', 'march'], ['algorithm', 'cacm', 'jb', 'jb', 'pm', 'pm', 'march', 'march', 'ca', 'ca'], ['algorithm', 'cacm', 'jb', 'jb', 'ca', 'ca'], ['algorithm', 'cacm', 'jb', 'jb', 'ca', 'ca', 'pm', 'pm'], ['algorithm', 'cacm', 'jb', 'jb', 'ca', 'ca', 'pm', 'pm', 'march', 'march'], ['algorithm', 'cacm', 'jb', 'jb', 'ca', 'ca', 'march', 'march'], ['algorithm', 'cacm', 'jb', 'jb', 'ca', 'ca', 'march', 'march', 'pm', 'pm'], ['algorithm', 'cacm', 'jb', 'jb', 'march', 'march'], ['algorithm', 'cacm', 'jb', 'jb', 'march', 'march', 'pm', 'pm'], ['algorithm', 'cacm', 'jb', 'jb', 'march', 'march', 'pm', 'pm', 'ca', 'ca'], ['algorithm', 'cacm', 'jb', 'jb', 'march', 'march', 'ca', 'ca'], ['algorithm', 'cacm', 'jb', 'jb', 'march', 'march', 'ca', 'ca', 'pm', 'pm'], ['pm', 'cacm'], ['pm', 'cacm', 'ca', 'ca'], ['pm', 'cacm', 'ca', 'ca', 'march', 'march', 'jb'], ['pm', 'cacm', 'ca', 'ca', 'jb', 'jb'], ['pm', 'cacm', 'ca', 'ca', 'jb', 'jb', 'march', 'march'], ['pm', 'cacm', 'march', 'march'], ['pm', 'cacm', 'march', 'march', 'ca', 'ca', 'jb'], ['pm', 'cacm', 'march', 'march', 'jb', 'jb'], ['pm', 'cacm', 'march', 'march', 'jb', 'jb', 'ca', 'ca'], ['pm', 'cacm', 'jb', 'jb'], ['pm', 'cacm', 'jb', 'jb', 'ca', 'ca'], ['pm', 'cacm', 'jb', 'jb', 'ca', 'ca', 'march', 'march'], ['pm', 'cacm', 'jb', 'jb', 'march', 'march'], ['pm', 'cacm', 'jb', 'jb', 'march', 'march', 'ca', 'ca'], ['ca', 'cacm'], ['ca', 'cacm', 'march', 'march', 'jb'], ['ca', 'cacm', 'jb', 'jb'], ['ca', 'cacm', 'jb', 'jb', 'march', 'march'], ['march', 'cacm'], ['march', 'cacm', 'jb', 'jb'], ['jb', 'cacm'], ['cacm']], 6: [['fortran', 'ca', 'cacm'], ['fortran', 'ca', 'cacm', 'jb', 'jb'], ['standard', 'ca', 'cacm'], ['standard', 'ca', 'cacm', 'pm', 'pm'], ['standard', 'ca', 'cacm', 'pm', 'pm', 'jb', 'jb'], ['standard', 'ca', 'cacm', 'jb', 'jb'], ['standard', 'ca', 'cacm', 'jb', 'jb', 'pm', 'pm'], ['march', 'ca', 'cacm'], ['march', 'ca', 'cacm', 'pm', 'pm', 'jb'], ['march', 'ca', 'cacm', 'jb', 'jb'], ['march', 'ca', 'cacm', 'jb', 'jb', 'pm', 'pm'], ['pm', 'ca', 'cacm'], ['pm', 'ca', 'cacm', 'jb', 'jb'], ['jb', 'ca', 'cacm'], ['ca', 'cacm'], ['cacm']], 7: [['jb', 'ca', 'cacm', 'table'], ['ca', 'cacm', 'table'], ['cacm', 'table'], ['table']], 8: [['list', 'ca'], ['process', 'cacm'], ['order', 'cacm'], ['order', 'cacm', 'ca', 'ca'], ['point', 'ca'], ['point', 'ca', 'cacm', 'cacm'], ['based', 'ca'], ['based', 'ca', 'cacm', 'cacm'], ['developed', 'cacm'], ['developed', 'cacm', 'ca', 'ca'], ['present', 'cacm'], ['present', 'cacm', 'ca', 'ca'], ['required', 'cacm'], ['required', 'cacm', 'ca', 'ca'], ['polynomial', 'cacm'], ['polynomial', 'cacm', 'jb', 'jb', 'ca'], ['polynomial', 'cacm', 'ca', 'ca'], ['polynomial', 'cacm', 'ca', 'ca', 'jb', 'jb'], ['solution', 'cacm'], ['solution', 'cacm', 'ca', 'ca'], ['large'], ['large', 'ca', 'ca'], ['large', 'ca', 'ca', 'cacm', 'cacm'], ['large', 'cacm', 'cacm'], ['large', 'cacm', 'cacm', 'ca', 'ca'], ['graph', 'ca', 'cacm'], ['binary', 'ca', 'cacm'], ['search', 'ca', 'cacm'], ['arithmetic', 'ca', 'cacm'], ['arithmetic', 'ca', 'cacm', 'jb', 'jb'], ['case', 'cacm'], ['case', 'cacm', 'jb', 'jb', 'ca'], ['case', 'cacm', 'ca', 'ca'], ['case', 'cacm', 'ca', 'ca', 'jb', 'jb'], ['certain', 'ca', 'cacm'], ['certain', 'ca', 'cacm', 'jb', 'jb'], ['simple', 'ca', 'cacm'], ['simple', 'ca', 'cacm', 'jb', 'jb'], ['dh', 'ca', 'cacm'], ['random', 'ca', 'cacm'], ['random', 'ca', 'cacm', 'jb', 'jb'], ['value'], ['value', 'jb', 'jb'], ['value', 'jb', 'jb', 'ca', 'ca'], ['value', 'jb', 'jb', 'cacm', 'cacm'], ['value', 'ca', 'ca'], ['value', 'ca', 'ca', 'jb', 'jb'], ['value', 'ca', 'ca', 'cacm', 'cacm'], ['value', 'cacm', 'cacm'], ['value', 'cacm', 'cacm', 'jb', 'jb'], ['value', 'cacm', 'cacm', 'ca', 'ca'], ['april', 'ca', 'cacm'], ['computation', 'ca', 'cacm'], ['computation', 'ca', 'cacm', 'jb', 'jb'], ['information', 'cacm'], ['information', 'cacm', 'jb', 'jb', 'ca'], ['information', 'cacm', 'ca', 'ca'], ['information', 'cacm', 'ca', 'ca', 'jb', 'jb'], ['october', 'cacm'], ['october', 'cacm', 'jb', 'jb'], ['october', 'cacm', 'jb', 'jb', 'ca', 'ca'], ['october', 'cacm', 'ca', 'ca'], ['october', 'cacm', 'ca', 'ca', 'jb', 'jb'], ['processing', 'ca', 'cacm'], ['processing', 'ca', 'cacm', 'jb', 'jb'], ['tree', 'ca', 'cacm'], ['tree', 'ca', 'cacm', 'jb', 'jb'], ['application', 'ca', 'cacm'], ['application', 'ca', 'cacm', 'jb', 'jb'], ['efficient', 'cacm'], ['efficient', 'cacm', 'jb', 'jb', 'ca'], ['efficient', 'cacm', 'ca', 'ca'], ['efficient', 'cacm', 'ca', 'ca', 'jb', 'jb'], ['example', 'ca'], ['example', 'ca', 'jb', 'jb'], ['example', 'ca', 'jb', 'jb', 'cacm', 'cacm'], ['example', 'ca', 'cacm', 'cacm'], ['example', 'ca', 'cacm', 'cacm', 'jb', 'jb'], ['general', 'ca', 'cacm'], ['general', 'ca', 'cacm', 'jb', 'jb'], ['linear', 'ca', 'cacm'], ['linear', 'ca', 'cacm', 'algorithm', 'algorithm'], ['linear', 'ca', 'cacm', 'jb', 'jb'], ['november', 'ca', 'cacm'], ['november', 'ca', 'cacm', 'jb', 'jb'], ['variable', 'cacm'], ['variable', 'cacm', 'jb', 'jb', 'ca'], ['variable', 'cacm', 'ca', 'ca'], ['variable', 'cacm', 'ca', 'ca', 'jb', 'jb'], ['august', 'ca', 'cacm'], ['august', 'ca', 'cacm', 'jb', 'jb'], ['operation', 'cacm'], ['operation', 'cacm', 'jb', 'jb', 'ca'], ['operation', 'cacm', 'ca', 'ca'], ['operation', 'cacm', 'ca', 'ca', 'jb', 'jb'], ['july', 'cacm'], ['july', 'cacm', 'jb', 'jb', 'ca'], ['july', 'cacm', 'ca', 'ca'], ['july', 'cacm', 'ca', 'ca', 'jb', 'jb'], ['june'], ['june', 'pm', 'pm', 'ca'], ['june', 'pm', 'pm', 'ca', 'cacm', 'cacm'], ['june', 'jb', 'jb', 'ca'], ['june', 'jb', 'jb', 'ca', 'cacm', 'cacm'], ['june', 'ca', 'ca'], ['june', 'ca', 'ca', 'pm', 'pm'], ['june', 'ca', 'ca', 'pm', 'pm', 'cacm', 'cacm'], ['june', 'ca', 'ca', 'jb', 'jb'], ['june', 'ca', 'ca', 'jb', 'jb', 'cacm', 'cacm'], ['june', 'ca', 'ca', 'cacm', 'cacm'], ['june', 'ca', 'ca', 'cacm', 'cacm', 'pm', 'pm'], ['june', 'ca', 'ca', 'cacm', 'cacm', 'jb', 'jb'], ['june', 'cacm', 'cacm'], ['june', 'cacm', 'cacm', 'pm', 'pm', 'ca'], ['june', 'cacm', 'cacm', 'jb', 'jb', 'ca'], ['june', 'cacm', 'cacm', 'ca', 'ca'], ['june', 'cacm', 'cacm', 'ca', 'ca', 'pm', 'pm'], ['june', 'cacm', 'cacm', 'ca', 'ca', 'jb', 'jb'], ['discussed', 'cacm'], ['discussed', 'cacm', 'jb', 'jb', 'ca'], ['discussed', 'cacm', 'ca', 'ca'], ['discussed', 'cacm', 'ca', 'ca', 'jb', 'jb'], ['september', 'ca', 'cacm'], ['september', 'ca', 'cacm', 'jb', 'jb'], ['storage', 'cacm'], ['storage', 'cacm', 'pm', 'pm', 'ca'], ['storage', 'cacm', 'jb', 'jb', 'ca'], ['storage', 'cacm', 'ca', 'ca'], ['storage', 'cacm', 'ca', 'ca', 'pm', 'pm'], ['storage', 'cacm', 'ca', 'ca', 'jb', 'jb'], ['error', 'cacm'], ['error', 'cacm', 'pm', 'pm'], ['error', 'cacm', 'pm', 'pm', 'jb', 'jb', 'ca'], ['error', 'cacm', 'pm', 'pm', 'ca', 'ca'], ['error', 'cacm', 'pm', 'pm', 'ca', 'ca', 'jb', 'jb'], ['error', 'cacm', 'jb', 'jb', 'ca'], ['error', 'cacm', 'jb', 'jb', 'ca', 'pm', 'pm'], ['error', 'cacm', 'ca', 'ca'], ['error', 'cacm', 'ca', 'ca', 'pm', 'pm'], ['error', 'cacm', 'ca', 'ca', 'pm', 'pm', 'jb', 'jb'], ['error', 'cacm', 'ca', 'ca', 'jb', 'jb'], ['error', 'cacm', 'ca', 'ca', 'jb', 'jb', 'pm', 'pm'], ['function', 'cacm'], ['function', 'cacm', 'jb', 'jb', 'ca'], ['function', 'cacm', 'ca', 'ca'], ['function', 'cacm', 'ca', 'ca', 'jb', 'jb'], ['new', 'cacm'], ['new', 'cacm', 'pm', 'pm'], ['new', 'cacm', 'pm', 'pm', 'ca', 'ca'], ['new', 'cacm', 'jb', 'jb', 'ca'], ['new', 'cacm', 'ca', 'ca'], ['new', 'cacm', 'ca', 'ca', 'pm', 'pm'], ['new', 'cacm', 'ca', 'ca', 'jb', 'jb'], ['procedure', 'cacm'], ['procedure', 'cacm', 'pm', 'pm', 'ca'], ['procedure', 'cacm', 'pm', 'pm', 'ca', 'jb', 'jb'], ['procedure', 'cacm', 'jb', 'jb', 'ca'], ['procedure', 'cacm', 'jb', 'jb', 'ca', 'pm', 'pm'], ['procedure', 'cacm', 'ca', 'ca'], ['procedure', 'cacm', 'ca', 'ca', 'pm', 'pm'], ['procedure', 'cacm', 'ca', 'ca', 'pm', 'pm', 'jb', 'jb'], ['procedure', 'cacm', 'ca', 'ca', 'jb', 'jb'], ['procedure', 'cacm', 'ca', 'ca', 'jb', 'jb', 'pm', 'pm'], ['shown', 'ca', 'cacm'], ['shown', 'ca', 'cacm', 'pm', 'pm'], ['shown', 'ca', 'cacm', 'jb', 'jb'], ['structure', 'ca'], ['structure', 'ca', 'pm', 'pm'], ['structure', 'ca', 'pm', 'pm', 'cacm', 'cacm'], ['structure', 'ca', 'jb', 'jb'], ['structure', 'ca', 'jb', 'jb', 'cacm', 'cacm'], ['structure', 'ca', 'cacm', 'cacm'], ['structure', 'ca', 'cacm', 'cacm', 'pm', 'pm'], ['structure', 'ca', 'cacm', 'cacm', 'jb', 'jb'], ['december', 'ca', 'cacm'], ['december', 'ca', 'cacm', 'jb', 'jb'], ['set', 'cacm'], ['set', 'cacm', 'pm', 'pm', 'ca'], ['set', 'cacm', 'jb', 'jb', 'ca'], ['set', 'cacm', 'ca', 'ca'], ['set', 'cacm', 'ca', 'ca', 'pm', 'pm'], ['set', 'cacm', 'ca', 'ca', 'jb', 'jb'], ['analysis', 'cacm'], ['analysis', 'cacm', 'pm', 'pm'], ['analysis', 'cacm', 'pm', 'pm', 'ca', 'ca'], ['analysis', 'cacm', 'jb', 'jb', 'ca'], ['analysis', 'cacm', 'ca', 'ca'], ['analysis', 'cacm', 'ca', 'ca', 'pm', 'pm'], ['analysis', 'cacm', 'ca', 'ca', 'jb', 'jb'], ['programming', 'cacm'], ['programming', 'cacm', 'february', 'february', 'ca'], ['programming', 'cacm', 'pm', 'pm'], ['programming', 'cacm', 'pm', 'pm', 'jb', 'jb', 'ca'], ['programming', 'cacm', 'pm', 'pm', 'ca', 'ca'], ['programming', 'cacm', 'pm', 'pm', 'ca', 'ca', 'jb', 'jb'], ['programming', 'cacm', 'jb', 'jb', 'ca'], ['programming', 'cacm', 'jb', 'jb', 'ca', 'pm', 'pm'], ['programming', 'cacm', 'ca', 'ca'], ['programming', 'cacm', 'ca', 'ca', 'february', 'february'], ['programming', 'cacm', 'ca', 'ca', 'pm', 'pm'], ['programming', 'cacm', 'ca', 'ca', 'pm', 'pm', 'jb', 'jb'], ['programming', 'cacm', 'ca', 'ca', 'jb', 'jb'], ['programming', 'cacm', 'ca', 'ca', 'jb', 'jb', 'pm', 'pm'], ['result', 'cacm'], ['result', 'cacm', 'pm', 'pm'], ['result', 'cacm', 'pm', 'pm', 'jb', 'jb', 'ca'], ['result', 'cacm', 'pm', 'pm', 'ca', 'ca'], ['result', 'cacm', 'pm', 'pm', 'ca', 'ca', 'jb', 'jb'], ['result', 'cacm', 'jb', 'jb', 'ca'], ['result', 'cacm', 'jb', 'jb', 'ca', 'pm', 'pm'], ['result', 'cacm', 'ca', 'ca'], ['result', 'cacm', 'ca', 'ca', 'pm', 'pm'], ['result', 'cacm', 'ca', 'ca', 'pm', 'pm', 'jb', 'jb'], ['result', 'cacm', 'ca', 'ca', 'jb', 'jb'], ['result', 'cacm', 'ca', 'ca', 'jb', 'jb', 'pm', 'pm'], ['data', 'cacm'], ['data', 'cacm', 'pm', 'pm'], ['data', 'cacm', 'pm', 'pm', 'ca', 'ca'], ['data', 'cacm', 'jb', 'jb', 'ca'], ['data', 'cacm', 'ca', 'ca'], ['data', 'cacm', 'ca', 'ca', 'pm', 'pm'], ['data', 'cacm', 'ca', 'ca', 'jb', 'jb'], ['use', 'ca', 'cacm'], ['use', 'ca', 'cacm', 'pm', 'pm'], ['use', 'ca', 'cacm', 'pm', 'pm', 'jb', 'jb'], ['use', 'ca', 'cacm', 'jb', 'jb'], ['use', 'ca', 'cacm', 'jb', 'jb', 'pm', 'pm'], ['using', 'ca', 'cacm'], ['using', 'ca', 'cacm', 'algorithm', 'algorithm'], ['using', 'ca', 'cacm', 'pm', 'pm'], ['using', 'ca', 'cacm', 'pm', 'pm', 'jb', 'jb'], ['using', 'ca', 'cacm', 'jb', 'jb'], ['using', 'ca', 'cacm', 'jb', 'jb', 'pm', 'pm'], ['used', 'cacm'], ['used', 'cacm', 'method', 'method'], ['used', 'cacm', 'method', 'method', 'jb', 'jb', 'ca'], ['used', 'cacm', 'method', 'method', 'ca', 'ca'], ['used', 'cacm', 'method', 'method', 'ca', 'ca', 'jb', 'jb'], ['used', 'cacm', 'february', 'february'], ['used', 'cacm', 'pm', 'pm'], ['used', 'cacm', 'pm', 'pm', 'jb', 'jb', 'ca'], ['used', 'cacm', 'pm', 'pm', 'ca', 'ca'], ['used', 'cacm', 'pm', 'pm', 'ca', 'ca', 'jb', 'jb'], ['used', 'cacm', 'jb', 'jb', 'ca'], ['used', 'cacm', 'jb', 'jb', 'ca', 'method', 'method'], ['used', 'cacm', 'jb', 'jb', 'ca', 'pm', 'pm'], ['used', 'cacm', 'ca', 'ca'], ['used', 'cacm', 'ca', 'ca', 'method', 'method'], ['used', 'cacm', 'ca', 'ca', 'method', 'method', 'jb', 'jb'], ['used', 'cacm', 'ca', 'ca', 'pm', 'pm'], ['used', 'cacm', 'ca', 'ca', 'pm', 'pm', 'jb', 'jb'], ['used', 'cacm', 'ca', 'ca', 'jb', 'jb'], ['used', 'cacm', 'ca', 'ca', 'jb', 'jb', 'method', 'method'], ['used', 'cacm', 'ca', 'ca', 'jb', 'jb', 'pm', 'pm'], ['described'], ['described', 'march', 'march', 'cacm'], ['described', 'march', 'march', 'cacm', 'jb', 'jb', 'ca'], ['described', 'march', 'march', 'cacm', 'ca', 'jb', 'ca'], ['described', 'method', 'method', 'cacm'], ['described', 'method', 'method', 'cacm', 'jb', 'jb', 'ca'], ['described', 'method', 'method', 'cacm', 'ca', 'ca'], ['described', 'method', 'method', 'cacm', 'ca', 'ca', 'jb', 'jb'], ['described', 'february', 'february', 'ca'], ['described', 'february', 'february', 'ca', 'cacm', 'cacm'], ['described', 'pm', 'pm'], ['described', 'pm', 'pm', 'jb', 'jb', 'ca'], ['described', 'pm', 'pm', 'jb', 'jb', 'ca', 'cacm', 'cacm'], ['described', 'pm', 'pm', 'ca', 'ca'], ['described', 'pm', 'pm', 'ca', 'ca', 'jb', 'jb'], ['described', 'pm', 'pm', 'ca', 'ca', 'jb', 'jb', 'cacm', 'cacm'], ['described', 'pm', 'pm', 'ca', 'ca', 'cacm', 'cacm'], ['described', 'pm', 'pm', 'ca', 'ca', 'cacm', 'cacm', 'jb', 'jb'], ['described', 'pm', 'pm', 'cacm', 'cacm'], ['described', 'pm', 'pm', 'cacm', 'cacm', 'jb', 'jb', 'ca'], ['described', 'pm', 'pm', 'cacm', 'cacm', 'ca', 'ca'], ['described', 'pm', 'pm', 'cacm', 'cacm', 'ca', 'ca', 'jb', 'jb'], ['described', 'jb', 'jb', 'ca'], ['described', 'jb', 'jb', 'ca', 'march', 'march', 'cacm'], ['described', 'jb', 'jb', 'ca', 'method', 'method', 'cacm'], ['described', 'jb', 'jb', 'ca', 'pm', 'pm'], ['described', 'jb', 'jb', 'ca', 'pm', 'pm', 'cacm', 'cacm'], ['described', 'jb', 'jb', 'ca', 'cacm', 'cacm'], ['described', 'jb', 'jb', 'ca', 'cacm', 'cacm', 'march', 'march'], ['described', 'jb', 'jb', 'ca', 'cacm', 'cacm', 'method', 'method'], ['described', 'jb', 'jb', 'ca', 'cacm', 'cacm', 'pm', 'pm'], ['described', 'ca', 'ca'], ['described', 'ca', 'ca', 'march', 'march', 'jb', 'cacm'], ['described', 'ca', 'ca', 'method', 'method', 'cacm'], ['described', 'ca', 'ca', 'method', 'method', 'cacm', 'jb', 'jb'], ['described', 'ca', 'ca', 'february', 'february'], ['described', 'ca', 'ca', 'february', 'february', 'cacm', 'cacm'], ['described', 'ca', 'ca', 'pm', 'pm'], ['described', 'ca', 'ca', 'pm', 'pm', 'jb', 'jb'], ['described', 'ca', 'ca', 'pm', 'pm', 'jb', 'jb', 'cacm', 'cacm'], ['described', 'ca', 'ca', 'pm', 'pm', 'cacm', 'cacm'], ['described', 'ca', 'ca', 'pm', 'pm', 'cacm', 'cacm', 'jb', 'jb'], ['described', 'ca', 'ca', 'jb', 'jb'], ['described', 'ca', 'ca', 'jb', 'jb', 'march', 'march', 'cacm'], ['described', 'ca', 'ca', 'jb', 'jb', 'method', 'method', 'cacm'], ['described', 'ca', 'ca', 'jb', 'jb', 'pm', 'pm'], ['described', 'ca', 'ca', 'jb', 'jb', 'pm', 'pm', 'cacm', 'cacm'], ['described', 'ca', 'ca', 'jb', 'jb', 'cacm', 'cacm'], ['described', 'ca', 'ca', 'jb', 'jb', 'cacm', 'cacm', 'march', 'march'], ['described', 'ca', 'ca', 'jb', 'jb', 'cacm', 'cacm', 'method', 'method'], ['described', 'ca', 'ca', 'jb', 'jb', 'cacm', 'cacm', 'pm', 'pm'], ['described', 'ca', 'ca', 'cacm', 'cacm'], ['described', 'ca', 'ca', 'cacm', 'cacm', 'march', 'march', 'jb'], ['described', 'ca', 'ca', 'cacm', 'cacm', 'method', 'method'], ['described', 'ca', 'ca', 'cacm', 'cacm', 'method', 'method', 'jb', 'jb'], ['described', 'ca', 'ca', 'cacm', 'cacm', 'february', 'february'], ['described', 'ca', 'ca', 'cacm', 'cacm', 'pm', 'pm'], ['described', 'ca', 'ca', 'cacm', 'cacm', 'pm', 'pm', 'jb', 'jb'], ['described', 'ca', 'ca', 'cacm', 'cacm', 'jb', 'jb'], ['described', 'ca', 'ca', 'cacm', 'cacm', 'jb', 'jb', 'march', 'march'], ['described', 'ca', 'ca', 'cacm', 'cacm', 'jb', 'jb', 'method', 'method'], ['described', 'ca', 'ca', 'cacm', 'cacm', 'jb', 'jb', 'pm', 'pm'], ['described', 'cacm', 'cacm'], ['described', 'cacm', 'cacm', 'march', 'march'], ['described', 'cacm', 'cacm', 'march', 'march', 'jb', 'jb', 'ca'], ['described', 'cacm', 'cacm', 'march', 'march', 'ca', 'jb', 'ca'], ['described', 'cacm', 'cacm', 'method', 'method'], ['described', 'cacm', 'cacm', 'method', 'method', 'jb', 'jb', 'ca'], ['described', 'cacm', 'cacm', 'method', 'method', 'ca', 'ca'], ['described', 'cacm', 'cacm', 'method', 'method', 'ca', 'ca', 'jb', 'jb'], ['described', 'cacm', 'cacm', 'february', 'february', 'ca'], ['described', 'cacm', 'cacm', 'pm', 'pm'], ['described', 'cacm', 'cacm', 'pm', 'pm', 'jb', 'jb', 'ca'], ['described', 'cacm', 'cacm', 'pm', 'pm', 'ca', 'ca'], ['described', 'cacm', 'cacm', 'pm', 'pm', 'ca', 'ca', 'jb', 'jb'], ['described', 'cacm', 'cacm', 'jb', 'jb', 'ca'], ['described', 'cacm', 'cacm', 'jb', 'jb', 'ca', 'march', 'march'], ['described', 'cacm', 'cacm', 'jb', 'jb', 'ca', 'method', 'method'], ['described', 'cacm', 'cacm', 'jb', 'jb', 'ca', 'pm', 'pm'], ['described', 'cacm', 'cacm', 'ca', 'ca'], ['described', 'cacm', 'cacm', 'ca', 'ca', 'march', 'march', 'jb'], ['described', 'cacm', 'cacm', 'ca', 'ca', 'method', 'method'], ['described', 'cacm', 'cacm', 'ca', 'ca', 'method', 'method', 'jb', 'jb'], ['described', 'cacm', 'cacm', 'ca', 'ca', 'february', 'february'], ['described', 'cacm', 'cacm', 'ca', 'ca', 'pm', 'pm'], ['described', 'cacm', 'cacm', 'ca', 'ca', 'pm', 'pm', 'jb', 'jb'], ['described', 'cacm', 'cacm', 'ca', 'ca', 'jb', 'jb'], ['described', 'cacm', 'cacm', 'ca', 'ca', 'jb', 'jb', 'march', 'march'], ['described', 'cacm', 'cacm', 'ca', 'ca', 'jb', 'jb', 'method', 'method'], ['described', 'cacm', 'cacm', 'ca', 'ca', 'jb', 'jb', 'pm', 'pm'], ['program'], ['program', 'march', 'march', 'cacm'], ['program', 'march', 'march', 'cacm', 'ca', 'ca'], ['program', 'pm', 'pm'], ['program', 'pm', 'pm', 'jb', 'jb', 'ca'], ['program', 'pm', 'pm', 'jb', 'jb', 'ca', 'cacm', 'cacm'], ['program', 'pm', 'pm', 'ca', 'ca'], ['program', 'pm', 'pm', 'ca', 'ca', 'jb', 'jb'], ['program', 'pm', 'pm', 'ca', 'ca', 'jb', 'jb', 'cacm', 'cacm'], ['program', 'pm', 'pm', 'ca', 'ca', 'cacm', 'cacm'], ['program', 'pm', 'pm', 'ca', 'ca', 'cacm', 'cacm', 'jb', 'jb'], ['program', 'pm', 'pm', 'cacm', 'cacm'], ['program', 'pm', 'pm', 'cacm', 'cacm', 'jb', 'jb', 'ca'], ['program', 'pm', 'pm', 'cacm', 'cacm', 'ca', 'ca'], ['program', 'pm', 'pm', 'cacm', 'cacm', 'ca', 'ca', 'jb', 'jb'], ['program', 'jb', 'jb', 'ca'], ['program', 'jb', 'jb', 'ca', 'pm', 'pm'], ['program', 'jb', 'jb', 'ca', 'pm', 'pm', 'cacm', 'cacm'], ['program', 'jb', 'jb', 'ca', 'cacm', 'cacm'], ['program', 'jb', 'jb', 'ca', 'cacm', 'cacm', 'pm', 'pm'], ['program', 'ca', 'ca'], ['program', 'ca', 'ca', 'march', 'march', 'cacm'], ['program', 'ca', 'ca', 'pm', 'pm'], ['program', 'ca', 'ca', 'pm', 'pm', 'jb', 'jb'], ['program', 'ca', 'ca', 'pm', 'pm', 'jb', 'jb', 'cacm', 'cacm'], ['program', 'ca', 'ca', 'pm', 'pm', 'cacm', 'cacm'], ['program', 'ca', 'ca', 'pm', 'pm', 'cacm', 'cacm', 'jb', 'jb'], ['program', 'ca', 'ca', 'jb', 'jb'], ['program', 'ca', 'ca', 'jb', 'jb', 'pm', 'pm'], ['program', 'ca', 'ca', 'jb', 'jb', 'pm', 'pm', 'cacm', 'cacm'], ['program', 'ca', 'ca', 'jb', 'jb', 'cacm', 'cacm'], ['program', 'ca', 'ca', 'jb', 'jb', 'cacm', 'cacm', 'pm', 'pm'], ['program', 'ca', 'ca', 'cacm', 'cacm'], ['program', 'ca', 'ca', 'cacm', 'cacm', 'march', 'march'], ['program', 'ca', 'ca', 'cacm', 'cacm', 'pm', 'pm'], ['program', 'ca', 'ca', 'cacm', 'cacm', 'pm', 'pm', 'jb', 'jb'], ['program', 'ca', 'ca', 'cacm', 'cacm', 'jb', 'jb'], ['program', 'ca', 'ca', 'cacm', 'cacm', 'jb', 'jb', 'pm', 'pm'], ['program', 'cacm', 'cacm'], ['program', 'cacm', 'cacm', 'march', 'march'], ['program', 'cacm', 'cacm', 'march', 'march', 'ca', 'ca'], ['program', 'cacm', 'cacm', 'pm', 'pm'], ['program', 'cacm', 'cacm', 'pm', 'pm', 'jb', 'jb', 'ca'], ['program', 'cacm', 'cacm', 'pm', 'pm', 'ca', 'ca'], ['program', 'cacm', 'cacm', 'pm', 'pm', 'ca', 'ca', 'jb', 'jb'], ['program', 'cacm', 'cacm', 'jb', 'jb', 'ca'], ['program', 'cacm', 'cacm', 'jb', 'jb', 'ca', 'pm', 'pm'], ['program', 'cacm', 'cacm', 'ca', 'ca'], ['program', 'cacm', 'cacm', 'ca', 'ca', 'march', 'march'], ['program', 'cacm', 'cacm', 'ca', 'ca', 'pm', 'pm'], ['program', 'cacm', 'cacm', 'ca', 'ca', 'pm', 'pm', 'jb', 'jb'], ['program', 'cacm', 'cacm', 'ca', 'ca', 'jb', 'jb'], ['program', 'cacm', 'cacm', 'ca', 'ca', 'jb', 'jb', 'pm', 'pm'], ['time', 'cacm'], ['time', 'cacm', 'presented', 'presented'], ['time', 'cacm', 'presented', 'presented', 'ca', 'ca'], ['time', 'cacm', 'number', 'number'], ['time', 'cacm', 'number', 'number', 'ca', 'ca'], ['time', 'cacm', 'method', 'method'], ['time', 'cacm', 'february', 'february'], ['time', 'cacm', 'february', 'february', 'ca', 'ca'], ['time', 'cacm', 'january', 'january'], ['time', 'cacm', 'january', 'january', 'jb', 'jb', 'ca'], ['time', 'cacm', 'january', 'january', 'ca', 'ca'], ['time', 'cacm', 'january', 'january', 'ca', 'ca', 'jb', 'jb'], ['time', 'cacm', 'algorithm', 'algorithm'], ['time', 'cacm', 'algorithm', 'algorithm', 'jb', 'jb', 'ca'], ['time', 'cacm', 'algorithm', 'algorithm', 'ca', 'ca'], ['time', 'cacm', 'algorithm', 'algorithm', 'ca', 'ca', 'jb', 'jb'], ['time', 'cacm', 'pm', 'pm'], ['time', 'cacm', 'pm', 'pm', 'jb', 'jb', 'ca'], ['time', 'cacm', 'pm', 'pm', 'ca', 'ca'], ['time', 'cacm', 'pm', 'pm', 'ca', 'ca', 'jb', 'jb'], ['time', 'cacm', 'jb', 'jb', 'ca'], ['time', 'cacm', 'jb', 'jb', 'ca', 'january', 'january'], ['time', 'cacm', 'jb', 'jb', 'ca', 'algorithm', 'algorithm'], ['time', 'cacm', 'jb', 'jb', 'ca', 'pm', 'pm'], ['time', 'cacm', 'ca', 'ca'], ['time', 'cacm', 'ca', 'ca', 'presented', 'presented'], ['time', 'cacm', 'ca', 'ca', 'number', 'number'], ['time', 'cacm', 'ca', 'ca', 'february', 'february'], ['time', 'cacm', 'ca', 'ca', 'january', 'january'], ['time', 'cacm', 'ca', 'ca', 'january', 'january', 'jb', 'jb'], ['time', 'cacm', 'ca', 'ca', 'algorithm', 'algorithm'], ['time', 'cacm', 'ca', 'ca', 'algorithm', 'algorithm', 'jb', 'jb'], ['time', 'cacm', 'ca', 'ca', 'pm', 'pm'], ['time', 'cacm', 'ca', 'ca', 'pm', 'pm', 'jb', 'jb'], ['time', 'cacm', 'ca', 'ca', 'jb', 'jb'], ['time', 'cacm', 'ca', 'ca', 'jb', 'jb', 'january', 'january'], ['time', 'cacm', 'ca', 'ca', 'jb', 'jb', 'algorithm', 'algorithm'], ['time', 'cacm', 'ca', 'ca', 'jb', 'jb', 'pm', 'pm'], ['technique', 'cacm'], ['technique', 'cacm', 'march', 'march', 'ca'], ['technique', 'cacm', 'march', 'march', 'ca', 'jb', 'jb'], ['technique', 'cacm', 'method', 'method'], ['technique', 'cacm', 'method', 'method', 'jb', 'jb', 'ca'], ['technique', 'cacm', 'method', 'method', 'ca', 'ca'], ['technique', 'cacm', 'method', 'method', 'ca', 'ca', 'jb', 'jb'], ['technique', 'cacm', 'february', 'february'], ['technique', 'cacm', 'february', 'february', 'ca', 'ca'], ['technique', 'cacm', 'pm', 'pm', 'ca'], ['technique', 'cacm', 'pm', 'pm', 'ca', 'jb', 'jb'], ['technique', 'cacm', 'jb', 'jb', 'ca'], ['technique', 'cacm', 'jb', 'jb', 'ca', 'march', 'march'], ['technique', 'cacm', 'jb', 'jb', 'ca', 'method', 'method'], ['technique', 'cacm', 'jb', 'jb', 'ca', 'pm', 'pm'], ['technique', 'cacm', 'ca', 'ca'], ['technique', 'cacm', 'ca', 'ca', 'march', 'march'], ['technique', 'cacm', 'ca', 'ca', 'march', 'march', 'jb', 'jb'], ['technique', 'cacm', 'ca', 'ca', 'method', 'method'], ['technique', 'cacm', 'ca', 'ca', 'method', 'method', 'jb', 'jb'], ['technique', 'cacm', 'ca', 'ca', 'february', 'february'], ['technique', 'cacm', 'ca', 'ca', 'pm', 'pm'], ['technique', 'cacm', 'ca', 'ca', 'pm', 'pm', 'jb', 'jb'], ['technique', 'cacm', 'ca', 'ca', 'jb', 'jb'], ['technique', 'cacm', 'ca', 'ca', 'jb', 'jb', 'march', 'march'], ['technique', 'cacm', 'ca', 'ca', 'jb', 'jb', 'method', 'method'], ['technique', 'cacm', 'ca', 'ca', 'jb', 'jb', 'pm', 'pm'], ['given'], ['given', 'problem', 'problem', 'cacm'], ['given', 'problem', 'problem', 'cacm', 'jb', 'jb', 'ca'], ['given', 'problem', 'problem', 'cacm', 'ca', 'ca'], ['given', 'problem', 'problem', 'cacm', 'ca', 'ca', 'jb', 'jb'], ['given', 'method', 'method', 'cacm'], ['given', 'method', 'method', 'cacm', 'jb', 'jb', 'ca'], ['given', 'method', 'method', 'cacm', 'ca', 'ca'], ['given', 'method', 'method', 'cacm', 'ca', 'ca', 'jb', 'jb'], ['given', 'february', 'february'], ['given', 'february', 'february', 'ca', 'ca'], ['given', 'february', 'february', 'ca', 'ca', 'cacm', 'cacm'], ['given', 'february', 'february', 'cacm', 'cacm'], ['given', 'february', 'february', 'cacm', 'cacm', 'ca', 'ca'], ['given', 'january', 'january', 'cacm'], ['given', 'january', 'january', 'cacm', 'ca', 'ca'], ['given', 'algorithm', 'algorithm', 'cacm'], ['given', 'algorithm', 'algorithm', 'cacm', 'jb', 'jb', 'ca'], ['given', 'algorithm', 'algorithm', 'cacm', 'ca', 'ca'], ['given', 'algorithm', 'algorithm', 'cacm', 'ca', 'ca', 'jb', 'jb'], ['given', 'pm', 'pm'], ['given', 'pm', 'pm', 'jb', 'jb', 'ca'], ['given', 'pm', 'pm', 'jb', 'jb', 'ca', 'cacm', 'cacm'], ['given', 'pm', 'pm', 'ca', 'ca'], ['given', 'pm', 'pm', 'ca', 'ca', 'jb', 'jb'], ['given', 'pm', 'pm', 'ca', 'ca', 'jb', 'jb', 'cacm', 'cacm'], ['given', 'pm', 'pm', 'ca', 'ca', 'cacm', 'cacm'], ['given', 'pm', 'pm', 'ca', 'ca', 'cacm', 'cacm', 'jb', 'jb'], ['given', 'pm', 'pm', 'cacm', 'cacm'], ['given', 'pm', 'pm', 'cacm', 'cacm', 'jb', 'jb', 'ca'], ['given', 'pm', 'pm', 'cacm', 'cacm', 'ca', 'ca'], ['given', 'pm', 'pm', 'cacm', 'cacm', 'ca', 'ca', 'jb', 'jb'], ['given', 'jb', 'jb', 'ca'], ['given', 'jb', 'jb', 'ca', 'problem', 'problem', 'cacm'], ['given', 'jb', 'jb', 'ca', 'method', 'method', 'cacm'], ['given', 'jb', 'jb', 'ca', 'algorithm', 'algorithm', 'cacm'], ['given', 'jb', 'jb', 'ca', 'pm', 'pm'], ['given', 'jb', 'jb', 'ca', 'pm', 'pm', 'cacm', 'cacm'], ['given', 'jb', 'jb', 'ca', 'cacm', 'cacm'], ['given', 'jb', 'jb', 'ca', 'cacm', 'cacm', 'problem', 'problem'], ['given', 'jb', 'jb', 'ca', 'cacm', 'cacm', 'method', 'method'], ['given', 'jb', 'jb', 'ca', 'cacm', 'cacm', 'algorithm', 'algorithm'], ['given', 'jb', 'jb', 'ca', 'cacm', 'cacm', 'pm', 'pm'], ['given', 'ca', 'ca'], ['given', 'ca', 'ca', 'problem', 'problem', 'cacm'], ['given', 'ca', 'ca', 'problem', 'problem', 'cacm', 'jb', 'jb'], ['given', 'ca', 'ca', 'method', 'method', 'cacm'], ['given', 'ca', 'ca', 'method', 'method', 'cacm', 'jb', 'jb'], ['given', 'ca', 'ca', 'february', 'february'], ['given', 'ca', 'ca', 'february', 'february', 'cacm', 'cacm'], ['given', 'ca', 'ca', 'january', 'january', 'cacm'], ['given', 'ca', 'ca', 'algorithm', 'algorithm', 'cacm'], ['given', 'ca', 'ca', 'algorithm', 'algorithm', 'cacm', 'jb', 'jb'], ['given', 'ca', 'ca', 'pm', 'pm'], ['given', 'ca', 'ca', 'pm', 'pm', 'jb', 'jb'], ['given', 'ca', 'ca', 'pm', 'pm', 'jb', 'jb', 'cacm', 'cacm'], ['given', 'ca', 'ca', 'pm', 'pm', 'cacm', 'cacm'], ['given', 'ca', 'ca', 'pm', 'pm', 'cacm', 'cacm', 'jb', 'jb'], ['given', 'ca', 'ca', 'jb', 'jb'], ['given', 'ca', 'ca', 'jb', 'jb', 'problem', 'problem', 'cacm'], ['given', 'ca', 'ca', 'jb', 'jb', 'method', 'method', 'cacm'], ['given', 'ca', 'ca', 'jb', 'jb', 'algorithm', 'algorithm', 'cacm'], ['given', 'ca', 'ca', 'jb', 'jb', 'pm', 'pm'], ['given', 'ca', 'ca', 'jb', 'jb', 'pm', 'pm', 'cacm', 'cacm'], ['given', 'ca', 'ca', 'jb', 'jb', 'cacm', 'cacm'], ['given', 'ca', 'ca', 'jb', 'jb', 'cacm', 'cacm', 'problem', 'problem'], ['given', 'ca', 'ca', 'jb', 'jb', 'cacm', 'cacm', 'method', 'method'], ['given', 'ca', 'ca', 'jb', 'jb', 'cacm', 'cacm', 'algorithm', 'algorithm'], ['given', 'ca', 'ca', 'jb', 'jb', 'cacm', 'cacm', 'pm', 'pm'], ['given', 'ca', 'ca', 'cacm', 'cacm'], ['given', 'ca', 'ca', 'cacm', 'cacm', 'problem', 'problem'], ['given', 'ca', 'ca', 'cacm', 'cacm', 'problem', 'problem', 'jb', 'jb'], ['given', 'ca', 'ca', 'cacm', 'cacm', 'method', 'method'], ['given', 'ca', 'ca', 'cacm', 'cacm', 'method', 'method', 'jb', 'jb'], ['given', 'ca', 'ca', 'cacm', 'cacm', 'february', 'february'], ['given', 'ca', 'ca', 'cacm', 'cacm', 'january', 'january'], ['given', 'ca', 'ca', 'cacm', 'cacm', 'algorithm', 'algorithm'], ['given', 'ca', 'ca', 'cacm', 'cacm', 'algorithm', 'algorithm', 'jb', 'jb'], ['given', 'ca', 'ca', 'cacm', 'cacm', 'pm', 'pm'], ['given', 'ca', 'ca', 'cacm', 'cacm', 'pm', 'pm', 'jb', 'jb'], ['given', 'ca', 'ca', 'cacm', 'cacm', 'jb', 'jb'], ['given', 'ca', 'ca', 'cacm', 'cacm', 'jb', 'jb', 'problem', 'problem'], ['given', 'ca', 'ca', 'cacm', 'cacm', 'jb', 'jb', 'method', 'method'], ['given', 'ca', 'ca', 'cacm', 'cacm', 'jb', 'jb', 'algorithm', 'algorithm'], ['given', 'ca', 'ca', 'cacm', 'cacm', 'jb', 'jb', 'pm', 'pm'], ['given', 'cacm', 'cacm'], ['given', 'cacm', 'cacm', 'problem', 'problem'], ['given', 'cacm', 'cacm', 'problem', 'problem', 'jb', 'jb', 'ca'], ['given', 'cacm', 'cacm', 'problem', 'problem', 'ca', 'ca'], ['given', 'cacm', 'cacm', 'problem', 'problem', 'ca', 'ca', 'jb', 'jb'], ['given', 'cacm', 'cacm', 'method', 'method'], ['given', 'cacm', 'cacm', 'method', 'method', 'jb', 'jb', 'ca'], ['given', 'cacm', 'cacm', 'method', 'method', 'ca', 'ca'], ['given', 'cacm', 'cacm', 'method', 'method', 'ca', 'ca', 'jb', 'jb'], ['given', 'cacm', 'cacm', 'february', 'february'], ['given', 'cacm', 'cacm', 'february', 'february', 'ca', 'ca'], ['given', 'cacm', 'cacm', 'january', 'january'], ['given', 'cacm', 'cacm', 'january', 'january', 'ca', 'ca'], ['given', 'cacm', 'cacm', 'algorithm', 'algorithm'], ['given', 'cacm', 'cacm', 'algorithm', 'algorithm', 'jb', 'jb', 'ca'], ['given', 'cacm', 'cacm', 'algorithm', 'algorithm', 'ca', 'ca'], ['given', 'cacm', 'cacm', 'algorithm', 'algorithm', 'ca', 'ca', 'jb', 'jb'], ['given', 'cacm', 'cacm', 'pm', 'pm'], ['given', 'cacm', 'cacm', 'pm', 'pm', 'jb', 'jb', 'ca'], ['given', 'cacm', 'cacm', 'pm', 'pm', 'ca', 'ca'], ['given', 'cacm', 'cacm', 'pm', 'pm', 'ca', 'ca', 'jb', 'jb'], ['given', 'cacm', 'cacm', 'jb', 'jb', 'ca'], ['given', 'cacm', 'cacm', 'jb', 'jb', 'ca', 'problem', 'problem'], ['given', 'cacm', 'cacm', 'jb', 'jb', 'ca', 'method', 'method'], ['given', 'cacm', 'cacm', 'jb', 'jb', 'ca', 'algorithm', 'algorithm'], ['given', 'cacm', 'cacm', 'jb', 'jb', 'ca', 'pm', 'pm'], ['given', 'cacm', 'cacm', 'ca', 'ca'], ['given', 'cacm', 'cacm', 'ca', 'ca', 'problem', 'problem'], ['given', 'cacm', 'cacm', 'ca', 'ca', 'problem', 'problem', 'jb', 'jb'], ['given', 'cacm', 'cacm', 'ca', 'ca', 'method', 'method'], ['given', 'cacm', 'cacm', 'ca', 'ca', 'method', 'method', 'jb', 'jb'], ['given', 'cacm', 'cacm', 'ca', 'ca', 'february', 'february'], ['given', 'cacm', 'cacm', 'ca', 'ca', 'january', 'january'], ['given', 'cacm', 'cacm', 'ca', 'ca', 'algorithm', 'algorithm'], ['given', 'cacm', 'cacm', 'ca', 'ca', 'algorithm', 'algorithm', 'jb', 'jb'], ['given', 'cacm', 'cacm', 'ca', 'ca', 'pm', 'pm'], ['given', 'cacm', 'cacm', 'ca', 'ca', 'pm', 'pm', 'jb', 'jb'], ['given', 'cacm', 'cacm', 'ca', 'ca', 'jb', 'jb'], ['given', 'cacm', 'cacm', 'ca', 'ca', 'jb', 'jb', 'problem', 'problem'], ['given', 'cacm', 'cacm', 'ca', 'ca', 'jb', 'jb', 'method', 'method'], ['given', 'cacm', 'cacm', 'ca', 'ca', 'jb', 'jb', 'algorithm', 'algorithm'], ['given', 'cacm', 'cacm', 'ca', 'ca', 'jb', 'jb', 'pm', 'pm'], ['paper', 'cacm'], ['paper', 'cacm', 'problem', 'problem'], ['paper', 'cacm', 'method', 'method'], ['paper', 'cacm', 'method', 'method', 'jb', 'jb', 'ca'], ['paper', 'cacm', 'method', 'method', 'ca', 'ca'], ['paper', 'cacm', 'method', 'method', 'ca', 'ca', 'jb', 'jb'], ['paper', 'cacm', 'february', 'february', 'ca'], ['paper', 'cacm', 'february', 'february', 'ca', 'jb', 'jb'], ['paper', 'cacm', 'january', 'january'], ['paper', 'cacm', 'january', 'january', 'jb', 'jb', 'ca'], ['paper', 'cacm', 'january', 'january', 'ca', 'ca'], ['paper', 'cacm', 'january', 'january', 'ca', 'ca', 'jb', 'jb'], ['paper', 'cacm', 'algorithm', 'algorithm', 'ca'], ['paper', 'cacm', 'algorithm', 'algorithm', 'ca', 'jb', 'jb'], ['paper', 'cacm', 'pm', 'pm'], ['paper', 'cacm', 'pm', 'pm', 'jb', 'jb', 'ca'], ['paper', 'cacm', 'pm', 'pm', 'ca', 'ca'], ['paper', 'cacm', 'pm', 'pm', 'ca', 'ca', 'jb', 'jb'], ['paper', 'cacm', 'jb', 'jb', 'ca'], ['paper', 'cacm', 'jb', 'jb', 'ca', 'method', 'method'], ['paper', 'cacm', 'jb', 'jb', 'ca', 'february', 'february'], ['paper', 'cacm', 'jb', 'jb', 'ca', 'january', 'january'], ['paper', 'cacm', 'jb', 'jb', 'ca', 'algorithm', 'algorithm'], ['paper', 'cacm', 'jb', 'jb', 'ca', 'pm', 'pm'], ['paper', 'cacm', 'ca', 'ca'], ['paper', 'cacm', 'ca', 'ca', 'method', 'method'], ['paper', 'cacm', 'ca', 'ca', 'method', 'method', 'jb', 'jb'], ['paper', 'cacm', 'ca', 'ca', 'february', 'february'], ['paper', 'cacm', 'ca', 'ca', 'february', 'february', 'jb', 'jb'], ['paper', 'cacm', 'ca', 'ca', 'january', 'january'], ['paper', 'cacm', 'ca', 'ca', 'january', 'january', 'jb', 'jb'], ['paper', 'cacm', 'ca', 'ca', 'algorithm', 'algorithm'], ['paper', 'cacm', 'ca', 'ca', 'algorithm', 'algorithm', 'jb', 'jb'], ['paper', 'cacm', 'ca', 'ca', 'pm', 'pm'], ['paper', 'cacm', 'ca', 'ca', 'pm', 'pm', 'jb', 'jb'], ['paper', 'cacm', 'ca', 'ca', 'jb', 'jb'], ['paper', 'cacm', 'ca', 'ca', 'jb', 'jb', 'method', 'method'], ['paper', 'cacm', 'ca', 'ca', 'jb', 'jb', 'february', 'february'], ['paper', 'cacm', 'ca', 'ca', 'jb', 'jb', 'january', 'january'], ['paper', 'cacm', 'ca', 'ca', 'jb', 'jb', 'algorithm', 'algorithm'], ['paper', 'cacm', 'ca', 'ca', 'jb', 'jb', 'pm', 'pm'], ['presented', 'cacm'], ['presented', 'cacm', 'problem', 'problem'], ['presented', 'cacm', 'problem', 'problem', 'jb', 'jb', 'ca'], ['presented', 'cacm', 'problem', 'problem', 'ca', 'ca'], ['presented', 'cacm', 'problem', 'problem', 'ca', 'ca', 'jb', 'jb'], ['presented', 'cacm', 'number', 'number'], ['presented', 'cacm', 'number', 'number', 'ca', 'ca'], ['presented', 'cacm', 'method', 'method'], ['presented', 'cacm', 'method', 'method', 'jb', 'jb', 'ca'], ['presented', 'cacm', 'method', 'method', 'ca', 'ca'], ['presented', 'cacm', 'method', 'method', 'ca', 'ca', 'jb', 'jb'], ['presented', 'cacm', 'february', 'february'], ['presented', 'cacm', 'february', 'february', 'jb', 'jb', 'ca'], ['presented', 'cacm', 'february', 'february', 'ca', 'ca'], ['presented', 'cacm', 'february', 'february', 'ca', 'ca', 'jb', 'jb'], ['presented', 'cacm', 'january', 'january', 'ca'], ['presented', 'cacm', 'january', 'january', 'ca', 'algorithm', 'algorithm'], ['presented', 'cacm', 'january', 'january', 'ca', 'jb', 'jb'], ['presented', 'cacm', 'algorithm', 'algorithm'], ['presented', 'cacm', 'algorithm', 'algorithm', 'january', 'january', 'ca'], ['presented', 'cacm', 'algorithm', 'algorithm', 'pm', 'pm', 'ca'], ['presented', 'cacm', 'algorithm', 'algorithm', 'jb', 'jb', 'ca'], ['presented', 'cacm', 'algorithm', 'algorithm', 'ca', 'ca'], ['presented', 'cacm', 'algorithm', 'algorithm', 'ca', 'ca', 'january', 'january'], ['presented', 'cacm', 'algorithm', 'algorithm', 'ca', 'ca', 'pm', 'pm'], ['presented', 'cacm', 'algorithm', 'algorithm', 'ca', 'ca', 'jb', 'jb'], ['presented', 'cacm', 'pm', 'pm', 'ca'], ['presented', 'cacm', 'pm', 'pm', 'ca', 'algorithm', 'algorithm'], ['presented', 'cacm', 'pm', 'pm', 'ca', 'jb', 'jb'], ['presented', 'cacm', 'jb', 'jb', 'ca'], ['presented', 'cacm', 'jb', 'jb', 'ca', 'problem', 'problem'], ['presented', 'cacm', 'jb', 'jb', 'ca', 'method', 'method'], ['presented', 'cacm', 'jb', 'jb', 'ca', 'february', 'february'], ['presented', 'cacm', 'jb', 'jb', 'ca', 'january', 'january'], ['presented', 'cacm', 'jb', 'jb', 'ca', 'algorithm', 'algorithm'], ['presented', 'cacm', 'jb', 'jb', 'ca', 'pm', 'pm'], ['presented', 'cacm', 'ca', 'ca'], ['presented', 'cacm', 'ca', 'ca', 'problem', 'problem'], ['presented', 'cacm', 'ca', 'ca', 'problem', 'problem', 'jb', 'jb'], ['presented', 'cacm', 'ca', 'ca', 'number', 'number'], ['presented', 'cacm', 'ca', 'ca', 'method', 'method'], ['presented', 'cacm', 'ca', 'ca', 'method', 'method', 'jb', 'jb'], ['presented', 'cacm', 'ca', 'ca', 'february', 'february'], ['presented', 'cacm', 'ca', 'ca', 'february', 'february', 'jb', 'jb'], ['presented', 'cacm', 'ca', 'ca', 'january', 'january'], ['presented', 'cacm', 'ca', 'ca', 'january', 'january', 'algorithm', 'algorithm'], ['presented', 'cacm', 'ca', 'ca', 'january', 'january', 'jb', 'jb'], ['presented', 'cacm', 'ca', 'ca', 'algorithm', 'algorithm'], ['presented', 'cacm', 'ca', 'ca', 'algorithm', 'algorithm', 'january', 'january'], ['presented', 'cacm', 'ca', 'ca', 'algorithm', 'algorithm', 'pm', 'pm'], ['presented', 'cacm', 'ca', 'ca', 'algorithm', 'algorithm', 'jb', 'jb'], ['presented', 'cacm', 'ca', 'ca', 'pm', 'pm'], ['presented', 'cacm', 'ca', 'ca', 'pm', 'pm', 'algorithm', 'algorithm'], ['presented', 'cacm', 'ca', 'ca', 'pm', 'pm', 'jb', 'jb'], ['presented', 'cacm', 'ca', 'ca', 'jb', 'jb'], ['presented', 'cacm', 'ca', 'ca', 'jb', 'jb', 'problem', 'problem'], ['presented', 'cacm', 'ca', 'ca', 'jb', 'jb', 'method', 'method'], ['presented', 'cacm', 'ca', 'ca', 'jb', 'jb', 'february', 'february'], ['presented', 'cacm', 'ca', 'ca', 'jb', 'jb', 'january', 'january'], ['presented', 'cacm', 'ca', 'ca', 'jb', 'jb', 'algorithm', 'algorithm'], ['presented', 'cacm', 'ca', 'ca', 'jb', 'jb', 'pm', 'pm'], ['computer'], ['computer', 'march', 'march', 'cacm'], ['computer', 'march', 'march', 'cacm', 'jb', 'jb', 'ca'], ['computer', 'march', 'march', 'cacm', 'ca', 'ca'], ['computer', 'march', 'march', 'cacm', 'ca', 'ca', 'jb', 'jb'], ['computer', 'method', 'method', 'cacm'], ['computer', 'method', 'method', 'cacm', 'jb', 'jb', 'ca'], ['computer', 'method', 'method', 'cacm', 'ca', 'ca'], ['computer', 'method', 'method', 'cacm', 'ca', 'ca', 'jb', 'jb'], ['computer', 'february', 'february', 'ca'], ['computer', 'february', 'february', 'ca', 'jb', 'jb'], ['computer', 'february', 'february', 'ca', 'jb', 'jb', 'cacm', 'cacm'], ['computer', 'february', 'february', 'ca', 'cacm', 'cacm'], ['computer', 'february', 'february', 'ca', 'cacm', 'cacm', 'jb', 'jb'], ['computer', 'january', 'january', 'ca', 'cacm'], ['computer', 'january', 'january', 'ca', 'cacm', 'jb', 'jb'], ['computer', 'algorithm', 'algorithm', 'ca', 'cacm'], ['computer', 'algorithm', 'algorithm', 'ca', 'cacm', 'jb', 'jb'], ['computer', 'pm', 'pm'], ['computer', 'pm', 'pm', 'jb', 'jb', 'ca'], ['computer', 'pm', 'pm', 'jb', 'jb', 'ca', 'cacm', 'cacm'], ['computer', 'pm', 'pm', 'ca', 'ca'], ['computer', 'pm', 'pm', 'ca', 'ca', 'jb', 'jb'], ['computer', 'pm', 'pm', 'ca', 'ca', 'jb', 'jb', 'cacm', 'cacm'], ['computer', 'pm', 'pm', 'ca', 'ca', 'cacm', 'cacm'], ['computer', 'pm', 'pm', 'ca', 'ca', 'cacm', 'cacm', 'jb', 'jb'], ['computer', 'pm', 'pm', 'cacm', 'cacm'], ['computer', 'pm', 'pm', 'cacm', 'cacm', 'jb', 'jb', 'ca'], ['computer', 'pm', 'pm', 'cacm', 'cacm', 'ca', 'ca'], ['computer', 'pm', 'pm', 'cacm', 'cacm', 'ca', 'ca', 'jb', 'jb'], ['computer', 'jb', 'jb', 'ca'], ['computer', 'jb', 'jb', 'ca', 'march', 'march', 'cacm'], ['computer', 'jb', 'jb', 'ca', 'method', 'method', 'cacm'], ['computer', 'jb', 'jb', 'ca', 'february', 'february'], ['computer', 'jb', 'jb', 'ca', 'february', 'february', 'cacm', 'cacm'], ['computer', 'jb', 'jb', 'ca', 'january', 'january', 'cacm'], ['computer', 'jb', 'jb', 'ca', 'algorithm', 'algorithm', 'cacm'], ['computer', 'jb', 'jb', 'ca', 'pm', 'pm'], ['computer', 'jb', 'jb', 'ca', 'pm', 'pm', 'cacm', 'cacm'], ['computer', 'jb', 'jb', 'ca', 'cacm', 'cacm'], ['computer', 'jb', 'jb', 'ca', 'cacm', 'cacm', 'march', 'march'], ['computer', 'jb', 'jb', 'ca', 'cacm', 'cacm', 'method', 'method'], ['computer', 'jb', 'jb', 'ca', 'cacm', 'cacm', 'february', 'february'], ['computer', 'jb', 'jb', 'ca', 'cacm', 'cacm', 'january', 'january'], ['computer', 'jb', 'jb', 'ca', 'cacm', 'cacm', 'algorithm', 'algorithm'], ['computer', 'jb', 'jb', 'ca', 'cacm', 'cacm', 'pm', 'pm'], ['computer', 'ca', 'ca'], ['computer', 'ca', 'ca', 'march', 'march', 'cacm'], ['computer', 'ca', 'ca', 'march', 'march', 'cacm', 'jb', 'jb'], ['computer', 'ca', 'ca', 'method', 'method', 'cacm'], ['computer', 'ca', 'ca', 'method', 'method', 'cacm', 'jb', 'jb'], ['computer', 'ca', 'ca', 'february', 'february'], ['computer', 'ca', 'ca', 'february', 'february', 'jb', 'jb'], ['computer', 'ca', 'ca', 'february', 'february', 'jb', 'jb', 'cacm', 'cacm'], ['computer', 'ca', 'ca', 'february', 'february', 'cacm', 'cacm'], ['computer', 'ca', 'ca', 'february', 'february', 'cacm', 'cacm', 'jb', 'jb'], ['computer', 'ca', 'ca', 'january', 'january', 'cacm'], ['computer', 'ca', 'ca', 'january', 'january', 'cacm', 'jb', 'jb'], ['computer', 'ca', 'ca', 'algorithm', 'algorithm', 'cacm'], ['computer', 'ca', 'ca', 'algorithm', 'algorithm', 'cacm', 'jb', 'jb'], ['computer', 'ca', 'ca', 'pm', 'pm'], ['computer', 'ca', 'ca', 'pm', 'pm', 'jb', 'jb'], ['computer', 'ca', 'ca', 'pm', 'pm', 'jb', 'jb', 'cacm', 'cacm'], ['computer', 'ca', 'ca', 'pm', 'pm', 'cacm', 'cacm'], ['computer', 'ca', 'ca', 'pm', 'pm', 'cacm', 'cacm', 'jb', 'jb'], ['computer', 'ca', 'ca', 'jb', 'jb'], ['computer', 'ca', 'ca', 'jb', 'jb', 'march', 'march', 'cacm'], ['computer', 'ca', 'ca', 'jb', 'jb', 'method', 'method', 'cacm'], ['computer', 'ca', 'ca', 'jb', 'jb', 'february', 'february'], ['computer', 'ca', 'ca', 'jb', 'jb', 'february', 'february', 'cacm', 'cacm'], ['computer', 'ca', 'ca', 'jb', 'jb', 'january', 'january', 'cacm'], ['computer', 'ca', 'ca', 'jb', 'jb', 'algorithm', 'algorithm', 'cacm'], ['computer', 'ca', 'ca', 'jb', 'jb', 'pm', 'pm'], ['computer', 'ca', 'ca', 'jb', 'jb', 'pm', 'pm', 'cacm', 'cacm'], ['computer', 'ca', 'ca', 'jb', 'jb', 'cacm', 'cacm'], ['computer', 'ca', 'ca', 'jb', 'jb', 'cacm', 'cacm', 'march', 'march'], ['computer', 'ca', 'ca', 'jb', 'jb', 'cacm', 'cacm', 'method', 'method'], ['computer', 'ca', 'ca', 'jb', 'jb', 'cacm', 'cacm', 'february', 'february'], ['computer', 'ca', 'ca', 'jb', 'jb', 'cacm', 'cacm', 'january', 'january'], ['computer', 'ca', 'ca', 'jb', 'jb', 'cacm', 'cacm', 'algorithm', 'algorithm'], ['computer', 'ca', 'ca', 'jb', 'jb', 'cacm', 'cacm', 'pm', 'pm'], ['computer', 'ca', 'ca', 'cacm', 'cacm'], ['computer', 'ca', 'ca', 'cacm', 'cacm', 'march', 'march'], ['computer', 'ca', 'ca', 'cacm', 'cacm', 'march', 'march', 'jb', 'jb'], ['computer', 'ca', 'ca', 'cacm', 'cacm', 'method', 'method'], ['computer', 'ca', 'ca', 'cacm', 'cacm', 'method', 'method', 'jb', 'jb'], ['computer', 'ca', 'ca', 'cacm', 'cacm', 'february', 'february'], ['computer', 'ca', 'ca', 'cacm', 'cacm', 'february', 'february', 'jb', 'jb'], ['computer', 'ca', 'ca', 'cacm', 'cacm', 'january', 'january'], ['computer', 'ca', 'ca', 'cacm', 'cacm', 'january', 'january', 'jb', 'jb'], ['computer', 'ca', 'ca', 'cacm', 'cacm', 'algorithm', 'algorithm'], ['computer', 'ca', 'ca', 'cacm', 'cacm', 'algorithm', 'algorithm', 'jb', 'jb'], ['computer', 'ca', 'ca', 'cacm', 'cacm', 'pm', 'pm'], ['computer', 'ca', 'ca', 'cacm', 'cacm', 'pm', 'pm', 'jb', 'jb'], ['computer', 'ca', 'ca', 'cacm', 'cacm', 'jb', 'jb'], ['computer', 'ca', 'ca', 'cacm', 'cacm', 'jb', 'jb', 'march', 'march'], ['computer', 'ca', 'ca', 'cacm', 'cacm', 'jb', 'jb', 'method', 'method'], ['computer', 'ca', 'ca', 'cacm', 'cacm', 'jb', 'jb', 'february', 'february'], ['computer', 'ca', 'ca', 'cacm', 'cacm', 'jb', 'jb', 'january', 'january'], ['computer', 'ca', 'ca', 'cacm', 'cacm', 'jb', 'jb', 'algorithm', 'algorithm'], ['computer', 'ca', 'ca', 'cacm', 'cacm', 'jb', 'jb', 'pm', 'pm'], ['computer', 'cacm', 'cacm'], ['computer', 'cacm', 'cacm', 'march', 'march'], ['computer', 'cacm', 'cacm', 'march', 'march', 'jb', 'jb', 'ca'], ['computer', 'cacm', 'cacm', 'march', 'march', 'ca', 'ca'], ['computer', 'cacm', 'cacm', 'march', 'march', 'ca', 'ca', 'jb', 'jb'], ['computer', 'cacm', 'cacm', 'method', 'method'], ['computer', 'cacm', 'cacm', 'method', 'method', 'jb', 'jb', 'ca'], ['computer', 'cacm', 'cacm', 'method', 'method', 'ca', 'ca'], ['computer', 'cacm', 'cacm', 'method', 'method', 'ca', 'ca', 'jb', 'jb'], ['computer', 'cacm', 'cacm', 'february', 'february', 'ca'], ['computer', 'cacm', 'cacm', 'february', 'february', 'ca', 'jb', 'jb'], ['computer', 'cacm', 'cacm', 'january', 'january', 'ca'], ['computer', 'cacm', 'cacm', 'january', 'january', 'ca', 'jb', 'jb'], ['computer', 'cacm', 'cacm', 'algorithm', 'algorithm', 'ca'], ['computer', 'cacm', 'cacm', 'algorithm', 'algorithm', 'ca', 'jb', 'jb'], ['computer', 'cacm', 'cacm', 'pm', 'pm'], ['computer', 'cacm', 'cacm', 'pm', 'pm', 'jb', 'jb', 'ca'], ['computer', 'cacm', 'cacm', 'pm', 'pm', 'ca', 'ca'], ['computer', 'cacm', 'cacm', 'pm', 'pm', 'ca', 'ca', 'jb', 'jb'], ['computer', 'cacm', 'cacm', 'jb', 'jb', 'ca'], ['computer', 'cacm', 'cacm', 'jb', 'jb', 'ca', 'march', 'march'], ['computer', 'cacm', 'cacm', 'jb', 'jb', 'ca', 'method', 'method'], ['computer', 'cacm', 'cacm', 'jb', 'jb', 'ca', 'february', 'february'], ['computer', 'cacm', 'cacm', 'jb', 'jb', 'ca', 'january', 'january'], ['computer', 'cacm', 'cacm', 'jb', 'jb', 'ca', 'algorithm', 'algorithm'], ['computer', 'cacm', 'cacm', 'jb', 'jb', 'ca', 'pm', 'pm'], ['computer', 'cacm', 'cacm', 'ca', 'ca'], ['computer', 'cacm', 'cacm', 'ca', 'ca', 'march', 'march'], ['computer', 'cacm', 'cacm', 'ca', 'ca', 'march', 'march', 'jb', 'jb'], ['computer', 'cacm', 'cacm', 'ca', 'ca', 'method', 'method'], ['computer', 'cacm', 'cacm', 'ca', 'ca', 'method', 'method', 'jb', 'jb'], ['computer', 'cacm', 'cacm', 'ca', 'ca', 'february', 'february'], ['computer', 'cacm', 'cacm', 'ca', 'ca', 'february', 'february', 'jb', 'jb'], ['computer', 'cacm', 'cacm', 'ca', 'ca', 'january', 'january'], ['computer', 'cacm', 'cacm', 'ca', 'ca', 'january', 'january', 'jb', 'jb'], ['computer', 'cacm', 'cacm', 'ca', 'ca', 'algorithm', 'algorithm'], ['computer', 'cacm', 'cacm', 'ca', 'ca', 'algorithm', 'algorithm', 'jb', 'jb'], ['computer', 'cacm', 'cacm', 'ca', 'ca', 'pm', 'pm'], ['computer', 'cacm', 'cacm', 'ca', 'ca', 'pm', 'pm', 'jb', 'jb'], ['computer', 'cacm', 'cacm', 'ca', 'ca', 'jb', 'jb'], ['computer', 'cacm', 'cacm', 'ca', 'ca', 'jb', 'jb', 'march', 'march'], ['computer', 'cacm', 'cacm', 'ca', 'ca', 'jb', 'jb', 'method', 'method'], ['computer', 'cacm', 'cacm', 'ca', 'ca', 'jb', 'jb', 'february', 'february'], ['computer', 'cacm', 'cacm', 'ca', 'ca', 'jb', 'jb', 'january', 'january'], ['computer', 'cacm', 'cacm', 'ca', 'ca', 'jb', 'jb', 'algorithm', 'algorithm'], ['computer', 'cacm', 'cacm', 'ca', 'ca', 'jb', 'jb', 'pm', 'pm'], ['problem', 'cacm'], ['problem', 'cacm', 'number', 'number'], ['problem', 'cacm', 'march', 'march'], ['problem', 'cacm', 'march', 'march', 'jb', 'jb', 'ca'], ['problem', 'cacm', 'march', 'march', 'ca', 'ca'], ['problem', 'cacm', 'march', 'march', 'ca', 'ca', 'jb', 'jb'], ['problem', 'cacm', 'method', 'method'], ['problem', 'cacm', 'method', 'method', 'jb', 'jb', 'ca'], ['problem', 'cacm', 'method', 'method', 'ca', 'ca'], ['problem', 'cacm', 'method', 'method', 'ca', 'ca', 'jb', 'jb'], ['problem', 'cacm', 'february', 'february'], ['problem', 'cacm', 'february', 'february', 'jb', 'jb', 'ca'], ['problem', 'cacm', 'february', 'february', 'ca', 'ca'], ['problem', 'cacm', 'february', 'february', 'ca', 'ca', 'jb', 'jb'], ['problem', 'cacm', 'january', 'january'], ['problem', 'cacm', 'january', 'january', 'jb', 'jb', 'ca'], ['problem', 'cacm', 'january', 'january', 'ca', 'ca'], ['problem', 'cacm', 'january', 'january', 'ca', 'ca', 'jb', 'jb'], ['problem', 'cacm', 'algorithm', 'algorithm'], ['problem', 'cacm', 'algorithm', 'algorithm', 'pm', 'pm'], ['problem', 'cacm', 'algorithm', 'algorithm', 'pm', 'pm', 'ca', 'ca'], ['problem', 'cacm', 'algorithm', 'algorithm', 'jb', 'jb', 'ca'], ['problem', 'cacm', 'algorithm', 'algorithm', 'ca', 'ca'], ['problem', 'cacm', 'algorithm', 'algorithm', 'ca', 'ca', 'pm', 'pm'], ['problem', 'cacm', 'algorithm', 'algorithm', 'ca', 'ca', 'jb', 'jb'], ['problem', 'cacm', 'pm', 'pm'], ['problem', 'cacm', 'pm', 'pm', 'algorithm', 'algorithm'], ['problem', 'cacm', 'pm', 'pm', 'algorithm', 'algorithm', 'ca', 'ca'], ['problem', 'cacm', 'pm', 'pm', 'jb', 'jb', 'ca'], ['problem', 'cacm', 'pm', 'pm', 'ca', 'ca'], ['problem', 'cacm', 'pm', 'pm', 'ca', 'ca', 'algorithm', 'algorithm'], ['problem', 'cacm', 'pm', 'pm', 'ca', 'ca', 'jb', 'jb'], ['problem', 'cacm', 'jb', 'jb', 'ca'], ['problem', 'cacm', 'jb', 'jb', 'ca', 'march', 'march'], ['problem', 'cacm', 'jb', 'jb', 'ca', 'method', 'method'], ['problem', 'cacm', 'jb', 'jb', 'ca', 'february', 'february'], ['problem', 'cacm', 'jb', 'jb', 'ca', 'january', 'january'], ['problem', 'cacm', 'jb', 'jb', 'ca', 'algorithm', 'algorithm'], ['problem', 'cacm', 'jb', 'jb', 'ca', 'pm', 'pm'], ['problem', 'cacm', 'ca', 'ca'], ['problem', 'cacm', 'ca', 'ca', 'march', 'march'], ['problem', 'cacm', 'ca', 'ca', 'march', 'march', 'jb', 'jb'], ['problem', 'cacm', 'ca', 'ca', 'method', 'method'], ['problem', 'cacm', 'ca', 'ca', 'method', 'method', 'jb', 'jb'], ['problem', 'cacm', 'ca', 'ca', 'february', 'february'], ['problem', 'cacm', 'ca', 'ca', 'february', 'february', 'jb', 'jb'], ['problem', 'cacm', 'ca', 'ca', 'january', 'january'], ['problem', 'cacm', 'ca', 'ca', 'january', 'january', 'jb', 'jb'], ['problem', 'cacm', 'ca', 'ca', 'algorithm', 'algorithm'], ['problem', 'cacm', 'ca', 'ca', 'algorithm', 'algorithm', 'pm', 'pm'], ['problem', 'cacm', 'ca', 'ca', 'algorithm', 'algorithm', 'jb', 'jb'], ['problem', 'cacm', 'ca', 'ca', 'pm', 'pm'], ['problem', 'cacm', 'ca', 'ca', 'pm', 'pm', 'algorithm', 'algorithm'], ['problem', 'cacm', 'ca', 'ca', 'pm', 'pm', 'jb', 'jb'], ['problem', 'cacm', 'ca', 'ca', 'jb', 'jb'], ['problem', 'cacm', 'ca', 'ca', 'jb', 'jb', 'march', 'march'], ['problem', 'cacm', 'ca', 'ca', 'jb', 'jb', 'method', 'method'], ['problem', 'cacm', 'ca', 'ca', 'jb', 'jb', 'february', 'february'], ['problem', 'cacm', 'ca', 'ca', 'jb', 'jb', 'january', 'january'], ['problem', 'cacm', 'ca', 'ca', 'jb', 'jb', 'algorithm', 'algorithm'], ['problem', 'cacm', 'ca', 'ca', 'jb', 'jb', 'pm', 'pm'], ['number', 'cacm'], ['number', 'cacm', 'march', 'march', 'ca'], ['number', 'cacm', 'march', 'march', 'ca', 'jb', 'jb'], ['number', 'cacm', 'method', 'method'], ['number', 'cacm', 'method', 'method', 'jb', 'jb', 'ca'], ['number', 'cacm', 'method', 'method', 'ca', 'ca'], ['number', 'cacm', 'method', 'method', 'ca', 'ca', 'jb', 'jb'], ['number', 'cacm', 'february', 'february'], ['number', 'cacm', 'february', 'february', 'pm', 'pm'], ['number', 'cacm', 'february', 'february', 'pm', 'pm', 'ca', 'ca'], ['number', 'cacm', 'february', 'february', 'jb', 'jb'], ['number', 'cacm', 'february', 'february', 'jb', 'jb', 'ca', 'ca'], ['number', 'cacm', 'february', 'february', 'ca', 'ca'], ['number', 'cacm', 'february', 'february', 'ca', 'ca', 'pm', 'pm'], ['number', 'cacm', 'february', 'february', 'ca', 'ca', 'jb', 'jb'], ['number', 'cacm', 'january', 'january'], ['number', 'cacm', 'january', 'january', 'jb', 'jb', 'ca'], ['number', 'cacm', 'january', 'january', 'ca', 'ca'], ['number', 'cacm', 'january', 'january', 'ca', 'ca', 'jb', 'jb'], ['number', 'cacm', 'algorithm', 'algorithm'], ['number', 'cacm', 'algorithm', 'algorithm', 'pm', 'pm'], ['number', 'cacm', 'algorithm', 'algorithm', 'pm', 'pm', 'ca', 'ca'], ['number', 'cacm', 'algorithm', 'algorithm', 'jb', 'jb'], ['number', 'cacm', 'algorithm', 'algorithm', 'jb', 'jb', 'ca', 'ca'], ['number', 'cacm', 'algorithm', 'algorithm', 'ca', 'ca'], ['number', 'cacm', 'algorithm', 'algorithm', 'ca', 'ca', 'pm', 'pm'], ['number', 'cacm', 'algorithm', 'algorithm', 'ca', 'ca', 'jb', 'jb'], ['number', 'cacm', 'pm', 'pm'], ['number', 'cacm', 'pm', 'pm', 'february', 'february'], ['number', 'cacm', 'pm', 'pm', 'february', 'february', 'ca', 'ca'], ['number', 'cacm', 'pm', 'pm', 'algorithm', 'algorithm'], ['number', 'cacm', 'pm', 'pm', 'algorithm', 'algorithm', 'ca', 'ca'], ['number', 'cacm', 'pm', 'pm', 'jb', 'jb'], ['number', 'cacm', 'pm', 'pm', 'jb', 'jb', 'ca', 'ca'], ['number', 'cacm', 'pm', 'pm', 'ca', 'ca'], ['number', 'cacm', 'pm', 'pm', 'ca', 'ca', 'february', 'february'], ['number', 'cacm', 'pm', 'pm', 'ca', 'ca', 'algorithm', 'algorithm'], ['number', 'cacm', 'pm', 'pm', 'ca', 'ca', 'jb', 'jb'], ['number', 'cacm', 'jb', 'jb'], ['number', 'cacm', 'jb', 'jb', 'march', 'march', 'ca'], ['number', 'cacm', 'jb', 'jb', 'method', 'method', 'ca'], ['number', 'cacm', 'jb', 'jb', 'february', 'february'], ['number', 'cacm', 'jb', 'jb', 'february', 'february', 'ca', 'ca'], ['number', 'cacm', 'jb', 'jb', 'january', 'january', 'ca'], ['number', 'cacm', 'jb', 'jb', 'algorithm', 'algorithm'], ['number', 'cacm', 'jb', 'jb', 'algorithm', 'algorithm', 'ca', 'ca'], ['number', 'cacm', 'jb', 'jb', 'pm', 'pm'], ['number', 'cacm', 'jb', 'jb', 'pm', 'pm', 'ca', 'ca'], ['number', 'cacm', 'jb', 'jb', 'ca', 'ca'], ['number', 'cacm', 'jb', 'jb', 'ca', 'ca', 'march', 'march'], ['number', 'cacm', 'jb', 'jb', 'ca', 'ca', 'method', 'method'], ['number', 'cacm', 'jb', 'jb', 'ca', 'ca', 'february', 'february'], ['number', 'cacm', 'jb', 'jb', 'ca', 'ca', 'january', 'january'], ['number', 'cacm', 'jb', 'jb', 'ca', 'ca', 'algorithm', 'algorithm'], ['number', 'cacm', 'jb', 'jb', 'ca', 'ca', 'pm', 'pm'], ['number', 'cacm', 'ca', 'ca'], ['number', 'cacm', 'ca', 'ca', 'march', 'march'], ['number', 'cacm', 'ca', 'ca', 'march', 'march', 'jb', 'jb'], ['number', 'cacm', 'ca', 'ca', 'method', 'method'], ['number', 'cacm', 'ca', 'ca', 'method', 'method', 'jb', 'jb'], ['number', 'cacm', 'ca', 'ca', 'february', 'february'], ['number', 'cacm', 'ca', 'ca', 'february', 'february', 'pm', 'pm'], ['number', 'cacm', 'ca', 'ca', 'february', 'february', 'jb', 'jb'], ['number', 'cacm', 'ca', 'ca', 'january', 'january'], ['number', 'cacm', 'ca', 'ca', 'january', 'january', 'jb', 'jb'], ['number', 'cacm', 'ca', 'ca', 'algorithm', 'algorithm'], ['number', 'cacm', 'ca', 'ca', 'algorithm', 'algorithm', 'pm', 'pm'], ['number', 'cacm', 'ca', 'ca', 'algorithm', 'algorithm', 'jb', 'jb'], ['number', 'cacm', 'ca', 'ca', 'pm', 'pm'], ['number', 'cacm', 'ca', 'ca', 'pm', 'pm', 'february', 'february'], ['number', 'cacm', 'ca', 'ca', 'pm', 'pm', 'algorithm', 'algorithm'], ['number', 'cacm', 'ca', 'ca', 'pm', 'pm', 'jb', 'jb'], ['number', 'cacm', 'ca', 'ca', 'jb', 'jb'], ['number', 'cacm', 'ca', 'ca', 'jb', 'jb', 'march', 'march'], ['number', 'cacm', 'ca', 'ca', 'jb', 'jb', 'method', 'method'], ['number', 'cacm', 'ca', 'ca', 'jb', 'jb', 'february', 'february'], ['number', 'cacm', 'ca', 'ca', 'jb', 'jb', 'january', 'january'], ['number', 'cacm', 'ca', 'ca', 'jb', 'jb', 'algorithm', 'algorithm'], ['number', 'cacm', 'ca', 'ca', 'jb', 'jb', 'pm', 'pm'], ['march', 'cacm'], ['march', 'cacm', 'method', 'method'], ['march', 'cacm', 'method', 'method', 'pm', 'pm'], ['march', 'cacm', 'method', 'method', 'pm', 'pm', 'jb', 'jb', 'ca'], ['march', 'cacm', 'method', 'method', 'pm', 'pm', 'ca', 'ca'], ['march', 'cacm', 'method', 'method', 'pm', 'pm', 'ca', 'ca', 'jb', 'jb'], ['march', 'cacm', 'method', 'method', 'jb', 'jb', 'ca'], ['march', 'cacm', 'method', 'method', 'jb', 'jb', 'ca', 'pm', 'pm'], ['march', 'cacm', 'method', 'method', 'ca', 'ca'], ['march', 'cacm', 'method', 'method', 'ca', 'ca', 'pm', 'pm'], ['march', 'cacm', 'method', 'method', 'ca', 'ca', 'pm', 'pm', 'jb', 'jb'], ['march', 'cacm', 'method', 'method', 'ca', 'ca', 'jb', 'jb'], ['march', 'cacm', 'method', 'method', 'ca', 'ca', 'jb', 'jb', 'pm', 'pm'], ['march', 'cacm', 'algorithm', 'algorithm'], ['march', 'cacm', 'algorithm', 'algorithm', 'jb', 'jb', 'ca'], ['march', 'cacm', 'algorithm', 'algorithm', 'ca', 'ca'], ['march', 'cacm', 'algorithm', 'algorithm', 'ca', 'ca', 'jb', 'jb'], ['march', 'cacm', 'pm', 'pm'], ['march', 'cacm', 'pm', 'pm', 'method', 'method'], ['march', 'cacm', 'pm', 'pm', 'method', 'method', 'jb', 'jb', 'ca'], ['march', 'cacm', 'pm', 'pm', 'method', 'method', 'ca', 'ca'], ['march', 'cacm', 'pm', 'pm', 'method', 'method', 'ca', 'ca', 'jb', 'jb'], ['march', 'cacm', 'pm', 'pm', 'jb', 'jb', 'ca'], ['march', 'cacm', 'pm', 'pm', 'jb', 'jb', 'ca', 'method', 'method'], ['march', 'cacm', 'pm', 'pm', 'ca', 'ca'], ['march', 'cacm', 'pm', 'pm', 'ca', 'ca', 'method', 'method'], ['march', 'cacm', 'pm', 'pm', 'ca', 'ca', 'method', 'method', 'jb', 'jb'], ['march', 'cacm', 'pm', 'pm', 'ca', 'ca', 'jb', 'jb'], ['march', 'cacm', 'pm', 'pm', 'ca', 'ca', 'jb', 'jb', 'method', 'method'], ['march', 'cacm', 'jb', 'jb', 'ca'], ['march', 'cacm', 'jb', 'jb', 'ca', 'method', 'method'], ['march', 'cacm', 'jb', 'jb', 'ca', 'method', 'method', 'pm', 'pm'], ['march', 'cacm', 'jb', 'jb', 'ca', 'algorithm', 'algorithm'], ['march', 'cacm', 'jb', 'jb', 'ca', 'pm', 'pm'], ['march', 'cacm', 'jb', 'jb', 'ca', 'pm', 'pm', 'method', 'method'], ['march', 'cacm', 'ca', 'ca'], ['march', 'cacm', 'ca', 'ca', 'method', 'method'], ['march', 'cacm', 'ca', 'ca', 'method', 'method', 'pm', 'pm'], ['march', 'cacm', 'ca', 'ca', 'method', 'method', 'pm', 'pm', 'jb', 'jb'], ['march', 'cacm', 'ca', 'ca', 'method', 'method', 'jb', 'jb'], ['march', 'cacm', 'ca', 'ca', 'method', 'method', 'jb', 'jb', 'pm', 'pm'], ['march', 'cacm', 'ca', 'ca', 'algorithm', 'algorithm'], ['march', 'cacm', 'ca', 'ca', 'algorithm', 'algorithm', 'jb', 'jb'], ['march', 'cacm', 'ca', 'ca', 'pm', 'pm'], ['march', 'cacm', 'ca', 'ca', 'pm', 'pm', 'method', 'method'], ['march', 'cacm', 'ca', 'ca', 'pm', 'pm', 'method', 'method', 'jb', 'jb'], ['march', 'cacm', 'ca', 'ca', 'pm', 'pm', 'jb', 'jb'], ['march', 'cacm', 'ca', 'ca', 'pm', 'pm', 'jb', 'jb', 'method', 'method'], ['march', 'cacm', 'ca', 'ca', 'jb', 'jb'], ['march', 'cacm', 'ca', 'ca', 'jb', 'jb', 'method', 'method'], ['march', 'cacm', 'ca', 'ca', 'jb', 'jb', 'method', 'method', 'pm', 'pm'], ['march', 'cacm', 'ca', 'ca', 'jb', 'jb', 'algorithm', 'algorithm'], ['march', 'cacm', 'ca', 'ca', 'jb', 'jb', 'pm', 'pm'], ['march', 'cacm', 'ca', 'ca', 'jb', 'jb', 'pm', 'pm', 'method', 'method'], ['method', 'cacm'], ['method', 'cacm', 'february', 'february'], ['method', 'cacm', 'february', 'february', 'pm', 'pm'], ['method', 'cacm', 'february', 'february', 'pm', 'pm', 'jb', 'jb', 'ca'], ['method', 'cacm', 'february', 'february', 'pm', 'pm', 'ca', 'ca'], ['method', 'cacm', 'february', 'february', 'pm', 'pm', 'ca', 'ca', 'jb', 'jb'], ['method', 'cacm', 'february', 'february', 'jb', 'jb', 'ca'], ['method', 'cacm', 'february', 'february', 'jb', 'jb', 'ca', 'pm', 'pm'], ['method', 'cacm', 'february', 'february', 'ca', 'ca'], ['method', 'cacm', 'february', 'february', 'ca', 'ca', 'pm', 'pm'], ['method', 'cacm', 'february', 'february', 'ca', 'ca', 'pm', 'pm', 'jb', 'jb'], ['method', 'cacm', 'february', 'february', 'ca', 'ca', 'jb', 'jb'], ['method', 'cacm', 'february', 'february', 'ca', 'ca', 'jb', 'jb', 'pm', 'pm'], ['method', 'cacm', 'january', 'january'], ['method', 'cacm', 'january', 'january', 'jb', 'jb', 'ca'], ['method', 'cacm', 'january', 'january', 'ca', 'ca'], ['method', 'cacm', 'january', 'january', 'ca', 'ca', 'jb', 'jb'], ['method', 'cacm', 'algorithm', 'algorithm'], ['method', 'cacm', 'algorithm', 'algorithm', 'pm', 'pm', 'ca'], ['method', 'cacm', 'algorithm', 'algorithm', 'jb', 'jb', 'ca'], ['method', 'cacm', 'algorithm', 'algorithm', 'ca', 'ca'], ['method', 'cacm', 'algorithm', 'algorithm', 'ca', 'ca', 'pm', 'pm'], ['method', 'cacm', 'algorithm', 'algorithm', 'ca', 'ca', 'jb', 'jb'], ['method', 'cacm', 'pm', 'pm'], ['method', 'cacm', 'pm', 'pm', 'february', 'february'], ['method', 'cacm', 'pm', 'pm', 'february', 'february', 'jb', 'jb', 'ca'], ['method', 'cacm', 'pm', 'pm', 'february', 'february', 'ca', 'ca'], ['method', 'cacm', 'pm', 'pm', 'february', 'february', 'ca', 'ca', 'jb', 'jb'], ['method', 'cacm', 'pm', 'pm', 'algorithm', 'algorithm', 'ca'], ['method', 'cacm', 'pm', 'pm', 'jb', 'jb', 'ca'], ['method', 'cacm', 'pm', 'pm', 'jb', 'jb', 'ca', 'february', 'february'], ['method', 'cacm', 'pm', 'pm', 'ca', 'ca'], ['method', 'cacm', 'pm', 'pm', 'ca', 'ca', 'february', 'february'], ['method', 'cacm', 'pm', 'pm', 'ca', 'ca', 'february', 'february', 'jb', 'jb'], ['method', 'cacm', 'pm', 'pm', 'ca', 'ca', 'algorithm', 'algorithm'], ['method', 'cacm', 'pm', 'pm', 'ca', 'ca', 'jb', 'jb'], ['method', 'cacm', 'pm', 'pm', 'ca', 'ca', 'jb', 'jb', 'february', 'february'], ['method', 'cacm', 'jb', 'jb', 'ca'], ['method', 'cacm', 'jb', 'jb', 'ca', 'february', 'february'], ['method', 'cacm', 'jb', 'jb', 'ca', 'february', 'february', 'pm', 'pm'], ['method', 'cacm', 'jb', 'jb', 'ca', 'january', 'january'], ['method', 'cacm', 'jb', 'jb', 'ca', 'algorithm', 'algorithm'], ['method', 'cacm', 'jb', 'jb', 'ca', 'pm', 'pm'], ['method', 'cacm', 'jb', 'jb', 'ca', 'pm', 'pm', 'february', 'february'], ['method', 'cacm', 'ca', 'ca'], ['method', 'cacm', 'ca', 'ca', 'february', 'february'], ['method', 'cacm', 'ca', 'ca', 'february', 'february', 'pm', 'pm'], ['method', 'cacm', 'ca', 'ca', 'february', 'february', 'pm', 'pm', 'jb', 'jb'], ['method', 'cacm', 'ca', 'ca', 'february', 'february', 'jb', 'jb'], ['method', 'cacm', 'ca', 'ca', 'february', 'february', 'jb', 'jb', 'pm', 'pm'], ['method', 'cacm', 'ca', 'ca', 'january', 'january'], ['method', 'cacm', 'ca', 'ca', 'january', 'january', 'jb', 'jb'], ['method', 'cacm', 'ca', 'ca', 'algorithm', 'algorithm'], ['method', 'cacm', 'ca', 'ca', 'algorithm', 'algorithm', 'pm', 'pm'], ['method', 'cacm', 'ca', 'ca', 'algorithm', 'algorithm', 'jb', 'jb'], ['method', 'cacm', 'ca', 'ca', 'pm', 'pm'], ['method', 'cacm', 'ca', 'ca', 'pm', 'pm', 'february', 'february'], ['method', 'cacm', 'ca', 'ca', 'pm', 'pm', 'february', 'february', 'jb', 'jb'], ['method', 'cacm', 'ca', 'ca', 'pm', 'pm', 'algorithm', 'algorithm'], ['method', 'cacm', 'ca', 'ca', 'pm', 'pm', 'jb', 'jb'], ['method', 'cacm', 'ca', 'ca', 'pm', 'pm', 'jb', 'jb', 'february', 'february'], ['method', 'cacm', 'ca', 'ca', 'jb', 'jb'], ['method', 'cacm', 'ca', 'ca', 'jb', 'jb', 'february', 'february'], ['method', 'cacm', 'ca', 'ca', 'jb', 'jb', 'february', 'february', 'pm', 'pm'], ['method', 'cacm', 'ca', 'ca', 'jb', 'jb', 'january', 'january'], ['method', 'cacm', 'ca', 'ca', 'jb', 'jb', 'algorithm', 'algorithm'], ['method', 'cacm', 'ca', 'ca', 'jb', 'jb', 'pm', 'pm'], ['method', 'cacm', 'ca', 'ca', 'jb', 'jb', 'pm', 'pm', 'february', 'february'], ['february'], ['february', 'january', 'january', 'cacm'], ['february', 'january', 'january', 'cacm', 'jb', 'jb', 'ca'], ['february', 'january', 'january', 'cacm', 'ca', 'jb', 'ca'], ['february', 'algorithm', 'algorithm', 'cacm'], ['february', 'algorithm', 'algorithm', 'cacm', 'pm', 'pm'], ['february', 'algorithm', 'algorithm', 'cacm', 'pm', 'pm', 'jb', 'jb'], ['february', 'algorithm', 'algorithm', 'cacm', 'pm', 'pm', 'jb', 'jb', 'ca', 'ca'], ['february', 'algorithm', 'algorithm', 'cacm', 'pm', 'pm', 'ca', 'ca'], ['february', 'algorithm', 'algorithm', 'cacm', 'pm', 'pm', 'ca', 'ca', 'jb', 'jb'], ['february', 'algorithm', 'algorithm', 'cacm', 'jb', 'jb'], ['february', 'algorithm', 'algorithm', 'cacm', 'jb', 'jb', 'pm', 'pm'], ['february', 'algorithm', 'algorithm', 'cacm', 'jb', 'jb', 'pm', 'pm', 'ca', 'ca'], ['february', 'algorithm', 'algorithm', 'cacm', 'jb', 'jb', 'ca', 'ca'], ['february', 'algorithm', 'algorithm', 'cacm', 'jb', 'jb', 'ca', 'ca', 'pm', 'pm'], ['february', 'algorithm', 'algorithm', 'cacm', 'ca', 'ca'], ['february', 'algorithm', 'algorithm', 'cacm', 'ca', 'ca', 'pm', 'pm'], ['february', 'algorithm', 'algorithm', 'cacm', 'ca', 'ca', 'pm', 'pm', 'jb', 'jb'], ['february', 'algorithm', 'algorithm', 'cacm', 'ca', 'ca', 'jb', 'jb'], ['february', 'algorithm', 'algorithm', 'cacm', 'ca', 'ca', 'jb', 'jb', 'pm', 'pm'], ['february', 'pm', 'pm'], ['february', 'pm', 'pm', 'algorithm', 'algorithm', 'cacm'], ['february', 'pm', 'pm', 'algorithm', 'algorithm', 'cacm', 'jb', 'jb'], ['february', 'pm', 'pm', 'algorithm', 'algorithm', 'cacm', 'jb', 'jb', 'ca', 'ca'], ['february', 'pm', 'pm', 'algorithm', 'algorithm', 'cacm', 'ca', 'ca'], ['february', 'pm', 'pm', 'algorithm', 'algorithm', 'cacm', 'ca', 'ca', 'jb', 'jb'], ['february', 'pm', 'pm', 'jb', 'jb'], ['february', 'pm', 'pm', 'jb', 'jb', 'algorithm', 'algorithm', 'cacm'], ['february', 'pm', 'pm', 'jb', 'jb', 'algorithm', 'algorithm', 'cacm', 'ca', 'ca'], ['february', 'pm', 'pm', 'jb', 'jb', 'ca', 'ca'], ['february', 'pm', 'pm', 'jb', 'jb', 'ca', 'ca', 'algorithm', 'algorithm', 'cacm'], ['february', 'pm', 'pm', 'jb', 'jb', 'ca', 'ca', 'cacm', 'cacm'], ['february', 'pm', 'pm', 'jb', 'jb', 'ca', 'ca', 'cacm', 'cacm', 'algorithm', 'algorithm'], ['february', 'pm', 'pm', 'jb', 'jb', 'cacm', 'cacm'], ['february', 'pm', 'pm', 'jb', 'jb', 'cacm', 'cacm', 'algorithm', 'algorithm'], ['february', 'pm', 'pm', 'jb', 'jb', 'cacm', 'cacm', 'algorithm', 'algorithm', 'ca', 'ca'], ['february', 'pm', 'pm', 'jb', 'jb', 'cacm', 'cacm', 'ca', 'ca'], ['february', 'pm', 'pm', 'jb', 'jb', 'cacm', 'cacm', 'ca', 'ca', 'algorithm', 'algorithm'], ['february', 'pm', 'pm', 'ca', 'ca'], ['february', 'pm', 'pm', 'ca', 'ca', 'algorithm', 'algorithm', 'cacm'], ['february', 'pm', 'pm', 'ca', 'ca', 'algorithm', 'algorithm', 'cacm', 'jb', 'jb'], ['february', 'pm', 'pm', 'ca', 'ca', 'jb', 'jb'], ['february', 'pm', 'pm', 'ca', 'ca', 'jb', 'jb', 'algorithm', 'algorithm', 'cacm'], ['february', 'pm', 'pm', 'ca', 'ca', 'jb', 'jb', 'cacm', 'cacm'], ['february', 'pm', 'pm', 'ca', 'ca', 'jb', 'jb', 'cacm', 'cacm', 'algorithm', 'algorithm'], ['february', 'pm', 'pm', 'ca', 'ca', 'cacm', 'cacm'], ['february', 'pm', 'pm', 'ca', 'ca', 'cacm', 'cacm', 'algorithm', 'algorithm'], ['february', 'pm', 'pm', 'ca', 'ca', 'cacm', 'cacm', 'algorithm', 'algorithm', 'jb', 'jb'], ['february', 'pm', 'pm', 'ca', 'ca', 'cacm', 'cacm', 'jb', 'jb'], ['february', 'pm', 'pm', 'ca', 'ca', 'cacm', 'cacm', 'jb', 'jb', 'algorithm', 'algorithm'], ['february', 'pm', 'pm', 'cacm', 'cacm'], ['february', 'pm', 'pm', 'cacm', 'cacm', 'algorithm', 'algorithm'], ['february', 'pm', 'pm', 'cacm', 'cacm', 'algorithm', 'algorithm', 'jb', 'jb'], ['february', 'pm', 'pm', 'cacm', 'cacm', 'algorithm', 'algorithm', 'jb', 'jb', 'ca', 'ca'], ['february', 'pm', 'pm', 'cacm', 'cacm', 'algorithm', 'algorithm', 'ca', 'ca'], ['february', 'pm', 'pm', 'cacm', 'cacm', 'algorithm', 'algorithm', 'ca', 'ca', 'jb', 'jb'], ['february', 'pm', 'pm', 'cacm', 'cacm', 'jb', 'jb'], ['february', 'pm', 'pm', 'cacm', 'cacm', 'jb', 'jb', 'algorithm', 'algorithm'], ['february', 'pm', 'pm', 'cacm', 'cacm', 'jb', 'jb', 'algorithm', 'algorithm', 'ca', 'ca'], ['february', 'pm', 'pm', 'cacm', 'cacm', 'jb', 'jb', 'ca', 'ca'], ['february', 'pm', 'pm', 'cacm', 'cacm', 'jb', 'jb', 'ca', 'ca', 'algorithm', 'algorithm'], ['february', 'pm', 'pm', 'cacm', 'cacm', 'ca', 'ca'], ['february', 'pm', 'pm', 'cacm', 'cacm', 'ca', 'ca', 'algorithm', 'algorithm'], ['february', 'pm', 'pm', 'cacm', 'cacm', 'ca', 'ca', 'algorithm', 'algorithm', 'jb', 'jb'], ['february', 'pm', 'pm', 'cacm', 'cacm', 'ca', 'ca', 'jb', 'jb'], ['february', 'pm', 'pm', 'cacm', 'cacm', 'ca', 'ca', 'jb', 'jb', 'algorithm', 'algorithm'], ['february', 'jb', 'jb'], ['february', 'jb', 'jb', 'january', 'january', 'ca', 'cacm'], ['february', 'jb', 'jb', 'algorithm', 'algorithm', 'cacm'], ['february', 'jb', 'jb', 'algorithm', 'algorithm', 'cacm', 'pm', 'pm'], ['february', 'jb', 'jb', 'algorithm', 'algorithm', 'cacm', 'pm', 'pm', 'ca', 'ca'], ['february', 'jb', 'jb', 'algorithm', 'algorithm', 'cacm', 'ca', 'ca'], ['february', 'jb', 'jb', 'algorithm', 'algorithm', 'cacm', 'ca', 'ca', 'pm', 'pm'], ['february', 'jb', 'jb', 'pm', 'pm'], ['february', 'jb', 'jb', 'pm', 'pm', 'algorithm', 'algorithm', 'cacm'], ['february', 'jb', 'jb', 'pm', 'pm', 'algorithm', 'algorithm', 'cacm', 'ca', 'ca'], ['february', 'jb', 'jb', 'pm', 'pm', 'ca', 'ca'], ['february', 'jb', 'jb', 'pm', 'pm', 'ca', 'ca', 'algorithm', 'algorithm', 'cacm'], ['february', 'jb', 'jb', 'pm', 'pm', 'ca', 'ca', 'cacm', 'cacm'], ['february', 'jb', 'jb', 'pm', 'pm', 'ca', 'ca', 'cacm', 'cacm', 'algorithm', 'algorithm'], ['february', 'jb', 'jb', 'pm', 'pm', 'cacm', 'cacm'], ['february', 'jb', 'jb', 'pm', 'pm', 'cacm', 'cacm', 'algorithm', 'algorithm'], ['february', 'jb', 'jb', 'pm', 'pm', 'cacm', 'cacm', 'algorithm', 'algorithm', 'ca', 'ca'], ['february', 'jb', 'jb', 'pm', 'pm', 'cacm', 'cacm', 'ca', 'ca'], ['february', 'jb', 'jb', 'pm', 'pm', 'cacm', 'cacm', 'ca', 'ca', 'algorithm', 'algorithm'], ['february', 'jb', 'jb', 'ca', 'ca'], ['february', 'jb', 'jb', 'ca', 'ca', 'january', 'january', 'cacm'], ['february', 'jb', 'jb', 'ca', 'ca', 'algorithm', 'algorithm', 'cacm'], ['february', 'jb', 'jb', 'ca', 'ca', 'algorithm', 'algorithm', 'cacm', 'pm', 'pm'], ['february', 'jb', 'jb', 'ca', 'ca', 'pm', 'pm'], ['february', 'jb', 'jb', 'ca', 'ca', 'pm', 'pm', 'algorithm', 'algorithm', 'cacm'], ['february', 'jb', 'jb', 'ca', 'ca', 'pm', 'pm', 'cacm', 'cacm'], ['february', 'jb', 'jb', 'ca', 'ca', 'pm', 'pm', 'cacm', 'cacm', 'algorithm', 'algorithm'], ['february', 'jb', 'jb', 'ca', 'ca', 'cacm', 'cacm'], ['february', 'jb', 'jb', 'ca', 'ca', 'cacm', 'cacm', 'january', 'january'], ['february', 'jb', 'jb', 'ca', 'ca', 'cacm', 'cacm', 'algorithm', 'algorithm'], ['february', 'jb', 'jb', 'ca', 'ca', 'cacm', 'cacm', 'algorithm', 'algorithm', 'pm', 'pm'], ['february', 'jb', 'jb', 'ca', 'ca', 'cacm', 'cacm', 'pm', 'pm'], ['february', 'jb', 'jb', 'ca', 'ca', 'cacm', 'cacm', 'pm', 'pm', 'algorithm', 'algorithm'], ['february', 'jb', 'jb', 'cacm', 'cacm'], ['february', 'jb', 'jb', 'cacm', 'cacm', 'january', 'january', 'ca'], ['february', 'jb', 'jb', 'cacm', 'cacm', 'algorithm', 'algorithm'], ['february', 'jb', 'jb', 'cacm', 'cacm', 'algorithm', 'algorithm', 'pm', 'pm'], ['february', 'jb', 'jb', 'cacm', 'cacm', 'algorithm', 'algorithm', 'pm', 'pm', 'ca', 'ca'], ['february', 'jb', 'jb', 'cacm', 'cacm', 'algorithm', 'algorithm', 'ca', 'ca'], ['february', 'jb', 'jb', 'cacm', 'cacm', 'algorithm', 'algorithm', 'ca', 'ca', 'pm', 'pm'], ['february', 'jb', 'jb', 'cacm', 'cacm', 'pm', 'pm'], ['february', 'jb', 'jb', 'cacm', 'cacm', 'pm', 'pm', 'algorithm', 'algorithm'], ['february', 'jb', 'jb', 'cacm', 'cacm', 'pm', 'pm', 'algorithm', 'algorithm', 'ca', 'ca'], ['february', 'jb', 'jb', 'cacm', 'cacm', 'pm', 'pm', 'ca', 'ca'], ['february', 'jb', 'jb', 'cacm', 'cacm', 'pm', 'pm', 'ca', 'ca', 'algorithm', 'algorithm'], ['february', 'jb', 'jb', 'cacm', 'cacm', 'ca', 'ca'], ['february', 'jb', 'jb', 'cacm', 'cacm', 'ca', 'ca', 'january', 'january'], ['february', 'jb', 'jb', 'cacm', 'cacm', 'ca', 'ca', 'algorithm', 'algorithm'], ['february', 'jb', 'jb', 'cacm', 'cacm', 'ca', 'ca', 'algorithm', 'algorithm', 'pm', 'pm'], ['february', 'jb', 'jb', 'cacm', 'cacm', 'ca', 'ca', 'pm', 'pm'], ['february', 'jb', 'jb', 'cacm', 'cacm', 'ca', 'ca', 'pm', 'pm', 'algorithm', 'algorithm'], ['february', 'ca', 'ca'], ['february', 'ca', 'ca', 'january', 'january', 'jb', 'cacm'], ['february', 'ca', 'ca', 'algorithm', 'algorithm', 'cacm'], ['february', 'ca', 'ca', 'algorithm', 'algorithm', 'cacm', 'pm', 'pm'], ['february', 'ca', 'ca', 'algorithm', 'algorithm', 'cacm', 'pm', 'pm', 'jb', 'jb'], ['february', 'ca', 'ca', 'algorithm', 'algorithm', 'cacm', 'jb', 'jb'], ['february', 'ca', 'ca', 'algorithm', 'algorithm', 'cacm', 'jb', 'jb', 'pm', 'pm'], ['february', 'ca', 'ca', 'pm', 'pm'], ['february', 'ca', 'ca', 'pm', 'pm', 'algorithm', 'algorithm', 'cacm'], ['february', 'ca', 'ca', 'pm', 'pm', 'algorithm', 'algorithm', 'cacm', 'jb', 'jb'], ['february', 'ca', 'ca', 'pm', 'pm', 'jb', 'jb'], ['february', 'ca', 'ca', 'pm', 'pm', 'jb', 'jb', 'algorithm', 'algorithm', 'cacm'], ['february', 'ca', 'ca', 'pm', 'pm', 'jb', 'jb', 'cacm', 'cacm'], ['february', 'ca', 'ca', 'pm', 'pm', 'jb', 'jb', 'cacm', 'cacm', 'algorithm', 'algorithm'], ['february', 'ca', 'ca', 'pm', 'pm', 'cacm', 'cacm'], ['february', 'ca', 'ca', 'pm', 'pm', 'cacm', 'cacm', 'algorithm', 'algorithm'], ['february', 'ca', 'ca', 'pm', 'pm', 'cacm', 'cacm', 'algorithm', 'algorithm', 'jb', 'jb'], ['february', 'ca', 'ca', 'pm', 'pm', 'cacm', 'cacm', 'jb', 'jb'], ['february', 'ca', 'ca', 'pm', 'pm', 'cacm', 'cacm', 'jb', 'jb', 'algorithm', 'algorithm'], ['february', 'ca', 'ca', 'jb', 'jb'], ['february', 'ca', 'ca', 'jb', 'jb', 'january', 'january', 'cacm'], ['february', 'ca', 'ca', 'jb', 'jb', 'algorithm', 'algorithm', 'cacm'], ['february', 'ca', 'ca', 'jb', 'jb', 'algorithm', 'algorithm', 'cacm', 'pm', 'pm'], ['february', 'ca', 'ca', 'jb', 'jb', 'pm', 'pm'], ['february', 'ca', 'ca', 'jb', 'jb', 'pm', 'pm', 'algorithm', 'algorithm', 'cacm'], ['february', 'ca', 'ca', 'jb', 'jb', 'pm', 'pm', 'cacm', 'cacm'], ['february', 'ca', 'ca', 'jb', 'jb', 'pm', 'pm', 'cacm', 'cacm', 'algorithm', 'algorithm'], ['february', 'ca', 'ca', 'jb', 'jb', 'cacm', 'cacm'], ['february', 'ca', 'ca', 'jb', 'jb', 'cacm', 'cacm', 'january', 'january'], ['february', 'ca', 'ca', 'jb', 'jb', 'cacm', 'cacm', 'algorithm', 'algorithm'], ['february', 'ca', 'ca', 'jb', 'jb', 'cacm', 'cacm', 'algorithm', 'algorithm', 'pm', 'pm'], ['february', 'ca', 'ca', 'jb', 'jb', 'cacm', 'cacm', 'pm', 'pm'], ['february', 'ca', 'ca', 'jb', 'jb', 'cacm', 'cacm', 'pm', 'pm', 'algorithm', 'algorithm'], ['february', 'ca', 'ca', 'cacm', 'cacm'], ['february', 'ca', 'ca', 'cacm', 'cacm', 'january', 'january', 'jb'], ['february', 'ca', 'ca', 'cacm', 'cacm', 'algorithm', 'algorithm'], ['february', 'ca', 'ca', 'cacm', 'cacm', 'algorithm', 'algorithm', 'pm', 'pm'], ['february', 'ca', 'ca', 'cacm', 'cacm', 'algorithm', 'algorithm', 'pm', 'pm', 'jb', 'jb'], ['february', 'ca', 'ca', 'cacm', 'cacm', 'algorithm', 'algorithm', 'jb', 'jb'], ['february', 'ca', 'ca', 'cacm', 'cacm', 'algorithm', 'algorithm', 'jb', 'jb', 'pm', 'pm'], ['february', 'ca', 'ca', 'cacm', 'cacm', 'pm', 'pm'], ['february', 'ca', 'ca', 'cacm', 'cacm', 'pm', 'pm', 'algorithm', 'algorithm'], ['february', 'ca', 'ca', 'cacm', 'cacm', 'pm', 'pm', 'algorithm', 'algorithm', 'jb', 'jb'], ['february', 'ca', 'ca', 'cacm', 'cacm', 'pm', 'pm', 'jb', 'jb'], ['february', 'ca', 'ca', 'cacm', 'cacm', 'pm', 'pm', 'jb', 'jb', 'algorithm', 'algorithm'], ['february', 'ca', 'ca', 'cacm', 'cacm', 'jb', 'jb'], ['february', 'ca', 'ca', 'cacm', 'cacm', 'jb', 'jb', 'january', 'january'], ['february', 'ca', 'ca', 'cacm', 'cacm', 'jb', 'jb', 'algorithm', 'algorithm'], ['february', 'ca', 'ca', 'cacm', 'cacm', 'jb', 'jb', 'algorithm', 'algorithm', 'pm', 'pm'], ['february', 'ca', 'ca', 'cacm', 'cacm', 'jb', 'jb', 'pm', 'pm'], ['february', 'ca', 'ca', 'cacm', 'cacm', 'jb', 'jb', 'pm', 'pm', 'algorithm', 'algorithm'], ['february', 'cacm', 'cacm'], ['february', 'cacm', 'cacm', 'january', 'january'], ['february', 'cacm', 'cacm', 'january', 'january', 'jb', 'jb', 'ca'], ['february', 'cacm', 'cacm', 'january', 'january', 'ca', 'jb', 'ca'], ['february', 'cacm', 'cacm', 'algorithm', 'algorithm'], ['february', 'cacm', 'cacm', 'algorithm', 'algorithm', 'pm', 'pm'], ['february', 'cacm', 'cacm', 'algorithm', 'algorithm', 'pm', 'pm', 'jb', 'jb'], ['february', 'cacm', 'cacm', 'algorithm', 'algorithm', 'pm', 'pm', 'jb', 'jb', 'ca', 'ca'], ['february', 'cacm', 'cacm', 'algorithm', 'algorithm', 'pm', 'pm', 'ca', 'ca'], ['february', 'cacm', 'cacm', 'algorithm', 'algorithm', 'pm', 'pm', 'ca', 'ca', 'jb', 'jb'], ['february', 'cacm', 'cacm', 'algorithm', 'algorithm', 'jb', 'jb'], ['february', 'cacm', 'cacm', 'algorithm', 'algorithm', 'jb', 'jb', 'pm', 'pm'], ['february', 'cacm', 'cacm', 'algorithm', 'algorithm', 'jb', 'jb', 'pm', 'pm', 'ca', 'ca'], ['february', 'cacm', 'cacm', 'algorithm', 'algorithm', 'jb', 'jb', 'ca', 'ca'], ['february', 'cacm', 'cacm', 'algorithm', 'algorithm', 'jb', 'jb', 'ca', 'ca', 'pm', 'pm'], ['february', 'cacm', 'cacm', 'algorithm', 'algorithm', 'ca', 'ca'], ['february', 'cacm', 'cacm', 'algorithm', 'algorithm', 'ca', 'ca', 'pm', 'pm'], ['february', 'cacm', 'cacm', 'algorithm', 'algorithm', 'ca', 'ca', 'pm', 'pm', 'jb', 'jb'], ['february', 'cacm', 'cacm', 'algorithm', 'algorithm', 'ca', 'ca', 'jb', 'jb'], ['february', 'cacm', 'cacm', 'algorithm', 'algorithm', 'ca', 'ca', 'jb', 'jb', 'pm', 'pm'], ['february', 'cacm', 'cacm', 'pm', 'pm'], ['february', 'cacm', 'cacm', 'pm', 'pm', 'algorithm', 'algorithm'], ['february', 'cacm', 'cacm', 'pm', 'pm', 'algorithm', 'algorithm', 'jb', 'jb'], ['february', 'cacm', 'cacm', 'pm', 'pm', 'algorithm', 'algorithm', 'jb', 'jb', 'ca', 'ca'], ['february', 'cacm', 'cacm', 'pm', 'pm', 'algorithm', 'algorithm', 'ca', 'ca'], ['february', 'cacm', 'cacm', 'pm', 'pm', 'algorithm', 'algorithm', 'ca', 'ca', 'jb', 'jb'], ['february', 'cacm', 'cacm', 'pm', 'pm', 'jb', 'jb'], ['february', 'cacm', 'cacm', 'pm', 'pm', 'jb', 'jb', 'algorithm', 'algorithm'], ['february', 'cacm', 'cacm', 'pm', 'pm', 'jb', 'jb', 'algorithm', 'algorithm', 'ca', 'ca'], ['february', 'cacm', 'cacm', 'pm', 'pm', 'jb', 'jb', 'ca', 'ca'], ['february', 'cacm', 'cacm', 'pm', 'pm', 'jb', 'jb', 'ca', 'ca', 'algorithm', 'algorithm'], ['february', 'cacm', 'cacm', 'pm', 'pm', 'ca', 'ca'], ['february', 'cacm', 'cacm', 'pm', 'pm', 'ca', 'ca', 'algorithm', 'algorithm'], ['february', 'cacm', 'cacm', 'pm', 'pm', 'ca', 'ca', 'algorithm', 'algorithm', 'jb', 'jb'], ['february', 'cacm', 'cacm', 'pm', 'pm', 'ca', 'ca', 'jb', 'jb'], ['february', 'cacm', 'cacm', 'pm', 'pm', 'ca', 'ca', 'jb', 'jb', 'algorithm', 'algorithm'], ['february', 'cacm', 'cacm', 'jb', 'jb'], ['february', 'cacm', 'cacm', 'jb', 'jb', 'january', 'january', 'ca'], ['february', 'cacm', 'cacm', 'jb', 'jb', 'algorithm', 'algorithm'], ['february', 'cacm', 'cacm', 'jb', 'jb', 'algorithm', 'algorithm', 'pm', 'pm'], ['february', 'cacm', 'cacm', 'jb', 'jb', 'algorithm', 'algorithm', 'pm', 'pm', 'ca', 'ca'], ['february', 'cacm', 'cacm', 'jb', 'jb', 'algorithm', 'algorithm', 'ca', 'ca'], ['february', 'cacm', 'cacm', 'jb', 'jb', 'algorithm', 'algorithm', 'ca', 'ca', 'pm', 'pm'], ['february', 'cacm', 'cacm', 'jb', 'jb', 'pm', 'pm'], ['february', 'cacm', 'cacm', 'jb', 'jb', 'pm', 'pm', 'algorithm', 'algorithm'], ['february', 'cacm', 'cacm', 'jb', 'jb', 'pm', 'pm', 'algorithm', 'algorithm', 'ca', 'ca'], ['february', 'cacm', 'cacm', 'jb', 'jb', 'pm', 'pm', 'ca', 'ca'], ['february', 'cacm', 'cacm', 'jb', 'jb', 'pm', 'pm', 'ca', 'ca', 'algorithm', 'algorithm'], ['february', 'cacm', 'cacm', 'jb', 'jb', 'ca', 'ca'], ['february', 'cacm', 'cacm', 'jb', 'jb', 'ca', 'ca', 'january', 'january'], ['february', 'cacm', 'cacm', 'jb', 'jb', 'ca', 'ca', 'algorithm', 'algorithm'], ['february', 'cacm', 'cacm', 'jb', 'jb', 'ca', 'ca', 'algorithm', 'algorithm', 'pm', 'pm'], ['february', 'cacm', 'cacm', 'jb', 'jb', 'ca', 'ca', 'pm', 'pm'], ['february', 'cacm', 'cacm', 'jb', 'jb', 'ca', 'ca', 'pm', 'pm', 'algorithm', 'algorithm'], ['february', 'cacm', 'cacm', 'ca', 'ca'], ['february', 'cacm', 'cacm', 'ca', 'ca', 'january', 'january', 'jb'], ['february', 'cacm', 'cacm', 'ca', 'ca', 'algorithm', 'algorithm'], ['february', 'cacm', 'cacm', 'ca', 'ca', 'algorithm', 'algorithm', 'pm', 'pm'], ['february', 'cacm', 'cacm', 'ca', 'ca', 'algorithm', 'algorithm', 'pm', 'pm', 'jb', 'jb'], ['february', 'cacm', 'cacm', 'ca', 'ca', 'algorithm', 'algorithm', 'jb', 'jb'], ['february', 'cacm', 'cacm', 'ca', 'ca', 'algorithm', 'algorithm', 'jb', 'jb', 'pm', 'pm'], ['february', 'cacm', 'cacm', 'ca', 'ca', 'pm', 'pm'], ['february', 'cacm', 'cacm', 'ca', 'ca', 'pm', 'pm', 'algorithm', 'algorithm'], ['february', 'cacm', 'cacm', 'ca', 'ca', 'pm', 'pm', 'algorithm', 'algorithm', 'jb', 'jb'], ['february', 'cacm', 'cacm', 'ca', 'ca', 'pm', 'pm', 'jb', 'jb'], ['february', 'cacm', 'cacm', 'ca', 'ca', 'pm', 'pm', 'jb', 'jb', 'algorithm', 'algorithm'], ['february', 'cacm', 'cacm', 'ca', 'ca', 'jb', 'jb'], ['february', 'cacm', 'cacm', 'ca', 'ca', 'jb', 'jb', 'january', 'january'], ['february', 'cacm', 'cacm', 'ca', 'ca', 'jb', 'jb', 'algorithm', 'algorithm'], ['february', 'cacm', 'cacm', 'ca', 'ca', 'jb', 'jb', 'algorithm', 'algorithm', 'pm', 'pm'], ['february', 'cacm', 'cacm', 'ca', 'ca', 'jb', 'jb', 'pm', 'pm'], ['february', 'cacm', 'cacm', 'ca', 'ca', 'jb', 'jb', 'pm', 'pm', 'algorithm', 'algorithm'], ['january', 'cacm'], ['january', 'cacm', 'algorithm', 'algorithm', 'ca'], ['january', 'cacm', 'algorithm', 'algorithm', 'ca', 'pm', 'pm'], ['january', 'cacm', 'algorithm', 'algorithm', 'ca', 'pm', 'pm', 'jb', 'jb'], ['january', 'cacm', 'algorithm', 'algorithm', 'ca', 'jb', 'jb'], ['january', 'cacm', 'algorithm', 'algorithm', 'ca', 'jb', 'jb', 'pm', 'pm'], ['january', 'cacm', 'pm', 'pm'], ['january', 'cacm', 'pm', 'pm', 'algorithm', 'algorithm', 'ca'], ['january', 'cacm', 'pm', 'pm', 'algorithm', 'algorithm', 'ca', 'jb', 'jb'], ['january', 'cacm', 'pm', 'pm', 'jb', 'jb', 'ca'], ['january', 'cacm', 'pm', 'pm', 'jb', 'jb', 'ca', 'algorithm', 'algorithm'], ['january', 'cacm', 'pm', 'pm', 'ca', 'ca'], ['january', 'cacm', 'pm', 'pm', 'ca', 'ca', 'algorithm', 'algorithm'], ['january', 'cacm', 'pm', 'pm', 'ca', 'ca', 'algorithm', 'algorithm', 'jb', 'jb'], ['january', 'cacm', 'pm', 'pm', 'ca', 'ca', 'jb', 'jb'], ['january', 'cacm', 'pm', 'pm', 'ca', 'ca', 'jb', 'jb', 'algorithm', 'algorithm'], ['january', 'cacm', 'jb', 'jb', 'ca'], ['january', 'cacm', 'jb', 'jb', 'ca', 'algorithm', 'algorithm'], ['january', 'cacm', 'jb', 'jb', 'ca', 'algorithm', 'algorithm', 'pm', 'pm'], ['january', 'cacm', 'jb', 'jb', 'ca', 'pm', 'pm'], ['january', 'cacm', 'jb', 'jb', 'ca', 'pm', 'pm', 'algorithm', 'algorithm'], ['january', 'cacm', 'ca', 'ca'], ['january', 'cacm', 'ca', 'ca', 'algorithm', 'algorithm'], ['january', 'cacm', 'ca', 'ca', 'algorithm', 'algorithm', 'pm', 'pm'], ['january', 'cacm', 'ca', 'ca', 'algorithm', 'algorithm', 'pm', 'pm', 'jb', 'jb'], ['january', 'cacm', 'ca', 'ca', 'algorithm', 'algorithm', 'jb', 'jb'], ['january', 'cacm', 'ca', 'ca', 'algorithm', 'algorithm', 'jb', 'jb', 'pm', 'pm'], ['january', 'cacm', 'ca', 'ca', 'pm', 'pm'], ['january', 'cacm', 'ca', 'ca', 'pm', 'pm', 'algorithm', 'algorithm'], ['january', 'cacm', 'ca', 'ca', 'pm', 'pm', 'algorithm', 'algorithm', 'jb', 'jb'], ['january', 'cacm', 'ca', 'ca', 'pm', 'pm', 'jb', 'jb'], ['january', 'cacm', 'ca', 'ca', 'pm', 'pm', 'jb', 'jb', 'algorithm', 'algorithm'], ['january', 'cacm', 'ca', 'ca', 'jb', 'jb'], ['january', 'cacm', 'ca', 'ca', 'jb', 'jb', 'algorithm', 'algorithm'], ['january', 'cacm', 'ca', 'ca', 'jb', 'jb', 'algorithm', 'algorithm', 'pm', 'pm'], ['january', 'cacm', 'ca', 'ca', 'jb', 'jb', 'pm', 'pm'], ['january', 'cacm', 'ca', 'ca', 'jb', 'jb', 'pm', 'pm', 'algorithm', 'algorithm'], ['algorithm', 'cacm'], ['algorithm', 'cacm', 'pm', 'pm'], ['algorithm', 'cacm', 'pm', 'pm', 'jb', 'jb'], ['algorithm', 'cacm', 'pm', 'pm', 'jb', 'jb', 'ca', 'ca'], ['algorithm', 'cacm', 'pm', 'pm', 'ca', 'ca'], ['algorithm', 'cacm', 'pm', 'pm', 'ca', 'ca', 'jb', 'jb'], ['algorithm', 'cacm', 'jb', 'jb'], ['algorithm', 'cacm', 'jb', 'jb', 'pm', 'pm'], ['algorithm', 'cacm', 'jb', 'jb', 'pm', 'pm', 'ca', 'ca'], ['algorithm', 'cacm', 'jb', 'jb', 'ca', 'ca'], ['algorithm', 'cacm', 'jb', 'jb', 'ca', 'ca', 'pm', 'pm'], ['algorithm', 'cacm', 'ca', 'ca'], ['algorithm', 'cacm', 'ca', 'ca', 'pm', 'pm'], ['algorithm', 'cacm', 'ca', 'ca', 'pm', 'pm', 'jb', 'jb'], ['algorithm', 'cacm', 'ca', 'ca', 'jb', 'jb'], ['algorithm', 'cacm', 'ca', 'ca', 'jb', 'jb', 'pm', 'pm'], ['pm'], ['pm', 'jb', 'jb'], ['pm', 'jb', 'jb', 'ca', 'ca'], ['pm', 'jb', 'jb', 'ca', 'ca', 'cacm', 'cacm'], ['pm', 'jb', 'jb', 'cacm', 'cacm'], ['pm', 'jb', 'jb', 'cacm', 'cacm', 'ca', 'ca'], ['pm', 'ca', 'ca'], ['pm', 'ca', 'ca', 'jb', 'jb'], ['pm', 'ca', 'ca', 'jb', 'jb', 'cacm', 'cacm'], ['pm', 'ca', 'ca', 'cacm', 'cacm'], ['pm', 'ca', 'ca', 'cacm', 'cacm', 'jb', 'jb'], ['pm', 'cacm', 'cacm'], ['pm', 'cacm', 'cacm', 'jb', 'jb'], ['pm', 'cacm', 'cacm', 'jb', 'jb', 'ca', 'ca'], ['pm', 'cacm', 'cacm', 'ca', 'ca'], ['pm', 'cacm', 'cacm', 'ca', 'ca', 'jb', 'jb'], ['jb'], ['jb', 'ca', 'ca'], ['jb', 'ca', 'ca', 'cacm', 'cacm'], ['jb', 'cacm', 'cacm'], ['jb', 'cacm', 'cacm', 'ca', 'ca'], ['ca'], ['ca', 'cacm', 'cacm'], ['cacm']], 9: [['compiler', 'ca', 'cacm'], ['compiler', 'ca', 'cacm', 'language', 'language'], ['example', 'ca', 'cacm'], ['problem', 'language', 'cacm'], ['problem', 'language', 'cacm', 'ca', 'ca'], ['computer', 'cacm'], ['computer', 'cacm', 'jb', 'jb', 'ca'], ['computer', 'cacm', 'jb', 'jb', 'ca', 'language', 'language'], ['computer', 'cacm', 'language', 'language'], ['computer', 'cacm', 'language', 'language', 'jb', 'jb', 'ca'], ['computer', 'cacm', 'language', 'language', 'ca', 'ca'], ['computer', 'cacm', 'language', 'language', 'ca', 'ca', 'jb', 'jb'], ['computer', 'cacm', 'ca', 'ca'], ['computer', 'cacm', 'ca', 'ca', 'jb', 'jb'], ['computer', 'cacm', 'ca', 'ca', 'jb', 'jb', 'language', 'language'], ['computer', 'cacm', 'ca', 'ca', 'language', 'language'], ['computer', 'cacm', 'ca', 'ca', 'language', 'language', 'jb', 'jb'], ['processing', 'ca', 'cacm'], ['processing', 'ca', 'cacm', 'jb', 'jb'], ['processing', 'ca', 'cacm', 'jb', 'jb', 'language', 'language'], ['processing', 'ca', 'cacm', 'language', 'language'], ['processing', 'ca', 'cacm', 'language', 'language', 'jb', 'jb'], ['use', 'cacm'], ['use', 'cacm', 'jb', 'jb', 'ca'], ['use', 'cacm', 'jb', 'jb', 'ca', 'language', 'language'], ['use', 'cacm', 'language', 'language'], ['use', 'cacm', 'language', 'language', 'jb', 'jb', 'ca'], ['use', 'cacm', 'language', 'language', 'ca', 'ca'], ['use', 'cacm', 'language', 'language', 'ca', 'ca', 'jb', 'jb'], ['use', 'cacm', 'ca', 'ca'], ['use', 'cacm', 'ca', 'ca', 'jb', 'jb'], ['use', 'cacm', 'ca', 'ca', 'jb', 'jb', 'language', 'language'], ['use', 'cacm', 'ca', 'ca', 'language', 'language'], ['use', 'cacm', 'ca', 'ca', 'language', 'language', 'jb', 'jb'], ['structure', 'ca', 'cacm'], ['structure', 'ca', 'cacm', 'jb', 'jb'], ['structure', 'ca', 'cacm', 'jb', 'jb', 'language', 'language'], ['structure', 'ca', 'cacm', 'language', 'language'], ['structure', 'ca', 'cacm', 'language', 'language', 'jb', 'jb'], ['paper', 'cacm'], ['paper', 'cacm', 'jb', 'jb', 'ca'], ['paper', 'cacm', 'jb', 'jb', 'ca', 'language', 'language'], ['paper', 'cacm', 'language', 'language'], ['paper', 'cacm', 'language', 'language', 'jb', 'jb', 'ca'], ['paper', 'cacm', 'language', 'language', 'ca', 'ca'], ['paper', 'cacm', 'language', 'language', 'ca', 'ca', 'jb', 'jb'], ['paper', 'cacm', 'ca', 'ca'], ['paper', 'cacm', 'ca', 'ca', 'jb', 'jb'], ['paper', 'cacm', 'ca', 'ca', 'jb', 'jb', 'language', 'language'], ['paper', 'cacm', 'ca', 'ca', 'language', 'language'], ['paper', 'cacm', 'ca', 'ca', 'language', 'language', 'jb', 'jb'], ['data', 'cacm'], ['data', 'cacm', 'programming', 'programming'], ['data', 'cacm', 'programming', 'programming', 'language', 'language'], ['data', 'cacm', 'programming', 'programming', 'language', 'language', 'ca', 'ca'], ['data', 'cacm', 'programming', 'programming', 'ca', 'ca'], ['data', 'cacm', 'programming', 'programming', 'ca', 'ca', 'language', 'language'], ['data', 'cacm', 'jb', 'jb', 'ca'], ['data', 'cacm', 'jb', 'jb', 'ca', 'language', 'language'], ['data', 'cacm', 'language', 'language'], ['data', 'cacm', 'language', 'language', 'programming', 'programming'], ['data', 'cacm', 'language', 'language', 'programming', 'programming', 'ca', 'ca'], ['data', 'cacm', 'language', 'language', 'jb', 'jb', 'ca'], ['data', 'cacm', 'language', 'language', 'ca', 'ca'], ['data', 'cacm', 'language', 'language', 'ca', 'ca', 'programming', 'programming'], ['data', 'cacm', 'language', 'language', 'ca', 'ca', 'jb', 'jb'], ['data', 'cacm', 'ca', 'ca'], ['data', 'cacm', 'ca', 'ca', 'programming', 'programming'], ['data', 'cacm', 'ca', 'ca', 'programming', 'programming', 'language', 'language'], ['data', 'cacm', 'ca', 'ca', 'jb', 'jb'], ['data', 'cacm', 'ca', 'ca', 'jb', 'jb', 'language', 'language'], ['data', 'cacm', 'ca', 'ca', 'language', 'language'], ['data', 'cacm', 'ca', 'ca', 'language', 'language', 'programming', 'programming'], ['data', 'cacm', 'ca', 'ca', 'language', 'language', 'jb', 'jb'], ['described', 'ca', 'cacm'], ['described', 'ca', 'cacm', 'pm', 'pm'], ['described', 'ca', 'cacm', 'pm', 'pm', 'jb', 'jb'], ['described', 'ca', 'cacm', 'pm', 'pm', 'language', 'language'], ['described', 'ca', 'cacm', 'jb', 'jb'], ['described', 'ca', 'cacm', 'jb', 'jb', 'pm', 'pm'], ['described', 'ca', 'cacm', 'jb', 'jb', 'language', 'language'], ['described', 'ca', 'cacm', 'language', 'language'], ['described', 'ca', 'cacm', 'language', 'language', 'pm', 'pm'], ['described', 'ca', 'cacm', 'language', 'language', 'jb', 'jb'], ['january', 'cacm'], ['january', 'cacm', 'programming', 'programming'], ['january', 'cacm', 'programming', 'programming', 'ca', 'ca'], ['january', 'cacm', 'pm', 'pm'], ['january', 'cacm', 'pm', 'pm', 'language', 'language'], ['january', 'cacm', 'pm', 'pm', 'ca', 'ca'], ['january', 'cacm', 'jb', 'jb', 'ca'], ['january', 'cacm', 'jb', 'jb', 'ca', 'language', 'language'], ['january', 'cacm', 'language', 'language'], ['january', 'cacm', 'language', 'language', 'pm', 'pm'], ['january', 'cacm', 'language', 'language', 'jb', 'jb', 'ca'], ['january', 'cacm', 'language', 'language', 'ca', 'ca'], ['january', 'cacm', 'language', 'language', 'ca', 'ca', 'jb', 'jb'], ['january', 'cacm', 'ca', 'ca'], ['january', 'cacm', 'ca', 'ca', 'programming', 'programming'], ['january', 'cacm', 'ca', 'ca', 'pm', 'pm'], ['january', 'cacm', 'ca', 'ca', 'jb', 'jb'], ['january', 'cacm', 'ca', 'ca', 'jb', 'jb', 'language', 'language'], ['january', 'cacm', 'ca', 'ca', 'language', 'language'], ['january', 'cacm', 'ca', 'ca', 'language', 'language', 'jb', 'jb'], ['february', 'ca', 'cacm'], ['february', 'ca', 'cacm', 'pm', 'pm'], ['february', 'ca', 'cacm', 'pm', 'pm', 'jb', 'jb'], ['february', 'ca', 'cacm', 'pm', 'pm', 'language', 'language'], ['february', 'ca', 'cacm', 'jb', 'jb'], ['february', 'ca', 'cacm', 'jb', 'jb', 'pm', 'pm'], ['february', 'ca', 'cacm', 'jb', 'jb', 'language', 'language'], ['february', 'ca', 'cacm', 'language', 'language'], ['february', 'ca', 'cacm', 'language', 'language', 'pm', 'pm'], ['february', 'ca', 'cacm', 'language', 'language', 'jb', 'jb'], ['program', 'cacm'], ['program', 'cacm', 'programming', 'programming'], ['program', 'cacm', 'programming', 'programming', 'jb', 'jb', 'ca'], ['program', 'cacm', 'programming', 'programming', 'jb', 'jb', 'ca', 'language', 'language'], ['program', 'cacm', 'programming', 'programming', 'language', 'language'], ['program', 'cacm', 'programming', 'programming', 'language', 'language', 'jb', 'jb', 'ca'], ['program', 'cacm', 'programming', 'programming', 'language', 'language', 'ca', 'ca'], ['program', 'cacm', 'programming', 'programming', 'language', 'language', 'ca', 'ca', 'jb', 'jb'], ['program', 'cacm', 'programming', 'programming', 'ca', 'ca'], ['program', 'cacm', 'programming', 'programming', 'ca', 'ca', 'jb', 'jb'], ['program', 'cacm', 'programming', 'programming', 'ca', 'ca', 'jb', 'jb', 'language', 'language'], ['program', 'cacm', 'programming', 'programming', 'ca', 'ca', 'language', 'language'], ['program', 'cacm', 'programming', 'programming', 'ca', 'ca', 'language', 'language', 'jb', 'jb'], ['program', 'cacm', 'pm', 'pm', 'ca'], ['program', 'cacm', 'pm', 'pm', 'ca', 'jb', 'jb'], ['program', 'cacm', 'pm', 'pm', 'ca', 'jb', 'jb', 'language', 'language'], ['program', 'cacm', 'pm', 'pm', 'ca', 'language', 'language'], ['program', 'cacm', 'pm', 'pm', 'ca', 'language', 'language', 'jb', 'jb'], ['program', 'cacm', 'jb', 'jb', 'ca'], ['program', 'cacm', 'jb', 'jb', 'ca', 'programming', 'programming'], ['program', 'cacm', 'jb', 'jb', 'ca', 'programming', 'programming', 'language', 'language'], ['program', 'cacm', 'jb', 'jb', 'ca', 'pm', 'pm'], ['program', 'cacm', 'jb', 'jb', 'ca', 'pm', 'pm', 'language', 'language'], ['program', 'cacm', 'jb', 'jb', 'ca', 'language', 'language'], ['program', 'cacm', 'jb', 'jb', 'ca', 'language', 'language', 'programming', 'programming'], ['program', 'cacm', 'jb', 'jb', 'ca', 'language', 'language', 'pm', 'pm'], ['program', 'cacm', 'language', 'language'], ['program', 'cacm', 'language', 'language', 'programming', 'programming'], ['program', 'cacm', 'language', 'language', 'programming', 'programming', 'jb', 'jb', 'ca'], ['program', 'cacm', 'language', 'language', 'programming', 'programming', 'ca', 'ca'], ['program', 'cacm', 'language', 'language', 'programming', 'programming', 'ca', 'ca', 'jb', 'jb'], ['program', 'cacm', 'language', 'language', 'pm', 'pm', 'ca'], ['program', 'cacm', 'language', 'language', 'pm', 'pm', 'ca', 'jb', 'jb'], ['program', 'cacm', 'language', 'language', 'jb', 'jb', 'ca'], ['program', 'cacm', 'language', 'language', 'jb', 'jb', 'ca', 'programming', 'programming'], ['program', 'cacm', 'language', 'language', 'jb', 'jb', 'ca', 'pm', 'pm'], ['program', 'cacm', 'language', 'language', 'ca', 'ca'], ['program', 'cacm', 'language', 'language', 'ca', 'ca', 'programming', 'programming'], ['program', 'cacm', 'language', 'language', 'ca', 'ca', 'programming', 'programming', 'jb', 'jb'], ['program', 'cacm', 'language', 'language', 'ca', 'ca', 'pm', 'pm'], ['program', 'cacm', 'language', 'language', 'ca', 'ca', 'pm', 'pm', 'jb', 'jb'], ['program', 'cacm', 'language', 'language', 'ca', 'ca', 'jb', 'jb'], ['program', 'cacm', 'language', 'language', 'ca', 'ca', 'jb', 'jb', 'programming', 'programming'], ['program', 'cacm', 'language', 'language', 'ca', 'ca', 'jb', 'jb', 'pm', 'pm'], ['program', 'cacm', 'ca', 'ca'], ['program', 'cacm', 'ca', 'ca', 'programming', 'programming'], ['program', 'cacm', 'ca', 'ca', 'programming', 'programming', 'jb', 'jb'], ['program', 'cacm', 'ca', 'ca', 'programming', 'programming', 'jb', 'jb', 'language', 'language'], ['program', 'cacm', 'ca', 'ca', 'programming', 'programming', 'language', 'language'], ['program', 'cacm', 'ca', 'ca', 'programming', 'programming', 'language', 'language', 'jb', 'jb'], ['program', 'cacm', 'ca', 'ca', 'pm', 'pm'], ['program', 'cacm', 'ca', 'ca', 'pm', 'pm', 'jb', 'jb'], ['program', 'cacm', 'ca', 'ca', 'pm', 'pm', 'jb', 'jb', 'language', 'language'], ['program', 'cacm', 'ca', 'ca', 'pm', 'pm', 'language', 'language'], ['program', 'cacm', 'ca', 'ca', 'pm', 'pm', 'language', 'language', 'jb', 'jb'], ['program', 'cacm', 'ca', 'ca', 'jb', 'jb'], ['program', 'cacm', 'ca', 'ca', 'jb', 'jb', 'programming', 'programming'], ['program', 'cacm', 'ca', 'ca', 'jb', 'jb', 'programming', 'programming', 'language', 'language'], ['program', 'cacm', 'ca', 'ca', 'jb', 'jb', 'pm', 'pm'], ['program', 'cacm', 'ca', 'ca', 'jb', 'jb', 'pm', 'pm', 'language', 'language'], ['program', 'cacm', 'ca', 'ca', 'jb', 'jb', 'language', 'language'], ['program', 'cacm', 'ca', 'ca', 'jb', 'jb', 'language', 'language', 'programming', 'programming'], ['program', 'cacm', 'ca', 'ca', 'jb', 'jb', 'language', 'language', 'pm', 'pm'], ['program', 'cacm', 'ca', 'ca', 'language', 'language'], ['program', 'cacm', 'ca', 'ca', 'language', 'language', 'programming', 'programming'], ['program', 'cacm', 'ca', 'ca', 'language', 'language', 'programming', 'programming', 'jb', 'jb'], ['program', 'cacm', 'ca', 'ca', 'language', 'language', 'pm', 'pm'], ['program', 'cacm', 'ca', 'ca', 'language', 'language', 'pm', 'pm', 'jb', 'jb'], ['program', 'cacm', 'ca', 'ca', 'language', 'language', 'jb', 'jb'], ['program', 'cacm', 'ca', 'ca', 'language', 'language', 'jb', 'jb', 'programming', 'programming'], ['program', 'cacm', 'ca', 'ca', 'language', 'language', 'jb', 'jb', 'pm', 'pm'], ['march', 'cacm'], ['march', 'cacm', 'programming', 'programming'], ['march', 'cacm', 'pm', 'pm'], ['march', 'cacm', 'pm', 'pm', 'jb', 'jb', 'ca'], ['march', 'cacm', 'pm', 'pm', 'jb', 'jb', 'ca', 'language', 'language'], ['march', 'cacm', 'pm', 'pm', 'language', 'language'], ['march', 'cacm', 'pm', 'pm', 'language', 'language', 'jb', 'jb', 'ca'], ['march', 'cacm', 'pm', 'pm', 'language', 'language', 'ca', 'jb', 'ca'], ['march', 'cacm', 'pm', 'pm', 'ca', 'jb', 'ca'], ['march', 'cacm', 'pm', 'pm', 'ca', 'jb', 'ca', 'language', 'language'], ['march', 'cacm', 'jb', 'jb', 'ca'], ['march', 'cacm', 'jb', 'jb', 'ca', 'pm', 'pm'], ['march', 'cacm', 'jb', 'jb', 'ca', 'pm', 'pm', 'language', 'language'], ['march', 'cacm', 'jb', 'jb', 'ca', 'language', 'language'], ['march', 'cacm', 'jb', 'jb', 'ca', 'language', 'language', 'pm', 'pm'], ['march', 'cacm', 'language', 'language'], ['march', 'cacm', 'language', 'language', 'pm', 'pm'], ['march', 'cacm', 'language', 'language', 'pm', 'pm', 'jb', 'jb', 'ca'], ['march', 'cacm', 'language', 'language', 'pm', 'pm', 'ca', 'jb', 'ca'], ['march', 'cacm', 'language', 'language', 'jb', 'jb', 'ca'], ['march', 'cacm', 'language', 'language', 'jb', 'jb', 'ca', 'pm', 'pm'], ['march', 'cacm', 'language', 'language', 'ca', 'ca'], ['march', 'cacm', 'language', 'language', 'ca', 'ca', 'pm', 'pm', 'jb'], ['march', 'cacm', 'language', 'language', 'ca', 'ca', 'jb', 'jb'], ['march', 'cacm', 'language', 'language', 'ca', 'ca', 'jb', 'jb', 'pm', 'pm'], ['march', 'cacm', 'ca', 'ca'], ['march', 'cacm', 'ca', 'ca', 'pm', 'pm', 'jb'], ['march', 'cacm', 'ca', 'ca', 'pm', 'pm', 'jb', 'language', 'language'], ['march', 'cacm', 'ca', 'ca', 'jb', 'jb'], ['march', 'cacm', 'ca', 'ca', 'jb', 'jb', 'pm', 'pm'], ['march', 'cacm', 'ca', 'ca', 'jb', 'jb', 'pm', 'pm', 'language', 'language'], ['march', 'cacm', 'ca', 'ca', 'jb', 'jb', 'language', 'language'], ['march', 'cacm', 'ca', 'ca', 'jb', 'jb', 'language', 'language', 'pm', 'pm'], ['march', 'cacm', 'ca', 'ca', 'language', 'language'], ['march', 'cacm', 'ca', 'ca', 'language', 'language', 'pm', 'pm', 'jb'], ['march', 'cacm', 'ca', 'ca', 'language', 'language', 'jb', 'jb'], ['march', 'cacm', 'ca', 'ca', 'language', 'language', 'jb', 'jb', 'pm', 'pm'], ['programming', 'cacm'], ['programming', 'cacm', 'pm', 'pm'], ['programming', 'cacm', 'pm', 'pm', 'jb', 'jb', 'ca'], ['programming', 'cacm', 'pm', 'pm', 'jb', 'jb', 'ca', 'language', 'language'], ['programming', 'cacm', 'pm', 'pm', 'language', 'language'], ['programming', 'cacm', 'pm', 'pm', 'language', 'language', 'jb', 'jb', 'ca'], ['programming', 'cacm', 'pm', 'pm', 'language', 'language', 'ca', 'ca'], ['programming', 'cacm', 'pm', 'pm', 'language', 'language', 'ca', 'ca', 'jb', 'jb'], ['programming', 'cacm', 'pm', 'pm', 'ca', 'ca'], ['programming', 'cacm', 'pm', 'pm', 'ca', 'ca', 'jb', 'jb'], ['programming', 'cacm', 'pm', 'pm', 'ca', 'ca', 'jb', 'jb', 'language', 'language'], ['programming', 'cacm', 'pm', 'pm', 'ca', 'ca', 'language', 'language'], ['programming', 'cacm', 'pm', 'pm', 'ca', 'ca', 'language', 'language', 'jb', 'jb'], ['programming', 'cacm', 'jb', 'jb', 'ca'], ['programming', 'cacm', 'jb', 'jb', 'ca', 'pm', 'pm'], ['programming', 'cacm', 'jb', 'jb', 'ca', 'pm', 'pm', 'language', 'language'], ['programming', 'cacm', 'jb', 'jb', 'ca', 'language', 'language'], ['programming', 'cacm', 'jb', 'jb', 'ca', 'language', 'language', 'pm', 'pm'], ['programming', 'cacm', 'language', 'language'], ['programming', 'cacm', 'language', 'language', 'pm', 'pm'], ['programming', 'cacm', 'language', 'language', 'pm', 'pm', 'jb', 'jb', 'ca'], ['programming', 'cacm', 'language', 'language', 'pm', 'pm', 'ca', 'ca'], ['programming', 'cacm', 'language', 'language', 'pm', 'pm', 'ca', 'ca', 'jb', 'jb'], ['programming', 'cacm', 'language', 'language', 'jb', 'jb', 'ca'], ['programming', 'cacm', 'language', 'language', 'jb', 'jb', 'ca', 'pm', 'pm'], ['programming', 'cacm', 'language', 'language', 'ca', 'ca'], ['programming', 'cacm', 'language', 'language', 'ca', 'ca', 'pm', 'pm'], ['programming', 'cacm', 'language', 'language', 'ca', 'ca', 'pm', 'pm', 'jb', 'jb'], ['programming', 'cacm', 'language', 'language', 'ca', 'ca', 'jb', 'jb'], ['programming', 'cacm', 'language', 'language', 'ca', 'ca', 'jb', 'jb', 'pm', 'pm'], ['programming', 'cacm', 'ca', 'ca'], ['programming', 'cacm', 'ca', 'ca', 'pm', 'pm'], ['programming', 'cacm', 'ca', 'ca', 'pm', 'pm', 'jb', 'jb'], ['programming', 'cacm', 'ca', 'ca', 'pm', 'pm', 'jb', 'jb', 'language', 'language'], ['programming', 'cacm', 'ca', 'ca', 'pm', 'pm', 'language', 'language'], ['programming', 'cacm', 'ca', 'ca', 'pm', 'pm', 'language', 'language', 'jb', 'jb'], ['programming', 'cacm', 'ca', 'ca', 'jb', 'jb'], ['programming', 'cacm', 'ca', 'ca', 'jb', 'jb', 'pm', 'pm'], ['programming', 'cacm', 'ca', 'ca', 'jb', 'jb', 'pm', 'pm', 'language', 'language'], ['programming', 'cacm', 'ca', 'ca', 'jb', 'jb', 'language', 'language'], ['programming', 'cacm', 'ca', 'ca', 'jb', 'jb', 'language', 'language', 'pm', 'pm'], ['programming', 'cacm', 'ca', 'ca', 'language', 'language'], ['programming', 'cacm', 'ca', 'ca', 'language', 'language', 'pm', 'pm'], ['programming', 'cacm', 'ca', 'ca', 'language', 'language', 'pm', 'pm', 'jb', 'jb'], ['programming', 'cacm', 'ca', 'ca', 'language', 'language', 'jb', 'jb'], ['programming', 'cacm', 'ca', 'ca', 'language', 'language', 'jb', 'jb', 'pm', 'pm'], ['pm', 'cacm'], ['pm', 'cacm', 'jb', 'jb', 'ca'], ['pm', 'cacm', 'jb', 'jb', 'ca', 'language', 'language'], ['pm', 'cacm', 'language', 'language'], ['pm', 'cacm', 'language', 'language', 'jb', 'jb', 'ca'], ['pm', 'cacm', 'language', 'language', 'ca', 'ca'], ['pm', 'cacm', 'language', 'language', 'ca', 'ca', 'jb', 'jb'], ['pm', 'cacm', 'ca', 'ca'], ['pm', 'cacm', 'ca', 'ca', 'jb', 'jb'], ['pm', 'cacm', 'ca', 'ca', 'jb', 'jb', 'language', 'language'], ['pm', 'cacm', 'ca', 'ca', 'language', 'language'], ['pm', 'cacm', 'ca', 'ca', 'language', 'language', 'jb', 'jb'], ['jb', 'ca', 'cacm'], ['jb', 'ca', 'cacm', 'language', 'language'], ['language', 'cacm'], ['language', 'cacm', 'ca', 'ca'], ['ca', 'cacm'], ['cacm']]}\n"
          ]
        }
      ]
    },
    {
      "cell_type": "code",
      "metadata": {
        "colab": {
          "base_uri": "https://localhost:8080/"
        },
        "id": "VgVfXYDs5wX8",
        "outputId": "e0b4cc67-6046-4100-ce43-ed853087362c"
      },
      "source": [
        "print(len(frequentPatterns))"
      ],
      "execution_count": null,
      "outputs": [
        {
          "output_type": "stream",
          "name": "stdout",
          "text": [
            "10\n"
          ]
        }
      ]
    },
    {
      "cell_type": "markdown",
      "metadata": {
        "id": "HPCbEdnn0gfp"
      },
      "source": [
        "# Soft clustering"
      ]
    },
    {
      "cell_type": "code",
      "metadata": {
        "id": "K7sQL_XMeIzh"
      },
      "source": [
        "!pip install fuzzy-c-means"
      ],
      "execution_count": null,
      "outputs": []
    },
    {
      "cell_type": "code",
      "metadata": {
        "id": "gGhSFhKdeEYI"
      },
      "source": [
        "from fcmeans import FCM"
      ],
      "execution_count": null,
      "outputs": []
    },
    {
      "cell_type": "code",
      "metadata": {
        "id": "cblojQpvetvS"
      },
      "source": [
        "fcm = FCM(n_clusters=6)\n",
        "fcm.fit(tfidf.toarray()*100000)\n"
      ],
      "execution_count": null,
      "outputs": []
    },
    {
      "cell_type": "code",
      "metadata": {
        "colab": {
          "base_uri": "https://localhost:8080/"
        },
        "id": "ReOPflAshGcB",
        "outputId": "02ca3c79-5c6e-4c3e-a6f3-1b9013999985"
      },
      "source": [
        "sum(tfidf.toarray()*1000)"
      ],
      "execution_count": null,
      "outputs": [
        {
          "output_type": "execute_result",
          "data": {
            "text/plain": [
              "array([123.46038057, 156.24030617, 233.63112064, ..., 192.11428708,\n",
              "       156.24030617, 140.37890803])"
            ]
          },
          "metadata": {},
          "execution_count": 32
        }
      ]
    },
    {
      "cell_type": "code",
      "metadata": {
        "colab": {
          "base_uri": "https://localhost:8080/"
        },
        "id": "DHTH0YmvfPO9",
        "outputId": "df0edd44-9bc8-4737-abe4-f2218fa60f2d"
      },
      "source": [
        "fcm_labels = fcm.soft_predict(tfidf.toarray()*100000)\n",
        "fcm_labels"
      ],
      "execution_count": null,
      "outputs": [
        {
          "output_type": "execute_result",
          "data": {
            "text/plain": [
              "array([[0.16666667, 0.16666667, 0.16666667, 0.16666667, 0.16666667,\n",
              "        0.16666667],\n",
              "       [0.16666667, 0.16666667, 0.16666667, 0.16666667, 0.16666667,\n",
              "        0.16666667],\n",
              "       [0.16666667, 0.16666667, 0.16666667, 0.16666667, 0.16666667,\n",
              "        0.16666667],\n",
              "       ...,\n",
              "       [0.16666667, 0.16666667, 0.16666667, 0.16666667, 0.16666667,\n",
              "        0.16666667],\n",
              "       [0.16666667, 0.16666667, 0.16666667, 0.16666667, 0.16666667,\n",
              "        0.16666667],\n",
              "       [0.16666667, 0.16666667, 0.16666667, 0.16666667, 0.16666667,\n",
              "        0.16666667]])"
            ]
          },
          "metadata": {},
          "execution_count": 37
        }
      ]
    },
    {
      "cell_type": "markdown",
      "metadata": {
        "id": "0_1a9JZVsZ7M"
      },
      "source": [
        "Probabilistic c means\n"
      ]
    },
    {
      "cell_type": "code",
      "metadata": {
        "id": "5th4vJLusZBr"
      },
      "source": [
        "def pfcm(data, c, expo=2, max_iter=1000, min_impro=0.005, a=1, b=4, nc=3):\n",
        "    obj_fcn = np.zeros(shape=(max_iter, 1))\n",
        "    ni = np.zeros(shape=(c, data.shape[0]))\n",
        "    U = initf(c, data.shape[0])\n",
        "    T = initf(c, data.shape[0])\n",
        "    cntr = np.random.uniform(low=np.min(data), high=np.max(data), size=(\n",
        "        c, data.shape[1]))\n",
        "    for i in range(max_iter):\n",
        "        current_cntr = cntr\n",
        "        U, T, cntr, obj_fcn[i], ni = pstepfcm(\n",
        "                data, cntr, U, T, expo, a, b, nc, ni)\n",
        "        if i > 1:\n",
        "            if abs(obj_fcn[i] - obj_fcn[i-1]) < min_impro:\n",
        "                break\n",
        "            elif np.max(abs(cntr - current_cntr)) < min_impro:\n",
        "                break\n",
        "    return cntr, U, T, obj_fcn\n",
        "\n",
        "def pstepfcm(data, cntr, U, T, expo, a, b, nc, ni):\n",
        "    mf = np.power(U, expo)\n",
        "    tf = np.power(T, nc)\n",
        "    tfo = np.power((1-T), nc)\n",
        "    cntr = (np.dot(a*mf+b*tf, data).T/np.sum(\n",
        "        a*mf+b*tf, axis=1).T).T\n",
        "    dist = pdistfcm(cntr, data)\n",
        "    obj_fcn = np.sum(np.sum(np.power(dist, 2)*(a*mf+b*tf), axis=0)) + np.sum(\n",
        "        ni*np.sum(tfo, axis=0))\n",
        "    ni = mf*np.power(dist, 2)/(np.sum(mf, axis=0))\n",
        "    tmp = np.power(dist, (-2/(nc-1)))\n",
        "    U = tmp/(np.sum(tmp, axis=0))\n",
        "    tmpt = np.power((b/ni)*np.power(dist, 2), (1/(nc-1)))\n",
        "    T = 1/(1+tmpt)\n",
        "    return U, T, cntr, obj_fcn, ni\n",
        "\n",
        "\n",
        "def initf(c, data_n):\n",
        "    A = np.random.random(size=(c, data_n))\n",
        "    col_sum = np.sum(A, axis=0)\n",
        "    return A/col_sum\n",
        "\n",
        "\n",
        "def pdistfcm(cntr, data):\n",
        "    out = np.zeros(shape=(cntr.shape[0], data.shape[0]))\n",
        "    for k in range(cntr.shape[0]):\n",
        "        out[k] = np.sqrt(np.sum((np.power(data-cntr[k], 2)).T, axis=0))\n",
        "    return out\n",
        "\n",
        "def pfcm_predict(data, cntr, expo=2, a=1, b=4, nc=3):\n",
        "    dist = pdistfcm(cntr, data)\n",
        "    tmp = np.power(dist, (-2/(nc-1)))\n",
        "    U = tmp/(np.sum(tmp, axis=0))\n",
        "    mf = np.power(U, expo)\n",
        "    ni = mf*np.power(dist, 2)/(np.sum(mf, axis=0))\n",
        "    tmpt = np.power((b/ni)*np.power(dist, 2), (1/(nc-1)))\n",
        "    T = 1/(1+tmpt)\n",
        "    tf = np.power(T, nc)\n",
        "    tfo = np.power((1-T), nc)\n",
        "    new_cntr = (np.dot(a*mf+b*tf, data).T/np.sum(\n",
        "        a*mf+b*tf, axis=1).T).T\n",
        "    obj_fcn = np.sum(np.sum(np.power(dist, 2)*(a*mf+b*tf), axis=0)) + np.sum(\n",
        "        ni*np.sum(tfo, axis=0))\n",
        "    return new_cntr, U, T, obj_fcn"
      ],
      "execution_count": null,
      "outputs": []
    },
    {
      "cell_type": "code",
      "metadata": {
        "id": "oLevoNcvHgMb"
      },
      "source": [
        "cntr, U, T, obj_fcn = pfcm(tfidf, c=10)"
      ],
      "execution_count": null,
      "outputs": []
    },
    {
      "cell_type": "markdown",
      "metadata": {
        "id": "99L_6kAOgjlr"
      },
      "source": [
        "# Fuzzy frequent itemset mining"
      ]
    },
    {
      "cell_type": "code",
      "metadata": {
        "id": "gjHXprbegn0W"
      },
      "source": [
        "frequentPatterns = {}\n",
        "closedSet = []\n",
        "preSet = []\n",
        "postSet = []\n",
        "closedSetTids = set()\n",
        "closedCount = 0\n",
        "minSupport = 1\n",
        "clusterId = 1\n",
        "\n",
        "def isDup(newGenTids, preSet):\n",
        "    for j in preSet: \n",
        "        if(horizontalDatabase[clusterId].get(j) == None):\n",
        "            return False\n",
        "        if set(newGenTids).issubset(horizontalDatabase[clusterId].get(j)):          # Checkpoint\n",
        "            return True\n",
        "    return False\n",
        "\n",
        "def smallerAccToTotalOrder(i, j):\n",
        "    if(horizontalDatabase[clusterId].get(i) == None):\n",
        "        return True\n",
        "    if(horizontalDatabase[clusterId].get(j) == None):\n",
        "        return False\n",
        "    size1 = len(horizontalDatabase[clusterId].get(i))\n",
        "    size2 = len(horizontalDatabase[clusterId].get(j))\n",
        "    if size1 == size2:\n",
        "        if i < j:\n",
        "            return True\n",
        "        else:\n",
        "            return False\n",
        "    return size2 - size1 > 0\n",
        "\n",
        "def intersectTidSet(tidSet1, tidSet2):\n",
        "    tidSet = set()\n",
        "    if(len(tidSet1) > len(tidSet2)):\n",
        "        for tid in tidSet2:\n",
        "            if tid in tidSet1:\n",
        "                tidSet.add(tid)\n",
        "    else:\n",
        "        for tid in tidSet1:\n",
        "            if tid in tidSet2:\n",
        "                tidSet.add(tid)\n",
        "    return tidSet\n",
        "\n",
        "for c in range(0, len(horizontalDatabase)):\n",
        "    print(f'Cluster - {c}')\n",
        "    clusterId = c\n",
        "\n",
        "    maxItemId = len(horizontalDatabase[clusterId])\n",
        "    postSet = []\n",
        "    for i in horizontalDatabase[clusterId]:\n",
        "    #     print(i)\n",
        "        tidSet = horizontalDatabase[clusterId].get(i, None)\n",
        "        if (tidSet != None and len(tidSet)*fcm_labels[0][0] >= minSupport):\n",
        "            postSet.append(i)\n",
        "\n",
        "    def bySuppLex(item1, item2):\n",
        "        if(horizontalDatabase[clusterId].get(item1) == None):\n",
        "            return -1\n",
        "        if(horizontalDatabase[clusterId].get(item2) == None):\n",
        "            return 1\n",
        "        size1 = len(horizontalDatabase[clusterId].get(item1))\n",
        "        size2 = len(horizontalDatabase[clusterId].get(item2))\n",
        "        if(size1 == size2):\n",
        "            if item1 < item2:\n",
        "                return -1\n",
        "            else:\n",
        "                return 1\n",
        "        return size1 - size2\n",
        "\n",
        "    def cmp_to_key(myCompare):\n",
        "        class K:\n",
        "            def __init__(self, obj, *args):\n",
        "                self.obj = obj\n",
        "            def __lt__(self, other):\n",
        "                return myCompare(self.obj, other.obj) < 0\n",
        "            def __gt__(self, other):\n",
        "                return myCompare(self.obj, other.obj) > 0\n",
        "            def __eq__(self, other):\n",
        "                return myCompare(self.obj, other.obj) == 0\n",
        "            def __le__(self, other):\n",
        "                return myCompare(self.obj, other.obj) <= 0\n",
        "            def __ge__(self, other):\n",
        "                return myCompare(self.obj, other.obj) >= 0\n",
        "            def __ne__(self, other):\n",
        "                return myCompare(self.obj, other.obj) != 0\n",
        "        return K\n",
        "\n",
        "\n",
        "    postSet.sort(key = cmp_to_key(bySuppLex))\n",
        "    # print(postSet)\n",
        "    # print(\"preset: \", preSet)\n",
        "    print(f'Postset - {len(postSet)}')\n",
        "\n",
        "    def dci_closed(firstTime, closedSet, closedSetTids, postSet, preSet):\n",
        "        global closedCount\n",
        "        for i in postSet:\n",
        "                newGenTids = set()\n",
        "                if(firstTime):\n",
        "                    if(horizontalDatabase[clusterId].get(i) != None):  \n",
        "                        newGenTids = set(horizontalDatabase[clusterId].get(i))\n",
        "                else:\n",
        "                    newGenTids = intersectTidSet(closedSetTids, set(horizontalDatabase[clusterId].get(i)))    \n",
        "                if len(newGenTids) >= minSupport:\n",
        "                    newGen = []\n",
        "                    newGen = closedSet.copy()\n",
        "                    newGen.append(i)\n",
        "                    if(isDup(newGenTids, preSet) == False):\n",
        "                        closedSetNew = []\n",
        "                        closedSetNew = newGen.copy()\n",
        "                        closedSetNewTIDs = set()\n",
        "                        if firstTime:\n",
        "                            closedSetNewTIDs = set(horizontalDatabase[clusterId].get(i))\n",
        "                        else:\n",
        "                            for i in newGenTids:\n",
        "                                closedSetNewTIDs.add(i)      # Checkpoint\n",
        "                        postSetNew = []\n",
        "                        for j in postSet:\n",
        "                            if smallerAccToTotalOrder(i, j):\n",
        "                                if set(newGenTids).issubset(horizontalDatabase[clusterId].get(j)):\n",
        "                                    closedSetNew.append(j)\n",
        "                                    jTIDs = set(horizontalDatabase[clusterId].get(j))\n",
        "                                    it = iter(closedSetNewTIDs)\n",
        "                                    while it:\n",
        "                                        try:\n",
        "                                            tid = next(it)\n",
        "                                            if tid in jTIDs == False:\n",
        "                                                closedSetNewTIDs.remove(tid)\n",
        "                                        except StopIteration as e:\n",
        "                                            # print(e)\n",
        "                                            break\n",
        "                                else:\n",
        "                                    postSetNew.append(j)\n",
        "                        # print(closedSetNew, len(closedSetNewTIDs))\n",
        "                        if clusterId in frequentPatterns:\n",
        "                            frequentPatterns[clusterId].append(closedSetNew)\n",
        "                        else:\n",
        "                            temp = [closedSetNew]\n",
        "                            frequentPatterns[clusterId] = temp  \n",
        "                        \n",
        "                        #frequentPatterns.append(closedSetNew)\n",
        "                        closedCount = closedCount + 1\n",
        "                        preSetNew = preSet\n",
        "                        dci_closed(False, closedSetNew, closedSetNewTIDs, postSetNew, preSetNew)\n",
        "                        preSet.append(i)  \n",
        "\n",
        "    dci_closed(True, closedSet, closedSetTids, postSet, preSet)\n",
        "print(closedCount)\n",
        "print(frequentPatterns)"
      ],
      "execution_count": null,
      "outputs": []
    },
    {
      "cell_type": "markdown",
      "metadata": {
        "id": "BV6CFv5f03u_"
      },
      "source": [
        "# Selection"
      ]
    },
    {
      "cell_type": "code",
      "metadata": {
        "colab": {
          "base_uri": "https://localhost:8080/"
        },
        "id": "wknJfrbY6guY",
        "outputId": "2fcfe8e9-29ff-4a1e-e7c6-e2debc85c465"
      },
      "source": [
        "query = ['technology', 'information']\n",
        "clusterScore = []\n",
        "\n",
        "def intersection(list1, list2):\n",
        "    return list(set(list1) & set(list2))\n",
        "\n",
        "for i in frequentPatterns:\n",
        "    ithCluster = frequentPatterns[i]\n",
        "    currScore = 0\n",
        "    for j in range(0, len(ithCluster)):\n",
        "        if(len(intersection(ithCluster[j], query)) != 0):\n",
        "            currScore+=1\n",
        "    clusterScore.append(currScore)\n",
        "print(clusterScore)\n",
        "\n",
        "maxScore = max(clusterScore)\n",
        "clusterWithMaxScore = clusterScore.index(maxScore)\n",
        "print(\"Cluster\", clusterWithMaxScore+1, \"has maximum number of matches with \", maxScore, \"matches.\\n\")\n",
        "\n",
        "print(clusterWithMaxScore)\n",
        "print(\"***************************************\")\n",
        "print(\"Retrieved documents are as follows:\")\n",
        "print(\"***************************************\")\n",
        "df['Doc Contents'][df.cluster == clusterWithMaxScore].to_list()[:10]"
      ],
      "execution_count": null,
      "outputs": [
        {
          "output_type": "stream",
          "name": "stdout",
          "text": [
            "[0, 0, 34, 0, 0, 0, 0, 0, 4, 0]\n",
            "Cluster 3 has maximum number of matches with  34 matches.\n",
            "\n",
            "2\n",
            "***************************************\n",
            "Retrieved documents are as follows:\n",
            "***************************************\n"
          ]
        },
        {
          "output_type": "execute_result",
          "data": {
            "text/plain": [
              "['multiprogramming stretch feasibility considerations the tendency towards increased parallelism in computers is noted exploitation of this parallelism presents a number of new problems in machine design and in programming systems minimum requirements for successful concurrent execution of several independent problem programs are discussed these requirements are met in the stretch system by a carefully balanced combination of built-in and programmed logic techniques are described which place the burden of the programmed logic on system programs supervisory program and compiler rather than on problem programs cacm november 1959 codd e f lowry e s mcdonough e scalzi c a ca591102 jb march 22 1978 357 pm 168 5 46 491 5 46 46 5 46 46 5 46 46 5 46 168 6 46 185 6 46 196 6 46 46 6 46 46 6 46',\n",
              " 'lem-1 small size general purpose digital computer using magnetic ferrite elements the paper examines some of the questions of development and construction of a general purpose digital computer using contactless magnetic ferrite and capacitive dezu long duration capacitive memory elements developed at the laboratory of electrical modeling vinityi an sssr under the supervision of professor l gutenmacher cacm october 1959 machmudov u a ca591001 jb march 22 1978 421 pm 215 5 58 58 5 58 58 5 58 58 5 58 58 6 58',\n",
              " 'survey of progress and trend of development and use of automatic data processing in business and management control systems of the federal government as of december 1957-iii cacm september 1959 ca590910 jb march 22 1978 441 pm 59 5 59 59 5 59 59 5 59',\n",
              " 'the role of the university in computers data processing and related fields a study was made of university programs in the united states in the fields of computers data processing operations research and other closely related fields university policies organization administration faculties students researches curricula equipment and financing were investigated an integrated university program is recommended reflecting the conviction that many present activities related to computers will develop into disciplines and as such are the legitimate province of the university scholar details on a recommended graduate school of computer sciences are given cacm september 1959 fein l ca590901 jb march 22 1978 605 pm 1205 5 68 68 5 68 68 5 68 68 5 68 1100 6 68 1104 6 68 1107 6 68 68 6 68',\n",
              " 'statistical programs for the ibm 650-part i a collection is given of brief descriptions of statistical programs now in use in university computing centers which have ibm 650s cacm august 1959 hamblen j w ca590804 jb march 22 1978 607 pm 69 5 69 69 5 69 69 5 69',\n",
              " 'proposal for a feasible programming system this paper proposes designing a programming facility itself involving a digital computer and a program which will assist the preparation of large-scale real-time programs this facility is to be capable of preparing programs for any of a variety of machines having characteristics similar to those of the facilitys computer one of the basic assumptions is that there will be enough random-access storage available to avoid the necessity for segmenting a constructed program in any fashion other than a trivial one while this assumption is somewhat unrealistic it is intended to provide an opportunity to concentrate on the other aspects of program construction the programming system should stress the discovery in source program statements of as many errors as possible before attempting to construct an object program among the computer characteristics which are advocated are a program interrupt scheme a large set of characters and indirect addressing cacm august 1959 bagley p r ca590802 jb march 22 1978 616 pm 71 5 71 71 5 71 71 5 71',\n",
              " 'survey of progress and trend of development and use of automatic data processing in business and management control systems of the federal government as of december 1957-ii part 2 see ca590406 cacm may 1959 ca590502 jb march 22 1978 642 pm 84 5 84 84 5 84 84 5 84',\n",
              " 'survey of progress and trend of development and use of automatic data processing in business and management control systems of the federal government as of december 1957 cacm april 1959 controller general of the united states to the congress of the united states ca590406 jb march 22 1978 648 pm 86 5 86 86 5 86 86 5 86',\n",
              " 'a checklist of intelligence for programming systems a remarkable variation exists in the degree of sophistication of various programming systems a particular manifestation is the jungle of assorted devices for reproducing limited human decision procedures an attempt is made here to begin a systematic classification of the various devices for educating the computer to take over the decision-making functions of one or many human operators both those that have been demonstrated feasible to date and those that are highly desirable for the future cacm march 1959 bemer r w ca590304 jb march 22 1978 801 pm 92 5 92 92 5 92 92 5 92',\n",
              " 'from formulas to computer oriented language a technique is shown for enabling a computer to translate simple algebraic formulas into a three address computer code cacm march 1959 wegstein j h ca590303 jb march 22 1978 803 pm 405 5 93 54 5 93 93 5 93 93 5 93 93 5 93 224 6 93 55 6 93 77 6 93 93 6 93 93 6 93']"
            ]
          },
          "metadata": {},
          "execution_count": 25
        }
      ]
    },
    {
      "cell_type": "markdown",
      "metadata": {
        "id": "jhypHAYu1JSo"
      },
      "source": [
        "# Evaluation"
      ]
    },
    {
      "cell_type": "code",
      "metadata": {
        "id": "YLftcM0xKSRm",
        "colab": {
          "base_uri": "https://localhost:8080/"
        },
        "outputId": "a1619afc-100e-4e8f-fc64-05dbc54fbac9"
      },
      "source": [
        "import urllib.request\n",
        "query_file = 'https://raw.githubusercontent.com/AkshithBellare/cluster-based-information-retrieval/master/cacm_queries.txt?token=AJLA7NMEQU6TWDN5OLHXKTTBRTUBO'\n",
        "file = urllib.request.urlopen(query_file)\n",
        "queries = []\n",
        "for query in file:\n",
        "    query = query.decode(\"utf-8\")\n",
        "    queries.append(query)\n",
        "    print(query)"
      ],
      "execution_count": null,
      "outputs": [
        {
          "output_type": "stream",
          "name": "stdout",
          "text": [
            "what articles exist which deal with tss time sharing system an operating system for ibm computers\n",
            "\n",
            "i am interested in articles written either by prieve or udo pooch  prieve b pooch u\n",
            "\n",
            "intermediate languages used in construction of multi-targeted compilers tcoll\n",
            "\n",
            "im interested in mechanisms for communicating between disjoint processes possibly but not exclusively in a distributed environment  i would rather see descriptions of complete mechanisms with or without implementations as opposed to theoretical work on the abstract problem  remote procedure calls and message-passing are examples of my interests\n",
            "\n",
            "id like papers on design and implementation of editing interfaces window-managers command interpreters etc  the essential issues are human interface design with views on improvements to user efficiency effectiveness and satisfaction\n",
            "\n",
            "interested in articles on robotics motion planning particularly the geometric and combinatorial aspects  we are not interested in the dynamics of arm motion\n",
            "\n",
            "i am interested in distributed algorithms - concurrent programs in which processes communicate and synchronize by using message passing areas of particular interest include fault-tolerance and techniques for understanding the correctness of these algorithms\n",
            "\n",
            "addressing schemes for resources in networks resource addressing in network operating systems\n",
            "\n",
            "security considerations in local networks network operating systems and distributed systems\n",
            "\n",
            "parallel languages languages for parallel computation\n",
            "\n",
            "setl very high level languages\n",
            "\n",
            "portable operating systems\n",
            "\n",
            "code optimization for space efficiency\n",
            "\n",
            "find all discussions of optimal implementations of sort algorithms for database management applications\n",
            "\n",
            "find all discussions of horizontal microcode optimization with special emphasis on optimization of loops and global optimization\n",
            "\n",
            "find all descriptions of file handling in operating systems based on multiple processes and message passing\n",
            "\n",
            "optimization of intermediate and machine code\n",
            "\n",
            "languages and compilers for parallel processors especially highly horizontal microcoded machines code compaction\n",
            "\n",
            "parallel algorithms\n",
            "\n",
            "graph theoretic algorithms applicable to sparse matrices\n",
            "\n",
            "computational complexity intractability class-complete reductions algorithms and efficiency\n",
            "\n",
            "i am interested in hidden-line and hidden-surface algorithms for cylinders toroids spheres and cones  this is a rather specialized topic in computer graphics\n",
            "\n",
            "distributed computing structures and algorithms\n",
            "\n",
            "applied stochastic processes\n",
            "\n",
            "performance evaluation and modelling of computer systems\n",
            "\n",
            "concurrency control mechanisms in operating systems\n",
            "\n",
            "memory management aspects of operating systems\n",
            "\n",
            "any information on packet radio networks  of particular interest are algorithms for packet routing and for dealing with changes in network topography  i am not interested in the hardware used in the network\n",
            "\n",
            "number-theoretic algorithms especially involving prime number series sieves and chinese remainder theorem\n",
            "\n",
            "articles on text formatting systems including what you see is what you get systems  examples tnroff scribe bravo\n",
            "\n",
            "id like to find articles describing the use of singular value decomposition in digital image processing  applications include finding approximations to the original image and restoring images that are subject to noise an article on the subject is h andrews and c patterson outer product expansions and their uses in digital image processing american mathematical  andrews h patterson c\n",
            "\n",
            "id like to find articles describing graph algorithms that are based on the eigenvalue decomposition or singular value decomposition of the ajacency matrix for the graph  im especially interested in any heuristic algorithms for graph coloring and graph isomorphism using this method\n",
            "\n",
            "articles about the sensitivity of the eigenvalue decomposition of real matrices in particular zero-one matrices  im especially interested in the separation of eigenspaces corresponding to distinct eigenvalues articles on the subject c davis and w kahn the rotation of eigenvectors by a permutation siam j numerical analysis vol 7 no 1 1970 g stewart error bounds for approximate invariant subspaces of closed linear operators siam j numerical analysis vol 8 no 4 1971  davis c kahn w stewart g\n",
            "\n",
            "currently interested in isolation of root of polynomial there is an old more recent material  heindel l\n",
            "\n",
            "probabilistic algorithms especially those dealing with algebraic and symbolic manipulation  some examples rabiin probabilistic algorithm on finite field siam waztch probabilistic testing of polynomial identities siam  rabinm\n",
            "\n",
            "fast algorithm for context-free language recognition or parsing\n",
            "\n",
            "articles describing the relationship between data types and concurrency eg what is the type of a process  when is a synchronization attempt  between two processes type correct  in a message-passing system is there any notion of the types of messages--ie any way to check that the sender of the message and the receiver are both treating the bit stream as some particular type\n",
            "\n",
            "what is the type of a module i dont want the entire literature on abstract data types here but im not sure how to phrase this to avoid it im interested in questions about how one can check that a module matches contexts in which it is used\n",
            "\n",
            "what does type compatibility mean in languages that allow programmer defined types  you might want to restrict this to extensible languages that allow definition of abstract data types or programmer-supplied definitions of operators like\n",
            "\n",
            "list all articles dealing with data types in the following languages that are referenced frequently in papers on the above languages eg catch any languages with interesting type structures that i might have missed\n",
            "\n",
            "theory of distributed systems and databases  subtopics of special interest include reliability and fault-tolerance in distributed systems atomicity distributed transactions synchronization algorithms  resource allocation lower bounds and models for asynchronous parallel systems  also theory of communicating processes and protocols          p box 2158 yale station new haven conn  06520\n",
            "\n",
            "computer performance evaluation techniques using pattern recognition and clustering       la    70803\n",
            "\n",
            "analysis and perception of shape by humans and computers  shape descriptions shape recognition by computer  two-dimensional shapes measures of circularity  shape matching\n",
            "\n",
            "texture analysis by computer digitized texture analysis  texture synthesis perception of texture\n",
            "\n",
            "the use of operations research models to optimize information system performance  this includes fine tuning decisions such as secondary index selection file reorganization and distributed databases\n",
            "\n",
            "the application of fuzzy subset theory to clustering and information retrieval problems  this includes performance evaluation and automatic indexing considerations\n",
            "\n",
            "the use of bayesian decision models to optimize information retrieval system performance  this includes stopping rules to determine when a user should cease scanning the output of a retrieval search\n",
            "\n",
            "the use of computer science principles eg data structures  numerical methods in generating optimization eg linear programming algorithms  this includes issues of the khachian russian ellipsoidal algorithm and complexity of such algorithms\n",
            "\n",
            "the role of information retrieval in knowledge based systems ie expert systems\n",
            "\n",
            "parallel processors in information retrieval\n",
            "\n",
            "parallel processors and paging algorithms\n",
            "\n",
            "modelling and simulation in agricultural ecosystems\n",
            "\n",
            "mathematical induction group theory integers modulo m probability binomial coefficients binomial theorem homomorphism morphism transitivity relations relation matrix       syracuse university 313 link hall syracuse n 13210\n",
            "\n",
            "semantics of programming languages including abstract specifications of data types denotational semantics and proofs of correctness  hoare a dijkstra e   university of massachusetts amherst ma 01003\n",
            "\n",
            "anything dealing with star height of regular languages or regular expressions or regular events\n",
            "\n",
            "articles relation the algebraic theory of semigroups and monoids to the study of automata and regular languages\n",
            "\n",
            "abstracts of articles     j backus can programming be liberated from the von neumann style                a functional style and its algebra of programs cacm 21     re millo r lipton a perlis letter to acm forum cacm 22         1979 629-630  backus j de millo r lipton r perlis a\n",
            "\n",
            "algorithms or statistical packages for anova regression using least squares or generalized linear models  system design capabilities statistical formula are of interest  students t test wilcoxon and sign tests multivariate and univariate components can be included\n",
            "\n",
            "dictionary construction and accessing methods for fast retrieval of words or lexical items or morphologically related information hashing or indexing methods are usually applied to english spelling or natural language problems\n",
            "\n",
            "hardware and software relating to database management systems database packages back end computers special associative hardware with microcomputers attached to disk heads or things like rap  relational or network codasyl or hierarchical models systems like system r ims adabas total etc\n",
            "\n",
            "information retrieval articles by gerard salton or others about clustering bibliographic coupling use of citations or co-citations the vector space model boolean search methods using inverted files feedback etc  salton g\n",
            "\n",
            "results relating parallel complexity theory both for prams and uniform circuits\n",
            "\n",
            "algorithms for parallel computation and especially comparisons between parallel and sequential algorithms\n",
            "\n",
            "list all articles on el1 and ecl el1 may be given as el1 i dont remember how they did it\n"
          ]
        }
      ]
    },
    {
      "cell_type": "code",
      "metadata": {
        "id": "cekf__VYesf7"
      },
      "source": [
        "def intersection(list1, list2):\n",
        "    return list(set(list1) & set(list2))\n",
        "\n",
        "def rank(query):\n",
        "    clusterScore = []\n",
        "    for i in frequentPatterns:\n",
        "        ithCluster = frequentPatterns[i]\n",
        "        currScore = 0\n",
        "        for j in range(0, len(ithCluster)):\n",
        "            if(len(intersection(ithCluster[j], query)) != 0):\n",
        "                currScore+=1\n",
        "        clusterScore.append(currScore)\n",
        "    print(clusterScore)\n",
        "\n",
        "    maxScore = max(clusterScore)\n",
        "    clusterWithMaxScore = clusterScore.index(maxScore)\n",
        "    return df['Doc Name'][df.cluster == clusterWithMaxScore].to_list()[:10]"
      ],
      "execution_count": null,
      "outputs": []
    },
    {
      "cell_type": "code",
      "metadata": {
        "colab": {
          "base_uri": "https://localhost:8080/"
        },
        "id": "cGeRoOM8af8B",
        "outputId": "44494000-38d3-425e-bd6c-33c86c5b23ab"
      },
      "source": [
        "rankings = []\n",
        "for q in query:\n",
        "    rankings.append(rank(q.split()))\n",
        "rankings"
      ],
      "execution_count": null,
      "outputs": [
        {
          "output_type": "stream",
          "name": "stdout",
          "text": [
            "[0, 0, 0, 0, 0, 0, 0, 0, 0, 0]\n",
            "[0, 0, 34, 0, 0, 0, 0, 0, 4, 0]\n"
          ]
        },
        {
          "output_type": "execute_result",
          "data": {
            "text/plain": [
              "[['CACM-0324.txt',\n",
              "  'CACM-0428.txt',\n",
              "  'CACM-0429.txt',\n",
              "  'CACM-0446.txt',\n",
              "  'CACM-0502.txt',\n",
              "  'CACM-0541.txt',\n",
              "  'CACM-0587.txt',\n",
              "  'CACM-0614.txt',\n",
              "  'CACM-0621.txt',\n",
              "  'CACM-0641.txt'],\n",
              " ['CACM-0046.txt',\n",
              "  'CACM-0058.txt',\n",
              "  'CACM-0059.txt',\n",
              "  'CACM-0068.txt',\n",
              "  'CACM-0069.txt',\n",
              "  'CACM-0071.txt',\n",
              "  'CACM-0084.txt',\n",
              "  'CACM-0086.txt',\n",
              "  'CACM-0092.txt',\n",
              "  'CACM-0093.txt']]"
            ]
          },
          "metadata": {},
          "execution_count": 29
        }
      ]
    },
    {
      "cell_type": "code",
      "metadata": {
        "id": "MbZryMONfwFO"
      },
      "source": [
        "def recall_query(query_id):\n",
        "    A = CACM_REL[query_id]\n",
        "    B = get_documents(query_id)\n",
        "    AintersectionB = 0\n",
        "    recall = dict()\n",
        "    length_A = len(A)\n",
        "    for document in B:\n",
        "        if document in A:\n",
        "            AintersectionB += 1\n",
        "        recall[document] = (float(AintersectionB)/float(length_A))\n",
        "    return recall"
      ],
      "execution_count": null,
      "outputs": []
    },
    {
      "cell_type": "code",
      "metadata": {
        "id": "XHzbKY86gGw1"
      },
      "source": [
        "def precision_query(query_id):\n",
        "    A = CACM_REL[query_id]\n",
        "    B = get_documents(query_id)\n",
        "    AintersectionB = 0\n",
        "    precision = dict()\n",
        "    length_B = 0\n",
        "    for document in B:\n",
        "        length_B += 1\n",
        "        if document in A:\n",
        "            AintersectionB += 1\n",
        "        precision[document] = (float(AintersectionB)/float(length_B))\n",
        "    return precision"
      ],
      "execution_count": null,
      "outputs": []
    },
    {
      "cell_type": "code",
      "metadata": {
        "id": "k85b8-E8gP10"
      },
      "source": [
        "def average_precision(query_id):\n",
        "    global AVERAGE_PRECISIONS\n",
        "    if PRECISION.has_key(query_id):\n",
        "        relevant_doc = CACM_REL[query_id]\n",
        "\n",
        "        precisions = PRECISION[query_id]\n",
        "        sum = 0\n",
        "        counter = 0\n",
        "        for every_precision in precisions:\n",
        "            if every_precision in relevant_doc:\n",
        "                counter += 1\n",
        "                #print precisions[every_precision]\n",
        "                sum += precisions[every_precision]\n",
        "        if counter == 0:\n",
        "            ap = 0\n",
        "        else:\n",
        "            ap = float(sum)/float(counter)\n",
        "        AVERAGE_PRECISIONS.append(ap)\n",
        "        return ap\n",
        "\n",
        "def mean_average_precision():\n",
        "    sum = 0\n",
        "    counter = 0\n",
        "    for ap in AVERAGE_PRECISIONS:\n",
        "        counter += 1\n",
        "        if ap != 0:\n",
        "            sum += ap\n",
        "    print counter\n",
        "    map = float(sum)/float(counter)\n",
        "    return map"
      ],
      "execution_count": null,
      "outputs": []
    },
    {
      "cell_type": "code",
      "metadata": {
        "colab": {
          "base_uri": "https://localhost:8080/",
          "height": 202
        },
        "id": "kpW18YMiTfQg",
        "outputId": "13a2cc15-f6e9-4485-9c8a-1e41f49c1957"
      },
      "source": [
        "import pandas as pd\n",
        "cacm_prec = get_metrics(df)['prec']\n",
        "cacm_prec.head()"
      ],
      "execution_count": null,
      "outputs": [
        {
          "output_type": "execute_result",
          "data": {
            "text/html": [
              "<div>\n",
              "<style scoped>\n",
              "    .dataframe tbody tr th:only-of-type {\n",
              "        vertical-align: middle;\n",
              "    }\n",
              "\n",
              "    .dataframe tbody tr th {\n",
              "        vertical-align: top;\n",
              "    }\n",
              "\n",
              "    .dataframe thead th {\n",
              "        text-align: right;\n",
              "    }\n",
              "</style>\n",
              "<table border=\"1\" class=\"dataframe\">\n",
              "  <thead>\n",
              "    <tr style=\"text-align: right;\">\n",
              "      <th></th>\n",
              "      <th>K means</th>\n",
              "      <th>Agglomerative</th>\n",
              "      <th>FCM</th>\n",
              "      <th>PCM</th>\n",
              "    </tr>\n",
              "  </thead>\n",
              "  <tbody>\n",
              "    <tr>\n",
              "      <th>2</th>\n",
              "      <td>0.68</td>\n",
              "      <td>0.65</td>\n",
              "      <td>0.72</td>\n",
              "      <td>0.70</td>\n",
              "    </tr>\n",
              "    <tr>\n",
              "      <th>4</th>\n",
              "      <td>0.69</td>\n",
              "      <td>0.67</td>\n",
              "      <td>0.75</td>\n",
              "      <td>0.74</td>\n",
              "    </tr>\n",
              "    <tr>\n",
              "      <th>6</th>\n",
              "      <td>0.72</td>\n",
              "      <td>0.70</td>\n",
              "      <td>0.77</td>\n",
              "      <td>0.75</td>\n",
              "    </tr>\n",
              "    <tr>\n",
              "      <th>8</th>\n",
              "      <td>0.72</td>\n",
              "      <td>0.70</td>\n",
              "      <td>0.80</td>\n",
              "      <td>0.77</td>\n",
              "    </tr>\n",
              "    <tr>\n",
              "      <th>10</th>\n",
              "      <td>0.75</td>\n",
              "      <td>0.73</td>\n",
              "      <td>0.81</td>\n",
              "      <td>0.78</td>\n",
              "    </tr>\n",
              "  </tbody>\n",
              "</table>\n",
              "</div>"
            ],
            "text/plain": [
              "    K means  Agglomerative   FCM   PCM\n",
              "2      0.68           0.65  0.72  0.70\n",
              "4      0.69           0.67  0.75  0.74\n",
              "6      0.72           0.70  0.77  0.75\n",
              "8      0.72           0.70  0.80  0.77\n",
              "10     0.75           0.73  0.81  0.78"
            ]
          },
          "metadata": {},
          "execution_count": 15
        }
      ]
    },
    {
      "cell_type": "code",
      "metadata": {
        "colab": {
          "base_uri": "https://localhost:8080/",
          "height": 312
        },
        "id": "9o9JQI9wUjXk",
        "outputId": "5228d5cc-96da-465a-fea5-ceb2b410926c"
      },
      "source": [
        "cacm_prec.plot(xlabel = 'No.of Clusters', ylabel = 'Precision',title = 'CACM Precision')"
      ],
      "execution_count": null,
      "outputs": [
        {
          "output_type": "execute_result",
          "data": {
            "text/plain": [
              "<matplotlib.axes._subplots.AxesSubplot at 0x7f8ee606cbd0>"
            ]
          },
          "metadata": {},
          "execution_count": 16
        },
        {
          "output_type": "display_data",
          "data": {
            "image/png": "[encoded data removed]",
            "text/plain": [
              "<Figure size 432x288 with 1 Axes>"
            ]
          },
          "metadata": {
            "needs_background": "light"
          }
        }
      ]
    },
    {
      "cell_type": "code",
      "metadata": {
        "colab": {
          "base_uri": "https://localhost:8080/",
          "height": 202
        },
        "id": "Ij3gpE5vUvBS",
        "outputId": "5d234979-b6ef-4a8c-dc4c-7d7174271d7e"
      },
      "source": [
        "cacm_recall = get_metrics(df)['rec']\n",
        "cacm_recall.head()"
      ],
      "execution_count": null,
      "outputs": [
        {
          "output_type": "execute_result",
          "data": {
            "text/html": [
              "<div>\n",
              "<style scoped>\n",
              "    .dataframe tbody tr th:only-of-type {\n",
              "        vertical-align: middle;\n",
              "    }\n",
              "\n",
              "    .dataframe tbody tr th {\n",
              "        vertical-align: top;\n",
              "    }\n",
              "\n",
              "    .dataframe thead th {\n",
              "        text-align: right;\n",
              "    }\n",
              "</style>\n",
              "<table border=\"1\" class=\"dataframe\">\n",
              "  <thead>\n",
              "    <tr style=\"text-align: right;\">\n",
              "      <th></th>\n",
              "      <th>K means</th>\n",
              "      <th>Agglomerative</th>\n",
              "      <th>FCM</th>\n",
              "      <th>PCM</th>\n",
              "    </tr>\n",
              "  </thead>\n",
              "  <tbody>\n",
              "    <tr>\n",
              "      <th>2</th>\n",
              "      <td>0.75</td>\n",
              "      <td>0.76</td>\n",
              "      <td>0.78</td>\n",
              "      <td>0.79</td>\n",
              "    </tr>\n",
              "    <tr>\n",
              "      <th>4</th>\n",
              "      <td>0.78</td>\n",
              "      <td>0.77</td>\n",
              "      <td>0.79</td>\n",
              "      <td>0.80</td>\n",
              "    </tr>\n",
              "    <tr>\n",
              "      <th>6</th>\n",
              "      <td>0.77</td>\n",
              "      <td>0.75</td>\n",
              "      <td>0.81</td>\n",
              "      <td>0.80</td>\n",
              "    </tr>\n",
              "    <tr>\n",
              "      <th>8</th>\n",
              "      <td>0.75</td>\n",
              "      <td>0.75</td>\n",
              "      <td>0.78</td>\n",
              "      <td>0.79</td>\n",
              "    </tr>\n",
              "    <tr>\n",
              "      <th>10</th>\n",
              "      <td>0.73</td>\n",
              "      <td>0.72</td>\n",
              "      <td>0.77</td>\n",
              "      <td>0.78</td>\n",
              "    </tr>\n",
              "  </tbody>\n",
              "</table>\n",
              "</div>"
            ],
            "text/plain": [
              "    K means  Agglomerative   FCM   PCM\n",
              "2      0.75           0.76  0.78  0.79\n",
              "4      0.78           0.77  0.79  0.80\n",
              "6      0.77           0.75  0.81  0.80\n",
              "8      0.75           0.75  0.78  0.79\n",
              "10     0.73           0.72  0.77  0.78"
            ]
          },
          "metadata": {},
          "execution_count": 17
        }
      ]
    },
    {
      "cell_type": "code",
      "metadata": {
        "colab": {
          "base_uri": "https://localhost:8080/",
          "height": 312
        },
        "id": "gXy4GF1iXbk7",
        "outputId": "2640041e-725f-4754-e06e-25dd3abe57ae"
      },
      "source": [
        "cacm_recall.plot(xlabel = 'No.of Clusters', ylabel = 'Recall',title = 'CACM Recall')"
      ],
      "execution_count": null,
      "outputs": [
        {
          "output_type": "execute_result",
          "data": {
            "text/plain": [
              "<matplotlib.axes._subplots.AxesSubplot at 0x7f8ee5f9b850>"
            ]
          },
          "metadata": {},
          "execution_count": 18
        },
        {
          "output_type": "display_data",
          "data": {
            "image/png": "[encoded data removed]",
            "text/plain": [
              "<Figure size 432x288 with 1 Axes>"
            ]
          },
          "metadata": {
            "needs_background": "light"
          }
        }
      ]
    },
    {
      "cell_type": "code",
      "metadata": {
        "colab": {
          "base_uri": "https://localhost:8080/",
          "height": 202
        },
        "id": "TZ4lRhAtZbGL",
        "outputId": "7a87e6e6-2967-4465-dd7e-ba2f3e88193b"
      },
      "source": [
        "cacm_fm = 2*cacm_prec*cacm_recall/(cacm_prec + cacm_recall)\n",
        "cacm_fm.head()"
      ],
      "execution_count": null,
      "outputs": [
        {
          "output_type": "execute_result",
          "data": {
            "text/html": [
              "<div>\n",
              "<style scoped>\n",
              "    .dataframe tbody tr th:only-of-type {\n",
              "        vertical-align: middle;\n",
              "    }\n",
              "\n",
              "    .dataframe tbody tr th {\n",
              "        vertical-align: top;\n",
              "    }\n",
              "\n",
              "    .dataframe thead th {\n",
              "        text-align: right;\n",
              "    }\n",
              "</style>\n",
              "<table border=\"1\" class=\"dataframe\">\n",
              "  <thead>\n",
              "    <tr style=\"text-align: right;\">\n",
              "      <th></th>\n",
              "      <th>K means</th>\n",
              "      <th>Agglomerative</th>\n",
              "      <th>FCM</th>\n",
              "      <th>PCM</th>\n",
              "    </tr>\n",
              "  </thead>\n",
              "  <tbody>\n",
              "    <tr>\n",
              "      <th>2</th>\n",
              "      <td>0.713287</td>\n",
              "      <td>0.700709</td>\n",
              "      <td>0.748800</td>\n",
              "      <td>0.742282</td>\n",
              "    </tr>\n",
              "    <tr>\n",
              "      <th>4</th>\n",
              "      <td>0.732245</td>\n",
              "      <td>0.716528</td>\n",
              "      <td>0.769481</td>\n",
              "      <td>0.768831</td>\n",
              "    </tr>\n",
              "    <tr>\n",
              "      <th>6</th>\n",
              "      <td>0.744161</td>\n",
              "      <td>0.724138</td>\n",
              "      <td>0.789494</td>\n",
              "      <td>0.774194</td>\n",
              "    </tr>\n",
              "    <tr>\n",
              "      <th>8</th>\n",
              "      <td>0.734694</td>\n",
              "      <td>0.724138</td>\n",
              "      <td>0.789873</td>\n",
              "      <td>0.779872</td>\n",
              "    </tr>\n",
              "    <tr>\n",
              "      <th>10</th>\n",
              "      <td>0.739865</td>\n",
              "      <td>0.724966</td>\n",
              "      <td>0.789494</td>\n",
              "      <td>0.780000</td>\n",
              "    </tr>\n",
              "  </tbody>\n",
              "</table>\n",
              "</div>"
            ],
            "text/plain": [
              "     K means  Agglomerative       FCM       PCM\n",
              "2   0.713287       0.700709  0.748800  0.742282\n",
              "4   0.732245       0.716528  0.769481  0.768831\n",
              "6   0.744161       0.724138  0.789494  0.774194\n",
              "8   0.734694       0.724138  0.789873  0.779872\n",
              "10  0.739865       0.724966  0.789494  0.780000"
            ]
          },
          "metadata": {},
          "execution_count": 19
        }
      ]
    },
    {
      "cell_type": "code",
      "metadata": {
        "colab": {
          "base_uri": "https://localhost:8080/",
          "height": 312
        },
        "id": "OYP0XI9SalcN",
        "outputId": "c008c130-2aef-4bd5-af56-68017222a6e1"
      },
      "source": [
        "cacm_fm.plot(xlabel = 'No.of Clusters', ylabel = 'f measure', title = 'CACM F Measure')"
      ],
      "execution_count": null,
      "outputs": [
        {
          "output_type": "execute_result",
          "data": {
            "text/plain": [
              "<matplotlib.axes._subplots.AxesSubplot at 0x7f8ee5e72410>"
            ]
          },
          "metadata": {},
          "execution_count": 20
        },
        {
          "output_type": "display_data",
          "data": {
            "image/png": "[encoded data removed]",
            "text/plain": [
              "<Figure size 432x288 with 1 Axes>"
            ]
          },
          "metadata": {
            "needs_background": "light"
          }
        }
      ]
    },
    {
      "cell_type": "code",
      "metadata": {
        "colab": {
          "base_uri": "https://localhost:8080/",
          "height": 202
        },
        "id": "56uVo7AlZG2H",
        "outputId": "c75ff9dd-d2de-4a84-963d-0733b46f38c1"
      },
      "source": [
        "cacm_map = get_metrics(df)['map']\n",
        "cacm_map.head()"
      ],
      "execution_count": null,
      "outputs": [
        {
          "output_type": "execute_result",
          "data": {
            "text/html": [
              "<div>\n",
              "<style scoped>\n",
              "    .dataframe tbody tr th:only-of-type {\n",
              "        vertical-align: middle;\n",
              "    }\n",
              "\n",
              "    .dataframe tbody tr th {\n",
              "        vertical-align: top;\n",
              "    }\n",
              "\n",
              "    .dataframe thead th {\n",
              "        text-align: right;\n",
              "    }\n",
              "</style>\n",
              "<table border=\"1\" class=\"dataframe\">\n",
              "  <thead>\n",
              "    <tr style=\"text-align: right;\">\n",
              "      <th></th>\n",
              "      <th>K means</th>\n",
              "      <th>Agglomerative</th>\n",
              "      <th>FCM</th>\n",
              "      <th>PCM</th>\n",
              "    </tr>\n",
              "  </thead>\n",
              "  <tbody>\n",
              "    <tr>\n",
              "      <th>2</th>\n",
              "      <td>0.60</td>\n",
              "      <td>0.58</td>\n",
              "      <td>0.64</td>\n",
              "      <td>0.64</td>\n",
              "    </tr>\n",
              "    <tr>\n",
              "      <th>4</th>\n",
              "      <td>0.61</td>\n",
              "      <td>0.60</td>\n",
              "      <td>0.66</td>\n",
              "      <td>0.67</td>\n",
              "    </tr>\n",
              "    <tr>\n",
              "      <th>6</th>\n",
              "      <td>0.63</td>\n",
              "      <td>0.61</td>\n",
              "      <td>0.69</td>\n",
              "      <td>0.70</td>\n",
              "    </tr>\n",
              "    <tr>\n",
              "      <th>8</th>\n",
              "      <td>0.64</td>\n",
              "      <td>0.62</td>\n",
              "      <td>0.73</td>\n",
              "      <td>0.72</td>\n",
              "    </tr>\n",
              "    <tr>\n",
              "      <th>10</th>\n",
              "      <td>0.66</td>\n",
              "      <td>0.64</td>\n",
              "      <td>0.74</td>\n",
              "      <td>0.72</td>\n",
              "    </tr>\n",
              "  </tbody>\n",
              "</table>\n",
              "</div>"
            ],
            "text/plain": [
              "    K means  Agglomerative   FCM   PCM\n",
              "2      0.60           0.58  0.64  0.64\n",
              "4      0.61           0.60  0.66  0.67\n",
              "6      0.63           0.61  0.69  0.70\n",
              "8      0.64           0.62  0.73  0.72\n",
              "10     0.66           0.64  0.74  0.72"
            ]
          },
          "metadata": {},
          "execution_count": 21
        }
      ]
    },
    {
      "cell_type": "code",
      "metadata": {
        "colab": {
          "base_uri": "https://localhost:8080/",
          "height": 312
        },
        "id": "5Y9MGwT8eXzC",
        "outputId": "1b76ac60-ab23-4933-9851-4bd103e80593"
      },
      "source": [
        "cacm_map.plot(xlabel = 'No.of Clusters', ylabel = 'MAP@10', title = 'CACM MAP@10')"
      ],
      "execution_count": null,
      "outputs": [
        {
          "output_type": "execute_result",
          "data": {
            "text/plain": [
              "<matplotlib.axes._subplots.AxesSubplot at 0x7f8ee5dfa290>"
            ]
          },
          "metadata": {},
          "execution_count": 22
        },
        {
          "output_type": "display_data",
          "data": {
            "image/png": "[encoded data removed]",
            "text/plain": [
              "<Figure size 432x288 with 1 Axes>"
            ]
          },
          "metadata": {
            "needs_background": "light"
          }
        }
      ]
    },
    {
      "cell_type": "code",
      "metadata": {
        "id": "6oK6mxPlXGPl"
      },
      "source": [
        ""
      ],
      "execution_count": null,
      "outputs": []
    },
    {
      "cell_type": "code",
      "metadata": {
        "colab": {
          "base_uri": "https://localhost:8080/",
          "height": 202
        },
        "id": "eSKdf1-9XbSG",
        "outputId": "48a3f0d7-416a-4ec4-f8de-25be78027df4"
      },
      "source": [
        "import pandas as pd\n",
        "trec_prec = get_metrics(trec_df)['prec']\n",
        "trec_prec.head()"
      ],
      "execution_count": null,
      "outputs": [
        {
          "output_type": "execute_result",
          "data": {
            "text/html": [
              "<div>\n",
              "<style scoped>\n",
              "    .dataframe tbody tr th:only-of-type {\n",
              "        vertical-align: middle;\n",
              "    }\n",
              "\n",
              "    .dataframe tbody tr th {\n",
              "        vertical-align: top;\n",
              "    }\n",
              "\n",
              "    .dataframe thead th {\n",
              "        text-align: right;\n",
              "    }\n",
              "</style>\n",
              "<table border=\"1\" class=\"dataframe\">\n",
              "  <thead>\n",
              "    <tr style=\"text-align: right;\">\n",
              "      <th></th>\n",
              "      <th>K means</th>\n",
              "      <th>Agglomerative</th>\n",
              "      <th>FCM</th>\n",
              "      <th>PCM</th>\n",
              "    </tr>\n",
              "  </thead>\n",
              "  <tbody>\n",
              "    <tr>\n",
              "      <th>2</th>\n",
              "      <td>0.69</td>\n",
              "      <td>0.67</td>\n",
              "      <td>0.74</td>\n",
              "      <td>0.73</td>\n",
              "    </tr>\n",
              "    <tr>\n",
              "      <th>4</th>\n",
              "      <td>0.72</td>\n",
              "      <td>0.69</td>\n",
              "      <td>0.76</td>\n",
              "      <td>0.74</td>\n",
              "    </tr>\n",
              "    <tr>\n",
              "      <th>6</th>\n",
              "      <td>0.74</td>\n",
              "      <td>0.70</td>\n",
              "      <td>0.79</td>\n",
              "      <td>0.76</td>\n",
              "    </tr>\n",
              "    <tr>\n",
              "      <th>8</th>\n",
              "      <td>0.75</td>\n",
              "      <td>0.72</td>\n",
              "      <td>0.80</td>\n",
              "      <td>0.78</td>\n",
              "    </tr>\n",
              "    <tr>\n",
              "      <th>10</th>\n",
              "      <td>0.73</td>\n",
              "      <td>0.70</td>\n",
              "      <td>0.78</td>\n",
              "      <td>0.76</td>\n",
              "    </tr>\n",
              "  </tbody>\n",
              "</table>\n",
              "</div>"
            ],
            "text/plain": [
              "    K means  Agglomerative   FCM   PCM\n",
              "2      0.69           0.67  0.74  0.73\n",
              "4      0.72           0.69  0.76  0.74\n",
              "6      0.74           0.70  0.79  0.76\n",
              "8      0.75           0.72  0.80  0.78\n",
              "10     0.73           0.70  0.78  0.76"
            ]
          },
          "metadata": {},
          "execution_count": 3
        }
      ]
    },
    {
      "cell_type": "code",
      "metadata": {
        "colab": {
          "base_uri": "https://localhost:8080/",
          "height": 312
        },
        "id": "fNppEoTAXbSQ",
        "outputId": "4d7b414a-b559-4052-8eea-43d5d12df84f"
      },
      "source": [
        "trec_prec.plot(xlabel = 'No.of Clusters', ylabel = 'Precision',title = 'TREC Precision')"
      ],
      "execution_count": null,
      "outputs": [
        {
          "output_type": "execute_result",
          "data": {
            "text/plain": [
              "<matplotlib.axes._subplots.AxesSubplot at 0x7f8eeb995750>"
            ]
          },
          "metadata": {},
          "execution_count": 6
        },
        {
          "output_type": "display_data",
          "data": {
            "image/png": "[encoded data removed]",
            "text/plain": [
              "<Figure size 432x288 with 1 Axes>"
            ]
          },
          "metadata": {
            "needs_background": "light"
          }
        }
      ]
    },
    {
      "cell_type": "code",
      "metadata": {
        "colab": {
          "base_uri": "https://localhost:8080/",
          "height": 202
        },
        "id": "Wc67AEKAXbSQ",
        "outputId": "4b5a0da0-2f24-44c8-8d0d-ef1ea9cc94e8"
      },
      "source": [
        "trec_recall = get_metrics(trec_df)['rec']\n",
        "trec_recall.head()"
      ],
      "execution_count": null,
      "outputs": [
        {
          "output_type": "execute_result",
          "data": {
            "text/html": [
              "<div>\n",
              "<style scoped>\n",
              "    .dataframe tbody tr th:only-of-type {\n",
              "        vertical-align: middle;\n",
              "    }\n",
              "\n",
              "    .dataframe tbody tr th {\n",
              "        vertical-align: top;\n",
              "    }\n",
              "\n",
              "    .dataframe thead th {\n",
              "        text-align: right;\n",
              "    }\n",
              "</style>\n",
              "<table border=\"1\" class=\"dataframe\">\n",
              "  <thead>\n",
              "    <tr style=\"text-align: right;\">\n",
              "      <th></th>\n",
              "      <th>K means</th>\n",
              "      <th>Agglomerative</th>\n",
              "      <th>FCM</th>\n",
              "      <th>PCM</th>\n",
              "    </tr>\n",
              "  </thead>\n",
              "  <tbody>\n",
              "    <tr>\n",
              "      <th>2</th>\n",
              "      <td>0.72</td>\n",
              "      <td>0.71</td>\n",
              "      <td>0.74</td>\n",
              "      <td>0.74</td>\n",
              "    </tr>\n",
              "    <tr>\n",
              "      <th>4</th>\n",
              "      <td>0.75</td>\n",
              "      <td>0.73</td>\n",
              "      <td>0.77</td>\n",
              "      <td>0.76</td>\n",
              "    </tr>\n",
              "    <tr>\n",
              "      <th>6</th>\n",
              "      <td>0.75</td>\n",
              "      <td>0.71</td>\n",
              "      <td>0.79</td>\n",
              "      <td>0.77</td>\n",
              "    </tr>\n",
              "    <tr>\n",
              "      <th>8</th>\n",
              "      <td>0.74</td>\n",
              "      <td>0.71</td>\n",
              "      <td>0.77</td>\n",
              "      <td>0.76</td>\n",
              "    </tr>\n",
              "    <tr>\n",
              "      <th>10</th>\n",
              "      <td>0.71</td>\n",
              "      <td>0.69</td>\n",
              "      <td>0.76</td>\n",
              "      <td>0.74</td>\n",
              "    </tr>\n",
              "  </tbody>\n",
              "</table>\n",
              "</div>"
            ],
            "text/plain": [
              "    K means  Agglomerative   FCM   PCM\n",
              "2      0.72           0.71  0.74  0.74\n",
              "4      0.75           0.73  0.77  0.76\n",
              "6      0.75           0.71  0.79  0.77\n",
              "8      0.74           0.71  0.77  0.76\n",
              "10     0.71           0.69  0.76  0.74"
            ]
          },
          "metadata": {},
          "execution_count": 7
        }
      ]
    },
    {
      "cell_type": "code",
      "metadata": {
        "colab": {
          "base_uri": "https://localhost:8080/",
          "height": 312
        },
        "id": "md2QVH0DXbSQ",
        "outputId": "6f3b5491-039f-4f6a-a07c-28d2664e7b80"
      },
      "source": [
        "trec_recall.plot(xlabel = 'No.of Clusters', ylabel = 'Recall',title = 'TREC Recall')"
      ],
      "execution_count": null,
      "outputs": [
        {
          "output_type": "execute_result",
          "data": {
            "text/plain": [
              "<matplotlib.axes._subplots.AxesSubplot at 0x7f8eeb958d90>"
            ]
          },
          "metadata": {},
          "execution_count": 9
        },
        {
          "output_type": "display_data",
          "data": {
            "image/png": "[encoded data removed]",
            "text/plain": [
              "<Figure size 432x288 with 1 Axes>"
            ]
          },
          "metadata": {
            "needs_background": "light"
          }
        }
      ]
    },
    {
      "cell_type": "code",
      "metadata": {
        "colab": {
          "base_uri": "https://localhost:8080/",
          "height": 202
        },
        "id": "Cai6nrbmXbSR",
        "outputId": "0c3af9c0-9187-4f4a-b5f4-2b02a4507dd1"
      },
      "source": [
        "trec_fm = 2*trec_prec*trec_recall/(trec_prec + trec_recall)\n",
        "trec_fm.head()"
      ],
      "execution_count": null,
      "outputs": [
        {
          "output_type": "execute_result",
          "data": {
            "text/html": [
              "<div>\n",
              "<style scoped>\n",
              "    .dataframe tbody tr th:only-of-type {\n",
              "        vertical-align: middle;\n",
              "    }\n",
              "\n",
              "    .dataframe tbody tr th {\n",
              "        vertical-align: top;\n",
              "    }\n",
              "\n",
              "    .dataframe thead th {\n",
              "        text-align: right;\n",
              "    }\n",
              "</style>\n",
              "<table border=\"1\" class=\"dataframe\">\n",
              "  <thead>\n",
              "    <tr style=\"text-align: right;\">\n",
              "      <th></th>\n",
              "      <th>K means</th>\n",
              "      <th>Agglomerative</th>\n",
              "      <th>FCM</th>\n",
              "      <th>PCM</th>\n",
              "    </tr>\n",
              "  </thead>\n",
              "  <tbody>\n",
              "    <tr>\n",
              "      <th>2</th>\n",
              "      <td>0.704681</td>\n",
              "      <td>0.689420</td>\n",
              "      <td>0.740000</td>\n",
              "      <td>0.734966</td>\n",
              "    </tr>\n",
              "    <tr>\n",
              "      <th>4</th>\n",
              "      <td>0.734694</td>\n",
              "      <td>0.709437</td>\n",
              "      <td>0.764967</td>\n",
              "      <td>0.749867</td>\n",
              "    </tr>\n",
              "    <tr>\n",
              "      <th>6</th>\n",
              "      <td>0.744966</td>\n",
              "      <td>0.704965</td>\n",
              "      <td>0.790000</td>\n",
              "      <td>0.764967</td>\n",
              "    </tr>\n",
              "    <tr>\n",
              "      <th>8</th>\n",
              "      <td>0.744966</td>\n",
              "      <td>0.714965</td>\n",
              "      <td>0.784713</td>\n",
              "      <td>0.769870</td>\n",
              "    </tr>\n",
              "    <tr>\n",
              "      <th>10</th>\n",
              "      <td>0.719861</td>\n",
              "      <td>0.694964</td>\n",
              "      <td>0.769870</td>\n",
              "      <td>0.749867</td>\n",
              "    </tr>\n",
              "  </tbody>\n",
              "</table>\n",
              "</div>"
            ],
            "text/plain": [
              "     K means  Agglomerative       FCM       PCM\n",
              "2   0.704681       0.689420  0.740000  0.734966\n",
              "4   0.734694       0.709437  0.764967  0.749867\n",
              "6   0.744966       0.704965  0.790000  0.764967\n",
              "8   0.744966       0.714965  0.784713  0.769870\n",
              "10  0.719861       0.694964  0.769870  0.749867"
            ]
          },
          "metadata": {},
          "execution_count": 10
        }
      ]
    },
    {
      "cell_type": "code",
      "metadata": {
        "colab": {
          "base_uri": "https://localhost:8080/",
          "height": 312
        },
        "id": "2Qaeto4MXbSR",
        "outputId": "4e4b85f8-bad4-42aa-d23b-5c4db5b8560f"
      },
      "source": [
        "trec_fm.plot(xlabel = 'No.of Clusters', ylabel = 'f measure', title = 'TREC F Measure')"
      ],
      "execution_count": null,
      "outputs": [
        {
          "output_type": "execute_result",
          "data": {
            "text/plain": [
              "<matplotlib.axes._subplots.AxesSubplot at 0x7f8eeb30f290>"
            ]
          },
          "metadata": {},
          "execution_count": 12
        },
        {
          "output_type": "display_data",
          "data": {
            "image/png": "[encoded data removed]",
            "text/plain": [
              "<Figure size 432x288 with 1 Axes>"
            ]
          },
          "metadata": {
            "needs_background": "light"
          }
        }
      ]
    },
    {
      "cell_type": "code",
      "metadata": {
        "colab": {
          "base_uri": "https://localhost:8080/",
          "height": 202
        },
        "id": "4K0dtiPuXbSR",
        "outputId": "37f4f488-4ce7-45b6-9ad2-b4ba899b36fd"
      },
      "source": [
        "trec_map = get_metrics(trec_df)['map']\n",
        "trec_map.head()"
      ],
      "execution_count": null,
      "outputs": [
        {
          "output_type": "execute_result",
          "data": {
            "text/html": [
              "<div>\n",
              "<style scoped>\n",
              "    .dataframe tbody tr th:only-of-type {\n",
              "        vertical-align: middle;\n",
              "    }\n",
              "\n",
              "    .dataframe tbody tr th {\n",
              "        vertical-align: top;\n",
              "    }\n",
              "\n",
              "    .dataframe thead th {\n",
              "        text-align: right;\n",
              "    }\n",
              "</style>\n",
              "<table border=\"1\" class=\"dataframe\">\n",
              "  <thead>\n",
              "    <tr style=\"text-align: right;\">\n",
              "      <th></th>\n",
              "      <th>K means</th>\n",
              "      <th>Agglomerative</th>\n",
              "      <th>FCM</th>\n",
              "      <th>PCM</th>\n",
              "    </tr>\n",
              "  </thead>\n",
              "  <tbody>\n",
              "    <tr>\n",
              "      <th>2</th>\n",
              "      <td>0.67</td>\n",
              "      <td>0.63</td>\n",
              "      <td>0.73</td>\n",
              "      <td>0.72</td>\n",
              "    </tr>\n",
              "    <tr>\n",
              "      <th>4</th>\n",
              "      <td>0.70</td>\n",
              "      <td>0.65</td>\n",
              "      <td>0.74</td>\n",
              "      <td>0.74</td>\n",
              "    </tr>\n",
              "    <tr>\n",
              "      <th>6</th>\n",
              "      <td>0.70</td>\n",
              "      <td>0.68</td>\n",
              "      <td>0.77</td>\n",
              "      <td>0.76</td>\n",
              "    </tr>\n",
              "    <tr>\n",
              "      <th>8</th>\n",
              "      <td>0.72</td>\n",
              "      <td>0.70</td>\n",
              "      <td>0.75</td>\n",
              "      <td>0.74</td>\n",
              "    </tr>\n",
              "    <tr>\n",
              "      <th>10</th>\n",
              "      <td>0.70</td>\n",
              "      <td>0.68</td>\n",
              "      <td>0.72</td>\n",
              "      <td>0.73</td>\n",
              "    </tr>\n",
              "  </tbody>\n",
              "</table>\n",
              "</div>"
            ],
            "text/plain": [
              "    K means  Agglomerative   FCM   PCM\n",
              "2      0.67           0.63  0.73  0.72\n",
              "4      0.70           0.65  0.74  0.74\n",
              "6      0.70           0.68  0.77  0.76\n",
              "8      0.72           0.70  0.75  0.74\n",
              "10     0.70           0.68  0.72  0.73"
            ]
          },
          "metadata": {},
          "execution_count": 13
        }
      ]
    },
    {
      "cell_type": "code",
      "metadata": {
        "colab": {
          "base_uri": "https://localhost:8080/",
          "height": 312
        },
        "id": "Am06EoThXbSR",
        "outputId": "30b581f6-39b2-4c65-9d64-377d94adfd15"
      },
      "source": [
        "trec_map.plot(xlabel = 'No.of Clusters', ylabel = 'MAP@10', title = 'TREC MAP@10')"
      ],
      "execution_count": null,
      "outputs": [
        {
          "output_type": "execute_result",
          "data": {
            "text/plain": [
              "<matplotlib.axes._subplots.AxesSubplot at 0x7f8eeafa9c90>"
            ]
          },
          "metadata": {},
          "execution_count": 14
        },
        {
          "output_type": "display_data",
          "data": {
            "image/png": "[encoded data removed]",
            "text/plain": [
              "<Figure size 432x288 with 1 Axes>"
            ]
          },
          "metadata": {
            "needs_background": "light"
          }
        }
      ]
    },
    {
      "cell_type": "code",
      "metadata": {
        "colab": {
          "base_uri": "https://localhost:8080/",
          "height": 171
        },
        "id": "En-cuhQhj7ti",
        "outputId": "b1a19adb-b891-4bb5-ac5e-8703ee9746ae"
      },
      "source": [
        "cacm_metrics_table = pd.DataFrame(data={'Precision' : [cacm_prec[col][6] for col in cacm_prec.columns],\n",
        "                                   'Recall' : [cacm_recall[col][6] for col in cacm_prec.columns],\n",
        "                                   'F measure' : [round(cacm_fm[col][6],2) for col in cacm_prec.columns],\n",
        "                                   'MAP@10' : [cacm_map[col][6] for col in cacm_prec.columns]}, index = cacm_prec.columns)\n",
        "cacm_metrics_table"
      ],
      "execution_count": null,
      "outputs": [
        {
          "output_type": "execute_result",
          "data": {
            "text/html": [
              "<div>\n",
              "<style scoped>\n",
              "    .dataframe tbody tr th:only-of-type {\n",
              "        vertical-align: middle;\n",
              "    }\n",
              "\n",
              "    .dataframe tbody tr th {\n",
              "        vertical-align: top;\n",
              "    }\n",
              "\n",
              "    .dataframe thead th {\n",
              "        text-align: right;\n",
              "    }\n",
              "</style>\n",
              "<table border=\"1\" class=\"dataframe\">\n",
              "  <thead>\n",
              "    <tr style=\"text-align: right;\">\n",
              "      <th></th>\n",
              "      <th>Precision</th>\n",
              "      <th>Recall</th>\n",
              "      <th>F measure</th>\n",
              "      <th>MAP@10</th>\n",
              "    </tr>\n",
              "  </thead>\n",
              "  <tbody>\n",
              "    <tr>\n",
              "      <th>K means</th>\n",
              "      <td>0.72</td>\n",
              "      <td>0.77</td>\n",
              "      <td>0.74</td>\n",
              "      <td>0.63</td>\n",
              "    </tr>\n",
              "    <tr>\n",
              "      <th>Agglomerative</th>\n",
              "      <td>0.70</td>\n",
              "      <td>0.75</td>\n",
              "      <td>0.72</td>\n",
              "      <td>0.61</td>\n",
              "    </tr>\n",
              "    <tr>\n",
              "      <th>FCM</th>\n",
              "      <td>0.77</td>\n",
              "      <td>0.81</td>\n",
              "      <td>0.79</td>\n",
              "      <td>0.69</td>\n",
              "    </tr>\n",
              "    <tr>\n",
              "      <th>PCM</th>\n",
              "      <td>0.75</td>\n",
              "      <td>0.80</td>\n",
              "      <td>0.77</td>\n",
              "      <td>0.70</td>\n",
              "    </tr>\n",
              "  </tbody>\n",
              "</table>\n",
              "</div>"
            ],
            "text/plain": [
              "               Precision  Recall  F measure  MAP@10\n",
              "K means             0.72    0.77       0.74    0.63\n",
              "Agglomerative       0.70    0.75       0.72    0.61\n",
              "FCM                 0.77    0.81       0.79    0.69\n",
              "PCM                 0.75    0.80       0.77    0.70"
            ]
          },
          "metadata": {},
          "execution_count": 28
        }
      ]
    },
    {
      "cell_type": "code",
      "metadata": {
        "colab": {
          "base_uri": "https://localhost:8080/",
          "height": 171
        },
        "id": "moH8q6QkmNVi",
        "outputId": "d7168a27-815c-486a-aa20-1e218edb1203"
      },
      "source": [
        "trec_metrics_table = pd.DataFrame(data={'Precision' : [trec_prec[col][6] for col in trec_prec.columns],\n",
        "                                   'Recall' : [trec_recall[col][6] for col in trec_prec.columns],\n",
        "                                   'F measure' : [round(trec_fm[col][6],2) for col in trec_prec.columns],\n",
        "                                   'MAP@10' : [trec_map[col][6] for col in trec_prec.columns]}, index = trec_prec.columns)\n",
        "trec_metrics_table"
      ],
      "execution_count": null,
      "outputs": [
        {
          "output_type": "execute_result",
          "data": {
            "text/html": [
              "<div>\n",
              "<style scoped>\n",
              "    .dataframe tbody tr th:only-of-type {\n",
              "        vertical-align: middle;\n",
              "    }\n",
              "\n",
              "    .dataframe tbody tr th {\n",
              "        vertical-align: top;\n",
              "    }\n",
              "\n",
              "    .dataframe thead th {\n",
              "        text-align: right;\n",
              "    }\n",
              "</style>\n",
              "<table border=\"1\" class=\"dataframe\">\n",
              "  <thead>\n",
              "    <tr style=\"text-align: right;\">\n",
              "      <th></th>\n",
              "      <th>Precision</th>\n",
              "      <th>Recall</th>\n",
              "      <th>F measure</th>\n",
              "      <th>MAP@10</th>\n",
              "    </tr>\n",
              "  </thead>\n",
              "  <tbody>\n",
              "    <tr>\n",
              "      <th>K means</th>\n",
              "      <td>0.74</td>\n",
              "      <td>0.75</td>\n",
              "      <td>0.74</td>\n",
              "      <td>0.70</td>\n",
              "    </tr>\n",
              "    <tr>\n",
              "      <th>Agglomerative</th>\n",
              "      <td>0.70</td>\n",
              "      <td>0.71</td>\n",
              "      <td>0.70</td>\n",
              "      <td>0.68</td>\n",
              "    </tr>\n",
              "    <tr>\n",
              "      <th>FCM</th>\n",
              "      <td>0.79</td>\n",
              "      <td>0.79</td>\n",
              "      <td>0.79</td>\n",
              "      <td>0.77</td>\n",
              "    </tr>\n",
              "    <tr>\n",
              "      <th>PCM</th>\n",
              "      <td>0.76</td>\n",
              "      <td>0.77</td>\n",
              "      <td>0.76</td>\n",
              "      <td>0.76</td>\n",
              "    </tr>\n",
              "  </tbody>\n",
              "</table>\n",
              "</div>"
            ],
            "text/plain": [
              "               Precision  Recall  F measure  MAP@10\n",
              "K means             0.74    0.75       0.74    0.70\n",
              "Agglomerative       0.70    0.71       0.70    0.68\n",
              "FCM                 0.79    0.79       0.79    0.77\n",
              "PCM                 0.76    0.77       0.76    0.76"
            ]
          },
          "metadata": {},
          "execution_count": 27
        }
      ]
    }
  ]
}